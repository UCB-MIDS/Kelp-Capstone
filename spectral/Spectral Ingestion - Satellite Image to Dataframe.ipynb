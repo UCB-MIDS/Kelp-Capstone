{
 "cells": [
  {
   "cell_type": "code",
   "execution_count": 1,
   "metadata": {},
   "outputs": [],
   "source": [
    "import matplotlib.pyplot as plt\n",
    "import numpy as np\n",
    "import pandas as pd\n",
    "import geopandas as gpd\n",
    "import os\n",
    "import urllib\n",
    "from shapely.geometry import LinearRing, Polygon, Point\n",
    "import pickle\n",
    "from itertools import product\n",
    "\n",
    "%matplotlib inline"
   ]
  },
  {
   "cell_type": "code",
   "execution_count": 2,
   "metadata": {},
   "outputs": [],
   "source": [
    "# load images for all bands plus the color image\n",
    "# note: matplotlib can only handle png natively\n",
    "# pip install pillow to add support for more image types\n",
    "\n",
    "dir_name = \"monterey_data\"\n",
    "gcs_spectral_bucket = \"https://storage.googleapis.com/w210data/data/spectral/\"\n",
    "gcs_bathymetry_bucket = \"https://storage.googleapis.com/w210data/data/bathymetry/\"\n",
    "gcs_biomass_bucket = \"https://storage.googleapis.com/w210data/data/kelp_biomass/\"\n",
    "\n",
    "if not os.path.isdir(dir_name):\n",
    "    os.mkdir(dir_name)\n",
    "    \n",
    "def download_file(file_name, gcs_bucket):\n",
    "    full_path = os.path.join(dir_name, file_name)\n",
    "    if not os.path.exists(full_path):\n",
    "        urllib.request.urlretrieve (gcs_bucket+file_name, full_path)\n",
    "\n",
    "def load_image(file_name, gcs_bucket):\n",
    "    download_file(file_name, gcs_bucket)\n",
    "    full_path = os.path.join(dir_name, file_name)\n",
    "    return plt.imread(full_path)\n",
    "\n",
    "b4_file = \"LC08_L1TP_044034_20180601_20180614_01_T1_B4.TIF\" # red\n",
    "b5_file = \"LC08_L1TP_044034_20180601_20180614_01_T1_B5.TIF\" # infrared\n",
    "color_file = \"LC08_L1TP_044034_20180601_20180614_01_T1.jpg\"\n",
    "\n",
    "b4 = load_image(b4_file, gcs_spectral_bucket)\n",
    "b5 = load_image(b5_file, gcs_spectral_bucket)\n",
    "color = load_image(color_file, gcs_spectral_bucket)"
   ]
  },
  {
   "cell_type": "code",
   "execution_count": 3,
   "metadata": {},
   "outputs": [],
   "source": [
    "#Take one vertice and create a square with increment length\n",
    "def squarify(point, increment):\n",
    "    return Polygon([(point[0], point[1]),\n",
    "     (point[0] + increment, point[1]), \n",
    "     (point[0] + increment, point[1] + increment), \n",
    "     (point[0], point[1] + increment)])\n",
    "\n",
    "#input corner verticies - top left and bot right, returns bottom corner verticies\n",
    "def desquarify(left_vertices, right_vertices, square_length):\n",
    "    x_num = round((right_vertices[0] - left_vertices[0])/square_length, 0)\n",
    "    y_num = round((left_vertices[1] - right_vertices[1])/square_length, 0)\n",
    "    x_lengths = np.linspace(left_vertices[0], right_vertices[0]-square_length, x_num)\n",
    "    y_lengths = np.linspace(left_vertices[1], right_vertices[1]-square_length, y_num)\n",
    "    return [p for p in product(x_lengths, y_lengths)]\n"
   ]
  },
  {
   "cell_type": "code",
   "execution_count": 4,
   "metadata": {
    "scrolled": true
   },
   "outputs": [],
   "source": [
    "def sat_to_gdf(top_left, bottom_right, b5, b4):\n",
    "    \"\"\"\n",
    "    Function that converts a satellite image to a dataframe with square polygons and polygon centroid points as the summary geometries\n",
    "    top_left: satellite big top left vertice\n",
    "    bottom_right: satellite bottom right left vertice\n",
    "    b4, b5: satellite images bands 4 and 5\n",
    "    square_length: desired resolution for square polygons in which to cut the satellite images by\n",
    "    \"\"\"\n",
    "    #Convert band 4 and 5 to floats, calculate NDVI\n",
    "    ir_float = b5.astype(float)\n",
    "    red_float = b4.astype(float)\n",
    "    ndvi = np.divide(ir_float - red_float, ir_float + red_float)\n",
    "    \n",
    "    #Create the granular grid where each array point has a point value for NDVI\n",
    "    sq_x = (top_left[1]-bottom_right[1])/ir_float.shape[0]\n",
    "    sq_y = (bottom_right[0] - top_left[0])/ir_float.shape[1]\n",
    "    x_lengths = np.linspace(bottom_right[1],top_left[1]-sq_x, ir_float.shape[0])\n",
    "    y_lengths = np.linspace(bottom_right[0],top_left[0]-sq_x, ir_float.shape[1])\n",
    "    \n",
    "    #Every ndvi value should have a point value\n",
    "    ndvi_column = ndvi.reshape(-1)\n",
    "    sat_geometry = [Point(p) for p in product(x_lengths, y_lengths)]\n",
    "    gdf = gpd.GeoDataFrame(ndvi_column, geometry = sat_geometry, crs = {'init' : 'epsg:4326'})\n",
    "    gdf.columns = [\"NDVI\", \"geometry\"]\n",
    "    gdf.NDVI = np.nan_to_num(gdf.NDVI)\n",
    "    return gdf"
   ]
  },
  {
   "cell_type": "code",
   "execution_count": 5,
   "metadata": {
    "scrolled": true
   },
   "outputs": [
    {
     "name": "stderr",
     "output_type": "stream",
     "text": [
      "/Library/Frameworks/Python.framework/Versions/3.6/lib/python3.6/site-packages/ipykernel_launcher.py:12: RuntimeWarning: divide by zero encountered in true_divide\n",
      "  if sys.path[0] == '':\n",
      "/Library/Frameworks/Python.framework/Versions/3.6/lib/python3.6/site-packages/ipykernel_launcher.py:12: RuntimeWarning: invalid value encountered in true_divide\n",
      "  if sys.path[0] == '':\n"
     ]
    },
    {
     "data": {
      "text/html": [
       "<div>\n",
       "<style scoped>\n",
       "    .dataframe tbody tr th:only-of-type {\n",
       "        vertical-align: middle;\n",
       "    }\n",
       "\n",
       "    .dataframe tbody tr th {\n",
       "        vertical-align: top;\n",
       "    }\n",
       "\n",
       "    .dataframe thead th {\n",
       "        text-align: right;\n",
       "    }\n",
       "</style>\n",
       "<table border=\"1\" class=\"dataframe\">\n",
       "  <thead>\n",
       "    <tr style=\"text-align: right;\">\n",
       "      <th></th>\n",
       "      <th>NDVI</th>\n",
       "      <th>geometry</th>\n",
       "    </tr>\n",
       "  </thead>\n",
       "  <tbody>\n",
       "    <tr>\n",
       "      <th>0</th>\n",
       "      <td>0.0</td>\n",
       "      <td>POINT (36.40801 -120.77835)</td>\n",
       "    </tr>\n",
       "    <tr>\n",
       "      <th>1</th>\n",
       "      <td>0.0</td>\n",
       "      <td>POINT (36.40801 -120.7786911268399)</td>\n",
       "    </tr>\n",
       "    <tr>\n",
       "      <th>2</th>\n",
       "      <td>0.0</td>\n",
       "      <td>POINT (36.40801 -120.7790322536797)</td>\n",
       "    </tr>\n",
       "    <tr>\n",
       "      <th>3</th>\n",
       "      <td>0.0</td>\n",
       "      <td>POINT (36.40801 -120.7793733805196)</td>\n",
       "    </tr>\n",
       "    <tr>\n",
       "      <th>4</th>\n",
       "      <td>0.0</td>\n",
       "      <td>POINT (36.40801 -120.7797145073595)</td>\n",
       "    </tr>\n",
       "  </tbody>\n",
       "</table>\n",
       "</div>"
      ],
      "text/plain": [
       "   NDVI                             geometry\n",
       "0   0.0          POINT (36.40801 -120.77835)\n",
       "1   0.0  POINT (36.40801 -120.7786911268399)\n",
       "2   0.0  POINT (36.40801 -120.7790322536797)\n",
       "3   0.0  POINT (36.40801 -120.7793733805196)\n",
       "4   0.0  POINT (36.40801 -120.7797145073595)"
      ]
     },
     "execution_count": 5,
     "metadata": {},
     "output_type": "execute_result"
    }
   ],
   "source": [
    "top_left = (-123.39111, 38.52671)\n",
    "bottom_right = (-120.77835, 36.40801)\n",
    "square_length = 0.01\n",
    "\n",
    "mont_sat = sat_to_gdf(top_left, bottom_right, b5, b4)\n",
    "mont_sat.head()"
   ]
  },
  {
   "cell_type": "code",
   "execution_count": 12,
   "metadata": {},
   "outputs": [],
   "source": [
    "def poly_squarify(top_left, bottom_right, square_length):\n",
    "    \"\"\"Builds a grid of square polygons each of square_length filling a rectangular area bounded by top_left and bottom_right verticies\"\"\"\n",
    "    return gpd.GeoDataFrame(geometry = [squarify(i, square_length) for i in desquarify(top_left, bottom_right, square_length)], crs = {'init':'epsg:4326'})"
   ]
  },
  {
   "cell_type": "code",
   "execution_count": 11,
   "metadata": {
    "scrolled": true
   },
   "outputs": [
    {
     "name": "stderr",
     "output_type": "stream",
     "text": [
      "/Library/Frameworks/Python.framework/Versions/3.6/lib/python3.6/site-packages/ipykernel_launcher.py:12: DeprecationWarning: object of type <class 'float'> cannot be safely interpreted as an integer.\n",
      "  if sys.path[0] == '':\n",
      "/Library/Frameworks/Python.framework/Versions/3.6/lib/python3.6/site-packages/ipykernel_launcher.py:13: DeprecationWarning: object of type <class 'float'> cannot be safely interpreted as an integer.\n",
      "  del sys.path[0]\n"
     ]
    },
    {
     "data": {
      "text/html": [
       "<div>\n",
       "<style scoped>\n",
       "    .dataframe tbody tr th:only-of-type {\n",
       "        vertical-align: middle;\n",
       "    }\n",
       "\n",
       "    .dataframe tbody tr th {\n",
       "        vertical-align: top;\n",
       "    }\n",
       "\n",
       "    .dataframe thead th {\n",
       "        text-align: right;\n",
       "    }\n",
       "</style>\n",
       "<table border=\"1\" class=\"dataframe\">\n",
       "  <thead>\n",
       "    <tr style=\"text-align: right;\">\n",
       "      <th></th>\n",
       "      <th>geometry</th>\n",
       "    </tr>\n",
       "  </thead>\n",
       "  <tbody>\n",
       "    <tr>\n",
       "      <th>0</th>\n",
       "      <td>POLYGON ((-123.39111 38.52671, -123.39011 38.5...</td>\n",
       "    </tr>\n",
       "    <tr>\n",
       "      <th>1</th>\n",
       "      <td>POLYGON ((-123.39111 38.525709197356, -123.390...</td>\n",
       "    </tr>\n",
       "    <tr>\n",
       "      <th>2</th>\n",
       "      <td>POLYGON ((-123.39111 38.52470839471199, -123.3...</td>\n",
       "    </tr>\n",
       "    <tr>\n",
       "      <th>3</th>\n",
       "      <td>POLYGON ((-123.39111 38.52370759206799, -123.3...</td>\n",
       "    </tr>\n",
       "    <tr>\n",
       "      <th>4</th>\n",
       "      <td>POLYGON ((-123.39111 38.52270678942399, -123.3...</td>\n",
       "    </tr>\n",
       "  </tbody>\n",
       "</table>\n",
       "</div>"
      ],
      "text/plain": [
       "                                            geometry\n",
       "0  POLYGON ((-123.39111 38.52671, -123.39011 38.5...\n",
       "1  POLYGON ((-123.39111 38.525709197356, -123.390...\n",
       "2  POLYGON ((-123.39111 38.52470839471199, -123.3...\n",
       "3  POLYGON ((-123.39111 38.52370759206799, -123.3...\n",
       "4  POLYGON ((-123.39111 38.52270678942399, -123.3..."
      ]
     },
     "execution_count": 11,
     "metadata": {},
     "output_type": "execute_result"
    }
   ],
   "source": [
    "square_df = poly_squarify(top_left, bottom_right, square_length)\n",
    "square_df.head()"
   ]
  },
  {
   "cell_type": "code",
   "execution_count": null,
   "metadata": {},
   "outputs": [],
   "source": [
    "#sjoin, this may take a long long time\n",
    "master = gpd.sjoin(square_df, mont_sat, op = \"contains\", how = \"left\")\n",
    "master.head()"
   ]
  },
  {
   "cell_type": "code",
   "execution_count": null,
   "metadata": {},
   "outputs": [],
   "source": [
    "#It's going to be super inflated, but it'll be dissolved to unique level polygons\n",
    "master.shape"
   ]
  },
  {
   "cell_type": "code",
   "execution_count": null,
   "metadata": {},
   "outputs": [],
   "source": [
    "#then groupby/dissolve\n",
    "master_grouped = master.dissolve('centroid', as_index=False, aggfunc = np.mean)\n",
    "master_grouped.head()"
   ]
  },
  {
   "cell_type": "code",
   "execution_count": null,
   "metadata": {},
   "outputs": [],
   "source": [
    "master_grouped[\"centroid\"] = master_grouped.geometry.apply(lambda x: x.centroid.wkt)\n",
    "master_grouped.drop([\"geometry\"], inplace = True)\n",
    "master_grouped.head()"
   ]
  },
  {
   "cell_type": "code",
   "execution_count": null,
   "metadata": {},
   "outputs": [],
   "source": [
    "master_grouped.to_pickle(\"./monterey_satellite_gdf.pkl\")"
   ]
  },
  {
   "cell_type": "code",
   "execution_count": null,
   "metadata": {},
   "outputs": [],
   "source": []
  }
 ],
 "metadata": {
  "kernelspec": {
   "display_name": "Python 3",
   "language": "python",
   "name": "python3"
  },
  "language_info": {
   "codemirror_mode": {
    "name": "ipython",
    "version": 3
   },
   "file_extension": ".py",
   "mimetype": "text/x-python",
   "name": "python",
   "nbconvert_exporter": "python",
   "pygments_lexer": "ipython3",
   "version": "3.6.4"
  }
 },
 "nbformat": 4,
 "nbformat_minor": 2
}
