{
 "cells": [
  {
   "cell_type": "markdown",
   "metadata": {},
   "source": [
    "# Combine data"
   ]
  },
  {
   "cell_type": "code",
   "execution_count": 295,
   "metadata": {},
   "outputs": [],
   "source": [
    "import pandas as pd\n",
    "import os\n",
    "import numpy as np\n",
    "from itertools import product\n",
    "from shapely.geometry import LinearRing, Polygon, Point, LineString\n",
    "import geopandas as gpd\n",
    "import matplotlib.pyplot as plt\n",
    "from math import radians, sin, cos, asin, sqrt, atan2\n",
    "from time import time\n",
    "\n",
    "%matplotlib inline\n",
    "\n",
    "pickles = '../data/pickles/'"
   ]
  },
  {
   "cell_type": "markdown",
   "metadata": {},
   "source": [
    "# Read Pickle Files"
   ]
  },
  {
   "cell_type": "code",
   "execution_count": 4,
   "metadata": {},
   "outputs": [
    {
     "data": {
      "text/plain": [
       "['bathymetry.pkl',\n",
       " 'ca_counties.pkl',\n",
       " 'crit_species.pkl',\n",
       " 'kelp_biomass.pkl',\n",
       " 'mpa.pkl',\n",
       " 'nes_occupation.pkl',\n",
       " 'qcew_occupation.pkl',\n",
       " 'sst_ca.pkl']"
      ]
     },
     "execution_count": 4,
     "metadata": {},
     "output_type": "execute_result"
    }
   ],
   "source": [
    "os.listdir(pickles)"
   ]
  },
  {
   "cell_type": "code",
   "execution_count": 179,
   "metadata": {},
   "outputs": [],
   "source": [
    "#we will need to convert some geometries from lat, lon to lon,lat\n",
    "def flip_coords(geom):\n",
    "    if type(geom) == Polygon:\n",
    "        coords = geom.exterior.coords.xy \n",
    "        geomtype = 'Polygon'\n",
    "    elif type(geom) == LineString:\n",
    "        coords = geom.coords.xy\n",
    "        geomtype = 'LineString'\n",
    "    elif type(geom) == Point:\n",
    "        coords = geom.coords.xy\n",
    "        geomtype = 'Point'\n",
    "    else:\n",
    "        print(\"not a known geom type\")\n",
    "        return \n",
    "    flipped_coords = list(zip(coords[1],coords[0]))\n",
    "    if geomtype == 'Polygon':\n",
    "        return Polygon(flipped_coords) \n",
    "    elif geomtype == 'LineString':\n",
    "        return LineString(flipped_coords)\n",
    "    elif geomtype == 'Point':\n",
    "        return Point(flipped_coords)"
   ]
  },
  {
   "cell_type": "code",
   "execution_count": 215,
   "metadata": {},
   "outputs": [
    {
     "data": {
      "text/html": [
       "<div>\n",
       "<style scoped>\n",
       "    .dataframe tbody tr th:only-of-type {\n",
       "        vertical-align: middle;\n",
       "    }\n",
       "\n",
       "    .dataframe tbody tr th {\n",
       "        vertical-align: top;\n",
       "    }\n",
       "\n",
       "    .dataframe thead th {\n",
       "        text-align: right;\n",
       "    }\n",
       "</style>\n",
       "<table border=\"1\" class=\"dataframe\">\n",
       "  <thead>\n",
       "    <tr style=\"text-align: right;\">\n",
       "      <th></th>\n",
       "      <th>x</th>\n",
       "      <th>y</th>\n",
       "      <th>z</th>\n",
       "    </tr>\n",
       "  </thead>\n",
       "  <tbody>\n",
       "    <tr>\n",
       "      <th>0</th>\n",
       "      <td>-128.0</td>\n",
       "      <td>37.000000</td>\n",
       "      <td>NaN</td>\n",
       "    </tr>\n",
       "    <tr>\n",
       "      <th>1</th>\n",
       "      <td>-128.0</td>\n",
       "      <td>37.000833</td>\n",
       "      <td>NaN</td>\n",
       "    </tr>\n",
       "    <tr>\n",
       "      <th>2</th>\n",
       "      <td>-128.0</td>\n",
       "      <td>37.001667</td>\n",
       "      <td>NaN</td>\n",
       "    </tr>\n",
       "    <tr>\n",
       "      <th>3</th>\n",
       "      <td>-128.0</td>\n",
       "      <td>37.002500</td>\n",
       "      <td>NaN</td>\n",
       "    </tr>\n",
       "    <tr>\n",
       "      <th>4</th>\n",
       "      <td>-128.0</td>\n",
       "      <td>37.003333</td>\n",
       "      <td>NaN</td>\n",
       "    </tr>\n",
       "  </tbody>\n",
       "</table>\n",
       "</div>"
      ],
      "text/plain": [
       "       x          y   z\n",
       "0 -128.0  37.000000 NaN\n",
       "1 -128.0  37.000833 NaN\n",
       "2 -128.0  37.001667 NaN\n",
       "3 -128.0  37.002500 NaN\n",
       "4 -128.0  37.003333 NaN"
      ]
     },
     "execution_count": 215,
     "metadata": {},
     "output_type": "execute_result"
    }
   ],
   "source": [
    "#Pickle files come from data/read_data.ipynb and\n",
    "#bathymetry is not a gpd df\n",
    "bathymetry = pd.read_pickle(pickles+'bathymetry.pkl')\n",
    "bathymetry.head()"
   ]
  },
  {
   "cell_type": "code",
   "execution_count": 216,
   "metadata": {},
   "outputs": [],
   "source": [
    "#in lon, lat format\n",
    "ca_counties = pd.read_pickle(pickles+'ca_counties.pkl')"
   ]
  },
  {
   "cell_type": "code",
   "execution_count": 217,
   "metadata": {},
   "outputs": [
    {
     "name": "stdout",
     "output_type": "stream",
     "text": [
      "black_abalone\n",
      "<class 'geopandas.geodataframe.GeoDataFrame'>\n",
      "leatherback\n",
      "<class 'geopandas.geodataframe.GeoDataFrame'>\n",
      "stellar_sealions\n",
      "<class 'geopandas.geodataframe.GeoDataFrame'>\n",
      "green_sturgeon\n",
      "<class 'geopandas.geodataframe.GeoDataFrame'>\n"
     ]
    },
    {
     "data": {
      "text/plain": [
       "0    (POLYGON ((-373068.5689000003 112824.739399999...\n",
       "Name: geometry, dtype: object"
      ]
     },
     "execution_count": 217,
     "metadata": {},
     "output_type": "execute_result"
    }
   ],
   "source": [
    "#in lon lat format except for leatherbacks which is all messed up\n",
    "crit_species = pd.read_pickle(pickles+'crit_species.pkl')\n",
    "for i in crit_species.keys():\n",
    "    print(i)\n",
    "    print(type(crit_species[i]))\n",
    "crit_species['leatherback'].geometry"
   ]
  },
  {
   "cell_type": "code",
   "execution_count": 218,
   "metadata": {
    "scrolled": false
   },
   "outputs": [],
   "source": [
    "#in lat lon format\n",
    "protected_areas = pd.read_pickle(pickles+'mpa.pkl')\n",
    "protected_areas.Geometry = protected_areas.Geometry.apply(flip_coords)\n",
    "protected_areas = gpd.GeoDataFrame(protected_areas, crs = {'init' :'epsg:4326'}, geometry='Geometry')"
   ]
  },
  {
   "cell_type": "code",
   "execution_count": 219,
   "metadata": {},
   "outputs": [
    {
     "data": {
      "text/html": [
       "<div>\n",
       "<style scoped>\n",
       "    .dataframe tbody tr th:only-of-type {\n",
       "        vertical-align: middle;\n",
       "    }\n",
       "\n",
       "    .dataframe tbody tr th {\n",
       "        vertical-align: top;\n",
       "    }\n",
       "\n",
       "    .dataframe thead th {\n",
       "        text-align: right;\n",
       "    }\n",
       "</style>\n",
       "<table border=\"1\" class=\"dataframe\">\n",
       "  <thead>\n",
       "    <tr style=\"text-align: right;\">\n",
       "      <th></th>\n",
       "      <th>estab</th>\n",
       "      <th>estab_f</th>\n",
       "      <th>naics</th>\n",
       "      <th>year</th>\n",
       "      <th>State</th>\n",
       "      <th>fips_state</th>\n",
       "      <th>fips_county</th>\n",
       "      <th>name</th>\n",
       "      <th>STATE</th>\n",
       "      <th>COUNTY</th>\n",
       "      <th>STNAME</th>\n",
       "      <th>CTYNAME</th>\n",
       "      <th>population</th>\n",
       "      <th>pct</th>\n",
       "    </tr>\n",
       "  </thead>\n",
       "  <tbody>\n",
       "    <tr>\n",
       "      <th>0</th>\n",
       "      <td>42</td>\n",
       "      <td>NaN</td>\n",
       "      <td>11411</td>\n",
       "      <td>2010</td>\n",
       "      <td>CA</td>\n",
       "      <td>6</td>\n",
       "      <td>1</td>\n",
       "      <td>Alameda County</td>\n",
       "      <td>6</td>\n",
       "      <td>1</td>\n",
       "      <td>California</td>\n",
       "      <td>Alameda County</td>\n",
       "      <td>1513402</td>\n",
       "      <td>0.000028</td>\n",
       "    </tr>\n",
       "    <tr>\n",
       "      <th>1</th>\n",
       "      <td>71</td>\n",
       "      <td>NaN</td>\n",
       "      <td>11411</td>\n",
       "      <td>2011</td>\n",
       "      <td>CA</td>\n",
       "      <td>6</td>\n",
       "      <td>1</td>\n",
       "      <td>Alameda County</td>\n",
       "      <td>6</td>\n",
       "      <td>1</td>\n",
       "      <td>California</td>\n",
       "      <td>Alameda County</td>\n",
       "      <td>1532215</td>\n",
       "      <td>0.000046</td>\n",
       "    </tr>\n",
       "    <tr>\n",
       "      <th>2</th>\n",
       "      <td>63</td>\n",
       "      <td>NaN</td>\n",
       "      <td>11411</td>\n",
       "      <td>2012</td>\n",
       "      <td>CA</td>\n",
       "      <td>6</td>\n",
       "      <td>1</td>\n",
       "      <td>Alameda County</td>\n",
       "      <td>6</td>\n",
       "      <td>1</td>\n",
       "      <td>California</td>\n",
       "      <td>Alameda County</td>\n",
       "      <td>1556648</td>\n",
       "      <td>0.000040</td>\n",
       "    </tr>\n",
       "    <tr>\n",
       "      <th>3</th>\n",
       "      <td>65</td>\n",
       "      <td>NaN</td>\n",
       "      <td>11411</td>\n",
       "      <td>2013</td>\n",
       "      <td>CA</td>\n",
       "      <td>6</td>\n",
       "      <td>1</td>\n",
       "      <td>Alameda County</td>\n",
       "      <td>6</td>\n",
       "      <td>1</td>\n",
       "      <td>California</td>\n",
       "      <td>Alameda County</td>\n",
       "      <td>1582936</td>\n",
       "      <td>0.000041</td>\n",
       "    </tr>\n",
       "    <tr>\n",
       "      <th>4</th>\n",
       "      <td>64</td>\n",
       "      <td>NaN</td>\n",
       "      <td>11411</td>\n",
       "      <td>2014</td>\n",
       "      <td>CA</td>\n",
       "      <td>6</td>\n",
       "      <td>1</td>\n",
       "      <td>Alameda County</td>\n",
       "      <td>6</td>\n",
       "      <td>1</td>\n",
       "      <td>California</td>\n",
       "      <td>Alameda County</td>\n",
       "      <td>1611572</td>\n",
       "      <td>0.000040</td>\n",
       "    </tr>\n",
       "  </tbody>\n",
       "</table>\n",
       "</div>"
      ],
      "text/plain": [
       "   estab estab_f  naics  year State  fips_state  fips_county            name  \\\n",
       "0     42     NaN  11411  2010    CA           6            1  Alameda County   \n",
       "1     71     NaN  11411  2011    CA           6            1  Alameda County   \n",
       "2     63     NaN  11411  2012    CA           6            1  Alameda County   \n",
       "3     65     NaN  11411  2013    CA           6            1  Alameda County   \n",
       "4     64     NaN  11411  2014    CA           6            1  Alameda County   \n",
       "\n",
       "   STATE  COUNTY      STNAME         CTYNAME  population       pct  \n",
       "0      6       1  California  Alameda County     1513402  0.000028  \n",
       "1      6       1  California  Alameda County     1532215  0.000046  \n",
       "2      6       1  California  Alameda County     1556648  0.000040  \n",
       "3      6       1  California  Alameda County     1582936  0.000041  \n",
       "4      6       1  California  Alameda County     1611572  0.000040  "
      ]
     },
     "execution_count": 219,
     "metadata": {},
     "output_type": "execute_result"
    }
   ],
   "source": [
    "#does not have geom. just county names (and fips state and county codes)\n",
    "occupation_nes = pd.read_pickle(pickles+'nes_occupation.pkl')\n",
    "occupation_nes.head()"
   ]
  },
  {
   "cell_type": "code",
   "execution_count": 220,
   "metadata": {},
   "outputs": [
    {
     "data": {
      "text/html": [
       "<div>\n",
       "<style scoped>\n",
       "    .dataframe tbody tr th:only-of-type {\n",
       "        vertical-align: middle;\n",
       "    }\n",
       "\n",
       "    .dataframe tbody tr th {\n",
       "        vertical-align: top;\n",
       "    }\n",
       "\n",
       "    .dataframe thead th {\n",
       "        text-align: right;\n",
       "    }\n",
       "</style>\n",
       "<table border=\"1\" class=\"dataframe\">\n",
       "  <thead>\n",
       "    <tr style=\"text-align: right;\">\n",
       "      <th></th>\n",
       "      <th>area_fips</th>\n",
       "      <th>industry_code</th>\n",
       "      <th>agglvl_code</th>\n",
       "      <th>size_code</th>\n",
       "      <th>year</th>\n",
       "      <th>disclosure_code</th>\n",
       "      <th>annual_avg_estabs</th>\n",
       "      <th>annual_avg_emplvl</th>\n",
       "      <th>fips_county</th>\n",
       "      <th>fips_state</th>\n",
       "      <th>State</th>\n",
       "      <th>name</th>\n",
       "      <th>fips_class_code</th>\n",
       "      <th>STATE</th>\n",
       "      <th>COUNTY</th>\n",
       "      <th>STNAME</th>\n",
       "      <th>CTYNAME</th>\n",
       "      <th>population</th>\n",
       "      <th>estab_pct</th>\n",
       "      <th>emp_pct</th>\n",
       "    </tr>\n",
       "  </thead>\n",
       "  <tbody>\n",
       "    <tr>\n",
       "      <th>0</th>\n",
       "      <td>06007</td>\n",
       "      <td>11251</td>\n",
       "      <td>77</td>\n",
       "      <td>0</td>\n",
       "      <td>2013</td>\n",
       "      <td>N</td>\n",
       "      <td>1</td>\n",
       "      <td>0</td>\n",
       "      <td>7</td>\n",
       "      <td>6</td>\n",
       "      <td>CA</td>\n",
       "      <td>Butte County</td>\n",
       "      <td>H1</td>\n",
       "      <td>6</td>\n",
       "      <td>7</td>\n",
       "      <td>California</td>\n",
       "      <td>Butte County</td>\n",
       "      <td>221768</td>\n",
       "      <td>0.000005</td>\n",
       "      <td>0.000000</td>\n",
       "    </tr>\n",
       "    <tr>\n",
       "      <th>1</th>\n",
       "      <td>06015</td>\n",
       "      <td>11251</td>\n",
       "      <td>77</td>\n",
       "      <td>0</td>\n",
       "      <td>2013</td>\n",
       "      <td>N</td>\n",
       "      <td>1</td>\n",
       "      <td>0</td>\n",
       "      <td>15</td>\n",
       "      <td>6</td>\n",
       "      <td>CA</td>\n",
       "      <td>Del Norte County</td>\n",
       "      <td>H1</td>\n",
       "      <td>6</td>\n",
       "      <td>15</td>\n",
       "      <td>California</td>\n",
       "      <td>Del Norte County</td>\n",
       "      <td>27830</td>\n",
       "      <td>0.000036</td>\n",
       "      <td>0.000000</td>\n",
       "    </tr>\n",
       "    <tr>\n",
       "      <th>2</th>\n",
       "      <td>06015</td>\n",
       "      <td>11411</td>\n",
       "      <td>77</td>\n",
       "      <td>0</td>\n",
       "      <td>2013</td>\n",
       "      <td>NaN</td>\n",
       "      <td>39</td>\n",
       "      <td>81</td>\n",
       "      <td>15</td>\n",
       "      <td>6</td>\n",
       "      <td>CA</td>\n",
       "      <td>Del Norte County</td>\n",
       "      <td>H1</td>\n",
       "      <td>6</td>\n",
       "      <td>15</td>\n",
       "      <td>California</td>\n",
       "      <td>Del Norte County</td>\n",
       "      <td>27830</td>\n",
       "      <td>0.001401</td>\n",
       "      <td>0.002911</td>\n",
       "    </tr>\n",
       "    <tr>\n",
       "      <th>3</th>\n",
       "      <td>06019</td>\n",
       "      <td>11251</td>\n",
       "      <td>77</td>\n",
       "      <td>0</td>\n",
       "      <td>2013</td>\n",
       "      <td>N</td>\n",
       "      <td>4</td>\n",
       "      <td>0</td>\n",
       "      <td>19</td>\n",
       "      <td>6</td>\n",
       "      <td>CA</td>\n",
       "      <td>Fresno County</td>\n",
       "      <td>H1</td>\n",
       "      <td>6</td>\n",
       "      <td>19</td>\n",
       "      <td>California</td>\n",
       "      <td>Fresno County</td>\n",
       "      <td>953787</td>\n",
       "      <td>0.000004</td>\n",
       "      <td>0.000000</td>\n",
       "    </tr>\n",
       "    <tr>\n",
       "      <th>4</th>\n",
       "      <td>06023</td>\n",
       "      <td>11251</td>\n",
       "      <td>77</td>\n",
       "      <td>0</td>\n",
       "      <td>2013</td>\n",
       "      <td>NaN</td>\n",
       "      <td>6</td>\n",
       "      <td>19</td>\n",
       "      <td>23</td>\n",
       "      <td>6</td>\n",
       "      <td>CA</td>\n",
       "      <td>Humboldt County</td>\n",
       "      <td>H1</td>\n",
       "      <td>6</td>\n",
       "      <td>23</td>\n",
       "      <td>California</td>\n",
       "      <td>Humboldt County</td>\n",
       "      <td>134444</td>\n",
       "      <td>0.000045</td>\n",
       "      <td>0.000141</td>\n",
       "    </tr>\n",
       "  </tbody>\n",
       "</table>\n",
       "</div>"
      ],
      "text/plain": [
       "  area_fips  industry_code  agglvl_code  size_code  year disclosure_code  \\\n",
       "0     06007          11251           77          0  2013               N   \n",
       "1     06015          11251           77          0  2013               N   \n",
       "2     06015          11411           77          0  2013             NaN   \n",
       "3     06019          11251           77          0  2013               N   \n",
       "4     06023          11251           77          0  2013             NaN   \n",
       "\n",
       "   annual_avg_estabs  annual_avg_emplvl  fips_county  fips_state State  \\\n",
       "0                  1                  0            7           6    CA   \n",
       "1                  1                  0           15           6    CA   \n",
       "2                 39                 81           15           6    CA   \n",
       "3                  4                  0           19           6    CA   \n",
       "4                  6                 19           23           6    CA   \n",
       "\n",
       "               name fips_class_code  STATE  COUNTY      STNAME  \\\n",
       "0      Butte County              H1      6       7  California   \n",
       "1  Del Norte County              H1      6      15  California   \n",
       "2  Del Norte County              H1      6      15  California   \n",
       "3     Fresno County              H1      6      19  California   \n",
       "4   Humboldt County              H1      6      23  California   \n",
       "\n",
       "            CTYNAME  population  estab_pct   emp_pct  \n",
       "0      Butte County      221768   0.000005  0.000000  \n",
       "1  Del Norte County       27830   0.000036  0.000000  \n",
       "2  Del Norte County       27830   0.001401  0.002911  \n",
       "3     Fresno County      953787   0.000004  0.000000  \n",
       "4   Humboldt County      134444   0.000045  0.000141  "
      ]
     },
     "execution_count": 220,
     "metadata": {},
     "output_type": "execute_result"
    }
   ],
   "source": [
    "#does not have geom. just county names (and fips state and county codes)\n",
    "occupation_qcew = pd.read_pickle(pickles+'qcew_occupation.pkl')\n",
    "occupation_qcew.head()"
   ]
  },
  {
   "cell_type": "code",
   "execution_count": 221,
   "metadata": {},
   "outputs": [
    {
     "data": {
      "text/html": [
       "<div>\n",
       "<style scoped>\n",
       "    .dataframe tbody tr th:only-of-type {\n",
       "        vertical-align: middle;\n",
       "    }\n",
       "\n",
       "    .dataframe tbody tr th {\n",
       "        vertical-align: top;\n",
       "    }\n",
       "\n",
       "    .dataframe thead th {\n",
       "        text-align: right;\n",
       "    }\n",
       "</style>\n",
       "<table border=\"1\" class=\"dataframe\">\n",
       "  <thead>\n",
       "    <tr style=\"text-align: right;\">\n",
       "      <th></th>\n",
       "      <th>lat</th>\n",
       "      <th>lon</th>\n",
       "      <th>biomass</th>\n",
       "      <th>geometry</th>\n",
       "    </tr>\n",
       "  </thead>\n",
       "  <tbody>\n",
       "    <tr>\n",
       "      <th>0</th>\n",
       "      <td>32.519277</td>\n",
       "      <td>-117.142836</td>\n",
       "      <td>265.0</td>\n",
       "      <td>POINT (32.51927713 -117.1428356)</td>\n",
       "    </tr>\n",
       "    <tr>\n",
       "      <th>1</th>\n",
       "      <td>32.519547</td>\n",
       "      <td>-117.143155</td>\n",
       "      <td>635.0</td>\n",
       "      <td>POINT (32.5195474 -117.1431554)</td>\n",
       "    </tr>\n",
       "    <tr>\n",
       "      <th>2</th>\n",
       "      <td>32.519548</td>\n",
       "      <td>-117.142836</td>\n",
       "      <td>275.0</td>\n",
       "      <td>POINT (32.51954776 -117.142836)</td>\n",
       "    </tr>\n",
       "    <tr>\n",
       "      <th>3</th>\n",
       "      <td>32.519548</td>\n",
       "      <td>-117.142197</td>\n",
       "      <td>272.0</td>\n",
       "      <td>POINT (32.51954849 -117.1421972)</td>\n",
       "    </tr>\n",
       "    <tr>\n",
       "      <th>4</th>\n",
       "      <td>32.519818</td>\n",
       "      <td>-117.143156</td>\n",
       "      <td>565.0</td>\n",
       "      <td>POINT (32.51981803 -117.1431559)</td>\n",
       "    </tr>\n",
       "  </tbody>\n",
       "</table>\n",
       "</div>"
      ],
      "text/plain": [
       "         lat         lon  biomass                          geometry\n",
       "0  32.519277 -117.142836    265.0  POINT (32.51927713 -117.1428356)\n",
       "1  32.519547 -117.143155    635.0   POINT (32.5195474 -117.1431554)\n",
       "2  32.519548 -117.142836    275.0   POINT (32.51954776 -117.142836)\n",
       "3  32.519548 -117.142197    272.0  POINT (32.51954849 -117.1421972)\n",
       "4  32.519818 -117.143156    565.0  POINT (32.51981803 -117.1431559)"
      ]
     },
     "execution_count": 221,
     "metadata": {},
     "output_type": "execute_result"
    }
   ],
   "source": [
    "#in lat lon format\n",
    "kelp_biomass =pd.read_pickle(pickles+'kelp_biomass.pkl')\n",
    "kelp_biomass.head()"
   ]
  },
  {
   "cell_type": "code",
   "execution_count": 195,
   "metadata": {},
   "outputs": [],
   "source": [
    "#will be converted to lon lat format\n",
    "sst = pd.read_pickle(pickles+'sst_ca.pkl')\n",
    "lons = list(sst.lon)\n",
    "lats = list(sst.lat)\n",
    "coords = list(zip(lons,lats))\n",
    "sst['geom'] = [Point(i) for i in coords]\n",
    "sst = gpd.GeoDataFrame(sst, crs = {'init' :'epsg:4326'}, geometry='geom')"
   ]
  },
  {
   "cell_type": "markdown",
   "metadata": {},
   "source": [
    "# Create grid of California"
   ]
  },
  {
   "cell_type": "code",
   "execution_count": 222,
   "metadata": {},
   "outputs": [],
   "source": [
    "def squarify(point, increment):\n",
    "    return Polygon([(point[0], point[1]),\n",
    "     (point[0] + increment, point[1]), \n",
    "     (point[0] + increment, point[1] + increment), \n",
    "     (point[0], point[1] + increment)])\n",
    "\n",
    "def desquarify(left_vertices, right_vertices, square_length):\n",
    "    x_num = round((right_vertices[0] - left_vertices[0])/square_length, 0)\n",
    "    y_num = round((right_vertices[1] - left_vertices[1])/square_length, 0)\n",
    "    x_lengths = np.linspace(left_vertices[0], right_vertices[0]-square_length, x_num)\n",
    "    y_lengths = np.linspace(left_vertices[1], right_vertices[1]-square_length, y_num)\n",
    "    return [p for p in product(x_lengths, y_lengths)]"
   ]
  },
  {
   "cell_type": "code",
   "execution_count": 440,
   "metadata": {},
   "outputs": [
    {
     "name": "stderr",
     "output_type": "stream",
     "text": [
      "/home/clay/anaconda3/lib/python3.6/site-packages/ipykernel_launcher.py:10: DeprecationWarning: object of type <class 'float'> cannot be safely interpreted as an integer.\n",
      "  # Remove the CWD from sys.path while we load stuff.\n",
      "/home/clay/anaconda3/lib/python3.6/site-packages/ipykernel_launcher.py:11: DeprecationWarning: object of type <class 'float'> cannot be safely interpreted as an integer.\n",
      "  # This is added back by InteractiveShellApp.init_path()\n"
     ]
    }
   ],
   "source": [
    "#create vertices for California\n",
    "#roughly the bounds of california going out 8km past cape mendocino\n",
    "width = .1\n",
    "#(32.534343,-124.511849),(42.00,-117.123885)\n",
    "grid_bottomleft_vertices = desquarify((-124.511849,32.534343),(-117.123885,42), width)\n",
    "grid = [squarify(i, width) for i in grid_bottomleft_vertices]"
   ]
  },
  {
   "cell_type": "code",
   "execution_count": 441,
   "metadata": {},
   "outputs": [
    {
     "name": "stdout",
     "output_type": "stream",
     "text": [
      "[(-124.511849, 32.534343), (-124.511849, 32.63397764893617), (-124.511849, 32.73361229787234)]\n",
      "7030\n",
      "(-124.511849, 32.534343, -124.411849, 32.634343)\n"
     ]
    }
   ],
   "source": [
    "print(grid_bottomleft_vertices[:3])\n",
    "print(len(grid))\n",
    "print(grid[0].bounds)"
   ]
  },
  {
   "cell_type": "code",
   "execution_count": 442,
   "metadata": {},
   "outputs": [
    {
     "data": {
      "text/html": [
       "<div>\n",
       "<style scoped>\n",
       "    .dataframe tbody tr th:only-of-type {\n",
       "        vertical-align: middle;\n",
       "    }\n",
       "\n",
       "    .dataframe tbody tr th {\n",
       "        vertical-align: top;\n",
       "    }\n",
       "\n",
       "    .dataframe thead th {\n",
       "        text-align: right;\n",
       "    }\n",
       "</style>\n",
       "<table border=\"1\" class=\"dataframe\">\n",
       "  <thead>\n",
       "    <tr style=\"text-align: right;\">\n",
       "      <th></th>\n",
       "      <th>geometry</th>\n",
       "      <th>polygon_id</th>\n",
       "    </tr>\n",
       "  </thead>\n",
       "  <tbody>\n",
       "    <tr>\n",
       "      <th>0</th>\n",
       "      <td>POLYGON ((-124.511849 32.534343, -124.411849 3...</td>\n",
       "      <td>0</td>\n",
       "    </tr>\n",
       "    <tr>\n",
       "      <th>1</th>\n",
       "      <td>POLYGON ((-124.511849 32.63397764893617, -124....</td>\n",
       "      <td>1</td>\n",
       "    </tr>\n",
       "    <tr>\n",
       "      <th>2</th>\n",
       "      <td>POLYGON ((-124.511849 32.73361229787234, -124....</td>\n",
       "      <td>2</td>\n",
       "    </tr>\n",
       "    <tr>\n",
       "      <th>3</th>\n",
       "      <td>POLYGON ((-124.511849 32.83324694680851, -124....</td>\n",
       "      <td>3</td>\n",
       "    </tr>\n",
       "    <tr>\n",
       "      <th>4</th>\n",
       "      <td>POLYGON ((-124.511849 32.93288159574468, -124....</td>\n",
       "      <td>4</td>\n",
       "    </tr>\n",
       "  </tbody>\n",
       "</table>\n",
       "</div>"
      ],
      "text/plain": [
       "                                            geometry  polygon_id\n",
       "0  POLYGON ((-124.511849 32.534343, -124.411849 3...           0\n",
       "1  POLYGON ((-124.511849 32.63397764893617, -124....           1\n",
       "2  POLYGON ((-124.511849 32.73361229787234, -124....           2\n",
       "3  POLYGON ((-124.511849 32.83324694680851, -124....           3\n",
       "4  POLYGON ((-124.511849 32.93288159574468, -124....           4"
      ]
     },
     "execution_count": 442,
     "metadata": {},
     "output_type": "execute_result"
    }
   ],
   "source": [
    "grid_df = gpd.GeoDataFrame(geometry=grid, crs = {'init' : 'epsg:4326'})\n",
    "grid_df[\"polygon_id\"] = range(len(grid))\n",
    "grid_df.head()"
   ]
  },
  {
   "cell_type": "markdown",
   "metadata": {},
   "source": [
    "# Combine Data"
   ]
  },
  {
   "cell_type": "code",
   "execution_count": 354,
   "metadata": {},
   "outputs": [],
   "source": [
    "def haversine(p1,p2):\n",
    "    \"\"\"\n",
    "    Calculate the great circle distance between two points \n",
    "    on the earth (specified in decimal degrees).\n",
    "    Source: https://gis.stackexchange.com/a/56589/15183\n",
    "    \"\"\"\n",
    "    lon1 = p1[0]\n",
    "    lat1 = p1[1]\n",
    "    lon2 = p2[0]\n",
    "    lat2 = p2[1]\n",
    "    # convert decimal degrees to radians \n",
    "    lon1, lat1, lon2, lat2 = map(radians, [lon1, lat1, lon2, lat2])\n",
    "    # haversine formula \n",
    "    dlon = lon2 - lon1 \n",
    "    dlat = lat2 - lat1 \n",
    "    a = sin(dlat/2)**2 + cos(lat1) * cos(lat2) * sin(dlon/2)**2\n",
    "    c = 2 * asin(sqrt(a)) \n",
    "    km = 6373 * c\n",
    "    return km"
   ]
  },
  {
   "cell_type": "code",
   "execution_count": 358,
   "metadata": {},
   "outputs": [
    {
     "name": "stdout",
     "output_type": "stream",
     "text": [
      "93.80994612038263\n",
      "111.22983322959878\n",
      "82.65940525349976\n",
      "111.22983322959878\n"
     ]
    }
   ],
   "source": [
    "#distance in km does seem to vary for the same difference in latitude/long depending on your latitude.\n",
    "print(haversine((-122,32.5),(-121,32.5)))\n",
    "print(haversine((-122,32.5),(-122,33.5)))\n",
    "print(haversine((-122,42),(-121,42)))\n",
    "print(haversine((-122,42),(-122,41)))"
   ]
  },
  {
   "cell_type": "code",
   "execution_count": 443,
   "metadata": {},
   "outputs": [
    {
     "data": {
      "text/html": [
       "<div>\n",
       "<style scoped>\n",
       "    .dataframe tbody tr th:only-of-type {\n",
       "        vertical-align: middle;\n",
       "    }\n",
       "\n",
       "    .dataframe tbody tr th {\n",
       "        vertical-align: top;\n",
       "    }\n",
       "\n",
       "    .dataframe thead th {\n",
       "        text-align: right;\n",
       "    }\n",
       "</style>\n",
       "<table border=\"1\" class=\"dataframe\">\n",
       "  <thead>\n",
       "    <tr style=\"text-align: right;\">\n",
       "      <th></th>\n",
       "      <th>Name</th>\n",
       "      <th>Geometry</th>\n",
       "    </tr>\n",
       "  </thead>\n",
       "  <tbody>\n",
       "    <tr>\n",
       "      <th>0</th>\n",
       "      <td>Pyramid Point State Marine Conservation Area</td>\n",
       "      <td>POLYGON ((-124.21225 42, -124.330233 42, -124....</td>\n",
       "    </tr>\n",
       "    <tr>\n",
       "      <th>1</th>\n",
       "      <td>Point St. George Reef Offshore State Marine Co...</td>\n",
       "      <td>POLYGON ((-124.3864833 41.866667, -124.4300833...</td>\n",
       "    </tr>\n",
       "    <tr>\n",
       "      <th>2</th>\n",
       "      <td>Southwest Seal Rock Special Closure</td>\n",
       "      <td>POINT (-124.35165 41.8136)</td>\n",
       "    </tr>\n",
       "    <tr>\n",
       "      <th>3</th>\n",
       "      <td>Castle Rock Special Closure</td>\n",
       "      <td>POINT (-124.24915 41.761767)</td>\n",
       "    </tr>\n",
       "    <tr>\n",
       "      <th>4</th>\n",
       "      <td>False Klamath Rock Special Closure</td>\n",
       "      <td>POINT (-124.11165 41.593883)</td>\n",
       "    </tr>\n",
       "  </tbody>\n",
       "</table>\n",
       "</div>"
      ],
      "text/plain": [
       "                                                Name  \\\n",
       "0       Pyramid Point State Marine Conservation Area   \n",
       "1  Point St. George Reef Offshore State Marine Co...   \n",
       "2                Southwest Seal Rock Special Closure   \n",
       "3                        Castle Rock Special Closure   \n",
       "4                 False Klamath Rock Special Closure   \n",
       "\n",
       "                                            Geometry  \n",
       "0  POLYGON ((-124.21225 42, -124.330233 42, -124....  \n",
       "1  POLYGON ((-124.3864833 41.866667, -124.4300833...  \n",
       "2                         POINT (-124.35165 41.8136)  \n",
       "3                       POINT (-124.24915 41.761767)  \n",
       "4                       POINT (-124.11165 41.593883)  "
      ]
     },
     "execution_count": 443,
     "metadata": {},
     "output_type": "execute_result"
    }
   ],
   "source": [
    "protected_areas.head()\n"
   ]
  },
  {
   "cell_type": "code",
   "execution_count": 321,
   "metadata": {},
   "outputs": [
    {
     "data": {
      "text/html": [
       "<div>\n",
       "<style scoped>\n",
       "    .dataframe tbody tr th:only-of-type {\n",
       "        vertical-align: middle;\n",
       "    }\n",
       "\n",
       "    .dataframe tbody tr th {\n",
       "        vertical-align: top;\n",
       "    }\n",
       "\n",
       "    .dataframe thead th {\n",
       "        text-align: right;\n",
       "    }\n",
       "</style>\n",
       "<table border=\"1\" class=\"dataframe\">\n",
       "  <thead>\n",
       "    <tr style=\"text-align: right;\">\n",
       "      <th></th>\n",
       "      <th>geometry</th>\n",
       "      <th>polygon_id</th>\n",
       "      <th>protected_areas</th>\n",
       "    </tr>\n",
       "  </thead>\n",
       "  <tbody>\n",
       "    <tr>\n",
       "      <th>0</th>\n",
       "      <td>POLYGON ((-124.511849 32.534343, -124.411849 3...</td>\n",
       "      <td>0</td>\n",
       "      <td>[9.324852592739687, 9.182324, 9.17945439509615...</td>\n",
       "    </tr>\n",
       "    <tr>\n",
       "      <th>1</th>\n",
       "      <td>POLYGON ((-124.511849 32.63397764893617, -124....</td>\n",
       "      <td>1</td>\n",
       "      <td>[9.225227260015009, 9.082689351063834, 9.07982...</td>\n",
       "    </tr>\n",
       "    <tr>\n",
       "      <th>2</th>\n",
       "      <td>POLYGON ((-124.511849 32.73361229787234, -124....</td>\n",
       "      <td>2</td>\n",
       "      <td>[9.125602130712315, 8.983054702127658, 8.98018...</td>\n",
       "    </tr>\n",
       "    <tr>\n",
       "      <th>3</th>\n",
       "      <td>POLYGON ((-124.511849 32.83324694680851, -124....</td>\n",
       "      <td>3</td>\n",
       "      <td>[9.025977211567488, 8.883420053191491, 8.88055...</td>\n",
       "    </tr>\n",
       "    <tr>\n",
       "      <th>4</th>\n",
       "      <td>POLYGON ((-124.511849 32.93288159574468, -124....</td>\n",
       "      <td>4</td>\n",
       "      <td>[8.926352509617086, 8.783785404255317, 8.78092...</td>\n",
       "    </tr>\n",
       "  </tbody>\n",
       "</table>\n",
       "</div>"
      ],
      "text/plain": [
       "                                            geometry  polygon_id  \\\n",
       "0  POLYGON ((-124.511849 32.534343, -124.411849 3...           0   \n",
       "1  POLYGON ((-124.511849 32.63397764893617, -124....           1   \n",
       "2  POLYGON ((-124.511849 32.73361229787234, -124....           2   \n",
       "3  POLYGON ((-124.511849 32.83324694680851, -124....           3   \n",
       "4  POLYGON ((-124.511849 32.93288159574468, -124....           4   \n",
       "\n",
       "                                     protected_areas  \n",
       "0  [9.324852592739687, 9.182324, 9.17945439509615...  \n",
       "1  [9.225227260015009, 9.082689351063834, 9.07982...  \n",
       "2  [9.125602130712315, 8.983054702127658, 8.98018...  \n",
       "3  [9.025977211567488, 8.883420053191491, 8.88055...  \n",
       "4  [8.926352509617086, 8.783785404255317, 8.78092...  "
      ]
     },
     "execution_count": 321,
     "metadata": {},
     "output_type": "execute_result"
    }
   ],
   "source": [
    "#find the distance between one geometry and a series of other geometries, presumably from a dataset\n",
    "grid_df['protected_areas'] = grid_df.geometry.apply(lambda x: [x.distance(i) for i in protected_areas.Geometry])\n",
    "grid_df.head()"
   ]
  },
  {
   "cell_type": "code",
   "execution_count": 486,
   "metadata": {},
   "outputs": [],
   "source": [
    "#just get the base distance for one point b/c this will be close to the the right scaling\n",
    "#add half a degee in lat and lon to get the second point\n",
    "def get_distance_ratio(shape):\n",
    "    p1 = list(shape.representative_point().coords)[0]\n",
    "    p2 = (p1[0]+0.5,p1[1]+0.5)\n",
    "    print(p1,p2)\n",
    "    d_km = haversine(p1,p2)\n",
    "    #just get the base distance for one point b/c this will be close to the the right scaling for all p2s\n",
    "    base_coord_d=Point(p1).distance(Point(p2))\n",
    "    return d_km/base_coord_d"
   ]
  },
  {
   "cell_type": "code",
   "execution_count": 491,
   "metadata": {},
   "outputs": [],
   "source": [
    "def get_closest_areas(shape,areas, max_distance, min_returned=3):\n",
    "    distance_ratio = get_distance_ratio(shape)\n",
    "    distances = [shape.distance(i)*distance_ratio for i in areas]\n",
    "    sorted_distances = np.sort(distances)\n",
    "    areas_within_max = sorted_distances < max_distance\n",
    "    num_close_areas = sum(areas_within_max)\n",
    "    if num_close_areas < min_returned:\n",
    "        lowest_distances = sorted_distances[:min_returned]\n",
    "        area_idx = np.argsort(distances)[:min_returned]\n",
    "    else:\n",
    "        lowest_distances = sorted_distances[:num_close_areas]\n",
    "        area_idx = np.argsort(distances)[:num_close_areas]\n",
    "    return list(zip(area_idx, lowest_distances))"
   ]
  },
  {
   "cell_type": "code",
   "execution_count": 493,
   "metadata": {
    "scrolled": false
   },
   "outputs": [
    {
     "name": "stdout",
     "output_type": "stream",
     "text": [
      "(-124.461849, 32.584343000000004) (-123.961849, 33.084343000000004)\n",
      "[(74, 398.4757843295192), (75, 402.4965195490565), (71, 432.34200431573373)]\n",
      "74          Naples State Marine Conservation Area\n",
      "75    Campus Point State Marine Conservation Area\n",
      "71                Vandenburg State Marine Reserve\n",
      "Name: Name, dtype: object\n"
     ]
    }
   ],
   "source": [
    "closest_areas = get_closest_areas(grid_df.iloc[0].geometry,protected_areas.Geometry,150)\n",
    "print(closest_areas)\n",
    "idx = [i[0] for i in closest_areas]\n",
    "names = protected_areas.iloc[idx]['Name']\n",
    "print(names)"
   ]
  },
  {
   "cell_type": "code",
   "execution_count": 470,
   "metadata": {},
   "outputs": [],
   "source": [
    "#just get the base distance for one point b/c this will be close to the the right scaling for all p2s\n",
    "def get_distance_ratio(shape):\n",
    "    p1 = list(shape.representative_point().coords)[0]\n",
    "    p2 = (p1[0]+0.5,p1[1]+0.5)\n",
    "    print(p1,p2)\n",
    "    d_km = haversine(p1,p2)\n",
    "    #just get the base distance for one point b/c this will be close to the the right scaling for all p2s\n",
    "    base_coord_d=Point(p1).distance(Point(p2))\n",
    "    return d_km/base_coord_d"
   ]
  },
  {
   "cell_type": "code",
   "execution_count": 472,
   "metadata": {},
   "outputs": [
    {
     "name": "stdout",
     "output_type": "stream",
     "text": [
      "(-124.461849, 32.584343000000004) (-123.961849, 33.084343000000004)\n"
     ]
    },
    {
     "data": {
      "text/plain": [
       "102.72949210339367"
      ]
     },
     "execution_count": 472,
     "metadata": {},
     "output_type": "execute_result"
    }
   ],
   "source": [
    "distance_ratio = get_distance_ratio(grid_df.iloc[0].geometry)\n",
    "distance_ratio"
   ]
  },
  {
   "cell_type": "code",
   "execution_count": null,
   "metadata": {},
   "outputs": [],
   "source": []
  }
 ],
 "metadata": {
  "kernelspec": {
   "display_name": "Python 3",
   "language": "python",
   "name": "python3"
  },
  "language_info": {
   "codemirror_mode": {
    "name": "ipython",
    "version": 3
   },
   "file_extension": ".py",
   "mimetype": "text/x-python",
   "name": "python",
   "nbconvert_exporter": "python",
   "pygments_lexer": "ipython3",
   "version": "3.6.4"
  }
 },
 "nbformat": 4,
 "nbformat_minor": 2
}
