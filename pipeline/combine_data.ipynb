{
 "cells": [
  {
   "cell_type": "markdown",
   "metadata": {},
   "source": [
    "# Combine data"
   ]
  },
  {
   "cell_type": "code",
   "execution_count": 39,
   "metadata": {},
   "outputs": [],
   "source": [
    "import pandas as pd\n",
    "import os\n",
    "import numpy as np\n",
    "from itertools import product\n",
    "from shapely.geometry import LinearRing, Polygon, Point, LineString\n",
    "import geopandas as gpd\n",
    "\n",
    "pickles = '../data/pickles/'"
   ]
  },
  {
   "cell_type": "markdown",
   "metadata": {},
   "source": [
    "# Read Pickle Files"
   ]
  },
  {
   "cell_type": "code",
   "execution_count": 4,
   "metadata": {},
   "outputs": [
    {
     "data": {
      "text/plain": [
       "['bathymetry.pkl',\n",
       " 'ca_counties.pkl',\n",
       " 'crit_species.pkl',\n",
       " 'kelp_biomass.pkl',\n",
       " 'mpa.pkl',\n",
       " 'nes_occupation.pkl',\n",
       " 'qcew_occupation.pkl',\n",
       " 'sst_ca.pkl']"
      ]
     },
     "execution_count": 4,
     "metadata": {},
     "output_type": "execute_result"
    }
   ],
   "source": [
    "os.listdir(pickles)"
   ]
  },
  {
   "cell_type": "code",
   "execution_count": 5,
   "metadata": {},
   "outputs": [],
   "source": [
    "#Pickle files come from data/read_data.ipynb and\n",
    "bathymetry = pd.read_pickle(pickles+'bathymetry.pkl')"
   ]
  },
  {
   "cell_type": "code",
   "execution_count": 6,
   "metadata": {},
   "outputs": [],
   "source": [
    "ca_counties = pd.read_pickle(pickles+'ca_counties.pkl')"
   ]
  },
  {
   "cell_type": "code",
   "execution_count": 7,
   "metadata": {},
   "outputs": [
    {
     "ename": "AttributeError",
     "evalue": "module 'pandas' has no attribute 'read_data'",
     "output_type": "error",
     "traceback": [
      "\u001b[0;31m---------------------------------------------------------------------------\u001b[0m",
      "\u001b[0;31mAttributeError\u001b[0m                            Traceback (most recent call last)",
      "\u001b[0;32m<ipython-input-7-93bc4e2aa0fd>\u001b[0m in \u001b[0;36m<module>\u001b[0;34m()\u001b[0m\n\u001b[0;32m----> 1\u001b[0;31m \u001b[0mcrit_species\u001b[0m \u001b[0;34m=\u001b[0m \u001b[0mpd\u001b[0m\u001b[0;34m.\u001b[0m\u001b[0mread_data\u001b[0m\u001b[0;34m(\u001b[0m\u001b[0mpickles\u001b[0m\u001b[0;34m+\u001b[0m\u001b[0;34m'crit_species.pkl'\u001b[0m\u001b[0;34m)\u001b[0m\u001b[0;34m\u001b[0m\u001b[0m\n\u001b[0m",
      "\u001b[0;31mAttributeError\u001b[0m: module 'pandas' has no attribute 'read_data'"
     ]
    }
   ],
   "source": [
    "crit_species = pd.read_data(pickles+'crit_species.pkl')"
   ]
  },
  {
   "cell_type": "code",
   "execution_count": null,
   "metadata": {},
   "outputs": [],
   "source": [
    "protected_areas = pd.read_pickle(pickles+'mpa.pkl')"
   ]
  },
  {
   "cell_type": "code",
   "execution_count": null,
   "metadata": {},
   "outputs": [],
   "source": [
    "occupation_nes = pd.read_pickle(pickles+'nes_occupation.pkl')"
   ]
  },
  {
   "cell_type": "code",
   "execution_count": null,
   "metadata": {},
   "outputs": [],
   "source": [
    "occupation_qcew = pd.read_pickle(pickles+'qcew_occupation.pkl')"
   ]
  },
  {
   "cell_type": "code",
   "execution_count": null,
   "metadata": {},
   "outputs": [],
   "source": [
    "kelp_biomass =pd.read_pickle(pickles+'kelp_biomass.pkl')"
   ]
  },
  {
   "cell_type": "code",
   "execution_count": null,
   "metadata": {},
   "outputs": [],
   "source": [
    "sst = pd.read_pickle(pickles+'sst_ca.pkl')"
   ]
  },
  {
   "cell_type": "markdown",
   "metadata": {},
   "source": [
    "# Create grid of California"
   ]
  },
  {
   "cell_type": "code",
   "execution_count": 23,
   "metadata": {},
   "outputs": [],
   "source": [
    "def squarify(point, increment):\n",
    "    return Polygon([(point[0], point[1]),\n",
    "     (point[0] + increment, point[1]), \n",
    "     (point[0] + increment, point[1] + increment), \n",
    "     (point[0], point[1] + increment)])\n",
    "\n",
    "def desquarify(left_vertices, right_vertices, square_length):\n",
    "    x_num = round((right_vertices[0] - left_vertices[0])/square_length, 0)\n",
    "    y_num = round((right_vertices[1] - left_vertices[1])/square_length, 0)\n",
    "    x_lengths = np.linspace(left_vertices[0], right_vertices[0]-square_length, x_num)\n",
    "    y_lengths = np.linspace(left_vertices[1], right_vertices[1]-square_length, y_num)\n",
    "    return [p for p in product(x_lengths, y_lengths)]"
   ]
  },
  {
   "cell_type": "code",
   "execution_count": 36,
   "metadata": {},
   "outputs": [
    {
     "name": "stderr",
     "output_type": "stream",
     "text": [
      "/home/clay/anaconda3/lib/python3.6/site-packages/ipykernel_launcher.py:10: DeprecationWarning: object of type <class 'float'> cannot be safely interpreted as an integer.\n",
      "  # Remove the CWD from sys.path while we load stuff.\n",
      "/home/clay/anaconda3/lib/python3.6/site-packages/ipykernel_launcher.py:11: DeprecationWarning: object of type <class 'float'> cannot be safely interpreted as an integer.\n",
      "  # This is added back by InteractiveShellApp.init_path()\n"
     ]
    }
   ],
   "source": [
    "#create vertices for California\n",
    "#roughly the bounds of california going out 8km past cape mendocino\n",
    "width = .1\n",
    "grid_bottomleft_vertices = desquarify((32.534343,-124.511849),(42.00,-117.123885), width)\n",
    "grid = [squarify(i, width) for i in grid_bottomleft_vertices]"
   ]
  },
  {
   "cell_type": "code",
   "execution_count": 37,
   "metadata": {},
   "outputs": [
    {
     "name": "stdout",
     "output_type": "stream",
     "text": [
      "[(32.534343, -124.511849), (32.534343, -124.41201387671232), (32.534343, -124.31217875342466)]\n",
      "POLYGON ((32.534343 -124.511849, 32.634343 -124.511849, 32.634343 -124.411849, 32.534343 -124.411849, 32.534343 -124.511849))\n"
     ]
    },
    {
     "data": {
      "image/svg+xml": [
       "<svg xmlns=\"http://www.w3.org/2000/svg\" xmlns:xlink=\"http://www.w3.org/1999/xlink\" width=\"100.0\" height=\"100.0\" viewBox=\"32.530343 -124.515849 0.10799999999999699 0.10800000000000409\" preserveAspectRatio=\"xMinYMin meet\"><g transform=\"matrix(1,0,0,-1,0,-248.923698)\"><path fill-rule=\"evenodd\" fill=\"#66cc99\" stroke=\"#555555\" stroke-width=\"0.002160000000000082\" opacity=\"0.6\" d=\"M 32.534343,-124.511849 L 32.634343,-124.511849 L 32.634343,-124.411849 L 32.534343,-124.411849 L 32.534343,-124.511849 z\" /></g></svg>"
      ],
      "text/plain": [
       "<shapely.geometry.polygon.Polygon at 0x7fdf106a2630>"
      ]
     },
     "execution_count": 37,
     "metadata": {},
     "output_type": "execute_result"
    }
   ],
   "source": [
    "print(grid_bottomleft_vertices[:3])\n",
    "print(grid[0])\n",
    "grid[0]"
   ]
  },
  {
   "cell_type": "code",
   "execution_count": 40,
   "metadata": {},
   "outputs": [],
   "source": [
    "grid_df = gpd.GeoDataFrame(geometry=grid, crs = {'init' : 'epsg:4326'})\n",
    "grid_df[\"polygon_id\"] = range(len(grid))"
   ]
  },
  {
   "cell_type": "code",
   "execution_count": null,
   "metadata": {},
   "outputs": [],
   "source": []
  }
 ],
 "metadata": {
  "kernelspec": {
   "display_name": "Python 3",
   "language": "python",
   "name": "python3"
  },
  "language_info": {
   "codemirror_mode": {
    "name": "ipython",
    "version": 3
   },
   "file_extension": ".py",
   "mimetype": "text/x-python",
   "name": "python",
   "nbconvert_exporter": "python",
   "pygments_lexer": "ipython3",
   "version": "3.6.4"
  }
 },
 "nbformat": 4,
 "nbformat_minor": 2
}
