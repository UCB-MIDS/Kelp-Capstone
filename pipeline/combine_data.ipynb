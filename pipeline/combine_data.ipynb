{
 "cells": [
  {
   "cell_type": "markdown",
   "metadata": {},
   "source": [
    "# Combine data"
   ]
  },
  {
   "cell_type": "code",
   "execution_count": 104,
   "metadata": {},
   "outputs": [],
   "source": [
    "import pandas as pd\n",
    "import os\n",
    "import numpy as np\n",
    "from itertools import product\n",
    "from shapely.geometry import LinearRing, Polygon, Point, LineString\n",
    "import geopandas as gpd\n",
    "import matplotlib.pyplot as plt\n",
    "\n",
    "%matplotlib inline\n",
    "\n",
    "pickles = '../data/pickles/'"
   ]
  },
  {
   "cell_type": "markdown",
   "metadata": {},
   "source": [
    "# Read Pickle Files"
   ]
  },
  {
   "cell_type": "code",
   "execution_count": 4,
   "metadata": {},
   "outputs": [
    {
     "data": {
      "text/plain": [
       "['bathymetry.pkl',\n",
       " 'ca_counties.pkl',\n",
       " 'crit_species.pkl',\n",
       " 'kelp_biomass.pkl',\n",
       " 'mpa.pkl',\n",
       " 'nes_occupation.pkl',\n",
       " 'qcew_occupation.pkl',\n",
       " 'sst_ca.pkl']"
      ]
     },
     "execution_count": 4,
     "metadata": {},
     "output_type": "execute_result"
    }
   ],
   "source": [
    "os.listdir(pickles)"
   ]
  },
  {
   "cell_type": "code",
   "execution_count": 65,
   "metadata": {},
   "outputs": [
    {
     "data": {
      "text/html": [
       "<div>\n",
       "<style scoped>\n",
       "    .dataframe tbody tr th:only-of-type {\n",
       "        vertical-align: middle;\n",
       "    }\n",
       "\n",
       "    .dataframe tbody tr th {\n",
       "        vertical-align: top;\n",
       "    }\n",
       "\n",
       "    .dataframe thead th {\n",
       "        text-align: right;\n",
       "    }\n",
       "</style>\n",
       "<table border=\"1\" class=\"dataframe\">\n",
       "  <thead>\n",
       "    <tr style=\"text-align: right;\">\n",
       "      <th></th>\n",
       "      <th>x</th>\n",
       "      <th>y</th>\n",
       "      <th>z</th>\n",
       "    </tr>\n",
       "  </thead>\n",
       "  <tbody>\n",
       "    <tr>\n",
       "      <th>0</th>\n",
       "      <td>-128.0</td>\n",
       "      <td>37.000000</td>\n",
       "      <td>NaN</td>\n",
       "    </tr>\n",
       "    <tr>\n",
       "      <th>1</th>\n",
       "      <td>-128.0</td>\n",
       "      <td>37.000833</td>\n",
       "      <td>NaN</td>\n",
       "    </tr>\n",
       "    <tr>\n",
       "      <th>2</th>\n",
       "      <td>-128.0</td>\n",
       "      <td>37.001667</td>\n",
       "      <td>NaN</td>\n",
       "    </tr>\n",
       "    <tr>\n",
       "      <th>3</th>\n",
       "      <td>-128.0</td>\n",
       "      <td>37.002500</td>\n",
       "      <td>NaN</td>\n",
       "    </tr>\n",
       "    <tr>\n",
       "      <th>4</th>\n",
       "      <td>-128.0</td>\n",
       "      <td>37.003333</td>\n",
       "      <td>NaN</td>\n",
       "    </tr>\n",
       "  </tbody>\n",
       "</table>\n",
       "</div>"
      ],
      "text/plain": [
       "       x          y   z\n",
       "0 -128.0  37.000000 NaN\n",
       "1 -128.0  37.000833 NaN\n",
       "2 -128.0  37.001667 NaN\n",
       "3 -128.0  37.002500 NaN\n",
       "4 -128.0  37.003333 NaN"
      ]
     },
     "execution_count": 65,
     "metadata": {},
     "output_type": "execute_result"
    }
   ],
   "source": [
    "#Pickle files come from data/read_data.ipynb and\n",
    "#bathymetry is not a gpd df\n",
    "bathymetry = pd.read_pickle(pickles+'bathymetry.pkl')\n",
    "bathymetry.head()"
   ]
  },
  {
   "cell_type": "code",
   "execution_count": 66,
   "metadata": {},
   "outputs": [
    {
     "data": {
      "text/html": [
       "<div>\n",
       "<style scoped>\n",
       "    .dataframe tbody tr th:only-of-type {\n",
       "        vertical-align: middle;\n",
       "    }\n",
       "\n",
       "    .dataframe tbody tr th {\n",
       "        vertical-align: top;\n",
       "    }\n",
       "\n",
       "    .dataframe thead th {\n",
       "        text-align: right;\n",
       "    }\n",
       "</style>\n",
       "<table border=\"1\" class=\"dataframe\">\n",
       "  <thead>\n",
       "    <tr style=\"text-align: right;\">\n",
       "      <th></th>\n",
       "      <th>STATEFP</th>\n",
       "      <th>COUNTYFP</th>\n",
       "      <th>COUNTYNS</th>\n",
       "      <th>AFFGEOID</th>\n",
       "      <th>GEOID</th>\n",
       "      <th>NAME</th>\n",
       "      <th>LSAD</th>\n",
       "      <th>ALAND</th>\n",
       "      <th>AWATER</th>\n",
       "      <th>geometry</th>\n",
       "    </tr>\n",
       "  </thead>\n",
       "  <tbody>\n",
       "    <tr>\n",
       "      <th>0</th>\n",
       "      <td>6</td>\n",
       "      <td>75</td>\n",
       "      <td>00277302</td>\n",
       "      <td>0500000US06075</td>\n",
       "      <td>06075</td>\n",
       "      <td>San Francisco</td>\n",
       "      <td>06</td>\n",
       "      <td>121485107</td>\n",
       "      <td>479107241</td>\n",
       "      <td>POLYGON ((-122.511983 37.77113, -122.465396 37...</td>\n",
       "    </tr>\n",
       "    <tr>\n",
       "      <th>705</th>\n",
       "      <td>6</td>\n",
       "      <td>87</td>\n",
       "      <td>00277308</td>\n",
       "      <td>0500000US06087</td>\n",
       "      <td>06087</td>\n",
       "      <td>Santa Cruz</td>\n",
       "      <td>06</td>\n",
       "      <td>1152967426</td>\n",
       "      <td>419570389</td>\n",
       "      <td>POLYGON ((-122.317682 37.186945, -122.152774 3...</td>\n",
       "    </tr>\n",
       "    <tr>\n",
       "      <th>713</th>\n",
       "      <td>6</td>\n",
       "      <td>31</td>\n",
       "      <td>00277280</td>\n",
       "      <td>0500000US06031</td>\n",
       "      <td>06031</td>\n",
       "      <td>Kings</td>\n",
       "      <td>06</td>\n",
       "      <td>3598593366</td>\n",
       "      <td>5453080</td>\n",
       "      <td>POLYGON ((-120.315068 35.907186, -119.959058 3...</td>\n",
       "    </tr>\n",
       "    <tr>\n",
       "      <th>899</th>\n",
       "      <td>6</td>\n",
       "      <td>85</td>\n",
       "      <td>00277307</td>\n",
       "      <td>0500000US06085</td>\n",
       "      <td>06085</td>\n",
       "      <td>Santa Clara</td>\n",
       "      <td>06</td>\n",
       "      <td>3344209919</td>\n",
       "      <td>33276429</td>\n",
       "      <td>POLYGON ((-122.190402 37.431472, -122.144933 3...</td>\n",
       "    </tr>\n",
       "    <tr>\n",
       "      <th>915</th>\n",
       "      <td>6</td>\n",
       "      <td>21</td>\n",
       "      <td>00277275</td>\n",
       "      <td>0500000US06021</td>\n",
       "      <td>06021</td>\n",
       "      <td>Glenn</td>\n",
       "      <td>06</td>\n",
       "      <td>3403149421</td>\n",
       "      <td>33704225</td>\n",
       "      <td>POLYGON ((-122.911794 39.799485, -122.046471 3...</td>\n",
       "    </tr>\n",
       "  </tbody>\n",
       "</table>\n",
       "</div>"
      ],
      "text/plain": [
       "     STATEFP  COUNTYFP  COUNTYNS        AFFGEOID  GEOID           NAME LSAD  \\\n",
       "0          6        75  00277302  0500000US06075  06075  San Francisco   06   \n",
       "705        6        87  00277308  0500000US06087  06087     Santa Cruz   06   \n",
       "713        6        31  00277280  0500000US06031  06031          Kings   06   \n",
       "899        6        85  00277307  0500000US06085  06085    Santa Clara   06   \n",
       "915        6        21  00277275  0500000US06021  06021          Glenn   06   \n",
       "\n",
       "          ALAND     AWATER                                           geometry  \n",
       "0     121485107  479107241  POLYGON ((-122.511983 37.77113, -122.465396 37...  \n",
       "705  1152967426  419570389  POLYGON ((-122.317682 37.186945, -122.152774 3...  \n",
       "713  3598593366    5453080  POLYGON ((-120.315068 35.907186, -119.959058 3...  \n",
       "899  3344209919   33276429  POLYGON ((-122.190402 37.431472, -122.144933 3...  \n",
       "915  3403149421   33704225  POLYGON ((-122.911794 39.799485, -122.046471 3...  "
      ]
     },
     "execution_count": 66,
     "metadata": {},
     "output_type": "execute_result"
    }
   ],
   "source": [
    "#in lon, lat format\n",
    "ca_counties = pd.read_pickle(pickles+'ca_counties.pkl')"
   ]
  },
  {
   "cell_type": "code",
   "execution_count": 78,
   "metadata": {},
   "outputs": [
    {
     "name": "stdout",
     "output_type": "stream",
     "text": [
      "black_abalone\n",
      "<class 'geopandas.geodataframe.GeoDataFrame'>\n",
      "leatherback\n",
      "<class 'geopandas.geodataframe.GeoDataFrame'>\n",
      "stellar_sealions\n",
      "<class 'geopandas.geodataframe.GeoDataFrame'>\n",
      "green_sturgeon\n",
      "<class 'geopandas.geodataframe.GeoDataFrame'>\n"
     ]
    },
    {
     "data": {
      "text/plain": [
       "0    (POLYGON ((-373068.5689000003 112824.739399999...\n",
       "Name: geometry, dtype: object"
      ]
     },
     "execution_count": 78,
     "metadata": {},
     "output_type": "execute_result"
    }
   ],
   "source": [
    "#in lon lat format except for leatherbacks which is all messed up\n",
    "crit_species = pd.read_pickle(pickles+'crit_species.pkl')\n",
    "for i in crit_species.keys():\n",
    "    print(i)\n",
    "    print(type(crit_species[i]))\n",
    "crit_species['leatherback'].geometry"
   ]
  },
  {
   "cell_type": "code",
   "execution_count": 86,
   "metadata": {},
   "outputs": [
    {
     "name": "stdout",
     "output_type": "stream",
     "text": [
      "                                                Name  \\\n",
      "0       Pyramid Point State Marine Conservation Area   \n",
      "1  Point St. George Reef Offshore State Marine Co...   \n",
      "2                Southwest Seal Rock Special Closure   \n",
      "3                        Castle Rock Special Closure   \n",
      "4                 False Klamath Rock Special Closure   \n",
      "\n",
      "                                            Geometry  \n",
      "0  POLYGON ((42 -124.21225, 42 -124.330233, 41.95...  \n",
      "1  POLYGON ((41.866667 -124.3864833, 41.86667 -12...  \n",
      "2                         POINT (41.8136 -124.35165)  \n",
      "3                       POINT (41.761767 -124.24915)  \n",
      "4                       POINT (41.593883 -124.11165)  \n"
     ]
    }
   ],
   "source": [
    "#in lat lon format\n",
    "protected_areas = pd.read_pickle(pickles+'mpa.pkl')\n",
    "protected_areas = gpd.GeoDataFrame(protected_areas, crs = {'init' :'epsg:4326'}, geometry='Geometry')\n",
    "print(protected_areas.head())\n",
    "#protected_areas.exterior.coords"
   ]
  },
  {
   "cell_type": "code",
   "execution_count": 170,
   "metadata": {},
   "outputs": [],
   "source": [
    "#we will need to convert some geometries from lat, lon to lon,lat\n",
    "def flip_coords(geom):\n",
    "    if type(geom) == Polygon:\n",
    "        coords = geom.exterior.coords.xy \n",
    "        geomtype = 'Polygon'\n",
    "    elif type(geom) == LineString:\n",
    "        coords = geom.coords.xy\n",
    "        geomtype = 'LineString'\n",
    "    elif type(geom) == Point:\n",
    "        coords = geom.coords.xy\n",
    "        geomtype = 'Point'\n",
    "    else:\n",
    "        print(\"not a known geom type\")\n",
    "        return \n",
    "    flipped_coords = list(zip(coords[1],coords[0]))\n",
    "    if geomtype == 'Polygon':\n",
    "        return Polygon(flipped_coords) \n",
    "    elif geomtype == 'LineString':\n",
    "        return LineString(flipped_coords)\n",
    "    elif geomtype == 'Point':\n",
    "        return Point(flipped_coords)"
   ]
  },
  {
   "cell_type": "code",
   "execution_count": 178,
   "metadata": {},
   "outputs": [
    {
     "name": "stdout",
     "output_type": "stream",
     "text": [
      "[(0.0, 0.0), (1.0, 1.0), (0.0, 1.0), (0.0, 0.0)]\n",
      "[(0.0, 0.0), (1.0, 1.0), (1.0, 0.0), (0.0, 0.0)]\n",
      "[array('d', [0.0, 5.0, 4.0]), array('d', [0.0, 5.0, 2.0])]\n",
      "[array('d', [4.0]), array('d', [2.0])]\n",
      "orig coords (array('d', [4.0]), array('d', [2.0]))\n",
      "flipped coords [(2.0, 4.0)]\n"
     ]
    },
    {
     "data": {
      "image/svg+xml": [
       "<svg xmlns=\"http://www.w3.org/2000/svg\" xmlns:xlink=\"http://www.w3.org/1999/xlink\" width=\"100.0\" height=\"100.0\" viewBox=\"3.0 1.0 2.0 2.0\" preserveAspectRatio=\"xMinYMin meet\"><g transform=\"matrix(1,0,0,-1,0,4.0)\"><circle cx=\"4.0\" cy=\"2.0\" r=\"0.06\" stroke=\"#555555\" stroke-width=\"0.02\" fill=\"#66cc99\" opacity=\"0.6\" /></g></svg>"
      ],
      "text/plain": [
       "<shapely.geometry.point.Point at 0x7fdf0606cf98>"
      ]
     },
     "execution_count": 178,
     "metadata": {},
     "output_type": "execute_result"
    }
   ],
   "source": [
    "a =Polygon([(0,0),(1,1),(0,1)])\n",
    "print(list(zip(a.exterior.coords.xy[0],a.exterior.coords.xy[1])))\n",
    "print(list(zip(a.exterior.coords.xy[1],a.exterior.coords.xy[0])))\n",
    "b = LineString([(0,0),(5,5),(4,2)])\n",
    "print(list(b.coords.xy))\n",
    "c = Point((4,2))\n",
    "print(list(c.coords.xy))\n",
    "flip_coords(c)\n",
    "c"
   ]
  },
  {
   "cell_type": "code",
   "execution_count": 80,
   "metadata": {},
   "outputs": [
    {
     "data": {
      "text/html": [
       "<div>\n",
       "<style scoped>\n",
       "    .dataframe tbody tr th:only-of-type {\n",
       "        vertical-align: middle;\n",
       "    }\n",
       "\n",
       "    .dataframe tbody tr th {\n",
       "        vertical-align: top;\n",
       "    }\n",
       "\n",
       "    .dataframe thead th {\n",
       "        text-align: right;\n",
       "    }\n",
       "</style>\n",
       "<table border=\"1\" class=\"dataframe\">\n",
       "  <thead>\n",
       "    <tr style=\"text-align: right;\">\n",
       "      <th></th>\n",
       "      <th>estab</th>\n",
       "      <th>estab_f</th>\n",
       "      <th>naics</th>\n",
       "      <th>year</th>\n",
       "      <th>State</th>\n",
       "      <th>fips_state</th>\n",
       "      <th>fips_county</th>\n",
       "      <th>name</th>\n",
       "      <th>STATE</th>\n",
       "      <th>COUNTY</th>\n",
       "      <th>STNAME</th>\n",
       "      <th>CTYNAME</th>\n",
       "      <th>population</th>\n",
       "      <th>pct</th>\n",
       "    </tr>\n",
       "  </thead>\n",
       "  <tbody>\n",
       "    <tr>\n",
       "      <th>0</th>\n",
       "      <td>42</td>\n",
       "      <td>NaN</td>\n",
       "      <td>11411</td>\n",
       "      <td>2010</td>\n",
       "      <td>CA</td>\n",
       "      <td>6</td>\n",
       "      <td>1</td>\n",
       "      <td>Alameda County</td>\n",
       "      <td>6</td>\n",
       "      <td>1</td>\n",
       "      <td>California</td>\n",
       "      <td>Alameda County</td>\n",
       "      <td>1513402</td>\n",
       "      <td>0.000028</td>\n",
       "    </tr>\n",
       "    <tr>\n",
       "      <th>1</th>\n",
       "      <td>71</td>\n",
       "      <td>NaN</td>\n",
       "      <td>11411</td>\n",
       "      <td>2011</td>\n",
       "      <td>CA</td>\n",
       "      <td>6</td>\n",
       "      <td>1</td>\n",
       "      <td>Alameda County</td>\n",
       "      <td>6</td>\n",
       "      <td>1</td>\n",
       "      <td>California</td>\n",
       "      <td>Alameda County</td>\n",
       "      <td>1532215</td>\n",
       "      <td>0.000046</td>\n",
       "    </tr>\n",
       "    <tr>\n",
       "      <th>2</th>\n",
       "      <td>63</td>\n",
       "      <td>NaN</td>\n",
       "      <td>11411</td>\n",
       "      <td>2012</td>\n",
       "      <td>CA</td>\n",
       "      <td>6</td>\n",
       "      <td>1</td>\n",
       "      <td>Alameda County</td>\n",
       "      <td>6</td>\n",
       "      <td>1</td>\n",
       "      <td>California</td>\n",
       "      <td>Alameda County</td>\n",
       "      <td>1556648</td>\n",
       "      <td>0.000040</td>\n",
       "    </tr>\n",
       "    <tr>\n",
       "      <th>3</th>\n",
       "      <td>65</td>\n",
       "      <td>NaN</td>\n",
       "      <td>11411</td>\n",
       "      <td>2013</td>\n",
       "      <td>CA</td>\n",
       "      <td>6</td>\n",
       "      <td>1</td>\n",
       "      <td>Alameda County</td>\n",
       "      <td>6</td>\n",
       "      <td>1</td>\n",
       "      <td>California</td>\n",
       "      <td>Alameda County</td>\n",
       "      <td>1582936</td>\n",
       "      <td>0.000041</td>\n",
       "    </tr>\n",
       "    <tr>\n",
       "      <th>4</th>\n",
       "      <td>64</td>\n",
       "      <td>NaN</td>\n",
       "      <td>11411</td>\n",
       "      <td>2014</td>\n",
       "      <td>CA</td>\n",
       "      <td>6</td>\n",
       "      <td>1</td>\n",
       "      <td>Alameda County</td>\n",
       "      <td>6</td>\n",
       "      <td>1</td>\n",
       "      <td>California</td>\n",
       "      <td>Alameda County</td>\n",
       "      <td>1611572</td>\n",
       "      <td>0.000040</td>\n",
       "    </tr>\n",
       "  </tbody>\n",
       "</table>\n",
       "</div>"
      ],
      "text/plain": [
       "   estab estab_f  naics  year State  fips_state  fips_county            name  \\\n",
       "0     42     NaN  11411  2010    CA           6            1  Alameda County   \n",
       "1     71     NaN  11411  2011    CA           6            1  Alameda County   \n",
       "2     63     NaN  11411  2012    CA           6            1  Alameda County   \n",
       "3     65     NaN  11411  2013    CA           6            1  Alameda County   \n",
       "4     64     NaN  11411  2014    CA           6            1  Alameda County   \n",
       "\n",
       "   STATE  COUNTY      STNAME         CTYNAME  population       pct  \n",
       "0      6       1  California  Alameda County     1513402  0.000028  \n",
       "1      6       1  California  Alameda County     1532215  0.000046  \n",
       "2      6       1  California  Alameda County     1556648  0.000040  \n",
       "3      6       1  California  Alameda County     1582936  0.000041  \n",
       "4      6       1  California  Alameda County     1611572  0.000040  "
      ]
     },
     "execution_count": 80,
     "metadata": {},
     "output_type": "execute_result"
    }
   ],
   "source": [
    "occupation_nes = pd.read_pickle(pickles+'nes_occupation.pkl')\n",
    "occupation_nes.head()"
   ]
  },
  {
   "cell_type": "code",
   "execution_count": 81,
   "metadata": {},
   "outputs": [
    {
     "data": {
      "text/html": [
       "<div>\n",
       "<style scoped>\n",
       "    .dataframe tbody tr th:only-of-type {\n",
       "        vertical-align: middle;\n",
       "    }\n",
       "\n",
       "    .dataframe tbody tr th {\n",
       "        vertical-align: top;\n",
       "    }\n",
       "\n",
       "    .dataframe thead th {\n",
       "        text-align: right;\n",
       "    }\n",
       "</style>\n",
       "<table border=\"1\" class=\"dataframe\">\n",
       "  <thead>\n",
       "    <tr style=\"text-align: right;\">\n",
       "      <th></th>\n",
       "      <th>area_fips</th>\n",
       "      <th>industry_code</th>\n",
       "      <th>agglvl_code</th>\n",
       "      <th>size_code</th>\n",
       "      <th>year</th>\n",
       "      <th>disclosure_code</th>\n",
       "      <th>annual_avg_estabs</th>\n",
       "      <th>annual_avg_emplvl</th>\n",
       "      <th>fips_county</th>\n",
       "      <th>fips_state</th>\n",
       "      <th>State</th>\n",
       "      <th>name</th>\n",
       "      <th>fips_class_code</th>\n",
       "      <th>STATE</th>\n",
       "      <th>COUNTY</th>\n",
       "      <th>STNAME</th>\n",
       "      <th>CTYNAME</th>\n",
       "      <th>population</th>\n",
       "      <th>estab_pct</th>\n",
       "      <th>emp_pct</th>\n",
       "    </tr>\n",
       "  </thead>\n",
       "  <tbody>\n",
       "    <tr>\n",
       "      <th>0</th>\n",
       "      <td>06007</td>\n",
       "      <td>11251</td>\n",
       "      <td>77</td>\n",
       "      <td>0</td>\n",
       "      <td>2013</td>\n",
       "      <td>N</td>\n",
       "      <td>1</td>\n",
       "      <td>0</td>\n",
       "      <td>7</td>\n",
       "      <td>6</td>\n",
       "      <td>CA</td>\n",
       "      <td>Butte County</td>\n",
       "      <td>H1</td>\n",
       "      <td>6</td>\n",
       "      <td>7</td>\n",
       "      <td>California</td>\n",
       "      <td>Butte County</td>\n",
       "      <td>221768</td>\n",
       "      <td>0.000005</td>\n",
       "      <td>0.000000</td>\n",
       "    </tr>\n",
       "    <tr>\n",
       "      <th>1</th>\n",
       "      <td>06015</td>\n",
       "      <td>11251</td>\n",
       "      <td>77</td>\n",
       "      <td>0</td>\n",
       "      <td>2013</td>\n",
       "      <td>N</td>\n",
       "      <td>1</td>\n",
       "      <td>0</td>\n",
       "      <td>15</td>\n",
       "      <td>6</td>\n",
       "      <td>CA</td>\n",
       "      <td>Del Norte County</td>\n",
       "      <td>H1</td>\n",
       "      <td>6</td>\n",
       "      <td>15</td>\n",
       "      <td>California</td>\n",
       "      <td>Del Norte County</td>\n",
       "      <td>27830</td>\n",
       "      <td>0.000036</td>\n",
       "      <td>0.000000</td>\n",
       "    </tr>\n",
       "    <tr>\n",
       "      <th>2</th>\n",
       "      <td>06015</td>\n",
       "      <td>11411</td>\n",
       "      <td>77</td>\n",
       "      <td>0</td>\n",
       "      <td>2013</td>\n",
       "      <td>NaN</td>\n",
       "      <td>39</td>\n",
       "      <td>81</td>\n",
       "      <td>15</td>\n",
       "      <td>6</td>\n",
       "      <td>CA</td>\n",
       "      <td>Del Norte County</td>\n",
       "      <td>H1</td>\n",
       "      <td>6</td>\n",
       "      <td>15</td>\n",
       "      <td>California</td>\n",
       "      <td>Del Norte County</td>\n",
       "      <td>27830</td>\n",
       "      <td>0.001401</td>\n",
       "      <td>0.002911</td>\n",
       "    </tr>\n",
       "    <tr>\n",
       "      <th>3</th>\n",
       "      <td>06019</td>\n",
       "      <td>11251</td>\n",
       "      <td>77</td>\n",
       "      <td>0</td>\n",
       "      <td>2013</td>\n",
       "      <td>N</td>\n",
       "      <td>4</td>\n",
       "      <td>0</td>\n",
       "      <td>19</td>\n",
       "      <td>6</td>\n",
       "      <td>CA</td>\n",
       "      <td>Fresno County</td>\n",
       "      <td>H1</td>\n",
       "      <td>6</td>\n",
       "      <td>19</td>\n",
       "      <td>California</td>\n",
       "      <td>Fresno County</td>\n",
       "      <td>953787</td>\n",
       "      <td>0.000004</td>\n",
       "      <td>0.000000</td>\n",
       "    </tr>\n",
       "    <tr>\n",
       "      <th>4</th>\n",
       "      <td>06023</td>\n",
       "      <td>11251</td>\n",
       "      <td>77</td>\n",
       "      <td>0</td>\n",
       "      <td>2013</td>\n",
       "      <td>NaN</td>\n",
       "      <td>6</td>\n",
       "      <td>19</td>\n",
       "      <td>23</td>\n",
       "      <td>6</td>\n",
       "      <td>CA</td>\n",
       "      <td>Humboldt County</td>\n",
       "      <td>H1</td>\n",
       "      <td>6</td>\n",
       "      <td>23</td>\n",
       "      <td>California</td>\n",
       "      <td>Humboldt County</td>\n",
       "      <td>134444</td>\n",
       "      <td>0.000045</td>\n",
       "      <td>0.000141</td>\n",
       "    </tr>\n",
       "  </tbody>\n",
       "</table>\n",
       "</div>"
      ],
      "text/plain": [
       "  area_fips  industry_code  agglvl_code  size_code  year disclosure_code  \\\n",
       "0     06007          11251           77          0  2013               N   \n",
       "1     06015          11251           77          0  2013               N   \n",
       "2     06015          11411           77          0  2013             NaN   \n",
       "3     06019          11251           77          0  2013               N   \n",
       "4     06023          11251           77          0  2013             NaN   \n",
       "\n",
       "   annual_avg_estabs  annual_avg_emplvl  fips_county  fips_state State  \\\n",
       "0                  1                  0            7           6    CA   \n",
       "1                  1                  0           15           6    CA   \n",
       "2                 39                 81           15           6    CA   \n",
       "3                  4                  0           19           6    CA   \n",
       "4                  6                 19           23           6    CA   \n",
       "\n",
       "               name fips_class_code  STATE  COUNTY      STNAME  \\\n",
       "0      Butte County              H1      6       7  California   \n",
       "1  Del Norte County              H1      6      15  California   \n",
       "2  Del Norte County              H1      6      15  California   \n",
       "3     Fresno County              H1      6      19  California   \n",
       "4   Humboldt County              H1      6      23  California   \n",
       "\n",
       "            CTYNAME  population  estab_pct   emp_pct  \n",
       "0      Butte County      221768   0.000005  0.000000  \n",
       "1  Del Norte County       27830   0.000036  0.000000  \n",
       "2  Del Norte County       27830   0.001401  0.002911  \n",
       "3     Fresno County      953787   0.000004  0.000000  \n",
       "4   Humboldt County      134444   0.000045  0.000141  "
      ]
     },
     "execution_count": 81,
     "metadata": {},
     "output_type": "execute_result"
    }
   ],
   "source": [
    "occupation_qcew = pd.read_pickle(pickles+'qcew_occupation.pkl')\n",
    "occupation_qcew.head()"
   ]
  },
  {
   "cell_type": "code",
   "execution_count": 82,
   "metadata": {},
   "outputs": [
    {
     "data": {
      "text/html": [
       "<div>\n",
       "<style scoped>\n",
       "    .dataframe tbody tr th:only-of-type {\n",
       "        vertical-align: middle;\n",
       "    }\n",
       "\n",
       "    .dataframe tbody tr th {\n",
       "        vertical-align: top;\n",
       "    }\n",
       "\n",
       "    .dataframe thead th {\n",
       "        text-align: right;\n",
       "    }\n",
       "</style>\n",
       "<table border=\"1\" class=\"dataframe\">\n",
       "  <thead>\n",
       "    <tr style=\"text-align: right;\">\n",
       "      <th></th>\n",
       "      <th>lat</th>\n",
       "      <th>lon</th>\n",
       "      <th>biomass</th>\n",
       "      <th>geometry</th>\n",
       "    </tr>\n",
       "  </thead>\n",
       "  <tbody>\n",
       "    <tr>\n",
       "      <th>0</th>\n",
       "      <td>32.519277</td>\n",
       "      <td>-117.142836</td>\n",
       "      <td>265.0</td>\n",
       "      <td>POINT (32.51927713 -117.1428356)</td>\n",
       "    </tr>\n",
       "    <tr>\n",
       "      <th>1</th>\n",
       "      <td>32.519547</td>\n",
       "      <td>-117.143155</td>\n",
       "      <td>635.0</td>\n",
       "      <td>POINT (32.5195474 -117.1431554)</td>\n",
       "    </tr>\n",
       "    <tr>\n",
       "      <th>2</th>\n",
       "      <td>32.519548</td>\n",
       "      <td>-117.142836</td>\n",
       "      <td>275.0</td>\n",
       "      <td>POINT (32.51954776 -117.142836)</td>\n",
       "    </tr>\n",
       "    <tr>\n",
       "      <th>3</th>\n",
       "      <td>32.519548</td>\n",
       "      <td>-117.142197</td>\n",
       "      <td>272.0</td>\n",
       "      <td>POINT (32.51954849 -117.1421972)</td>\n",
       "    </tr>\n",
       "    <tr>\n",
       "      <th>4</th>\n",
       "      <td>32.519818</td>\n",
       "      <td>-117.143156</td>\n",
       "      <td>565.0</td>\n",
       "      <td>POINT (32.51981803 -117.1431559)</td>\n",
       "    </tr>\n",
       "  </tbody>\n",
       "</table>\n",
       "</div>"
      ],
      "text/plain": [
       "         lat         lon  biomass                          geometry\n",
       "0  32.519277 -117.142836    265.0  POINT (32.51927713 -117.1428356)\n",
       "1  32.519547 -117.143155    635.0   POINT (32.5195474 -117.1431554)\n",
       "2  32.519548 -117.142836    275.0   POINT (32.51954776 -117.142836)\n",
       "3  32.519548 -117.142197    272.0  POINT (32.51954849 -117.1421972)\n",
       "4  32.519818 -117.143156    565.0  POINT (32.51981803 -117.1431559)"
      ]
     },
     "execution_count": 82,
     "metadata": {},
     "output_type": "execute_result"
    }
   ],
   "source": [
    "#in lat lon format\n",
    "kelp_biomass =pd.read_pickle(pickles+'kelp_biomass.pkl')\n",
    "kelp_biomass.head()"
   ]
  },
  {
   "cell_type": "code",
   "execution_count": 83,
   "metadata": {},
   "outputs": [
    {
     "data": {
      "text/html": [
       "<div>\n",
       "<style scoped>\n",
       "    .dataframe tbody tr th:only-of-type {\n",
       "        vertical-align: middle;\n",
       "    }\n",
       "\n",
       "    .dataframe tbody tr th {\n",
       "        vertical-align: top;\n",
       "    }\n",
       "\n",
       "    .dataframe thead th {\n",
       "        text-align: right;\n",
       "    }\n",
       "</style>\n",
       "<table border=\"1\" class=\"dataframe\">\n",
       "  <thead>\n",
       "    <tr style=\"text-align: right;\">\n",
       "      <th></th>\n",
       "      <th>lat_bnds</th>\n",
       "      <th>lon_bnds</th>\n",
       "      <th>lat</th>\n",
       "      <th>lon</th>\n",
       "      <th>analysed_sst</th>\n",
       "      <th>max_temp</th>\n",
       "      <th>min_temp</th>\n",
       "    </tr>\n",
       "  </thead>\n",
       "  <tbody>\n",
       "    <tr>\n",
       "      <th>699105</th>\n",
       "      <td>31.25</td>\n",
       "      <td>-124.75</td>\n",
       "      <td>31.25</td>\n",
       "      <td>-124.75</td>\n",
       "      <td>16.904609</td>\n",
       "      <td>19.409998</td>\n",
       "      <td>15.029993</td>\n",
       "    </tr>\n",
       "    <tr>\n",
       "      <th>699106</th>\n",
       "      <td>31.25</td>\n",
       "      <td>-124.50</td>\n",
       "      <td>31.25</td>\n",
       "      <td>-124.50</td>\n",
       "      <td>16.886531</td>\n",
       "      <td>19.200006</td>\n",
       "      <td>15.059991</td>\n",
       "    </tr>\n",
       "    <tr>\n",
       "      <th>699107</th>\n",
       "      <td>31.25</td>\n",
       "      <td>-124.25</td>\n",
       "      <td>31.25</td>\n",
       "      <td>-124.25</td>\n",
       "      <td>16.896147</td>\n",
       "      <td>18.969995</td>\n",
       "      <td>15.149988</td>\n",
       "    </tr>\n",
       "    <tr>\n",
       "      <th>699108</th>\n",
       "      <td>31.25</td>\n",
       "      <td>-124.00</td>\n",
       "      <td>31.25</td>\n",
       "      <td>-124.00</td>\n",
       "      <td>16.901529</td>\n",
       "      <td>18.829980</td>\n",
       "      <td>15.219995</td>\n",
       "    </tr>\n",
       "    <tr>\n",
       "      <th>699109</th>\n",
       "      <td>31.25</td>\n",
       "      <td>-123.75</td>\n",
       "      <td>31.25</td>\n",
       "      <td>-123.75</td>\n",
       "      <td>16.878454</td>\n",
       "      <td>18.809991</td>\n",
       "      <td>15.049982</td>\n",
       "    </tr>\n",
       "  </tbody>\n",
       "</table>\n",
       "</div>"
      ],
      "text/plain": [
       "        lat_bnds  lon_bnds    lat     lon  analysed_sst   max_temp   min_temp\n",
       "699105     31.25   -124.75  31.25 -124.75     16.904609  19.409998  15.029993\n",
       "699106     31.25   -124.50  31.25 -124.50     16.886531  19.200006  15.059991\n",
       "699107     31.25   -124.25  31.25 -124.25     16.896147  18.969995  15.149988\n",
       "699108     31.25   -124.00  31.25 -124.00     16.901529  18.829980  15.219995\n",
       "699109     31.25   -123.75  31.25 -123.75     16.878454  18.809991  15.049982"
      ]
     },
     "execution_count": 83,
     "metadata": {},
     "output_type": "execute_result"
    }
   ],
   "source": [
    "#will be converted to lon lat format\n",
    "sst = pd.read_pickle(pickles+'sst_ca.pkl')\n",
    "sst.head()"
   ]
  },
  {
   "cell_type": "markdown",
   "metadata": {},
   "source": [
    "# Create grid of California"
   ]
  },
  {
   "cell_type": "code",
   "execution_count": 23,
   "metadata": {},
   "outputs": [],
   "source": [
    "def squarify(point, increment):\n",
    "    return Polygon([(point[0], point[1]),\n",
    "     (point[0] + increment, point[1]), \n",
    "     (point[0] + increment, point[1] + increment), \n",
    "     (point[0], point[1] + increment)])\n",
    "\n",
    "def desquarify(left_vertices, right_vertices, square_length):\n",
    "    x_num = round((right_vertices[0] - left_vertices[0])/square_length, 0)\n",
    "    y_num = round((right_vertices[1] - left_vertices[1])/square_length, 0)\n",
    "    x_lengths = np.linspace(left_vertices[0], right_vertices[0]-square_length, x_num)\n",
    "    y_lengths = np.linspace(left_vertices[1], right_vertices[1]-square_length, y_num)\n",
    "    return [p for p in product(x_lengths, y_lengths)]"
   ]
  },
  {
   "cell_type": "code",
   "execution_count": 36,
   "metadata": {},
   "outputs": [
    {
     "name": "stderr",
     "output_type": "stream",
     "text": [
      "/home/clay/anaconda3/lib/python3.6/site-packages/ipykernel_launcher.py:10: DeprecationWarning: object of type <class 'float'> cannot be safely interpreted as an integer.\n",
      "  # Remove the CWD from sys.path while we load stuff.\n",
      "/home/clay/anaconda3/lib/python3.6/site-packages/ipykernel_launcher.py:11: DeprecationWarning: object of type <class 'float'> cannot be safely interpreted as an integer.\n",
      "  # This is added back by InteractiveShellApp.init_path()\n"
     ]
    }
   ],
   "source": [
    "#create vertices for California\n",
    "#roughly the bounds of california going out 8km past cape mendocino\n",
    "width = .1\n",
    "grid_bottomleft_vertices = desquarify((32.534343,-124.511849),(42.00,-117.123885), width)\n",
    "grid = [squarify(i, width) for i in grid_bottomleft_vertices]"
   ]
  },
  {
   "cell_type": "code",
   "execution_count": 37,
   "metadata": {},
   "outputs": [
    {
     "name": "stdout",
     "output_type": "stream",
     "text": [
      "[(32.534343, -124.511849), (32.534343, -124.41201387671232), (32.534343, -124.31217875342466)]\n",
      "POLYGON ((32.534343 -124.511849, 32.634343 -124.511849, 32.634343 -124.411849, 32.534343 -124.411849, 32.534343 -124.511849))\n"
     ]
    },
    {
     "data": {
      "image/svg+xml": [
       "<svg xmlns=\"http://www.w3.org/2000/svg\" xmlns:xlink=\"http://www.w3.org/1999/xlink\" width=\"100.0\" height=\"100.0\" viewBox=\"32.530343 -124.515849 0.10799999999999699 0.10800000000000409\" preserveAspectRatio=\"xMinYMin meet\"><g transform=\"matrix(1,0,0,-1,0,-248.923698)\"><path fill-rule=\"evenodd\" fill=\"#66cc99\" stroke=\"#555555\" stroke-width=\"0.002160000000000082\" opacity=\"0.6\" d=\"M 32.534343,-124.511849 L 32.634343,-124.511849 L 32.634343,-124.411849 L 32.534343,-124.411849 L 32.534343,-124.511849 z\" /></g></svg>"
      ],
      "text/plain": [
       "<shapely.geometry.polygon.Polygon at 0x7fdf106a2630>"
      ]
     },
     "execution_count": 37,
     "metadata": {},
     "output_type": "execute_result"
    }
   ],
   "source": [
    "print(grid_bottomleft_vertices[:3])\n",
    "print(grid[0])\n",
    "grid[0]"
   ]
  },
  {
   "cell_type": "code",
   "execution_count": 40,
   "metadata": {},
   "outputs": [],
   "source": [
    "grid_df = gpd.GeoDataFrame(geometry=grid, crs = {'init' : 'epsg:4326'})\n",
    "grid_df[\"polygon_id\"] = range(len(grid))"
   ]
  },
  {
   "cell_type": "markdown",
   "metadata": {},
   "source": [
    "# Combine Data"
   ]
  },
  {
   "cell_type": "code",
   "execution_count": 63,
   "metadata": {},
   "outputs": [
    {
     "name": "stdout",
     "output_type": "stream",
     "text": [
      "0      POLYGON ((-122.511983 37.77113, -122.465396 37...\n",
      "705    POLYGON ((-122.317682 37.186945, -122.152774 3...\n",
      "713    POLYGON ((-120.315068 35.907186, -119.959058 3...\n",
      "Name: geometry, dtype: object\n"
     ]
    },
    {
     "data": {
      "text/plain": [
       "<matplotlib.axes._subplots.AxesSubplot at 0x7fdf063e1438>"
      ]
     },
     "execution_count": 63,
     "metadata": {},
     "output_type": "execute_result"
    },
    {
     "data": {
      "image/png": "[encoded data removed]",
      "text/plain": [
       "<matplotlib.figure.Figure at 0x7fdf064826d8>"
      ]
     },
     "metadata": {},
     "output_type": "display_data"
    }
   ],
   "source": [
    "print(ca_counties.geometry[0:3])\n",
    "ca_counties.plot()"
   ]
  },
  {
   "cell_type": "code",
   "execution_count": 48,
   "metadata": {},
   "outputs": [
    {
     "data": {
      "text/plain": [
       "<matplotlib.axes._subplots.AxesSubplot at 0x7fdf065fc860>"
      ]
     },
     "execution_count": 48,
     "metadata": {},
     "output_type": "execute_result"
    },
    {
     "data": {
      "image/png": "[encoded data removed]",
      "text/plain": [
       "<matplotlib.figure.Figure at 0x7fdf065f2a58>"
      ]
     },
     "metadata": {},
     "output_type": "display_data"
    }
   ],
   "source": [
    "grid_df.plot()"
   ]
  },
  {
   "cell_type": "code",
   "execution_count": null,
   "metadata": {},
   "outputs": [],
   "source": []
  }
 ],
 "metadata": {
  "kernelspec": {
   "display_name": "Python 3",
   "language": "python",
   "name": "python3"
  },
  "language_info": {
   "codemirror_mode": {
    "name": "ipython",
    "version": 3
   },
   "file_extension": ".py",
   "mimetype": "text/x-python",
   "name": "python",
   "nbconvert_exporter": "python",
   "pygments_lexer": "ipython3",
   "version": "3.6.4"
  }
 },
 "nbformat": 4,
 "nbformat_minor": 2
}
