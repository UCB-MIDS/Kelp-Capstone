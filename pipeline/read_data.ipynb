{
 "cells": [
  {
   "cell_type": "code",
   "execution_count": 1,
   "metadata": {},
   "outputs": [],
   "source": [
    "import matplotlib.pyplot as plt\n",
    "import numpy as np\n",
    "import pandas as pd\n",
    "import geopandas as gpd\n",
    "from osgeo import gdal, ogr\n",
    "from netCDF4 import Dataset\n",
    "import rasterio\n",
    "import xarray as xr\n",
    "import os, os.path\n",
    "from shapely.geometry import Polygon, Point, LineString, MultiPolygon\n",
    "from math import radians, sin, cos, asin, sqrt, atan2\n",
    "import re\n",
    "import csv\n",
    "from itertools import product\n",
    "import fiona\n",
    "\n",
    "%matplotlib inline\n",
    "directory = '../data'\n",
    "\n",
    "eez = 5.556"
   ]
  },
  {
   "cell_type": "markdown",
   "metadata": {},
   "source": [
    "# Read SST"
   ]
  },
  {
   "cell_type": "code",
   "execution_count": 72,
   "metadata": {},
   "outputs": [
    {
     "name": "stdout",
     "output_type": "stream",
     "text": [
      "(33177600, 10)\n",
      "-89.875 89.875 -179.875 179.875\n",
      "(11296, 3)\n"
     ]
    },
    {
     "data": {
      "text/html": [
       "<div>\n",
       "<style scoped>\n",
       "    .dataframe tbody tr th:only-of-type {\n",
       "        vertical-align: middle;\n",
       "    }\n",
       "\n",
       "    .dataframe tbody tr th {\n",
       "        vertical-align: top;\n",
       "    }\n",
       "\n",
       "    .dataframe thead th {\n",
       "        text-align: right;\n",
       "    }\n",
       "</style>\n",
       "<table border=\"1\" class=\"dataframe\">\n",
       "  <thead>\n",
       "    <tr style=\"text-align: right;\">\n",
       "      <th></th>\n",
       "      <th>lat_bnds</th>\n",
       "      <th>lon_bnds</th>\n",
       "      <th>analysed_sst</th>\n",
       "    </tr>\n",
       "  </thead>\n",
       "  <tbody>\n",
       "    <tr>\n",
       "      <th>1411648</th>\n",
       "      <td>32.50</td>\n",
       "      <td>-124.00</td>\n",
       "      <td>18.529993</td>\n",
       "    </tr>\n",
       "    <tr>\n",
       "      <th>1411649</th>\n",
       "      <td>32.75</td>\n",
       "      <td>-123.75</td>\n",
       "      <td>18.529993</td>\n",
       "    </tr>\n",
       "    <tr>\n",
       "      <th>1411650</th>\n",
       "      <td>32.50</td>\n",
       "      <td>-123.75</td>\n",
       "      <td>18.559991</td>\n",
       "    </tr>\n",
       "    <tr>\n",
       "      <th>1411651</th>\n",
       "      <td>32.75</td>\n",
       "      <td>-123.50</td>\n",
       "      <td>18.559991</td>\n",
       "    </tr>\n",
       "    <tr>\n",
       "      <th>1411652</th>\n",
       "      <td>32.50</td>\n",
       "      <td>-123.50</td>\n",
       "      <td>18.559991</td>\n",
       "    </tr>\n",
       "  </tbody>\n",
       "</table>\n",
       "</div>"
      ],
      "text/plain": [
       "         lat_bnds  lon_bnds  analysed_sst\n",
       "1411648     32.50   -124.00     18.529993\n",
       "1411649     32.75   -123.75     18.529993\n",
       "1411650     32.50   -123.75     18.559991\n",
       "1411651     32.75   -123.50     18.559991\n",
       "1411652     32.50   -123.50     18.559991"
      ]
     },
     "execution_count": 72,
     "metadata": {},
     "output_type": "execute_result"
    }
   ],
   "source": [
    "#https://www1.ncdc.noaa.gov/pub/data/cmb/ersst/v5/netcdf/\n",
    "#sst = xr.open_dataset(directory+\"/temp/global/ersst/ersst.v5.201805.nc\").to_dataframe()\n",
    "#sst.reset_index(inplace=True)\n",
    "\n",
    "#better data than above\n",
    "#gathered two data points for each month (Oct - May?) to get a general feel for the temp in this growth/harvest period\n",
    "filelist = os.listdir(\"../data/temp/global/oisst\") \n",
    "df_list = [xr.open_dataset('../data/temp/global/oisst/'+file).to_dataframe() for file in filelist]\n",
    "oisst = pd.concat(df_list)\n",
    "oisst.reset_index(inplace=True)\n",
    "oisst['analysed_sst'] -= 273.15\n",
    "print(oisst.shape)\n",
    "print(min(oisst.lat), max(oisst.lat),min(oisst.lon),max(oisst.lon))\n",
    "oisst = oisst[(oisst.lat >32.4) & (oisst.lat <=42.3) & (oisst.lon >= -124) & (oisst.lon <=-117)]\n",
    "oisst.drop(['time','mask','sea_ice_fraction','lat','lon','analysis_error','nv'],\\\n",
    "               axis=1, inplace=True)\n",
    "oisst = oisst[np.isfinite(oisst['analysed_sst'])]\n",
    "print(oisst.shape)\n",
    "oisst.head()"
   ]
  },
  {
   "cell_type": "code",
   "execution_count": 73,
   "metadata": {},
   "outputs": [
    {
     "name": "stdout",
     "output_type": "stream",
     "text": [
      "(410, 3)\n"
     ]
    },
    {
     "data": {
      "text/html": [
       "<div>\n",
       "<style scoped>\n",
       "    .dataframe tbody tr th:only-of-type {\n",
       "        vertical-align: middle;\n",
       "    }\n",
       "\n",
       "    .dataframe tbody tr th {\n",
       "        vertical-align: top;\n",
       "    }\n",
       "\n",
       "    .dataframe thead th {\n",
       "        text-align: right;\n",
       "    }\n",
       "</style>\n",
       "<table border=\"1\" class=\"dataframe\">\n",
       "  <thead>\n",
       "    <tr style=\"text-align: right;\">\n",
       "      <th></th>\n",
       "      <th>lat_bnds</th>\n",
       "      <th>lon_bnds</th>\n",
       "      <th>mean_temp</th>\n",
       "    </tr>\n",
       "  </thead>\n",
       "  <tbody>\n",
       "    <tr>\n",
       "      <th>0</th>\n",
       "      <td>32.5</td>\n",
       "      <td>-124.00</td>\n",
       "      <td>16.686864</td>\n",
       "    </tr>\n",
       "    <tr>\n",
       "      <th>1</th>\n",
       "      <td>32.5</td>\n",
       "      <td>-123.75</td>\n",
       "      <td>16.615615</td>\n",
       "    </tr>\n",
       "    <tr>\n",
       "      <th>2</th>\n",
       "      <td>32.5</td>\n",
       "      <td>-123.50</td>\n",
       "      <td>16.574993</td>\n",
       "    </tr>\n",
       "    <tr>\n",
       "      <th>3</th>\n",
       "      <td>32.5</td>\n",
       "      <td>-123.25</td>\n",
       "      <td>16.543119</td>\n",
       "    </tr>\n",
       "    <tr>\n",
       "      <th>4</th>\n",
       "      <td>32.5</td>\n",
       "      <td>-123.00</td>\n",
       "      <td>16.536871</td>\n",
       "    </tr>\n",
       "  </tbody>\n",
       "</table>\n",
       "</div>"
      ],
      "text/plain": [
       "   lat_bnds  lon_bnds  mean_temp\n",
       "0      32.5   -124.00  16.686864\n",
       "1      32.5   -123.75  16.615615\n",
       "2      32.5   -123.50  16.574993\n",
       "3      32.5   -123.25  16.543119\n",
       "4      32.5   -123.00  16.536871"
      ]
     },
     "execution_count": 73,
     "metadata": {},
     "output_type": "execute_result"
    }
   ],
   "source": [
    "#create mean, max, and min temps for the data\n",
    "mean_temps = oisst.groupby(['lat_bnds','lon_bnds']).mean()\n",
    "max_temps = oisst.groupby(['lat_bnds','lon_bnds']).max()\n",
    "min_temps = oisst.groupby(['lat_bnds','lon_bnds']).min()\n",
    "mean_temps.reset_index(inplace=True)\n",
    "max_temps.reset_index(inplace=True)\n",
    "min_temps.reset_index(inplace=True)\n",
    "max_temps['max_temp'] = max_temps.analysed_sst\n",
    "min_temps['min_temp'] = min_temps.analysed_sst\n",
    "mean_temps['mean_temp'] = mean_temps.analysed_sst\n",
    "max_temps.drop(['analysed_sst'], axis=1, inplace=True)\n",
    "min_temps.drop(['analysed_sst'], axis=1, inplace=True)\n",
    "mean_temps.drop(['analysed_sst'], axis=1, inplace=True)\n",
    "print(mean_temps.shape)\n",
    "mean_temps.head()"
   ]
  },
  {
   "cell_type": "code",
   "execution_count": 74,
   "metadata": {},
   "outputs": [],
   "source": [
    "#aggregate into one big df\n",
    "sst = mean_temps.merge(max_temps, on=[\"lat_bnds\",\"lon_bnds\"], how='inner')\\\n",
    "                         .merge(min_temps, on=[\"lat_bnds\",\"lon_bnds\"], how='inner')\n",
    "#create points from sst\n",
    "geom = sst.apply(lambda x : Point([x['lat_bnds'],x['lon_bnds']]), axis=1)\n",
    "sst.drop(['lat_bnds','lon_bnds'], axis=1, inplace=True)\n",
    "sst = gpd.GeoDataFrame(sst, crs = {'init' :'epsg:4326'}, geometry=geom)"
   ]
  },
  {
   "cell_type": "code",
   "execution_count": 75,
   "metadata": {},
   "outputs": [],
   "source": [
    "sst.head()\n",
    "sst.to_pickle('../data/pickles/sst_ca.pkl')"
   ]
  },
  {
   "cell_type": "code",
   "execution_count": 4,
   "metadata": {},
   "outputs": [
    {
     "ename": "NameError",
     "evalue": "name 'sst_overview' is not defined",
     "output_type": "error",
     "traceback": [
      "\u001b[0;31m---------------------------------------------------------------------------\u001b[0m",
      "\u001b[0;31mNameError\u001b[0m                                 Traceback (most recent call last)",
      "\u001b[0;32m<ipython-input-4-ce0284a74798>\u001b[0m in \u001b[0;36m<module>\u001b[0;34m()\u001b[0m\n\u001b[1;32m      2\u001b[0m \u001b[0mlat\u001b[0m \u001b[0;34m=\u001b[0m \u001b[0;36m35.863\u001b[0m\u001b[0;34m\u001b[0m\u001b[0m\n\u001b[1;32m      3\u001b[0m \u001b[0mlon\u001b[0m \u001b[0;34m=\u001b[0m \u001b[0;34m-\u001b[0m\u001b[0;36m133.72\u001b[0m\u001b[0;34m\u001b[0m\u001b[0m\n\u001b[0;32m----> 4\u001b[0;31m \u001b[0mvertices\u001b[0m \u001b[0;34m=\u001b[0m \u001b[0;34m(\u001b[0m\u001b[0msst_overview\u001b[0m\u001b[0;34m.\u001b[0m\u001b[0miloc\u001b[0m\u001b[0;34m[\u001b[0m\u001b[0mnp\u001b[0m\u001b[0;34m.\u001b[0m\u001b[0msqrt\u001b[0m\u001b[0;34m(\u001b[0m\u001b[0;34m(\u001b[0m\u001b[0msst_overview\u001b[0m\u001b[0;34m.\u001b[0m\u001b[0mlon_bnds\u001b[0m\u001b[0;34m-\u001b[0m\u001b[0mlon\u001b[0m\u001b[0;34m)\u001b[0m\u001b[0;34m**\u001b[0m\u001b[0;36m2\u001b[0m\u001b[0;34m+\u001b[0m\u001b[0;34m(\u001b[0m\u001b[0msst_overview\u001b[0m\u001b[0;34m.\u001b[0m\u001b[0mlat_bnds\u001b[0m\u001b[0;34m-\u001b[0m\u001b[0mlat\u001b[0m\u001b[0;34m)\u001b[0m\u001b[0;34m**\u001b[0m\u001b[0;36m2\u001b[0m\u001b[0;34m)\u001b[0m\u001b[0;34m.\u001b[0m\u001b[0margsort\u001b[0m\u001b[0;34m(\u001b[0m\u001b[0;34m)\u001b[0m\u001b[0;34m[\u001b[0m\u001b[0;34m:\u001b[0m\u001b[0;36m3\u001b[0m\u001b[0;34m]\u001b[0m\u001b[0;34m]\u001b[0m\u001b[0;34m)\u001b[0m\u001b[0;34m\u001b[0m\u001b[0m\n\u001b[0m\u001b[1;32m      5\u001b[0m \u001b[0mvertices\u001b[0m\u001b[0;34m.\u001b[0m\u001b[0mreset_index\u001b[0m\u001b[0;34m(\u001b[0m\u001b[0mdrop\u001b[0m\u001b[0;34m=\u001b[0m\u001b[0;32mTrue\u001b[0m\u001b[0;34m,\u001b[0m \u001b[0minplace\u001b[0m \u001b[0;34m=\u001b[0m \u001b[0;32mTrue\u001b[0m\u001b[0;34m)\u001b[0m\u001b[0;34m\u001b[0m\u001b[0m\n\u001b[1;32m      6\u001b[0m \u001b[0mprint\u001b[0m\u001b[0;34m(\u001b[0m\u001b[0mvertices\u001b[0m\u001b[0;34m)\u001b[0m\u001b[0;34m\u001b[0m\u001b[0m\n",
      "\u001b[0;31mNameError\u001b[0m: name 'sst_overview' is not defined"
     ]
    }
   ],
   "source": [
    "#get values for a given point. We may want to do the kirging option instead of this.\n",
    "lat = 35.863\n",
    "lon = -133.72\n",
    "vertices = (sst_overview.iloc[np.sqrt((sst_overview.lon_bnds-lon)**2+(sst_overview.lat_bnds-lat)**2).argsort()[:3]])\n",
    "vertices.reset_index(drop=True, inplace = True)\n",
    "print(vertices)\n",
    "#set these to find out which row contains the closest pair along the lat/long axes.\n",
    "lat_pair = None\n",
    "lon_pair = None\n",
    "if vertices.iloc[0].lat_bnds == vertices.iloc[1].lat_bnds:\n",
    "    lat_diff = abs(vertices.iloc[0].lat_bnds - vertices.iloc[2].lat_bnds)\n",
    "    lon_diff = abs(vertices.iloc[0].lon_bnds - vertices.iloc[1].lon_bnds)\n",
    "    lat_pair = 1\n",
    "    long_pair = 2\n",
    "else:\n",
    "    lat_diff = abs(vertices.iloc[0].lat_bnds - vertices.iloc[1].lat_bnds)\n",
    "    lon_diff = abs(vertices.iloc[0].lon_bnds - vertices.iloc[2].lon_bnds)\n",
    "    lat_pair = 2\n",
    "    lon_pair = 1\n",
    "print(\"lat_diff: {}, lon_diff: {}\".format(lat_diff, lon_diff))\n",
    "\n",
    "point_lat_diff = round(abs(vertices.iloc[0].lat_bnds - lat),2)\n",
    "point_lon_diff = round(abs(vertices.iloc[0].lon_bnds - lon),2)\n",
    "print(\"point_lat_diff: {}, point_lon_diff: {}\".format(point_lat_diff, point_lon_diff))\n",
    "point_lat_pct = point_lat_diff/lat_diff\n",
    "point_lon_pct = point_lon_diff/lon_diff\n",
    "print(\"point_lat_pct: {}, point_lon_pct: {}\".format(point_lat_pct, point_lon_pct))\n",
    "\n",
    "lat_temp_diff = vertices.iloc[lat_pair] - vertices.iloc[0]\n",
    "lon_temp_diff = vertices.iloc[lon_pair] - vertices.iloc[0]\n",
    "\n",
    "point_lat_temp = lat_temp_diff*point_lat_pct\n",
    "point_lon_temp = lon_temp_diff*point_lon_pct\n",
    "#print(\"poin_lat_temp: {}, point_lon_temp: {}\".format(point_lat_temp, point_lon_temp))\n",
    "\n",
    "#take into account negative temperature changes\n",
    "length_fraction = (point_lat_temp + point_lon_temp)/(abs(point_lat_temp)+ abs(point_lon_temp))\n",
    "point_temp = vertices.iloc[0]+length_fraction*(np.sqrt(point_lat_temp**2+point_lon_temp**2))\n",
    "print(point_temp)\n"
   ]
  },
  {
   "cell_type": "markdown",
   "metadata": {},
   "source": [
    "# Read Bathymetry"
   ]
  },
  {
   "cell_type": "code",
   "execution_count": 7,
   "metadata": {},
   "outputs": [
    {
     "name": "stdout",
     "output_type": "stream",
     "text": [
      "max x: -117.0, min x: -128.0, max y :44.0 min y: 37.0\n"
     ]
    },
    {
     "data": {
      "text/html": [
       "<div>\n",
       "<style scoped>\n",
       "    .dataframe tbody tr th:only-of-type {\n",
       "        vertical-align: middle;\n",
       "    }\n",
       "\n",
       "    .dataframe tbody tr th {\n",
       "        vertical-align: top;\n",
       "    }\n",
       "\n",
       "    .dataframe thead th {\n",
       "        text-align: right;\n",
       "    }\n",
       "</style>\n",
       "<table border=\"1\" class=\"dataframe\">\n",
       "  <thead>\n",
       "    <tr style=\"text-align: right;\">\n",
       "      <th></th>\n",
       "      <th>x</th>\n",
       "      <th>y</th>\n",
       "      <th>z</th>\n",
       "    </tr>\n",
       "  </thead>\n",
       "  <tbody>\n",
       "    <tr>\n",
       "      <th>0</th>\n",
       "      <td>-128.0</td>\n",
       "      <td>37.000000</td>\n",
       "      <td>NaN</td>\n",
       "    </tr>\n",
       "    <tr>\n",
       "      <th>1</th>\n",
       "      <td>-128.0</td>\n",
       "      <td>37.000833</td>\n",
       "      <td>NaN</td>\n",
       "    </tr>\n",
       "    <tr>\n",
       "      <th>2</th>\n",
       "      <td>-128.0</td>\n",
       "      <td>37.001667</td>\n",
       "      <td>NaN</td>\n",
       "    </tr>\n",
       "    <tr>\n",
       "      <th>3</th>\n",
       "      <td>-128.0</td>\n",
       "      <td>37.002500</td>\n",
       "      <td>NaN</td>\n",
       "    </tr>\n",
       "    <tr>\n",
       "      <th>4</th>\n",
       "      <td>-128.0</td>\n",
       "      <td>37.003333</td>\n",
       "      <td>NaN</td>\n",
       "    </tr>\n",
       "  </tbody>\n",
       "</table>\n",
       "</div>"
      ],
      "text/plain": [
       "       x          y   z\n",
       "0 -128.0  37.000000 NaN\n",
       "1 -128.0  37.000833 NaN\n",
       "2 -128.0  37.001667 NaN\n",
       "3 -128.0  37.002500 NaN\n",
       "4 -128.0  37.003333 NaN"
      ]
     },
     "execution_count": 7,
     "metadata": {},
     "output_type": "execute_result"
    }
   ],
   "source": [
    "#bath = xr.open_dataset(\"../data/bathymetry/coastal_relief_maps/crm_vol7.nc\").to_dataframe()\n",
    "#bath.reset_index(inplace=True)\n",
    "#print(\"max x: {}, min x: {}, max y :{} min y: {}\".format(max(bath.x), min(bath.x), max(bath.y), min(bath.y)))\n",
    "#bath.head()"
   ]
  },
  {
   "cell_type": "code",
   "execution_count": 8,
   "metadata": {},
   "outputs": [
    {
     "data": {
      "text/plain": [
       "(110901601, 3)"
      ]
     },
     "execution_count": 8,
     "metadata": {},
     "output_type": "execute_result"
    }
   ],
   "source": [
    "#bath.shape (110901601, 3) \n",
    "#commented out in favor of the ETOPO1 model with lower resolution"
   ]
  },
  {
   "cell_type": "code",
   "execution_count": 24,
   "metadata": {},
   "outputs": [],
   "source": [
    "def haversine(p1,p2):\n",
    "    \"\"\"\n",
    "    Calculate the great circle distance between two points \n",
    "    on the earth (specified in decimal degrees).\n",
    "    Source: https://gis.stackexchange.com/a/56589/15183\n",
    "    \"\"\"\n",
    "    lon1 = p1[0]\n",
    "    lat1 = p1[1]\n",
    "    lon2 = p2[0]\n",
    "    lat2 = p2[1]\n",
    "    # convert decimal degrees to radians \n",
    "    lon1, lat1, lon2, lat2 = map(radians, [lon1, lat1, lon2, lat2])\n",
    "    # haversine formula \n",
    "    dlon = lon2 - lon1 \n",
    "    dlat = lat2 - lat1 \n",
    "    a = sin(dlat/2)**2 + cos(lat1) * cos(lat2) * sin(dlon/2)**2\n",
    "    c = 2 * asin(sqrt(a)) \n",
    "    km = 6373 * c\n",
    "    return km"
   ]
  },
  {
   "cell_type": "code",
   "execution_count": 25,
   "metadata": {},
   "outputs": [],
   "source": [
    "#just get the base distance for one point b/c this will be close to the the right scaling\n",
    "#add half a degee in lat and lon to get the second point\n",
    "def get_distance_ratio(shape):\n",
    "    p1 = list(shape.representative_point().coords)[0]\n",
    "    p2 = (p1[0]+0.5,p1[1]+0.5)\n",
    "    d_km = haversine(p1,p2)\n",
    "    #just get the base distance for one point b/c this will be close to the the right scaling for all p2s\n",
    "    base_coord_d=Point(p1).distance(Point(p2))\n",
    "    return d_km/base_coord_d"
   ]
  },
  {
   "cell_type": "code",
   "execution_count": 26,
   "metadata": {},
   "outputs": [],
   "source": [
    "def get_distance_to_object(shape, areas):\n",
    "    distance_ratio = get_distance_ratio(shape)\n",
    "    distance = np.min([shape.distance(i) for i in land.geometry])*distance_ratio\n",
    "    return distance"
   ]
  },
  {
   "cell_type": "code",
   "execution_count": 27,
   "metadata": {},
   "outputs": [],
   "source": [
    "#import state shapefiles\n",
    "states = gpd.read_file('../data/state_shapefiles/cb_2017_us_state_20m.shp')\n",
    "land = states[states['STATEFP'] == '06']\n",
    "# change the CRS\n",
    "land = land.set_geometry('geometry').to_crs({'init':'epsg:4326'})"
   ]
  },
  {
   "cell_type": "code",
   "execution_count": 28,
   "metadata": {},
   "outputs": [
    {
     "data": {
      "text/plain": [
       "(233312401, 3)"
      ]
     },
     "execution_count": 28,
     "metadata": {},
     "output_type": "execute_result"
    }
   ],
   "source": [
    "bath2 = xr.open_dataset(\"../../data/bathymetry/ETOPO1_Ice_g_gmt4.grd\").to_dataframe()\n",
    "bath2.reset_index(inplace = True)\n",
    "bath2.shape"
   ]
  },
  {
   "cell_type": "code",
   "execution_count": 29,
   "metadata": {},
   "outputs": [
    {
     "data": {
      "text/html": [
       "<div>\n",
       "<style scoped>\n",
       "    .dataframe tbody tr th:only-of-type {\n",
       "        vertical-align: middle;\n",
       "    }\n",
       "\n",
       "    .dataframe tbody tr th {\n",
       "        vertical-align: top;\n",
       "    }\n",
       "\n",
       "    .dataframe thead th {\n",
       "        text-align: right;\n",
       "    }\n",
       "</style>\n",
       "<table border=\"1\" class=\"dataframe\">\n",
       "  <thead>\n",
       "    <tr style=\"text-align: right;\">\n",
       "      <th></th>\n",
       "      <th>x</th>\n",
       "      <th>y</th>\n",
       "      <th>z</th>\n",
       "    </tr>\n",
       "  </thead>\n",
       "  <tbody>\n",
       "    <tr>\n",
       "      <th>0</th>\n",
       "      <td>-124.483333</td>\n",
       "      <td>32.500000</td>\n",
       "      <td>-4324.0</td>\n",
       "    </tr>\n",
       "    <tr>\n",
       "      <th>1</th>\n",
       "      <td>-124.483333</td>\n",
       "      <td>32.516667</td>\n",
       "      <td>-4331.0</td>\n",
       "    </tr>\n",
       "    <tr>\n",
       "      <th>2</th>\n",
       "      <td>-124.483333</td>\n",
       "      <td>32.533333</td>\n",
       "      <td>-4350.0</td>\n",
       "    </tr>\n",
       "    <tr>\n",
       "      <th>3</th>\n",
       "      <td>-124.483333</td>\n",
       "      <td>32.550000</td>\n",
       "      <td>-4368.0</td>\n",
       "    </tr>\n",
       "    <tr>\n",
       "      <th>4</th>\n",
       "      <td>-124.483333</td>\n",
       "      <td>32.566667</td>\n",
       "      <td>-4403.0</td>\n",
       "    </tr>\n",
       "  </tbody>\n",
       "</table>\n",
       "</div>"
      ],
      "text/plain": [
       "            x          y       z\n",
       "0 -124.483333  32.500000 -4324.0\n",
       "1 -124.483333  32.516667 -4331.0\n",
       "2 -124.483333  32.533333 -4350.0\n",
       "3 -124.483333  32.550000 -4368.0\n",
       "4 -124.483333  32.566667 -4403.0"
      ]
     },
     "execution_count": 29,
     "metadata": {},
     "output_type": "execute_result"
    }
   ],
   "source": [
    "bath_subset = bath2[(bath2['x'] > -124.5) & (bath2['x'] < -117) & (bath2['y'] >32.5) & (bath2['y']<42)]\n",
    "bath_subset.reset_index(inplace = True, drop=True)\n",
    "bath_subset.head()"
   ]
  },
  {
   "cell_type": "code",
   "execution_count": 37,
   "metadata": {},
   "outputs": [
    {
     "name": "stdout",
     "output_type": "stream",
     "text": [
      "(92615, 4)\n",
      "(5371, 5)\n"
     ]
    },
    {
     "name": "stderr",
     "output_type": "stream",
     "text": [
      "/home/clay/anaconda3/lib/python3.6/site-packages/ipykernel_launcher.py:7: SettingWithCopyWarning: \n",
      "A value is trying to be set on a copy of a slice from a DataFrame.\n",
      "Try using .loc[row_indexer,col_indexer] = value instead\n",
      "\n",
      "See the caveats in the documentation: http://pandas.pydata.org/pandas-docs/stable/indexing.html#indexing-view-versus-copy\n",
      "  import sys\n"
     ]
    },
    {
     "data": {
      "text/html": [
       "<div>\n",
       "<style scoped>\n",
       "    .dataframe tbody tr th:only-of-type {\n",
       "        vertical-align: middle;\n",
       "    }\n",
       "\n",
       "    .dataframe tbody tr th {\n",
       "        vertical-align: top;\n",
       "    }\n",
       "\n",
       "    .dataframe thead th {\n",
       "        text-align: right;\n",
       "    }\n",
       "</style>\n",
       "<table border=\"1\" class=\"dataframe\">\n",
       "  <thead>\n",
       "    <tr style=\"text-align: right;\">\n",
       "      <th></th>\n",
       "      <th>x</th>\n",
       "      <th>y</th>\n",
       "      <th>z</th>\n",
       "      <th>geometry</th>\n",
       "      <th>land_distance</th>\n",
       "    </tr>\n",
       "  </thead>\n",
       "  <tbody>\n",
       "    <tr>\n",
       "      <th>1614</th>\n",
       "      <td>-124.45</td>\n",
       "      <td>40.400000</td>\n",
       "      <td>-50.0</td>\n",
       "      <td>POINT (-124.45 40.40000000000003)</td>\n",
       "      <td>5.423784</td>\n",
       "    </tr>\n",
       "    <tr>\n",
       "      <th>1615</th>\n",
       "      <td>-124.45</td>\n",
       "      <td>40.416667</td>\n",
       "      <td>-38.0</td>\n",
       "      <td>POINT (-124.45 40.41666666666669)</td>\n",
       "      <td>4.514344</td>\n",
       "    </tr>\n",
       "    <tr>\n",
       "      <th>1616</th>\n",
       "      <td>-124.45</td>\n",
       "      <td>40.433333</td>\n",
       "      <td>-32.0</td>\n",
       "      <td>POINT (-124.45 40.43333333333336)</td>\n",
       "      <td>4.016070</td>\n",
       "    </tr>\n",
       "    <tr>\n",
       "      <th>1617</th>\n",
       "      <td>-124.45</td>\n",
       "      <td>40.450000</td>\n",
       "      <td>-29.0</td>\n",
       "      <td>POINT (-124.45 40.45000000000002)</td>\n",
       "      <td>4.158343</td>\n",
       "    </tr>\n",
       "    <tr>\n",
       "      <th>1618</th>\n",
       "      <td>-124.45</td>\n",
       "      <td>40.466667</td>\n",
       "      <td>-31.0</td>\n",
       "      <td>POINT (-124.45 40.46666666666669)</td>\n",
       "      <td>4.680793</td>\n",
       "    </tr>\n",
       "  </tbody>\n",
       "</table>\n",
       "</div>"
      ],
      "text/plain": [
       "           x          y     z                           geometry  \\\n",
       "1614 -124.45  40.400000 -50.0  POINT (-124.45 40.40000000000003)   \n",
       "1615 -124.45  40.416667 -38.0  POINT (-124.45 40.41666666666669)   \n",
       "1616 -124.45  40.433333 -32.0  POINT (-124.45 40.43333333333336)   \n",
       "1617 -124.45  40.450000 -29.0  POINT (-124.45 40.45000000000002)   \n",
       "1618 -124.45  40.466667 -31.0  POINT (-124.45 40.46666666666669)   \n",
       "\n",
       "      land_distance  \n",
       "1614       5.423784  \n",
       "1615       4.514344  \n",
       "1616       4.016070  \n",
       "1617       4.158343  \n",
       "1618       4.680793  "
      ]
     },
     "execution_count": 37,
     "metadata": {},
     "output_type": "execute_result"
    }
   ],
   "source": [
    "bath_geom = bath_subset.apply(lambda x : Point([x['x'],x['y']]), axis=1)\n",
    "bath_subset = gpd.GeoDataFrame(bath_subset, geometry = bath_geom, crs = {'init' : 'epsg:4326'})\n",
    "#bath_subset.drop(['x','y'], axis=1, inplace = True)\n",
    "ocean_bathymetry = bath_subset[bath_subset['z']<0]\n",
    "#ocean_bathymetry.plot(column='z')\n",
    "print(ocean_bathymetry.shape)\n",
    "ocean_bathymetry['land_distance'] = ocean_bathymetry.geometry.apply(lambda x: get_distance_to_object(x,land.geometry))\n",
    "ocean_bathymetry = ocean_bathymetry[ocean_bathymetry['land_distance']<eez]\n",
    "#ocean_bathymetry.drop(['land_distance'], axis=1, inplace = True)\n",
    "print(ocean_bathymetry.shape)\n",
    "ocean_bathymetry.head()"
   ]
  },
  {
   "cell_type": "code",
   "execution_count": 21,
   "metadata": {},
   "outputs": [],
   "source": [
    "ocean_bathymetry.to_pickle('../data/pickles/bathymetry.pkl')"
   ]
  },
  {
   "cell_type": "markdown",
   "metadata": {},
   "source": [
    "# Read critical species habitats"
   ]
  },
  {
   "cell_type": "code",
   "execution_count": 144,
   "metadata": {
    "scrolled": false
   },
   "outputs": [
    {
     "ename": "KeyboardInterrupt",
     "evalue": "",
     "output_type": "error",
     "traceback": [
      "\u001b[0;31m---------------------------------------------------------------------------\u001b[0m",
      "\u001b[0;31mKeyboardInterrupt\u001b[0m                         Traceback (most recent call last)",
      "\u001b[0;32m<ipython-input-144-55d22d406321>\u001b[0m in \u001b[0;36m<module>\u001b[0;34m()\u001b[0m\n\u001b[1;32m     33\u001b[0m \u001b[0mcrit_species_areas\u001b[0m \u001b[0;34m=\u001b[0m \u001b[0mcrit_species_areas\u001b[0m\u001b[0;34m.\u001b[0m\u001b[0mappend\u001b[0m\u001b[0;34m(\u001b[0m\u001b[0mgreen_sturgeon\u001b[0m\u001b[0;34m[\u001b[0m\u001b[0;34m[\u001b[0m\u001b[0;34m'species'\u001b[0m\u001b[0;34m,\u001b[0m\u001b[0;34m'geometry'\u001b[0m\u001b[0;34m]\u001b[0m\u001b[0;34m]\u001b[0m\u001b[0;34m,\u001b[0m \u001b[0mignore_index\u001b[0m\u001b[0;34m=\u001b[0m\u001b[0;32mTrue\u001b[0m\u001b[0;34m)\u001b[0m\u001b[0;34m\u001b[0m\u001b[0m\n\u001b[1;32m     34\u001b[0m \u001b[0;34m\u001b[0m\u001b[0m\n\u001b[0;32m---> 35\u001b[0;31m \u001b[0meelgrass\u001b[0m \u001b[0;34m=\u001b[0m \u001b[0mgpd\u001b[0m\u001b[0;34m.\u001b[0m\u001b[0mread_file\u001b[0m\u001b[0;34m(\u001b[0m\u001b[0;34m'../data/critical/california/eelgrass/HAB_CA_Eelgrass.shp'\u001b[0m\u001b[0;34m)\u001b[0m\u001b[0;34m\u001b[0m\u001b[0m\n\u001b[0m\u001b[1;32m     36\u001b[0m \u001b[0meelgrass\u001b[0m\u001b[0;34m.\u001b[0m\u001b[0mhead\u001b[0m\u001b[0;34m(\u001b[0m\u001b[0;34m)\u001b[0m\u001b[0;34m\u001b[0m\u001b[0m\n\u001b[1;32m     37\u001b[0m \u001b[0;34m\u001b[0m\u001b[0m\n",
      "\u001b[0;32m~/anaconda3/lib/python3.6/site-packages/geopandas/io/file.py\u001b[0m in \u001b[0;36mread_file\u001b[0;34m(filename, **kwargs)\u001b[0m\n\u001b[1;32m     24\u001b[0m         \u001b[0;32melse\u001b[0m\u001b[0;34m:\u001b[0m\u001b[0;34m\u001b[0m\u001b[0m\n\u001b[1;32m     25\u001b[0m             \u001b[0mf_filt\u001b[0m \u001b[0;34m=\u001b[0m \u001b[0mf\u001b[0m\u001b[0;34m\u001b[0m\u001b[0m\n\u001b[0;32m---> 26\u001b[0;31m         \u001b[0mgdf\u001b[0m \u001b[0;34m=\u001b[0m \u001b[0mGeoDataFrame\u001b[0m\u001b[0;34m.\u001b[0m\u001b[0mfrom_features\u001b[0m\u001b[0;34m(\u001b[0m\u001b[0mf_filt\u001b[0m\u001b[0;34m,\u001b[0m \u001b[0mcrs\u001b[0m\u001b[0;34m=\u001b[0m\u001b[0mcrs\u001b[0m\u001b[0;34m)\u001b[0m\u001b[0;34m\u001b[0m\u001b[0m\n\u001b[0m\u001b[1;32m     27\u001b[0m \u001b[0;34m\u001b[0m\u001b[0m\n\u001b[1;32m     28\u001b[0m         \u001b[0;31m# re-order with column order from metadata, with geometry last\u001b[0m\u001b[0;34m\u001b[0m\u001b[0;34m\u001b[0m\u001b[0m\n",
      "\u001b[0;32m~/anaconda3/lib/python3.6/site-packages/geopandas/geodataframe.py\u001b[0m in \u001b[0;36mfrom_features\u001b[0;34m(cls, features, crs)\u001b[0m\n\u001b[1;32m    207\u001b[0m \u001b[0;34m\u001b[0m\u001b[0m\n\u001b[1;32m    208\u001b[0m         \u001b[0mrows\u001b[0m \u001b[0;34m=\u001b[0m \u001b[0;34m[\u001b[0m\u001b[0;34m]\u001b[0m\u001b[0;34m\u001b[0m\u001b[0m\n\u001b[0;32m--> 209\u001b[0;31m         \u001b[0;32mfor\u001b[0m \u001b[0mf\u001b[0m \u001b[0;32min\u001b[0m \u001b[0mfeatures_lst\u001b[0m\u001b[0;34m:\u001b[0m\u001b[0;34m\u001b[0m\u001b[0m\n\u001b[0m\u001b[1;32m    210\u001b[0m             \u001b[0;32mif\u001b[0m \u001b[0mhasattr\u001b[0m\u001b[0;34m(\u001b[0m\u001b[0mf\u001b[0m\u001b[0;34m,\u001b[0m \u001b[0;34m\"__geo_interface__\"\u001b[0m\u001b[0;34m)\u001b[0m\u001b[0;34m:\u001b[0m\u001b[0;34m\u001b[0m\u001b[0m\n\u001b[1;32m    211\u001b[0m                 \u001b[0mf\u001b[0m \u001b[0;34m=\u001b[0m \u001b[0mf\u001b[0m\u001b[0;34m.\u001b[0m\u001b[0m__geo_interface__\u001b[0m\u001b[0;34m\u001b[0m\u001b[0m\n",
      "\u001b[0;32mfiona/ogrext.pyx\u001b[0m in \u001b[0;36mfiona.ogrext.Iterator.__next__\u001b[0;34m()\u001b[0m\n",
      "\u001b[0;32m~/anaconda3/lib/python3.6/site-packages/fiona/collection.py\u001b[0m in \u001b[0;36mdriver\u001b[0;34m(self)\u001b[0m\n\u001b[1;32m    178\u001b[0m             \u001b[0;32mraise\u001b[0m \u001b[0mDriverError\u001b[0m\u001b[0;34m(\u001b[0m\u001b[0;34m\"unsupported mode: %r\"\u001b[0m \u001b[0;34m%\u001b[0m \u001b[0mself\u001b[0m\u001b[0;34m.\u001b[0m\u001b[0mmode\u001b[0m\u001b[0;34m)\u001b[0m\u001b[0;34m\u001b[0m\u001b[0m\n\u001b[1;32m    179\u001b[0m \u001b[0;34m\u001b[0m\u001b[0m\n\u001b[0;32m--> 180\u001b[0;31m     \u001b[0;34m@\u001b[0m\u001b[0mproperty\u001b[0m\u001b[0;34m\u001b[0m\u001b[0m\n\u001b[0m\u001b[1;32m    181\u001b[0m     \u001b[0;32mdef\u001b[0m \u001b[0mdriver\u001b[0m\u001b[0;34m(\u001b[0m\u001b[0mself\u001b[0m\u001b[0;34m)\u001b[0m\u001b[0;34m:\u001b[0m\u001b[0;34m\u001b[0m\u001b[0m\n\u001b[1;32m    182\u001b[0m         \u001b[0;34m\"\"\"Returns the name of the proper OGR driver.\"\"\"\u001b[0m\u001b[0;34m\u001b[0m\u001b[0m\n",
      "\u001b[0;31mKeyboardInterrupt\u001b[0m: "
     ]
    }
   ],
   "source": [
    "#read in black abalone data\n",
    "black_abalone = gpd.read_file(\"../data/critical/california/black_abalone/BlackAbFinalCH10272011.shp\")\n",
    "black_abalone['species'] = 'black abalone'\n",
    "crit_species_areas = black_abalone[['species','geometry']]\n",
    "\n",
    "leatherback = gpd.read_file(\"../data/critical/california/leatherback/Final_LeatherbackCH.shp\")\n",
    "leatherback['species'] = 'leatherback sea turtle'\n",
    "crit_species_areas = crit_species_areas.append(leatherback[['species','geometry']], ignore_index=True)\n",
    "#crit_species_dfs['leatherback'] = leatherback\n",
    "\n",
    "stellar_sealions = gpd.read_file(\"../data/critical/california/stellar_sealions/StellerSLionCritHab_OR_CA.shp\")\n",
    "stellar_sealions['species'] = 'stellar sea lions'\n",
    "crit_species_areas = crit_species_areas.append(stellar_sealions[['species','geometry']], ignore_index=True)\n",
    "#crit_species_dfs['stellar_sealions'] = stellar_sealions\n",
    "\n",
    "#green sturgeon had many shp files, most of which were irrelevant for our immediate purposes.\n",
    "#I concatenated to relevant ones\n",
    "#not relevant\n",
    "#GreenSturgeonCHBypassAreas.shp (interior california)\n",
    "#GreenSturgeonCHDepartmentofDefense.shp (not in ca)\n",
    "#GreenSturgeonCHHeadOfTide.shp (interior)\n",
    "#GreenSturgeonCHMarshAreas.shp (interior)\n",
    "#GreenSturgeonCHStreams.shp (streams)\n",
    "#GreenSturgeonCHTribalExclusions.shp\n",
    "\n",
    "#relevant\n",
    "#GreenSturgeonCHEstuaries.shp\n",
    "#GreenSturgeonCHMarineCoastalZones.shp\n",
    "\n",
    "green_sturgeon = gpd.read_file\\\n",
    "(\"../data/critical/california/green_sturgeon/GreenSturgeonFinalCH/GreenSturgeonCHEstuaries.shp\")\n",
    "green_sturgeon = green_sturgeon.append(gpd.read_file\\\n",
    "(\"../data/critical/california/green_sturgeon/GreenSturgeonFinalCH/GreenSturgeonCHMarineCoastalZones.shp\"))\n",
    "green_sturgeon['species'] = 'green sturgeon'\n",
    "crit_species_areas = crit_species_areas.append(green_sturgeon[['species','geometry']], ignore_index=True)\n",
    "\n",
    "crit_species_areas.to_pickle('../data/pickles/crit_species.pkl')"
   ]
  },
  {
   "cell_type": "markdown",
   "metadata": {},
   "source": [
    "# Read Marine Protected Areas"
   ]
  },
  {
   "cell_type": "code",
   "execution_count": 13,
   "metadata": {},
   "outputs": [],
   "source": [
    "def eval_geom(x):\n",
    "    return eval(x)"
   ]
  },
  {
   "cell_type": "code",
   "execution_count": 14,
   "metadata": {},
   "outputs": [
    {
     "data": {
      "text/html": [
       "<div>\n",
       "<style scoped>\n",
       "    .dataframe tbody tr th:only-of-type {\n",
       "        vertical-align: middle;\n",
       "    }\n",
       "\n",
       "    .dataframe tbody tr th {\n",
       "        vertical-align: top;\n",
       "    }\n",
       "\n",
       "    .dataframe thead th {\n",
       "        text-align: right;\n",
       "    }\n",
       "</style>\n",
       "<table border=\"1\" class=\"dataframe\">\n",
       "  <thead>\n",
       "    <tr style=\"text-align: right;\">\n",
       "      <th></th>\n",
       "      <th>Name</th>\n",
       "      <th>Geometry</th>\n",
       "    </tr>\n",
       "  </thead>\n",
       "  <tbody>\n",
       "    <tr>\n",
       "      <th>0</th>\n",
       "      <td>Pyramid Point State Marine Conservation Area</td>\n",
       "      <td>POLYGON ((42 -124.21225, 42 -124.330233, 41.95...</td>\n",
       "    </tr>\n",
       "    <tr>\n",
       "      <th>1</th>\n",
       "      <td>Point St. George Reef Offshore State Marine Co...</td>\n",
       "      <td>POLYGON ((41.866667 -124.3864833, 41.86667 -12...</td>\n",
       "    </tr>\n",
       "    <tr>\n",
       "      <th>2</th>\n",
       "      <td>Southwest Seal Rock Special Closure</td>\n",
       "      <td>POINT (41.8136 -124.35165)</td>\n",
       "    </tr>\n",
       "    <tr>\n",
       "      <th>3</th>\n",
       "      <td>Castle Rock Special Closure</td>\n",
       "      <td>POINT (41.761767 -124.24915)</td>\n",
       "    </tr>\n",
       "    <tr>\n",
       "      <th>4</th>\n",
       "      <td>False Klamath Rock Special Closure</td>\n",
       "      <td>POINT (41.593883 -124.11165)</td>\n",
       "    </tr>\n",
       "  </tbody>\n",
       "</table>\n",
       "</div>"
      ],
      "text/plain": [
       "                                                Name  \\\n",
       "0       Pyramid Point State Marine Conservation Area   \n",
       "1  Point St. George Reef Offshore State Marine Co...   \n",
       "2                Southwest Seal Rock Special Closure   \n",
       "3                        Castle Rock Special Closure   \n",
       "4                 False Klamath Rock Special Closure   \n",
       "\n",
       "                                            Geometry  \n",
       "0  POLYGON ((42 -124.21225, 42 -124.330233, 41.95...  \n",
       "1  POLYGON ((41.866667 -124.3864833, 41.86667 -12...  \n",
       "2                         POINT (41.8136 -124.35165)  \n",
       "3                       POINT (41.761767 -124.24915)  \n",
       "4                       POINT (41.593883 -124.11165)  "
      ]
     },
     "execution_count": 14,
     "metadata": {},
     "output_type": "execute_result"
    }
   ],
   "source": [
    "mpa = pd.read_csv('../data/protected/protected_areas.csv', sep=';')\n",
    "mpa['Geometry'] = mpa.Geometry.apply(lambda x: eval_geom(x))\n",
    "mpa.head()"
   ]
  },
  {
   "cell_type": "code",
   "execution_count": 22,
   "metadata": {},
   "outputs": [
    {
     "data": {
      "image/svg+xml": [
       "<svg xmlns=\"http://www.w3.org/2000/svg\" xmlns:xlink=\"http://www.w3.org/1999/xlink\" width=\"100.0\" height=\"100.0\" viewBox=\"41.95340568 -124.33516032000001 0.05152163999999715 0.13303764000002616\" preserveAspectRatio=\"xMinYMin meet\"><g transform=\"matrix(1,0,0,-1,0,-248.537283)\"><path fill-rule=\"evenodd\" fill=\"#66cc99\" stroke=\"#555555\" stroke-width=\"0.002660752800000523\" opacity=\"0.6\" d=\"M 42.0,-124.21225 L 42.0,-124.330233 L 41.958333,-124.285017 L 41.958333,-124.20705 L 42.0,-124.21225 z\" /></g></svg>"
      ],
      "text/plain": [
       "<shapely.geometry.polygon.Polygon at 0x7f05c6034e10>"
      ]
     },
     "execution_count": 22,
     "metadata": {},
     "output_type": "execute_result"
    }
   ],
   "source": [
    "mpa.iloc[0]['Geometry']"
   ]
  },
  {
   "cell_type": "code",
   "execution_count": 24,
   "metadata": {},
   "outputs": [],
   "source": [
    "a = Polygon([(0,0),(1,0),(0,1)])\n",
    "b = Polygon([(0,0),(1,1),(1,0)])\n",
    "c = Polygon([(0,0),(-1,0),(0,-1)])\n",
    "d = Polygon([(0,3),(0,4),(1,3)])\n",
    "e = LineString([(-1,1),(-2,2)])\n",
    "f = Point(1,-1)"
   ]
  },
  {
   "cell_type": "code",
   "execution_count": 30,
   "metadata": {},
   "outputs": [
    {
     "data": {
      "text/plain": [
       "1.0"
      ]
     },
     "execution_count": 30,
     "metadata": {},
     "output_type": "execute_result"
    }
   ],
   "source": [
    "f.distance(a)"
   ]
  },
  {
   "cell_type": "code",
   "execution_count": 15,
   "metadata": {},
   "outputs": [],
   "source": [
    "mpa.to_pickle('../data/pickles/mpa.pkl')"
   ]
  },
  {
   "cell_type": "markdown",
   "metadata": {},
   "source": [
    "# Read Occupation Data"
   ]
  },
  {
   "cell_type": "code",
   "execution_count": 3,
   "metadata": {
    "scrolled": false
   },
   "outputs": [
    {
     "name": "stdout",
     "output_type": "stream",
     "text": [
      "(562, 8)\n"
     ]
    },
    {
     "data": {
      "text/html": [
       "<div>\n",
       "<style scoped>\n",
       "    .dataframe tbody tr th:only-of-type {\n",
       "        vertical-align: middle;\n",
       "    }\n",
       "\n",
       "    .dataframe tbody tr th {\n",
       "        vertical-align: top;\n",
       "    }\n",
       "\n",
       "    .dataframe thead th {\n",
       "        text-align: right;\n",
       "    }\n",
       "</style>\n",
       "<table border=\"1\" class=\"dataframe\">\n",
       "  <thead>\n",
       "    <tr style=\"text-align: right;\">\n",
       "      <th></th>\n",
       "      <th>estab</th>\n",
       "      <th>estab_f</th>\n",
       "      <th>naics</th>\n",
       "      <th>year</th>\n",
       "      <th>State</th>\n",
       "      <th>fips_state</th>\n",
       "      <th>fips_county</th>\n",
       "      <th>name</th>\n",
       "    </tr>\n",
       "  </thead>\n",
       "  <tbody>\n",
       "    <tr>\n",
       "      <th>557938</th>\n",
       "      <td>50</td>\n",
       "      <td>NaN</td>\n",
       "      <td>11411</td>\n",
       "      <td>2006</td>\n",
       "      <td>CA</td>\n",
       "      <td>6</td>\n",
       "      <td>1</td>\n",
       "      <td>Alameda County</td>\n",
       "    </tr>\n",
       "    <tr>\n",
       "      <th>558406</th>\n",
       "      <td>46</td>\n",
       "      <td>NaN</td>\n",
       "      <td>11411</td>\n",
       "      <td>2007</td>\n",
       "      <td>CA</td>\n",
       "      <td>6</td>\n",
       "      <td>1</td>\n",
       "      <td>Alameda County</td>\n",
       "    </tr>\n",
       "    <tr>\n",
       "      <th>558867</th>\n",
       "      <td>58</td>\n",
       "      <td>NaN</td>\n",
       "      <td>11411</td>\n",
       "      <td>2008</td>\n",
       "      <td>CA</td>\n",
       "      <td>6</td>\n",
       "      <td>1</td>\n",
       "      <td>Alameda County</td>\n",
       "    </tr>\n",
       "    <tr>\n",
       "      <th>559328</th>\n",
       "      <td>55</td>\n",
       "      <td>NaN</td>\n",
       "      <td>11411</td>\n",
       "      <td>2009</td>\n",
       "      <td>CA</td>\n",
       "      <td>6</td>\n",
       "      <td>1</td>\n",
       "      <td>Alameda County</td>\n",
       "    </tr>\n",
       "    <tr>\n",
       "      <th>559791</th>\n",
       "      <td>42</td>\n",
       "      <td>NaN</td>\n",
       "      <td>11411</td>\n",
       "      <td>2010</td>\n",
       "      <td>CA</td>\n",
       "      <td>6</td>\n",
       "      <td>1</td>\n",
       "      <td>Alameda County</td>\n",
       "    </tr>\n",
       "  </tbody>\n",
       "</table>\n",
       "</div>"
      ],
      "text/plain": [
       "        estab estab_f  naics  year State  fips_state  fips_county  \\\n",
       "557938     50     NaN  11411  2006    CA           6            1   \n",
       "558406     46     NaN  11411  2007    CA           6            1   \n",
       "558867     58     NaN  11411  2008    CA           6            1   \n",
       "559328     55     NaN  11411  2009    CA           6            1   \n",
       "559791     42     NaN  11411  2010    CA           6            1   \n",
       "\n",
       "                  name  \n",
       "557938  Alameda County  \n",
       "558406  Alameda County  \n",
       "558867  Alameda County  \n",
       "559328  Alameda County  \n",
       "559791  Alameda County  "
      ]
     },
     "execution_count": 3,
     "metadata": {},
     "output_type": "execute_result"
    }
   ],
   "source": [
    "#read NES data\n",
    "#Nonemp15co.txt\n",
    "all_nes = pd.DataFrame()\n",
    "for f in os.listdir('../../data/occupation/nonemployer_stats/csv_files'):\n",
    "    nes = pd.read_csv('../../data/occupation/nonemployer_stats/csv_files/' + f)\n",
    "    nes.columns = nes.columns.str.lower()\n",
    "    #the files don't come with years, so I add it here\n",
    "    nes['year'] = '20'+f[6:8]\n",
    "    all_nes = all_nes.append(nes)\n",
    "\n",
    "#Below are the NAICS codes for industries relevant to this analysis\n",
    "#311119 Kelp meal and pellets, animal feed manufacturing\n",
    "\n",
    "#1125 Aquaculture\n",
    "#11251 Aquaculture\n",
    "#112511 Finfish Farming and Fish Hatcheries\n",
    "#112512 Shellfish Farming\n",
    "#112519 Other Aquaculture\n",
    "\n",
    "#1141 Fishing\n",
    "#11411 Fishing\n",
    "#114111 Finfish Fishing\n",
    "#114112 Shellfish Fishing\n",
    "#114119 Other Marine Fishing\n",
    "\n",
    "#more clarification on a few\n",
    "#112519 Other Aquaculture\n",
    "#This U.S. industry comprises establishments primarily engaged in (1) farm raising of aquatic animals\n",
    "#(except finfish and shellfish) and/or (2) farm raising of aquatic plants. Alligator, algae, frog, seaweed, \n",
    "#or turtle production is included in this industry.\n",
    "#112519 Seaweed farming\n",
    "#114119 Seaweed gathering\n",
    "\n",
    "#relevant naics occupation codes\n",
    "occupations = [311119,1125,11251,112511,112512,112519,11411,114111,114112,114119]\n",
    "\n",
    "#Read fips codes\n",
    "fips_codes = pd.read_csv('../../data/occupation/fips_county.csv')\n",
    "\n",
    "#filter data\n",
    "all_nes = all_nes.merge(fips_codes, left_on = [\"st\",\"cty\"], right_on=[\"fips_state\",\"fips_county\"])\n",
    "all_nes = all_nes[all_nes['State'] == 'CA']\n",
    "all_nes = all_nes[all_nes['naics'].isin(list(map(str,occupations)))]\n",
    "all_nes.drop([\"st\",\"cty\",\"rcptot_n_f\",\"rcptot_f\",\"rcptot\",\"fips_class_code\"], axis=1, \\\n",
    "            inplace=True)\n",
    "print(all_nes.shape)\n",
    "all_nes.head()"
   ]
  },
  {
   "cell_type": "code",
   "execution_count": 90,
   "metadata": {},
   "outputs": [
    {
     "data": {
      "text/plain": [
       "estab           int64\n",
       "estab_f        object\n",
       "naics          object\n",
       "year           object\n",
       "State          object\n",
       "fips_state      int64\n",
       "fips_county     int64\n",
       "name           object\n",
       "dtype: object"
      ]
     },
     "execution_count": 90,
     "metadata": {},
     "output_type": "execute_result"
    }
   ],
   "source": [
    "#only naics code 11411 is in data for CA\n",
    "all_nes['naics'].unique()\n",
    "all_nes.dtypes"
   ]
  },
  {
   "cell_type": "code",
   "execution_count": 4,
   "metadata": {},
   "outputs": [
    {
     "ename": "NameError",
     "evalue": "name 'fips_codes' is not defined",
     "output_type": "error",
     "traceback": [
      "\u001b[0;31m---------------------------------------------------------------------------\u001b[0m",
      "\u001b[0;31mNameError\u001b[0m                                 Traceback (most recent call last)",
      "\u001b[0;32m<ipython-input-4-d835417db414>\u001b[0m in \u001b[0;36m<module>\u001b[0;34m()\u001b[0m\n\u001b[1;32m      8\u001b[0m     \u001b[0mqcew\u001b[0m\u001b[0;34m[\u001b[0m\u001b[0;34m'fips_county'\u001b[0m\u001b[0;34m]\u001b[0m \u001b[0;34m=\u001b[0m \u001b[0mqcew\u001b[0m\u001b[0;34m[\u001b[0m\u001b[0;34m'area_fips'\u001b[0m\u001b[0;34m]\u001b[0m\u001b[0;34m.\u001b[0m\u001b[0mstr\u001b[0m\u001b[0;34m[\u001b[0m\u001b[0;34m-\u001b[0m\u001b[0;36m3\u001b[0m\u001b[0;34m:\u001b[0m\u001b[0;34m]\u001b[0m\u001b[0;34m.\u001b[0m\u001b[0mastype\u001b[0m\u001b[0;34m(\u001b[0m\u001b[0mint\u001b[0m\u001b[0;34m)\u001b[0m\u001b[0;34m\u001b[0m\u001b[0m\n\u001b[1;32m      9\u001b[0m     \u001b[0mqcew\u001b[0m\u001b[0;34m[\u001b[0m\u001b[0;34m'fips_state'\u001b[0m\u001b[0;34m]\u001b[0m \u001b[0;34m=\u001b[0m \u001b[0mqcew\u001b[0m\u001b[0;34m[\u001b[0m\u001b[0;34m'area_fips'\u001b[0m\u001b[0;34m]\u001b[0m\u001b[0;34m.\u001b[0m\u001b[0mapply\u001b[0m\u001b[0;34m(\u001b[0m\u001b[0;32mlambda\u001b[0m \u001b[0mx\u001b[0m\u001b[0;34m:\u001b[0m \u001b[0mx\u001b[0m\u001b[0;34m[\u001b[0m\u001b[0;34m:\u001b[0m\u001b[0;36m2\u001b[0m\u001b[0;34m]\u001b[0m \u001b[0;32mif\u001b[0m \u001b[0mlen\u001b[0m\u001b[0;34m(\u001b[0m\u001b[0mx\u001b[0m\u001b[0;34m)\u001b[0m\u001b[0;34m>\u001b[0m\u001b[0;36m4\u001b[0m \u001b[0;32melse\u001b[0m \u001b[0mx\u001b[0m\u001b[0;34m[\u001b[0m\u001b[0;34m:\u001b[0m\u001b[0;36m1\u001b[0m\u001b[0;34m]\u001b[0m\u001b[0;34m)\u001b[0m\u001b[0;34m.\u001b[0m\u001b[0mastype\u001b[0m\u001b[0;34m(\u001b[0m\u001b[0mint\u001b[0m\u001b[0;34m)\u001b[0m\u001b[0;34m\u001b[0m\u001b[0m\n\u001b[0;32m---> 10\u001b[0;31m     \u001b[0mqcew\u001b[0m \u001b[0;34m=\u001b[0m \u001b[0mqcew\u001b[0m\u001b[0;34m.\u001b[0m\u001b[0mmerge\u001b[0m\u001b[0;34m(\u001b[0m\u001b[0mfips_codes\u001b[0m\u001b[0;34m,\u001b[0m \u001b[0mon\u001b[0m\u001b[0;34m=\u001b[0m\u001b[0;34m[\u001b[0m\u001b[0;34m\"fips_state\"\u001b[0m\u001b[0;34m,\u001b[0m\u001b[0;34m\"fips_county\"\u001b[0m\u001b[0;34m]\u001b[0m\u001b[0;34m)\u001b[0m\u001b[0;34m\u001b[0m\u001b[0m\n\u001b[0m\u001b[1;32m     11\u001b[0m     \u001b[0mqcew\u001b[0m \u001b[0;34m=\u001b[0m \u001b[0mqcew\u001b[0m\u001b[0;34m[\u001b[0m\u001b[0mqcew\u001b[0m\u001b[0;34m[\u001b[0m\u001b[0;34m'State'\u001b[0m\u001b[0;34m]\u001b[0m \u001b[0;34m==\u001b[0m \u001b[0;34m'CA'\u001b[0m\u001b[0;34m]\u001b[0m\u001b[0;34m\u001b[0m\u001b[0m\n\u001b[1;32m     12\u001b[0m     \u001b[0mall_qcew\u001b[0m \u001b[0;34m=\u001b[0m \u001b[0mall_qcew\u001b[0m\u001b[0;34m.\u001b[0m\u001b[0mappend\u001b[0m\u001b[0;34m(\u001b[0m\u001b[0mqcew\u001b[0m\u001b[0;34m)\u001b[0m\u001b[0;34m\u001b[0m\u001b[0m\n",
      "\u001b[0;31mNameError\u001b[0m: name 'fips_codes' is not defined"
     ]
    }
   ],
   "source": [
    "#read qcew data\n",
    "all_qcew = pd.DataFrame()\n",
    "for f in os.listdir('../../data/occupation/qcew'):\n",
    "    qcew = pd.read_csv('../../data/occupation/qcew/'+f)\n",
    "    qcew = qcew[list(qcew.columns[:10])]\n",
    "    qcew.drop(['own_code','qtr',], axis=1,inplace=True)\n",
    "    qcew = qcew[qcew['area_fips'].str.isnumeric()]\n",
    "    qcew['fips_county'] = qcew['area_fips'].str[-3:].astype(int)\n",
    "    qcew['fips_state'] = qcew['area_fips'].apply(lambda x: x[:2] if len(x)>4 else x[:1]).astype(int)\n",
    "    qcew = qcew.merge(fips_codes, on=[\"fips_state\",\"fips_county\"])\n",
    "    qcew = qcew[qcew['State'] == 'CA']\n",
    "    all_qcew = all_qcew.append(qcew)\n",
    "all_qcew.dtypes"
   ]
  },
  {
   "cell_type": "markdown",
   "metadata": {},
   "source": [
    "# Read in Census Population Data"
   ]
  },
  {
   "cell_type": "code",
   "execution_count": 18,
   "metadata": {
    "scrolled": false
   },
   "outputs": [
    {
     "data": {
      "text/html": [
       "<div>\n",
       "<style scoped>\n",
       "    .dataframe tbody tr th:only-of-type {\n",
       "        vertical-align: middle;\n",
       "    }\n",
       "\n",
       "    .dataframe tbody tr th {\n",
       "        vertical-align: top;\n",
       "    }\n",
       "\n",
       "    .dataframe thead th {\n",
       "        text-align: right;\n",
       "    }\n",
       "</style>\n",
       "<table border=\"1\" class=\"dataframe\">\n",
       "  <thead>\n",
       "    <tr style=\"text-align: right;\">\n",
       "      <th></th>\n",
       "      <th>STATE</th>\n",
       "      <th>COUNTY</th>\n",
       "      <th>STNAME</th>\n",
       "      <th>CTYNAME</th>\n",
       "      <th>2010</th>\n",
       "      <th>2011</th>\n",
       "      <th>2012</th>\n",
       "      <th>2013</th>\n",
       "      <th>2014</th>\n",
       "      <th>2015</th>\n",
       "      <th>2016</th>\n",
       "      <th>2017</th>\n",
       "    </tr>\n",
       "  </thead>\n",
       "  <tbody>\n",
       "    <tr>\n",
       "      <th>0</th>\n",
       "      <td>1</td>\n",
       "      <td>0</td>\n",
       "      <td>Alabama</td>\n",
       "      <td>Alabama</td>\n",
       "      <td>4785579</td>\n",
       "      <td>4798649</td>\n",
       "      <td>4813946</td>\n",
       "      <td>4827660</td>\n",
       "      <td>4840037</td>\n",
       "      <td>4850858</td>\n",
       "      <td>4860545</td>\n",
       "      <td>4874747</td>\n",
       "    </tr>\n",
       "    <tr>\n",
       "      <th>1</th>\n",
       "      <td>1</td>\n",
       "      <td>1</td>\n",
       "      <td>Alabama</td>\n",
       "      <td>Autauga County</td>\n",
       "      <td>54750</td>\n",
       "      <td>55199</td>\n",
       "      <td>54927</td>\n",
       "      <td>54695</td>\n",
       "      <td>54864</td>\n",
       "      <td>54838</td>\n",
       "      <td>55278</td>\n",
       "      <td>55504</td>\n",
       "    </tr>\n",
       "    <tr>\n",
       "      <th>2</th>\n",
       "      <td>1</td>\n",
       "      <td>3</td>\n",
       "      <td>Alabama</td>\n",
       "      <td>Baldwin County</td>\n",
       "      <td>183110</td>\n",
       "      <td>186534</td>\n",
       "      <td>190048</td>\n",
       "      <td>194736</td>\n",
       "      <td>199064</td>\n",
       "      <td>202863</td>\n",
       "      <td>207509</td>\n",
       "      <td>212628</td>\n",
       "    </tr>\n",
       "    <tr>\n",
       "      <th>3</th>\n",
       "      <td>1</td>\n",
       "      <td>5</td>\n",
       "      <td>Alabama</td>\n",
       "      <td>Barbour County</td>\n",
       "      <td>27332</td>\n",
       "      <td>27351</td>\n",
       "      <td>27175</td>\n",
       "      <td>26947</td>\n",
       "      <td>26749</td>\n",
       "      <td>26264</td>\n",
       "      <td>25774</td>\n",
       "      <td>25270</td>\n",
       "    </tr>\n",
       "    <tr>\n",
       "      <th>4</th>\n",
       "      <td>1</td>\n",
       "      <td>7</td>\n",
       "      <td>Alabama</td>\n",
       "      <td>Bibb County</td>\n",
       "      <td>22872</td>\n",
       "      <td>22745</td>\n",
       "      <td>22658</td>\n",
       "      <td>22503</td>\n",
       "      <td>22533</td>\n",
       "      <td>22561</td>\n",
       "      <td>22633</td>\n",
       "      <td>22668</td>\n",
       "    </tr>\n",
       "  </tbody>\n",
       "</table>\n",
       "</div>"
      ],
      "text/plain": [
       "   STATE  COUNTY   STNAME         CTYNAME     2010     2011     2012     2013  \\\n",
       "0      1       0  Alabama         Alabama  4785579  4798649  4813946  4827660   \n",
       "1      1       1  Alabama  Autauga County    54750    55199    54927    54695   \n",
       "2      1       3  Alabama  Baldwin County   183110   186534   190048   194736   \n",
       "3      1       5  Alabama  Barbour County    27332    27351    27175    26947   \n",
       "4      1       7  Alabama     Bibb County    22872    22745    22658    22503   \n",
       "\n",
       "      2014     2015     2016     2017  \n",
       "0  4840037  4850858  4860545  4874747  \n",
       "1    54864    54838    55278    55504  \n",
       "2   199064   202863   207509   212628  \n",
       "3    26749    26264    25774    25270  \n",
       "4    22533    22561    22633    22668  "
      ]
     },
     "execution_count": 18,
     "metadata": {},
     "output_type": "execute_result"
    }
   ],
   "source": [
    "census = pd.read_csv('../../data/population/co-est2017-alldata.csv',encoding='ISO-8859-1')\n",
    "census = census[list(census.columns[3:17])]\n",
    "census.drop(['CENSUS2010POP','ESTIMATESBASE2010'], inplace=True, axis=1)\n",
    "#rename columns so we can merge datasets\n",
    "newcolnames = ['2010','2011','2012','2013','2014','2015','2016','2017']\n",
    "oldcolnames = ['POPESTIMATE'+i for i in newcolnames]\n",
    "census.rename(columns = dict(zip(oldcolnames,newcolnames)), inplace=True)\n",
    "census.head()"
   ]
  },
  {
   "cell_type": "code",
   "execution_count": 19,
   "metadata": {},
   "outputs": [
    {
     "data": {
      "text/plain": [
       "STATE          int64\n",
       "COUNTY         int64\n",
       "STNAME        object\n",
       "CTYNAME       object\n",
       "year          object\n",
       "population     int64\n",
       "dtype: object"
      ]
     },
     "execution_count": 19,
     "metadata": {},
     "output_type": "execute_result"
    }
   ],
   "source": [
    "#convert the columns to rows so that we can merge datasets\n",
    "census = pd.melt(census, id_vars = ['STATE','COUNTY','STNAME','CTYNAME'], var_name='year', value_name='population')\n",
    "census = census.sort_values(['STATE','COUNTY'])\n",
    "census.head(10)\n",
    "census.dtypes"
   ]
  },
  {
   "cell_type": "code",
   "execution_count": 20,
   "metadata": {},
   "outputs": [
    {
     "data": {
      "text/html": [
       "<div>\n",
       "<style scoped>\n",
       "    .dataframe tbody tr th:only-of-type {\n",
       "        vertical-align: middle;\n",
       "    }\n",
       "\n",
       "    .dataframe tbody tr th {\n",
       "        vertical-align: top;\n",
       "    }\n",
       "\n",
       "    .dataframe thead th {\n",
       "        text-align: right;\n",
       "    }\n",
       "</style>\n",
       "<table border=\"1\" class=\"dataframe\">\n",
       "  <thead>\n",
       "    <tr style=\"text-align: right;\">\n",
       "      <th></th>\n",
       "      <th>estab</th>\n",
       "      <th>estab_f</th>\n",
       "      <th>naics</th>\n",
       "      <th>year</th>\n",
       "      <th>State</th>\n",
       "      <th>fips_state</th>\n",
       "      <th>fips_county</th>\n",
       "      <th>name</th>\n",
       "      <th>STATE</th>\n",
       "      <th>COUNTY</th>\n",
       "      <th>STNAME</th>\n",
       "      <th>CTYNAME</th>\n",
       "      <th>population</th>\n",
       "      <th>pct</th>\n",
       "    </tr>\n",
       "  </thead>\n",
       "  <tbody>\n",
       "    <tr>\n",
       "      <th>0</th>\n",
       "      <td>42</td>\n",
       "      <td>NaN</td>\n",
       "      <td>11411</td>\n",
       "      <td>2010</td>\n",
       "      <td>CA</td>\n",
       "      <td>6</td>\n",
       "      <td>1</td>\n",
       "      <td>Alameda County</td>\n",
       "      <td>6</td>\n",
       "      <td>1</td>\n",
       "      <td>California</td>\n",
       "      <td>Alameda County</td>\n",
       "      <td>1513402</td>\n",
       "      <td>0.000028</td>\n",
       "    </tr>\n",
       "    <tr>\n",
       "      <th>1</th>\n",
       "      <td>71</td>\n",
       "      <td>NaN</td>\n",
       "      <td>11411</td>\n",
       "      <td>2011</td>\n",
       "      <td>CA</td>\n",
       "      <td>6</td>\n",
       "      <td>1</td>\n",
       "      <td>Alameda County</td>\n",
       "      <td>6</td>\n",
       "      <td>1</td>\n",
       "      <td>California</td>\n",
       "      <td>Alameda County</td>\n",
       "      <td>1532215</td>\n",
       "      <td>0.000046</td>\n",
       "    </tr>\n",
       "    <tr>\n",
       "      <th>2</th>\n",
       "      <td>63</td>\n",
       "      <td>NaN</td>\n",
       "      <td>11411</td>\n",
       "      <td>2012</td>\n",
       "      <td>CA</td>\n",
       "      <td>6</td>\n",
       "      <td>1</td>\n",
       "      <td>Alameda County</td>\n",
       "      <td>6</td>\n",
       "      <td>1</td>\n",
       "      <td>California</td>\n",
       "      <td>Alameda County</td>\n",
       "      <td>1556648</td>\n",
       "      <td>0.000040</td>\n",
       "    </tr>\n",
       "    <tr>\n",
       "      <th>3</th>\n",
       "      <td>65</td>\n",
       "      <td>NaN</td>\n",
       "      <td>11411</td>\n",
       "      <td>2013</td>\n",
       "      <td>CA</td>\n",
       "      <td>6</td>\n",
       "      <td>1</td>\n",
       "      <td>Alameda County</td>\n",
       "      <td>6</td>\n",
       "      <td>1</td>\n",
       "      <td>California</td>\n",
       "      <td>Alameda County</td>\n",
       "      <td>1582936</td>\n",
       "      <td>0.000041</td>\n",
       "    </tr>\n",
       "    <tr>\n",
       "      <th>4</th>\n",
       "      <td>64</td>\n",
       "      <td>NaN</td>\n",
       "      <td>11411</td>\n",
       "      <td>2014</td>\n",
       "      <td>CA</td>\n",
       "      <td>6</td>\n",
       "      <td>1</td>\n",
       "      <td>Alameda County</td>\n",
       "      <td>6</td>\n",
       "      <td>1</td>\n",
       "      <td>California</td>\n",
       "      <td>Alameda County</td>\n",
       "      <td>1611572</td>\n",
       "      <td>0.000040</td>\n",
       "    </tr>\n",
       "  </tbody>\n",
       "</table>\n",
       "</div>"
      ],
      "text/plain": [
       "   estab estab_f  naics  year State  fips_state  fips_county            name  \\\n",
       "0     42     NaN  11411  2010    CA           6            1  Alameda County   \n",
       "1     71     NaN  11411  2011    CA           6            1  Alameda County   \n",
       "2     63     NaN  11411  2012    CA           6            1  Alameda County   \n",
       "3     65     NaN  11411  2013    CA           6            1  Alameda County   \n",
       "4     64     NaN  11411  2014    CA           6            1  Alameda County   \n",
       "\n",
       "   STATE  COUNTY      STNAME         CTYNAME  population       pct  \n",
       "0      6       1  California  Alameda County     1513402  0.000028  \n",
       "1      6       1  California  Alameda County     1532215  0.000046  \n",
       "2      6       1  California  Alameda County     1556648  0.000040  \n",
       "3      6       1  California  Alameda County     1582936  0.000041  \n",
       "4      6       1  California  Alameda County     1611572  0.000040  "
      ]
     },
     "execution_count": 20,
     "metadata": {},
     "output_type": "execute_result"
    }
   ],
   "source": [
    "#merge the census data with the nes data to get the percent of county workforce in a relevant occupation\n",
    "all_nes = all_nes.merge(census, left_on=['fips_state','fips_county','year'],\\\n",
    "                        right_on=['STATE', 'COUNTY','year'], how='inner')\n",
    "all_nes['pct'] = all_nes['estab']/all_nes['population']\n",
    "all_nes.head()"
   ]
  },
  {
   "cell_type": "code",
   "execution_count": 22,
   "metadata": {},
   "outputs": [],
   "source": [
    "all_nes.to_pickle('../data/pickles/nes_occupation.pkl')"
   ]
  },
  {
   "cell_type": "code",
   "execution_count": 21,
   "metadata": {},
   "outputs": [
    {
     "data": {
      "text/html": [
       "<div>\n",
       "<style scoped>\n",
       "    .dataframe tbody tr th:only-of-type {\n",
       "        vertical-align: middle;\n",
       "    }\n",
       "\n",
       "    .dataframe tbody tr th {\n",
       "        vertical-align: top;\n",
       "    }\n",
       "\n",
       "    .dataframe thead th {\n",
       "        text-align: right;\n",
       "    }\n",
       "</style>\n",
       "<table border=\"1\" class=\"dataframe\">\n",
       "  <thead>\n",
       "    <tr style=\"text-align: right;\">\n",
       "      <th></th>\n",
       "      <th>area_fips</th>\n",
       "      <th>industry_code</th>\n",
       "      <th>agglvl_code</th>\n",
       "      <th>size_code</th>\n",
       "      <th>year</th>\n",
       "      <th>disclosure_code</th>\n",
       "      <th>annual_avg_estabs</th>\n",
       "      <th>annual_avg_emplvl</th>\n",
       "      <th>fips_county</th>\n",
       "      <th>fips_state</th>\n",
       "      <th>State</th>\n",
       "      <th>name</th>\n",
       "      <th>fips_class_code</th>\n",
       "      <th>STATE</th>\n",
       "      <th>COUNTY</th>\n",
       "      <th>STNAME</th>\n",
       "      <th>CTYNAME</th>\n",
       "      <th>population</th>\n",
       "      <th>estab_pct</th>\n",
       "      <th>emp_pct</th>\n",
       "    </tr>\n",
       "  </thead>\n",
       "  <tbody>\n",
       "    <tr>\n",
       "      <th>0</th>\n",
       "      <td>06007</td>\n",
       "      <td>11251</td>\n",
       "      <td>77</td>\n",
       "      <td>0</td>\n",
       "      <td>2013</td>\n",
       "      <td>N</td>\n",
       "      <td>1</td>\n",
       "      <td>0</td>\n",
       "      <td>7</td>\n",
       "      <td>6</td>\n",
       "      <td>CA</td>\n",
       "      <td>Butte County</td>\n",
       "      <td>H1</td>\n",
       "      <td>6</td>\n",
       "      <td>7</td>\n",
       "      <td>California</td>\n",
       "      <td>Butte County</td>\n",
       "      <td>221768</td>\n",
       "      <td>0.000005</td>\n",
       "      <td>0.000000</td>\n",
       "    </tr>\n",
       "    <tr>\n",
       "      <th>1</th>\n",
       "      <td>06015</td>\n",
       "      <td>11251</td>\n",
       "      <td>77</td>\n",
       "      <td>0</td>\n",
       "      <td>2013</td>\n",
       "      <td>N</td>\n",
       "      <td>1</td>\n",
       "      <td>0</td>\n",
       "      <td>15</td>\n",
       "      <td>6</td>\n",
       "      <td>CA</td>\n",
       "      <td>Del Norte County</td>\n",
       "      <td>H1</td>\n",
       "      <td>6</td>\n",
       "      <td>15</td>\n",
       "      <td>California</td>\n",
       "      <td>Del Norte County</td>\n",
       "      <td>27830</td>\n",
       "      <td>0.000036</td>\n",
       "      <td>0.000000</td>\n",
       "    </tr>\n",
       "    <tr>\n",
       "      <th>2</th>\n",
       "      <td>06015</td>\n",
       "      <td>11411</td>\n",
       "      <td>77</td>\n",
       "      <td>0</td>\n",
       "      <td>2013</td>\n",
       "      <td>NaN</td>\n",
       "      <td>39</td>\n",
       "      <td>81</td>\n",
       "      <td>15</td>\n",
       "      <td>6</td>\n",
       "      <td>CA</td>\n",
       "      <td>Del Norte County</td>\n",
       "      <td>H1</td>\n",
       "      <td>6</td>\n",
       "      <td>15</td>\n",
       "      <td>California</td>\n",
       "      <td>Del Norte County</td>\n",
       "      <td>27830</td>\n",
       "      <td>0.001401</td>\n",
       "      <td>0.002911</td>\n",
       "    </tr>\n",
       "    <tr>\n",
       "      <th>3</th>\n",
       "      <td>06019</td>\n",
       "      <td>11251</td>\n",
       "      <td>77</td>\n",
       "      <td>0</td>\n",
       "      <td>2013</td>\n",
       "      <td>N</td>\n",
       "      <td>4</td>\n",
       "      <td>0</td>\n",
       "      <td>19</td>\n",
       "      <td>6</td>\n",
       "      <td>CA</td>\n",
       "      <td>Fresno County</td>\n",
       "      <td>H1</td>\n",
       "      <td>6</td>\n",
       "      <td>19</td>\n",
       "      <td>California</td>\n",
       "      <td>Fresno County</td>\n",
       "      <td>953787</td>\n",
       "      <td>0.000004</td>\n",
       "      <td>0.000000</td>\n",
       "    </tr>\n",
       "    <tr>\n",
       "      <th>4</th>\n",
       "      <td>06023</td>\n",
       "      <td>11251</td>\n",
       "      <td>77</td>\n",
       "      <td>0</td>\n",
       "      <td>2013</td>\n",
       "      <td>NaN</td>\n",
       "      <td>6</td>\n",
       "      <td>19</td>\n",
       "      <td>23</td>\n",
       "      <td>6</td>\n",
       "      <td>CA</td>\n",
       "      <td>Humboldt County</td>\n",
       "      <td>H1</td>\n",
       "      <td>6</td>\n",
       "      <td>23</td>\n",
       "      <td>California</td>\n",
       "      <td>Humboldt County</td>\n",
       "      <td>134444</td>\n",
       "      <td>0.000045</td>\n",
       "      <td>0.000141</td>\n",
       "    </tr>\n",
       "  </tbody>\n",
       "</table>\n",
       "</div>"
      ],
      "text/plain": [
       "  area_fips  industry_code  agglvl_code  size_code  year disclosure_code  \\\n",
       "0     06007          11251           77          0  2013               N   \n",
       "1     06015          11251           77          0  2013               N   \n",
       "2     06015          11411           77          0  2013             NaN   \n",
       "3     06019          11251           77          0  2013               N   \n",
       "4     06023          11251           77          0  2013             NaN   \n",
       "\n",
       "   annual_avg_estabs  annual_avg_emplvl  fips_county  fips_state State  \\\n",
       "0                  1                  0            7           6    CA   \n",
       "1                  1                  0           15           6    CA   \n",
       "2                 39                 81           15           6    CA   \n",
       "3                  4                  0           19           6    CA   \n",
       "4                  6                 19           23           6    CA   \n",
       "\n",
       "               name fips_class_code  STATE  COUNTY      STNAME  \\\n",
       "0      Butte County              H1      6       7  California   \n",
       "1  Del Norte County              H1      6      15  California   \n",
       "2  Del Norte County              H1      6      15  California   \n",
       "3     Fresno County              H1      6      19  California   \n",
       "4   Humboldt County              H1      6      23  California   \n",
       "\n",
       "            CTYNAME  population  estab_pct   emp_pct  \n",
       "0      Butte County      221768   0.000005  0.000000  \n",
       "1  Del Norte County       27830   0.000036  0.000000  \n",
       "2  Del Norte County       27830   0.001401  0.002911  \n",
       "3     Fresno County      953787   0.000004  0.000000  \n",
       "4   Humboldt County      134444   0.000045  0.000141  "
      ]
     },
     "execution_count": 21,
     "metadata": {},
     "output_type": "execute_result"
    }
   ],
   "source": [
    "#merge census data to qcew data\n",
    "#convert year to str for comparison\n",
    "all_qcew['year'] = all_qcew.year.astype(str)\n",
    "all_qcew = all_qcew.merge(census, left_on=['fips_state','fips_county','year'],\\\n",
    "                          right_on=['STATE','COUNTY','year'], how='inner')\n",
    "all_qcew['estab_pct'] = all_qcew['annual_avg_estabs']/all_qcew['population']\n",
    "all_qcew['emp_pct'] = all_qcew['annual_avg_emplvl']/all_qcew['population']\n",
    "all_qcew.head()"
   ]
  },
  {
   "cell_type": "code",
   "execution_count": 23,
   "metadata": {},
   "outputs": [],
   "source": [
    "all_qcew.to_pickle('../data/pickles/qcew_occupation.pkl')"
   ]
  },
  {
   "cell_type": "markdown",
   "metadata": {},
   "source": [
    "# Read unemployment data"
   ]
  },
  {
   "cell_type": "code",
   "execution_count": 22,
   "metadata": {},
   "outputs": [
    {
     "name": "stdout",
     "output_type": "stream",
     "text": [
      "(58, 3)\n"
     ]
    }
   ],
   "source": [
    "unemployment = pd.read_csv('../../data/occupation/unemployment/unemployment.csv')\n",
    "unemployment = unemployment.groupby(['fips_state','fips_county']).mean()\n",
    "unemployment.reset_index(inplace=True)\n",
    "unemployment = unemployment[unemployment.fips_state == 6]\n",
    "print(unemployment.shape)\n",
    "unemployment.head()\n",
    "unemployment.to_pickle('../data/pickles/unemployment.pkl')"
   ]
  },
  {
   "cell_type": "code",
   "execution_count": 4,
   "metadata": {},
   "outputs": [
    {
     "data": {
      "text/html": [
       "<div>\n",
       "<style scoped>\n",
       "    .dataframe tbody tr th:only-of-type {\n",
       "        vertical-align: middle;\n",
       "    }\n",
       "\n",
       "    .dataframe tbody tr th {\n",
       "        vertical-align: top;\n",
       "    }\n",
       "\n",
       "    .dataframe thead th {\n",
       "        text-align: right;\n",
       "    }\n",
       "</style>\n",
       "<table border=\"1\" class=\"dataframe\">\n",
       "  <thead>\n",
       "    <tr style=\"text-align: right;\">\n",
       "      <th></th>\n",
       "      <th>State</th>\n",
       "      <th>fips_state</th>\n",
       "      <th>fips_county</th>\n",
       "      <th>name</th>\n",
       "      <th>fips_class_code</th>\n",
       "    </tr>\n",
       "  </thead>\n",
       "  <tbody>\n",
       "    <tr>\n",
       "      <th>0</th>\n",
       "      <td>AL</td>\n",
       "      <td>1</td>\n",
       "      <td>1</td>\n",
       "      <td>Autauga County</td>\n",
       "      <td>H1</td>\n",
       "    </tr>\n",
       "    <tr>\n",
       "      <th>1</th>\n",
       "      <td>AL</td>\n",
       "      <td>1</td>\n",
       "      <td>3</td>\n",
       "      <td>Baldwin County</td>\n",
       "      <td>H1</td>\n",
       "    </tr>\n",
       "    <tr>\n",
       "      <th>2</th>\n",
       "      <td>AL</td>\n",
       "      <td>1</td>\n",
       "      <td>5</td>\n",
       "      <td>Barbour County</td>\n",
       "      <td>H1</td>\n",
       "    </tr>\n",
       "    <tr>\n",
       "      <th>3</th>\n",
       "      <td>AL</td>\n",
       "      <td>1</td>\n",
       "      <td>7</td>\n",
       "      <td>Bibb County</td>\n",
       "      <td>H1</td>\n",
       "    </tr>\n",
       "    <tr>\n",
       "      <th>4</th>\n",
       "      <td>AL</td>\n",
       "      <td>1</td>\n",
       "      <td>9</td>\n",
       "      <td>Blount County</td>\n",
       "      <td>H1</td>\n",
       "    </tr>\n",
       "  </tbody>\n",
       "</table>\n",
       "</div>"
      ],
      "text/plain": [
       "  State  fips_state  fips_county            name fips_class_code\n",
       "0    AL           1            1  Autauga County              H1\n",
       "1    AL           1            3  Baldwin County              H1\n",
       "2    AL           1            5  Barbour County              H1\n",
       "3    AL           1            7     Bibb County              H1\n",
       "4    AL           1            9   Blount County              H1"
      ]
     },
     "execution_count": 4,
     "metadata": {},
     "output_type": "execute_result"
    }
   ],
   "source": [
    "fips_codes.head()"
   ]
  },
  {
   "cell_type": "markdown",
   "metadata": {},
   "source": [
    "# Read County shapefiles"
   ]
  },
  {
   "cell_type": "code",
   "execution_count": 29,
   "metadata": {},
   "outputs": [
    {
     "data": {
      "text/html": [
       "<div>\n",
       "<style scoped>\n",
       "    .dataframe tbody tr th:only-of-type {\n",
       "        vertical-align: middle;\n",
       "    }\n",
       "\n",
       "    .dataframe tbody tr th {\n",
       "        vertical-align: top;\n",
       "    }\n",
       "\n",
       "    .dataframe thead th {\n",
       "        text-align: right;\n",
       "    }\n",
       "</style>\n",
       "<table border=\"1\" class=\"dataframe\">\n",
       "  <thead>\n",
       "    <tr style=\"text-align: right;\">\n",
       "      <th></th>\n",
       "      <th>STATEFP</th>\n",
       "      <th>COUNTYFP</th>\n",
       "      <th>COUNTYNS</th>\n",
       "      <th>AFFGEOID</th>\n",
       "      <th>GEOID</th>\n",
       "      <th>NAME</th>\n",
       "      <th>LSAD</th>\n",
       "      <th>ALAND</th>\n",
       "      <th>AWATER</th>\n",
       "      <th>geometry</th>\n",
       "    </tr>\n",
       "  </thead>\n",
       "  <tbody>\n",
       "    <tr>\n",
       "      <th>0</th>\n",
       "      <td>6</td>\n",
       "      <td>75</td>\n",
       "      <td>00277302</td>\n",
       "      <td>0500000US06075</td>\n",
       "      <td>06075</td>\n",
       "      <td>San Francisco</td>\n",
       "      <td>06</td>\n",
       "      <td>121485107</td>\n",
       "      <td>479107241</td>\n",
       "      <td>POLYGON ((-122.511983 37.77113, -122.465396 37...</td>\n",
       "    </tr>\n",
       "    <tr>\n",
       "      <th>1</th>\n",
       "      <td>25</td>\n",
       "      <td>25</td>\n",
       "      <td>00606939</td>\n",
       "      <td>0500000US25025</td>\n",
       "      <td>25025</td>\n",
       "      <td>Suffolk</td>\n",
       "      <td>06</td>\n",
       "      <td>150855462</td>\n",
       "      <td>160479920</td>\n",
       "      <td>POLYGON ((-71.19115499999999 42.283059, -71.15...</td>\n",
       "    </tr>\n",
       "    <tr>\n",
       "      <th>2</th>\n",
       "      <td>31</td>\n",
       "      <td>7</td>\n",
       "      <td>00835826</td>\n",
       "      <td>0500000US31007</td>\n",
       "      <td>31007</td>\n",
       "      <td>Banner</td>\n",
       "      <td>06</td>\n",
       "      <td>1932676697</td>\n",
       "      <td>397069</td>\n",
       "      <td>POLYGON ((-104.052825235239 41.69795385306401,...</td>\n",
       "    </tr>\n",
       "    <tr>\n",
       "      <th>3</th>\n",
       "      <td>37</td>\n",
       "      <td>181</td>\n",
       "      <td>01008591</td>\n",
       "      <td>0500000US37181</td>\n",
       "      <td>37181</td>\n",
       "      <td>Vance</td>\n",
       "      <td>06</td>\n",
       "      <td>653705784</td>\n",
       "      <td>42187365</td>\n",
       "      <td>POLYGON ((-78.497783 36.514477, -78.4572778962...</td>\n",
       "    </tr>\n",
       "    <tr>\n",
       "      <th>4</th>\n",
       "      <td>48</td>\n",
       "      <td>421</td>\n",
       "      <td>01383996</td>\n",
       "      <td>0500000US48421</td>\n",
       "      <td>48421</td>\n",
       "      <td>Sherman</td>\n",
       "      <td>06</td>\n",
       "      <td>2390651189</td>\n",
       "      <td>428754</td>\n",
       "      <td>POLYGON ((-102.162463 36.500326, -102.03233901...</td>\n",
       "    </tr>\n",
       "  </tbody>\n",
       "</table>\n",
       "</div>"
      ],
      "text/plain": [
       "   STATEFP  COUNTYFP  COUNTYNS        AFFGEOID  GEOID           NAME LSAD  \\\n",
       "0        6        75  00277302  0500000US06075  06075  San Francisco   06   \n",
       "1       25        25  00606939  0500000US25025  25025        Suffolk   06   \n",
       "2       31         7  00835826  0500000US31007  31007         Banner   06   \n",
       "3       37       181  01008591  0500000US37181  37181          Vance   06   \n",
       "4       48       421  01383996  0500000US48421  48421        Sherman   06   \n",
       "\n",
       "        ALAND     AWATER                                           geometry  \n",
       "0   121485107  479107241  POLYGON ((-122.511983 37.77113, -122.465396 37...  \n",
       "1   150855462  160479920  POLYGON ((-71.19115499999999 42.283059, -71.15...  \n",
       "2  1932676697     397069  POLYGON ((-104.052825235239 41.69795385306401,...  \n",
       "3   653705784   42187365  POLYGON ((-78.497783 36.514477, -78.4572778962...  \n",
       "4  2390651189     428754  POLYGON ((-102.162463 36.500326, -102.03233901...  "
      ]
     },
     "execution_count": 29,
     "metadata": {},
     "output_type": "execute_result"
    },
    {
     "data": {
      "image/png": "[encoded data removed]",
      "text/plain": [
       "<matplotlib.figure.Figure at 0x7f5bc97e3c88>"
      ]
     },
     "metadata": {},
     "output_type": "display_data"
    }
   ],
   "source": [
    "counties = gpd.read_file('../../data/county_shapefiles/cb_2017_us_county_20m/cb_2017_us_county_20m.shp')\n",
    "counties['STATEFP'] = counties['STATEFP'].astype(int)\n",
    "counties['COUNTYFP'] = counties['COUNTYFP'].astype(int)\n",
    "counties[(counties['STATEFP']==6) & (counties.COUNTYFP == 53)]['geometry'].plot()\n",
    "counties.head()"
   ]
  },
  {
   "cell_type": "code",
   "execution_count": 30,
   "metadata": {},
   "outputs": [
    {
     "name": "stderr",
     "output_type": "stream",
     "text": [
      "/home/clay/anaconda3/lib/python3.6/site-packages/ipykernel_launcher.py:2: SettingWithCopyWarning: \n",
      "A value is trying to be set on a copy of a slice from a DataFrame\n",
      "\n",
      "See the caveats in the documentation: http://pandas.pydata.org/pandas-docs/stable/indexing.html#indexing-view-versus-copy\n",
      "  \n"
     ]
    },
    {
     "data": {
      "text/html": [
       "<div>\n",
       "<style scoped>\n",
       "    .dataframe tbody tr th:only-of-type {\n",
       "        vertical-align: middle;\n",
       "    }\n",
       "\n",
       "    .dataframe tbody tr th {\n",
       "        vertical-align: top;\n",
       "    }\n",
       "\n",
       "    .dataframe thead th {\n",
       "        text-align: right;\n",
       "    }\n",
       "</style>\n",
       "<table border=\"1\" class=\"dataframe\">\n",
       "  <thead>\n",
       "    <tr style=\"text-align: right;\">\n",
       "      <th></th>\n",
       "      <th>STATEFP</th>\n",
       "      <th>COUNTYFP</th>\n",
       "      <th>NAME</th>\n",
       "      <th>geometry</th>\n",
       "    </tr>\n",
       "  </thead>\n",
       "  <tbody>\n",
       "    <tr>\n",
       "      <th>0</th>\n",
       "      <td>6</td>\n",
       "      <td>75</td>\n",
       "      <td>San Francisco</td>\n",
       "      <td>POLYGON ((-122.511983 37.77113, -122.465396 37...</td>\n",
       "    </tr>\n",
       "    <tr>\n",
       "      <th>705</th>\n",
       "      <td>6</td>\n",
       "      <td>87</td>\n",
       "      <td>Santa Cruz</td>\n",
       "      <td>POLYGON ((-122.317682 37.186945, -122.152774 3...</td>\n",
       "    </tr>\n",
       "    <tr>\n",
       "      <th>713</th>\n",
       "      <td>6</td>\n",
       "      <td>31</td>\n",
       "      <td>Kings</td>\n",
       "      <td>POLYGON ((-120.315068 35.907186, -119.959058 3...</td>\n",
       "    </tr>\n",
       "    <tr>\n",
       "      <th>899</th>\n",
       "      <td>6</td>\n",
       "      <td>85</td>\n",
       "      <td>Santa Clara</td>\n",
       "      <td>POLYGON ((-122.190402 37.431472, -122.144933 3...</td>\n",
       "    </tr>\n",
       "    <tr>\n",
       "      <th>915</th>\n",
       "      <td>6</td>\n",
       "      <td>21</td>\n",
       "      <td>Glenn</td>\n",
       "      <td>POLYGON ((-122.911794 39.799485, -122.046471 3...</td>\n",
       "    </tr>\n",
       "  </tbody>\n",
       "</table>\n",
       "</div>"
      ],
      "text/plain": [
       "     STATEFP  COUNTYFP           NAME  \\\n",
       "0          6        75  San Francisco   \n",
       "705        6        87     Santa Cruz   \n",
       "713        6        31          Kings   \n",
       "899        6        85    Santa Clara   \n",
       "915        6        21          Glenn   \n",
       "\n",
       "                                              geometry  \n",
       "0    POLYGON ((-122.511983 37.77113, -122.465396 37...  \n",
       "705  POLYGON ((-122.317682 37.186945, -122.152774 3...  \n",
       "713  POLYGON ((-120.315068 35.907186, -119.959058 3...  \n",
       "899  POLYGON ((-122.190402 37.431472, -122.144933 3...  \n",
       "915  POLYGON ((-122.911794 39.799485, -122.046471 3...  "
      ]
     },
     "execution_count": 30,
     "metadata": {},
     "output_type": "execute_result"
    }
   ],
   "source": [
    "ca_counties = counties[counties['STATEFP'] == int(fips_codes[fips_codes['State']=='CA']['fips_state'].unique())]\n",
    "ca_counties.drop(['COUNTYNS','AFFGEOID','GEOID','LSAD','ALAND','AWATER'], axis=1, inplace=True)\n",
    "ca_counties.head()"
   ]
  },
  {
   "cell_type": "code",
   "execution_count": 31,
   "metadata": {},
   "outputs": [],
   "source": [
    "ca_counties.to_pickle('../data/pickles/ca_counties.pkl')"
   ]
  },
  {
   "cell_type": "markdown",
   "metadata": {},
   "source": [
    "# Read XBT bathymetry data"
   ]
  },
  {
   "cell_type": "code",
   "execution_count": 190,
   "metadata": {
    "scrolled": true
   },
   "outputs": [],
   "source": [
    "#with open('../../data/bathymetry/xbt/ca/xbts7412.csv') as f:\n",
    "#    reader=csv.reader(f)\n",
    "#    counter = 0\n",
    "#    a = []\n",
    "#    for row in reader:\n",
    "#        #print(\"counter\",counter)\n",
    "#        if len(row) != 25:\n",
    "#            #print(\"counter\",counter)\n",
    "#            a.append(len(row))\n",
    "#        counter +=1\n",
    "#    plt.hist(a, bins = 50,range=(10,60))\n",
    "xbt = pd.read_csv('../../data/bathymetry/xbt/ca/xbts7412.csv')\n",
    "xbt = xbt.append(pd.read_csv('../../data/bathymetry/xbt/ca/xbts7312.csv'))\n",
    "xbt = xbt.append(pd.read_csv('../../data/bathymetry/xbt/ca/xbts7311.csv'))"
   ]
  },
  {
   "cell_type": "code",
   "execution_count": 191,
   "metadata": {
    "scrolled": true
   },
   "outputs": [],
   "source": [
    "xbt = xbt[xbt['Year'] >1996]\n",
    "xbt = xbt[(xbt['Latitude'] <42.2) & (xbt['Latitude']>32.5) & (xbt['Longitude'] <-117.0) & (xbt['Longitude']>-124.5)] "
   ]
  },
  {
   "cell_type": "code",
   "execution_count": 192,
   "metadata": {
    "scrolled": false
   },
   "outputs": [
    {
     "data": {
      "text/html": [
       "<div>\n",
       "<style scoped>\n",
       "    .dataframe tbody tr th:only-of-type {\n",
       "        vertical-align: middle;\n",
       "    }\n",
       "\n",
       "    .dataframe tbody tr th {\n",
       "        vertical-align: top;\n",
       "    }\n",
       "\n",
       "    .dataframe thead th {\n",
       "        text-align: right;\n",
       "    }\n",
       "</style>\n",
       "<table border=\"1\" class=\"dataframe\">\n",
       "  <thead>\n",
       "    <tr style=\"text-align: right;\">\n",
       "      <th></th>\n",
       "      <th>ISO_country</th>\n",
       "      <th>Cruise_ID</th>\n",
       "      <th>Latitude</th>\n",
       "      <th>Longitude</th>\n",
       "      <th>Year</th>\n",
       "      <th>Month</th>\n",
       "      <th>Day</th>\n",
       "      <th>Time</th>\n",
       "      <th>WOD_unique</th>\n",
       "      <th>Temp_0m</th>\n",
       "      <th>...</th>\n",
       "      <th>Temp_8100m</th>\n",
       "      <th>Temp_8200m</th>\n",
       "      <th>Temp_8300m</th>\n",
       "      <th>Temp_8400m</th>\n",
       "      <th>Temp_8500m</th>\n",
       "      <th>Temp_8600m</th>\n",
       "      <th>Temp_8700m</th>\n",
       "      <th>Temp_8800m</th>\n",
       "      <th>Temp_8900m</th>\n",
       "      <th>Temp_9000m</th>\n",
       "    </tr>\n",
       "  </thead>\n",
       "  <tbody>\n",
       "    <tr>\n",
       "      <th>19761</th>\n",
       "      <td>US</td>\n",
       "      <td>127670</td>\n",
       "      <td>40.372</td>\n",
       "      <td>-124.487</td>\n",
       "      <td>1998</td>\n",
       "      <td>7</td>\n",
       "      <td>17</td>\n",
       "      <td>2.57</td>\n",
       "      <td>8131664</td>\n",
       "      <td>13.40</td>\n",
       "      <td>...</td>\n",
       "      <td>NaN</td>\n",
       "      <td>NaN</td>\n",
       "      <td>NaN</td>\n",
       "      <td>NaN</td>\n",
       "      <td>NaN</td>\n",
       "      <td>NaN</td>\n",
       "      <td>NaN</td>\n",
       "      <td>NaN</td>\n",
       "      <td>NaN</td>\n",
       "      <td>NaN</td>\n",
       "    </tr>\n",
       "    <tr>\n",
       "      <th>19775</th>\n",
       "      <td>US</td>\n",
       "      <td>127670</td>\n",
       "      <td>41.133</td>\n",
       "      <td>-124.418</td>\n",
       "      <td>1998</td>\n",
       "      <td>7</td>\n",
       "      <td>18</td>\n",
       "      <td>18.92</td>\n",
       "      <td>8131727</td>\n",
       "      <td>13.45</td>\n",
       "      <td>...</td>\n",
       "      <td>NaN</td>\n",
       "      <td>NaN</td>\n",
       "      <td>NaN</td>\n",
       "      <td>NaN</td>\n",
       "      <td>NaN</td>\n",
       "      <td>NaN</td>\n",
       "      <td>NaN</td>\n",
       "      <td>NaN</td>\n",
       "      <td>NaN</td>\n",
       "      <td>NaN</td>\n",
       "    </tr>\n",
       "    <tr>\n",
       "      <th>19776</th>\n",
       "      <td>US</td>\n",
       "      <td>127670</td>\n",
       "      <td>41.135</td>\n",
       "      <td>-124.338</td>\n",
       "      <td>1998</td>\n",
       "      <td>7</td>\n",
       "      <td>18</td>\n",
       "      <td>19.23</td>\n",
       "      <td>8131729</td>\n",
       "      <td>13.18</td>\n",
       "      <td>...</td>\n",
       "      <td>NaN</td>\n",
       "      <td>NaN</td>\n",
       "      <td>NaN</td>\n",
       "      <td>NaN</td>\n",
       "      <td>NaN</td>\n",
       "      <td>NaN</td>\n",
       "      <td>NaN</td>\n",
       "      <td>NaN</td>\n",
       "      <td>NaN</td>\n",
       "      <td>NaN</td>\n",
       "    </tr>\n",
       "    <tr>\n",
       "      <th>19781</th>\n",
       "      <td>US</td>\n",
       "      <td>127670</td>\n",
       "      <td>41.275</td>\n",
       "      <td>-124.398</td>\n",
       "      <td>1998</td>\n",
       "      <td>7</td>\n",
       "      <td>19</td>\n",
       "      <td>5.78</td>\n",
       "      <td>8131746</td>\n",
       "      <td>14.24</td>\n",
       "      <td>...</td>\n",
       "      <td>NaN</td>\n",
       "      <td>NaN</td>\n",
       "      <td>NaN</td>\n",
       "      <td>NaN</td>\n",
       "      <td>NaN</td>\n",
       "      <td>NaN</td>\n",
       "      <td>NaN</td>\n",
       "      <td>NaN</td>\n",
       "      <td>NaN</td>\n",
       "      <td>NaN</td>\n",
       "    </tr>\n",
       "    <tr>\n",
       "      <th>19783</th>\n",
       "      <td>US</td>\n",
       "      <td>127670</td>\n",
       "      <td>41.633</td>\n",
       "      <td>-124.350</td>\n",
       "      <td>1998</td>\n",
       "      <td>7</td>\n",
       "      <td>19</td>\n",
       "      <td>19.37</td>\n",
       "      <td>8131762</td>\n",
       "      <td>13.48</td>\n",
       "      <td>...</td>\n",
       "      <td>NaN</td>\n",
       "      <td>NaN</td>\n",
       "      <td>NaN</td>\n",
       "      <td>NaN</td>\n",
       "      <td>NaN</td>\n",
       "      <td>NaN</td>\n",
       "      <td>NaN</td>\n",
       "      <td>NaN</td>\n",
       "      <td>NaN</td>\n",
       "      <td>NaN</td>\n",
       "    </tr>\n",
       "  </tbody>\n",
       "</table>\n",
       "<p>5 rows × 146 columns</p>\n",
       "</div>"
      ],
      "text/plain": [
       "      ISO_country  Cruise_ID  Latitude  Longitude  Year  Month  Day   Time  \\\n",
       "19761          US     127670    40.372   -124.487  1998      7   17   2.57   \n",
       "19775          US     127670    41.133   -124.418  1998      7   18  18.92   \n",
       "19776          US     127670    41.135   -124.338  1998      7   18  19.23   \n",
       "19781          US     127670    41.275   -124.398  1998      7   19   5.78   \n",
       "19783          US     127670    41.633   -124.350  1998      7   19  19.37   \n",
       "\n",
       "       WOD_unique  Temp_0m     ...      Temp_8100m  Temp_8200m  Temp_8300m  \\\n",
       "19761     8131664    13.40     ...             NaN         NaN         NaN   \n",
       "19775     8131727    13.45     ...             NaN         NaN         NaN   \n",
       "19776     8131729    13.18     ...             NaN         NaN         NaN   \n",
       "19781     8131746    14.24     ...             NaN         NaN         NaN   \n",
       "19783     8131762    13.48     ...             NaN         NaN         NaN   \n",
       "\n",
       "       Temp_8400m  Temp_8500m  Temp_8600m  Temp_8700m  Temp_8800m  Temp_8900m  \\\n",
       "19761         NaN         NaN         NaN         NaN         NaN         NaN   \n",
       "19775         NaN         NaN         NaN         NaN         NaN         NaN   \n",
       "19776         NaN         NaN         NaN         NaN         NaN         NaN   \n",
       "19781         NaN         NaN         NaN         NaN         NaN         NaN   \n",
       "19783         NaN         NaN         NaN         NaN         NaN         NaN   \n",
       "\n",
       "       Temp_9000m  \n",
       "19761         NaN  \n",
       "19775         NaN  \n",
       "19776         NaN  \n",
       "19781         NaN  \n",
       "19783         NaN  \n",
       "\n",
       "[5 rows x 146 columns]"
      ]
     },
     "execution_count": 192,
     "metadata": {},
     "output_type": "execute_result"
    }
   ],
   "source": [
    "xbt.head()\n",
    "#xbt.iloc[:1000,:26].head(1000)"
   ]
  },
  {
   "cell_type": "code",
   "execution_count": 193,
   "metadata": {
    "scrolled": false
   },
   "outputs": [
    {
     "data": {
      "text/html": [
       "<div>\n",
       "<style scoped>\n",
       "    .dataframe tbody tr th:only-of-type {\n",
       "        vertical-align: middle;\n",
       "    }\n",
       "\n",
       "    .dataframe tbody tr th {\n",
       "        vertical-align: top;\n",
       "    }\n",
       "\n",
       "    .dataframe thead th {\n",
       "        text-align: right;\n",
       "    }\n",
       "</style>\n",
       "<table border=\"1\" class=\"dataframe\">\n",
       "  <thead>\n",
       "    <tr style=\"text-align: right;\">\n",
       "      <th></th>\n",
       "      <th>Temp_0m</th>\n",
       "      <th>Temp_5m</th>\n",
       "      <th>Temp_10m</th>\n",
       "      <th>Temp_15m</th>\n",
       "      <th>Temp_20m</th>\n",
       "      <th>Temp_25m</th>\n",
       "      <th>Temp_30m</th>\n",
       "      <th>Temp_35m</th>\n",
       "      <th>Temp_40m</th>\n",
       "      <th>Temp_45m</th>\n",
       "      <th>...</th>\n",
       "      <th>Temp_8200m</th>\n",
       "      <th>Temp_8300m</th>\n",
       "      <th>Temp_8400m</th>\n",
       "      <th>Temp_8500m</th>\n",
       "      <th>Temp_8600m</th>\n",
       "      <th>Temp_8700m</th>\n",
       "      <th>Temp_8800m</th>\n",
       "      <th>Temp_8900m</th>\n",
       "      <th>Temp_9000m</th>\n",
       "      <th>geometry</th>\n",
       "    </tr>\n",
       "  </thead>\n",
       "  <tbody>\n",
       "    <tr>\n",
       "      <th>0</th>\n",
       "      <td>13.40</td>\n",
       "      <td>11.52</td>\n",
       "      <td>11.47</td>\n",
       "      <td>11.53</td>\n",
       "      <td>10.87</td>\n",
       "      <td>10.69</td>\n",
       "      <td>10.53</td>\n",
       "      <td>10.00</td>\n",
       "      <td>9.81</td>\n",
       "      <td>9.79</td>\n",
       "      <td>...</td>\n",
       "      <td>NaN</td>\n",
       "      <td>NaN</td>\n",
       "      <td>NaN</td>\n",
       "      <td>NaN</td>\n",
       "      <td>NaN</td>\n",
       "      <td>NaN</td>\n",
       "      <td>NaN</td>\n",
       "      <td>NaN</td>\n",
       "      <td>NaN</td>\n",
       "      <td>POINT (-124.487 40.372)</td>\n",
       "    </tr>\n",
       "    <tr>\n",
       "      <th>1</th>\n",
       "      <td>13.45</td>\n",
       "      <td>12.02</td>\n",
       "      <td>11.94</td>\n",
       "      <td>11.86</td>\n",
       "      <td>11.06</td>\n",
       "      <td>10.45</td>\n",
       "      <td>9.88</td>\n",
       "      <td>9.90</td>\n",
       "      <td>9.75</td>\n",
       "      <td>9.53</td>\n",
       "      <td>...</td>\n",
       "      <td>NaN</td>\n",
       "      <td>NaN</td>\n",
       "      <td>NaN</td>\n",
       "      <td>NaN</td>\n",
       "      <td>NaN</td>\n",
       "      <td>NaN</td>\n",
       "      <td>NaN</td>\n",
       "      <td>NaN</td>\n",
       "      <td>NaN</td>\n",
       "      <td>POINT (-124.418 41.133)</td>\n",
       "    </tr>\n",
       "    <tr>\n",
       "      <th>2</th>\n",
       "      <td>13.18</td>\n",
       "      <td>12.22</td>\n",
       "      <td>11.91</td>\n",
       "      <td>10.63</td>\n",
       "      <td>9.69</td>\n",
       "      <td>9.49</td>\n",
       "      <td>9.17</td>\n",
       "      <td>9.07</td>\n",
       "      <td>9.06</td>\n",
       "      <td>9.08</td>\n",
       "      <td>...</td>\n",
       "      <td>NaN</td>\n",
       "      <td>NaN</td>\n",
       "      <td>NaN</td>\n",
       "      <td>NaN</td>\n",
       "      <td>NaN</td>\n",
       "      <td>NaN</td>\n",
       "      <td>NaN</td>\n",
       "      <td>NaN</td>\n",
       "      <td>NaN</td>\n",
       "      <td>POINT (-124.338 41.135)</td>\n",
       "    </tr>\n",
       "    <tr>\n",
       "      <th>3</th>\n",
       "      <td>14.24</td>\n",
       "      <td>12.22</td>\n",
       "      <td>10.69</td>\n",
       "      <td>9.67</td>\n",
       "      <td>9.38</td>\n",
       "      <td>9.15</td>\n",
       "      <td>8.86</td>\n",
       "      <td>8.86</td>\n",
       "      <td>8.87</td>\n",
       "      <td>8.85</td>\n",
       "      <td>...</td>\n",
       "      <td>NaN</td>\n",
       "      <td>NaN</td>\n",
       "      <td>NaN</td>\n",
       "      <td>NaN</td>\n",
       "      <td>NaN</td>\n",
       "      <td>NaN</td>\n",
       "      <td>NaN</td>\n",
       "      <td>NaN</td>\n",
       "      <td>NaN</td>\n",
       "      <td>POINT (-124.398 41.275)</td>\n",
       "    </tr>\n",
       "    <tr>\n",
       "      <th>4</th>\n",
       "      <td>13.48</td>\n",
       "      <td>12.12</td>\n",
       "      <td>11.31</td>\n",
       "      <td>11.09</td>\n",
       "      <td>11.00</td>\n",
       "      <td>10.73</td>\n",
       "      <td>10.68</td>\n",
       "      <td>10.84</td>\n",
       "      <td>10.28</td>\n",
       "      <td>9.87</td>\n",
       "      <td>...</td>\n",
       "      <td>NaN</td>\n",
       "      <td>NaN</td>\n",
       "      <td>NaN</td>\n",
       "      <td>NaN</td>\n",
       "      <td>NaN</td>\n",
       "      <td>NaN</td>\n",
       "      <td>NaN</td>\n",
       "      <td>NaN</td>\n",
       "      <td>NaN</td>\n",
       "      <td>POINT (-124.35 41.633)</td>\n",
       "    </tr>\n",
       "  </tbody>\n",
       "</table>\n",
       "<p>5 rows × 138 columns</p>\n",
       "</div>"
      ],
      "text/plain": [
       "   Temp_0m  Temp_5m  Temp_10m  Temp_15m  Temp_20m  Temp_25m  Temp_30m  \\\n",
       "0    13.40    11.52     11.47     11.53     10.87     10.69     10.53   \n",
       "1    13.45    12.02     11.94     11.86     11.06     10.45      9.88   \n",
       "2    13.18    12.22     11.91     10.63      9.69      9.49      9.17   \n",
       "3    14.24    12.22     10.69      9.67      9.38      9.15      8.86   \n",
       "4    13.48    12.12     11.31     11.09     11.00     10.73     10.68   \n",
       "\n",
       "   Temp_35m  Temp_40m  Temp_45m           ...             Temp_8200m  \\\n",
       "0     10.00      9.81      9.79           ...                    NaN   \n",
       "1      9.90      9.75      9.53           ...                    NaN   \n",
       "2      9.07      9.06      9.08           ...                    NaN   \n",
       "3      8.86      8.87      8.85           ...                    NaN   \n",
       "4     10.84     10.28      9.87           ...                    NaN   \n",
       "\n",
       "   Temp_8300m  Temp_8400m  Temp_8500m  Temp_8600m  Temp_8700m  Temp_8800m  \\\n",
       "0         NaN         NaN         NaN         NaN         NaN         NaN   \n",
       "1         NaN         NaN         NaN         NaN         NaN         NaN   \n",
       "2         NaN         NaN         NaN         NaN         NaN         NaN   \n",
       "3         NaN         NaN         NaN         NaN         NaN         NaN   \n",
       "4         NaN         NaN         NaN         NaN         NaN         NaN   \n",
       "\n",
       "   Temp_8900m  Temp_9000m                 geometry  \n",
       "0         NaN         NaN  POINT (-124.487 40.372)  \n",
       "1         NaN         NaN  POINT (-124.418 41.133)  \n",
       "2         NaN         NaN  POINT (-124.338 41.135)  \n",
       "3         NaN         NaN  POINT (-124.398 41.275)  \n",
       "4         NaN         NaN   POINT (-124.35 41.633)  \n",
       "\n",
       "[5 rows x 138 columns]"
      ]
     },
     "execution_count": 193,
     "metadata": {},
     "output_type": "execute_result"
    },
    {
     "data": {
      "image/png": "[encoded data removed]",
      "text/plain": [
       "<matplotlib.figure.Figure at 0x7f127b65ecc0>"
      ]
     },
     "metadata": {},
     "output_type": "display_data"
    }
   ],
   "source": [
    "xbt_geom = xbt.apply(lambda x : Point([x['Longitude'],x['Latitude']]), axis=1)\n",
    "xbt = gpd.GeoDataFrame(xbt, geometry = xbt_geom, crs = {'init' : 'epsg:4326'})\n",
    "xbt = xbt.iloc[:,9:] #drop certain columns\n",
    "xbt.reset_index(inplace=True, drop=True)\n",
    "xbt.plot()\n",
    "xbt.head()"
   ]
  },
  {
   "cell_type": "code",
   "execution_count": 113,
   "metadata": {},
   "outputs": [],
   "source": [
    "#xbt_sub = xbt[xbt['Latitude'] == 49.172]\n",
    "#xbt_sub[xbt_sub.duplicated(['Latitude','Latitude'], keep = False)]\n",
    "#xbt[xbt.duplicated(['Latitude','Latitude'], keep = False)]\n",
    "#test = pd.DataFrame({'col1':[0,0,2,2,4,5,4], 'col2':[0,1,3,3,6,7,6]})\n",
    "#test.head()\n",
    "#test[test.duplicated(['col1','col2'], keep = False)]"
   ]
  },
  {
   "cell_type": "code",
   "execution_count": 194,
   "metadata": {
    "scrolled": false
   },
   "outputs": [],
   "source": [
    "#def strip_depth_from_col(colname):\n",
    "#    regex = 'Temp_(\\d+)m'\n",
    "#    depth = int(re.match(regex,colname).groups()[0])\n",
    "#    return depth\n",
    "    \n",
    "def find_seafloor(cols):\n",
    "    rock_bottom = np.max(np.where(cols[:-1].notnull())) # don't check for the geometry column\n",
    "    temp_seafloor = cols[rock_bottom]\n",
    "#    z_seafloor = strip_depth_from_col(cols.index[rock_bottom])\n",
    "    return cols[rock_bottom]#, z_seafloor"
   ]
  },
  {
   "cell_type": "code",
   "execution_count": 195,
   "metadata": {},
   "outputs": [
    {
     "data": {
      "text/html": [
       "<div>\n",
       "<style scoped>\n",
       "    .dataframe tbody tr th:only-of-type {\n",
       "        vertical-align: middle;\n",
       "    }\n",
       "\n",
       "    .dataframe tbody tr th {\n",
       "        vertical-align: top;\n",
       "    }\n",
       "\n",
       "    .dataframe thead th {\n",
       "        text-align: right;\n",
       "    }\n",
       "</style>\n",
       "<table border=\"1\" class=\"dataframe\">\n",
       "  <thead>\n",
       "    <tr style=\"text-align: right;\">\n",
       "      <th></th>\n",
       "      <th>Temp_0m</th>\n",
       "      <th>Temp_5m</th>\n",
       "      <th>Temp_10m</th>\n",
       "      <th>Temp_15m</th>\n",
       "      <th>Temp_20m</th>\n",
       "      <th>Temp_25m</th>\n",
       "      <th>Temp_30m</th>\n",
       "      <th>Temp_35m</th>\n",
       "      <th>Temp_40m</th>\n",
       "      <th>Temp_45m</th>\n",
       "      <th>...</th>\n",
       "      <th>Temp_8300m</th>\n",
       "      <th>Temp_8400m</th>\n",
       "      <th>Temp_8500m</th>\n",
       "      <th>Temp_8600m</th>\n",
       "      <th>Temp_8700m</th>\n",
       "      <th>Temp_8800m</th>\n",
       "      <th>Temp_8900m</th>\n",
       "      <th>Temp_9000m</th>\n",
       "      <th>geometry</th>\n",
       "      <th>temp_floor</th>\n",
       "    </tr>\n",
       "  </thead>\n",
       "  <tbody>\n",
       "    <tr>\n",
       "      <th>0</th>\n",
       "      <td>13.40</td>\n",
       "      <td>11.52</td>\n",
       "      <td>11.47</td>\n",
       "      <td>11.53</td>\n",
       "      <td>10.87</td>\n",
       "      <td>10.69</td>\n",
       "      <td>10.53</td>\n",
       "      <td>10.00</td>\n",
       "      <td>9.81</td>\n",
       "      <td>9.79</td>\n",
       "      <td>...</td>\n",
       "      <td>NaN</td>\n",
       "      <td>NaN</td>\n",
       "      <td>NaN</td>\n",
       "      <td>NaN</td>\n",
       "      <td>NaN</td>\n",
       "      <td>NaN</td>\n",
       "      <td>NaN</td>\n",
       "      <td>NaN</td>\n",
       "      <td>POINT (-124.487 40.372)</td>\n",
       "      <td>9.56</td>\n",
       "    </tr>\n",
       "    <tr>\n",
       "      <th>1</th>\n",
       "      <td>13.45</td>\n",
       "      <td>12.02</td>\n",
       "      <td>11.94</td>\n",
       "      <td>11.86</td>\n",
       "      <td>11.06</td>\n",
       "      <td>10.45</td>\n",
       "      <td>9.88</td>\n",
       "      <td>9.90</td>\n",
       "      <td>9.75</td>\n",
       "      <td>9.53</td>\n",
       "      <td>...</td>\n",
       "      <td>NaN</td>\n",
       "      <td>NaN</td>\n",
       "      <td>NaN</td>\n",
       "      <td>NaN</td>\n",
       "      <td>NaN</td>\n",
       "      <td>NaN</td>\n",
       "      <td>NaN</td>\n",
       "      <td>NaN</td>\n",
       "      <td>POINT (-124.418 41.133)</td>\n",
       "      <td>8.71</td>\n",
       "    </tr>\n",
       "    <tr>\n",
       "      <th>2</th>\n",
       "      <td>13.18</td>\n",
       "      <td>12.22</td>\n",
       "      <td>11.91</td>\n",
       "      <td>10.63</td>\n",
       "      <td>9.69</td>\n",
       "      <td>9.49</td>\n",
       "      <td>9.17</td>\n",
       "      <td>9.07</td>\n",
       "      <td>9.06</td>\n",
       "      <td>9.08</td>\n",
       "      <td>...</td>\n",
       "      <td>NaN</td>\n",
       "      <td>NaN</td>\n",
       "      <td>NaN</td>\n",
       "      <td>NaN</td>\n",
       "      <td>NaN</td>\n",
       "      <td>NaN</td>\n",
       "      <td>NaN</td>\n",
       "      <td>NaN</td>\n",
       "      <td>POINT (-124.338 41.135)</td>\n",
       "      <td>8.76</td>\n",
       "    </tr>\n",
       "    <tr>\n",
       "      <th>3</th>\n",
       "      <td>14.24</td>\n",
       "      <td>12.22</td>\n",
       "      <td>10.69</td>\n",
       "      <td>9.67</td>\n",
       "      <td>9.38</td>\n",
       "      <td>9.15</td>\n",
       "      <td>8.86</td>\n",
       "      <td>8.86</td>\n",
       "      <td>8.87</td>\n",
       "      <td>8.85</td>\n",
       "      <td>...</td>\n",
       "      <td>NaN</td>\n",
       "      <td>NaN</td>\n",
       "      <td>NaN</td>\n",
       "      <td>NaN</td>\n",
       "      <td>NaN</td>\n",
       "      <td>NaN</td>\n",
       "      <td>NaN</td>\n",
       "      <td>NaN</td>\n",
       "      <td>POINT (-124.398 41.275)</td>\n",
       "      <td>8.41</td>\n",
       "    </tr>\n",
       "    <tr>\n",
       "      <th>4</th>\n",
       "      <td>13.48</td>\n",
       "      <td>12.12</td>\n",
       "      <td>11.31</td>\n",
       "      <td>11.09</td>\n",
       "      <td>11.00</td>\n",
       "      <td>10.73</td>\n",
       "      <td>10.68</td>\n",
       "      <td>10.84</td>\n",
       "      <td>10.28</td>\n",
       "      <td>9.87</td>\n",
       "      <td>...</td>\n",
       "      <td>NaN</td>\n",
       "      <td>NaN</td>\n",
       "      <td>NaN</td>\n",
       "      <td>NaN</td>\n",
       "      <td>NaN</td>\n",
       "      <td>NaN</td>\n",
       "      <td>NaN</td>\n",
       "      <td>NaN</td>\n",
       "      <td>POINT (-124.35 41.633)</td>\n",
       "      <td>9.28</td>\n",
       "    </tr>\n",
       "  </tbody>\n",
       "</table>\n",
       "<p>5 rows × 139 columns</p>\n",
       "</div>"
      ],
      "text/plain": [
       "   Temp_0m  Temp_5m  Temp_10m  Temp_15m  Temp_20m  Temp_25m  Temp_30m  \\\n",
       "0    13.40    11.52     11.47     11.53     10.87     10.69     10.53   \n",
       "1    13.45    12.02     11.94     11.86     11.06     10.45      9.88   \n",
       "2    13.18    12.22     11.91     10.63      9.69      9.49      9.17   \n",
       "3    14.24    12.22     10.69      9.67      9.38      9.15      8.86   \n",
       "4    13.48    12.12     11.31     11.09     11.00     10.73     10.68   \n",
       "\n",
       "   Temp_35m  Temp_40m  Temp_45m     ...      Temp_8300m  Temp_8400m  \\\n",
       "0     10.00      9.81      9.79     ...             NaN         NaN   \n",
       "1      9.90      9.75      9.53     ...             NaN         NaN   \n",
       "2      9.07      9.06      9.08     ...             NaN         NaN   \n",
       "3      8.86      8.87      8.85     ...             NaN         NaN   \n",
       "4     10.84     10.28      9.87     ...             NaN         NaN   \n",
       "\n",
       "   Temp_8500m  Temp_8600m  Temp_8700m  Temp_8800m  Temp_8900m  Temp_9000m  \\\n",
       "0         NaN         NaN         NaN         NaN         NaN         NaN   \n",
       "1         NaN         NaN         NaN         NaN         NaN         NaN   \n",
       "2         NaN         NaN         NaN         NaN         NaN         NaN   \n",
       "3         NaN         NaN         NaN         NaN         NaN         NaN   \n",
       "4         NaN         NaN         NaN         NaN         NaN         NaN   \n",
       "\n",
       "                  geometry  temp_floor  \n",
       "0  POINT (-124.487 40.372)        9.56  \n",
       "1  POINT (-124.418 41.133)        8.71  \n",
       "2  POINT (-124.338 41.135)        8.76  \n",
       "3  POINT (-124.398 41.275)        8.41  \n",
       "4   POINT (-124.35 41.633)        9.28  \n",
       "\n",
       "[5 rows x 139 columns]"
      ]
     },
     "execution_count": 195,
     "metadata": {},
     "output_type": "execute_result"
    }
   ],
   "source": [
    "xbt['temp_floor'] = xbt.apply(find_seafloor, axis=1)\n",
    "xbt.head()"
   ]
  },
  {
   "cell_type": "code",
   "execution_count": 202,
   "metadata": {},
   "outputs": [],
   "source": [
    "#plt.hist(xbt.temp_floor, bins=50)\n",
    "xbt = xbt.iloc[:,-2:]\n",
    "xbt.head()\n",
    "xbt.to_pickle('../data/pickles/temp_floor.pkl')"
   ]
  },
  {
   "cell_type": "markdown",
   "metadata": {},
   "source": [
    "# Read Kelp Locations"
   ]
  },
  {
   "cell_type": "code",
   "execution_count": 6,
   "metadata": {},
   "outputs": [
    {
     "name": "stdout",
     "output_type": "stream",
     "text": [
      "Kelp Forest Coordinate Bounds: \n",
      " [(32.35732391,-122.3298817), (37.11449796,-117.1293993)]\n"
     ]
    },
    {
     "data": {
      "text/html": [
       "<div>\n",
       "<style scoped>\n",
       "    .dataframe tbody tr th:only-of-type {\n",
       "        vertical-align: middle;\n",
       "    }\n",
       "\n",
       "    .dataframe tbody tr th {\n",
       "        vertical-align: top;\n",
       "    }\n",
       "\n",
       "    .dataframe thead th {\n",
       "        text-align: right;\n",
       "    }\n",
       "</style>\n",
       "<table border=\"1\" class=\"dataframe\">\n",
       "  <thead>\n",
       "    <tr style=\"text-align: right;\">\n",
       "      <th></th>\n",
       "      <th>lat</th>\n",
       "      <th>lon</th>\n",
       "      <th>biomass</th>\n",
       "      <th>geometry</th>\n",
       "    </tr>\n",
       "  </thead>\n",
       "  <tbody>\n",
       "    <tr>\n",
       "      <th>0</th>\n",
       "      <td>32.519277</td>\n",
       "      <td>-117.142836</td>\n",
       "      <td>265.0</td>\n",
       "      <td>POINT (32.51927713 -117.1428356)</td>\n",
       "    </tr>\n",
       "    <tr>\n",
       "      <th>1</th>\n",
       "      <td>32.519547</td>\n",
       "      <td>-117.143155</td>\n",
       "      <td>635.0</td>\n",
       "      <td>POINT (32.5195474 -117.1431554)</td>\n",
       "    </tr>\n",
       "    <tr>\n",
       "      <th>2</th>\n",
       "      <td>32.519548</td>\n",
       "      <td>-117.142836</td>\n",
       "      <td>275.0</td>\n",
       "      <td>POINT (32.51954776 -117.142836)</td>\n",
       "    </tr>\n",
       "    <tr>\n",
       "      <th>3</th>\n",
       "      <td>32.519548</td>\n",
       "      <td>-117.142197</td>\n",
       "      <td>272.0</td>\n",
       "      <td>POINT (32.51954849 -117.1421972)</td>\n",
       "    </tr>\n",
       "    <tr>\n",
       "      <th>4</th>\n",
       "      <td>32.519818</td>\n",
       "      <td>-117.143156</td>\n",
       "      <td>565.0</td>\n",
       "      <td>POINT (32.51981803 -117.1431559)</td>\n",
       "    </tr>\n",
       "  </tbody>\n",
       "</table>\n",
       "</div>"
      ],
      "text/plain": [
       "         lat         lon  biomass                          geometry\n",
       "0  32.519277 -117.142836    265.0  POINT (32.51927713 -117.1428356)\n",
       "1  32.519547 -117.143155    635.0   POINT (32.5195474 -117.1431554)\n",
       "2  32.519548 -117.142836    275.0   POINT (32.51954776 -117.142836)\n",
       "3  32.519548 -117.142197    272.0  POINT (32.51954849 -117.1421972)\n",
       "4  32.519818 -117.143156    565.0  POINT (32.51981803 -117.1431559)"
      ]
     },
     "execution_count": 6,
     "metadata": {},
     "output_type": "execute_result"
    }
   ],
   "source": [
    "kelp_forest = xr.open_dataset(\"../data/kelp_biomass/LandsatKelpBiomass_2017.nc\").to_dataframe() #biomass in kg\n",
    "print(\"Kelp Forest Coordinate Bounds: \\n [({},{}), ({},{})]\"\\\n",
    "      .format(min(kelp_forest.lat), min(kelp_forest.lon), max(kelp_forest.lat), max(kelp_forest.lon)))\n",
    "areas_with_kelp = kelp_forest[(kelp_forest.year == 2015) & (kelp_forest.quarter == 4) & (kelp_forest.biomass > 0)]\n",
    "geom = areas_with_kelp.apply(lambda x : Point([x['lat'],x['lon']]), axis=1)\n",
    "kelper = gpd.GeoDataFrame(areas_with_kelp, crs = {'init' :'epsg:4326'}, geometry=geom) #geom is a Series\n",
    "kelper = kelper.reset_index()\n",
    "kelper = kelper.iloc[:, [2, 3, 6, 12]]\n",
    "kelper.to_pickle('../data/pickles/kelp_biomass.pkl')\n",
    "kelper.head()"
   ]
  },
  {
   "cell_type": "code",
   "execution_count": 5,
   "metadata": {},
   "outputs": [
    {
     "data": {
      "text/plain": [
       "<matplotlib.axes._subplots.AxesSubplot at 0x7f9bd45095f8>"
      ]
     },
     "execution_count": 5,
     "metadata": {},
     "output_type": "execute_result"
    },
    {
     "data": {
      "image/png": "[encoded data removed]",
      "text/plain": [
       "<matplotlib.figure.Figure at 0x7f9b9fdd95f8>"
      ]
     },
     "metadata": {},
     "output_type": "display_data"
    }
   ],
   "source": [
    "kelper.plot()"
   ]
  },
  {
   "cell_type": "code",
   "execution_count": 3,
   "metadata": {},
   "outputs": [],
   "source": [
    "a = gpd.read_file('../../data/MAN_CA_KelpAdmin/MAN_CA_KelpAdmin.shp')"
   ]
  },
  {
   "cell_type": "code",
   "execution_count": 4,
   "metadata": {
    "scrolled": false
   },
   "outputs": [
    {
     "data": {
      "text/html": [
       "<div>\n",
       "<style scoped>\n",
       "    .dataframe tbody tr th:only-of-type {\n",
       "        vertical-align: middle;\n",
       "    }\n",
       "\n",
       "    .dataframe tbody tr th {\n",
       "        vertical-align: top;\n",
       "    }\n",
       "\n",
       "    .dataframe thead th {\n",
       "        text-align: right;\n",
       "    }\n",
       "</style>\n",
       "<table border=\"1\" class=\"dataframe\">\n",
       "  <thead>\n",
       "    <tr style=\"text-align: right;\">\n",
       "      <th></th>\n",
       "      <th>KelpBed</th>\n",
       "      <th>Exclusions</th>\n",
       "      <th>Status</th>\n",
       "      <th>Shape_Leng</th>\n",
       "      <th>Lessee</th>\n",
       "      <th>TermEnds</th>\n",
       "      <th>Shape_Le_1</th>\n",
       "      <th>Shape_Area</th>\n",
       "      <th>geometry</th>\n",
       "    </tr>\n",
       "  </thead>\n",
       "  <tbody>\n",
       "    <tr>\n",
       "      <th>0</th>\n",
       "      <td>1</td>\n",
       "      <td>None</td>\n",
       "      <td>OPEN</td>\n",
       "      <td>47791.266131</td>\n",
       "      <td>None</td>\n",
       "      <td>None</td>\n",
       "      <td>47791.266131</td>\n",
       "      <td>4.429537e+07</td>\n",
       "      <td>POLYGON ((269959.375 -601949.5, 269971.8438000...</td>\n",
       "    </tr>\n",
       "    <tr>\n",
       "      <th>1</th>\n",
       "      <td>2</td>\n",
       "      <td>None</td>\n",
       "      <td>OPEN</td>\n",
       "      <td>162157.655298</td>\n",
       "      <td>None</td>\n",
       "      <td>None</td>\n",
       "      <td>162157.655298</td>\n",
       "      <td>1.413336e+08</td>\n",
       "      <td>POLYGON ((262135.2813000008 -582135, 262134.93...</td>\n",
       "    </tr>\n",
       "    <tr>\n",
       "      <th>2</th>\n",
       "      <td>3</td>\n",
       "      <td>None</td>\n",
       "      <td>LEASED</td>\n",
       "      <td>35916.074628</td>\n",
       "      <td>KNOCEAN Sciences, Inc.</td>\n",
       "      <td>2017-04-11</td>\n",
       "      <td>35916.074628</td>\n",
       "      <td>6.300310e+07</td>\n",
       "      <td>POLYGON ((251498.261500001 -580250.8181999996,...</td>\n",
       "    </tr>\n",
       "    <tr>\n",
       "      <th>3</th>\n",
       "      <td>4</td>\n",
       "      <td>None</td>\n",
       "      <td>LEASABLE</td>\n",
       "      <td>101285.862462</td>\n",
       "      <td>None</td>\n",
       "      <td>None</td>\n",
       "      <td>101285.862462</td>\n",
       "      <td>9.546491e+07</td>\n",
       "      <td>POLYGON ((256441.9941999987 -570015.5066999998...</td>\n",
       "    </tr>\n",
       "    <tr>\n",
       "      <th>4</th>\n",
       "      <td>5</td>\n",
       "      <td>None</td>\n",
       "      <td>LEASABLE</td>\n",
       "      <td>41830.085472</td>\n",
       "      <td>None</td>\n",
       "      <td>None</td>\n",
       "      <td>41830.085472</td>\n",
       "      <td>6.637086e+07</td>\n",
       "      <td>POLYGON ((249535.8663999997 -556316.0986000001...</td>\n",
       "    </tr>\n",
       "  </tbody>\n",
       "</table>\n",
       "</div>"
      ],
      "text/plain": [
       "   KelpBed Exclusions    Status     Shape_Leng                  Lessee  \\\n",
       "0        1       None      OPEN   47791.266131                    None   \n",
       "1        2       None      OPEN  162157.655298                    None   \n",
       "2        3       None    LEASED   35916.074628  KNOCEAN Sciences, Inc.   \n",
       "3        4       None  LEASABLE  101285.862462                    None   \n",
       "4        5       None  LEASABLE   41830.085472                    None   \n",
       "\n",
       "     TermEnds     Shape_Le_1    Shape_Area  \\\n",
       "0        None   47791.266131  4.429537e+07   \n",
       "1        None  162157.655298  1.413336e+08   \n",
       "2  2017-04-11   35916.074628  6.300310e+07   \n",
       "3        None  101285.862462  9.546491e+07   \n",
       "4        None   41830.085472  6.637086e+07   \n",
       "\n",
       "                                            geometry  \n",
       "0  POLYGON ((269959.375 -601949.5, 269971.8438000...  \n",
       "1  POLYGON ((262135.2813000008 -582135, 262134.93...  \n",
       "2  POLYGON ((251498.261500001 -580250.8181999996,...  \n",
       "3  POLYGON ((256441.9941999987 -570015.5066999998...  \n",
       "4  POLYGON ((249535.8663999997 -556316.0986000001...  "
      ]
     },
     "execution_count": 4,
     "metadata": {},
     "output_type": "execute_result"
    }
   ],
   "source": [
    "a.head()"
   ]
  },
  {
   "cell_type": "code",
   "execution_count": 5,
   "metadata": {},
   "outputs": [
    {
     "data": {
      "text/plain": [
       "<matplotlib.axes._subplots.AxesSubplot at 0x7fc6ad378630>"
      ]
     },
     "execution_count": 5,
     "metadata": {},
     "output_type": "execute_result"
    },
    {
     "data": {
      "image/png": "[encoded data removed]",
      "text/plain": [
       "<matplotlib.figure.Figure at 0x7fc6ef60e8d0>"
      ]
     },
     "metadata": {},
     "output_type": "display_data"
    }
   ],
   "source": [
    "a.plot()"
   ]
  },
  {
   "cell_type": "code",
   "execution_count": 10,
   "metadata": {},
   "outputs": [
    {
     "data": {
      "text/plain": [
       "(87, 9)"
      ]
     },
     "execution_count": 10,
     "metadata": {},
     "output_type": "execute_result"
    }
   ],
   "source": [
    "a.shape"
   ]
  },
  {
   "cell_type": "code",
   "execution_count": 132,
   "metadata": {},
   "outputs": [
    {
     "name": "stdout",
     "output_type": "stream",
     "text": [
      "BIO_CA_Kelp2014.shp\n",
      "BIO_CA_Kelp2015.shp\n",
      "BIO_CA_Kelp2016.shp\n",
      "(4418634, 1)\n"
     ]
    },
    {
     "data": {
      "text/html": [
       "<div>\n",
       "<style scoped>\n",
       "    .dataframe tbody tr th:only-of-type {\n",
       "        vertical-align: middle;\n",
       "    }\n",
       "\n",
       "    .dataframe tbody tr th {\n",
       "        vertical-align: top;\n",
       "    }\n",
       "\n",
       "    .dataframe thead th {\n",
       "        text-align: right;\n",
       "    }\n",
       "</style>\n",
       "<table border=\"1\" class=\"dataframe\">\n",
       "  <thead>\n",
       "    <tr style=\"text-align: right;\">\n",
       "      <th></th>\n",
       "      <th>geometry</th>\n",
       "    </tr>\n",
       "  </thead>\n",
       "  <tbody>\n",
       "    <tr>\n",
       "      <th>0</th>\n",
       "      <td>POLYGON ((-117.1615439609101 32.55037319228528...</td>\n",
       "    </tr>\n",
       "    <tr>\n",
       "      <th>1</th>\n",
       "      <td>POLYGON ((-117.162073917011 32.55042282280107,...</td>\n",
       "    </tr>\n",
       "    <tr>\n",
       "      <th>2</th>\n",
       "      <td>POLYGON ((-117.1616276847815 32.55041146824276...</td>\n",
       "    </tr>\n",
       "    <tr>\n",
       "      <th>3</th>\n",
       "      <td>POLYGON ((-117.1616914322351 32.5504130904318,...</td>\n",
       "    </tr>\n",
       "    <tr>\n",
       "      <th>4</th>\n",
       "      <td>POLYGON ((-117.1621125979007 32.55053224304624...</td>\n",
       "    </tr>\n",
       "  </tbody>\n",
       "</table>\n",
       "</div>"
      ],
      "text/plain": [
       "                                            geometry\n",
       "0  POLYGON ((-117.1615439609101 32.55037319228528...\n",
       "1  POLYGON ((-117.162073917011 32.55042282280107,...\n",
       "2  POLYGON ((-117.1616276847815 32.55041146824276...\n",
       "3  POLYGON ((-117.1616914322351 32.5504130904318,...\n",
       "4  POLYGON ((-117.1621125979007 32.55053224304624..."
      ]
     },
     "execution_count": 132,
     "metadata": {},
     "output_type": "execute_result"
    }
   ],
   "source": [
    "kelp_points = []\n",
    "for f in os.listdir('../../data/kelp/all_kelp'):\n",
    "    fname, ext = os.path.splitext(f)\n",
    "    if ext == \".shp\":\n",
    "        print(fname+ext)\n",
    "        kelp_file = gpd.read_file('../../data/kelp/all_kelp/'+fname+ext)\n",
    "        kelp_file = kelp_file.set_geometry('geometry').to_crs({'init':'epsg:4326'})\n",
    "        for i in range(kelp_file.shape[0]):\n",
    "            #print(\"i\",i)\n",
    "            if type(kelp_file.iloc[i].geometry) == MultiPolygon:\n",
    "                polygons = list(kelp_file.iloc[i].geometry)\n",
    "                kelp_points.extend(polygons)\n",
    "            elif type(kelp_file.iloc[i].geometry) == Polygon:\n",
    "                polygons = kelp_file.iloc[i].geometry\n",
    "                kelp_points.append(polygons)\n",
    "kelp_points = pd.Series(kelp_points)\n",
    "aerial_kelp = pd.DataFrame({'geometry':kelp_points})\n",
    "aerial_kelp = gpd.GeoDataFrame(aerial_kelp, crs = {'init' :'epsg:4326'}, geometry=kelp_points)\n",
    "print(aerial_kelp.shape)\n",
    "aerial_kelp.head()"
   ]
  },
  {
   "cell_type": "markdown",
   "metadata": {},
   "source": [
    "# create grid of CA"
   ]
  },
  {
   "cell_type": "code",
   "execution_count": 133,
   "metadata": {},
   "outputs": [],
   "source": [
    "def squarify(point, increment):\n",
    "    return Polygon([(point[0], point[1]),\n",
    "     (point[0] + increment, point[1]), \n",
    "     (point[0] + increment, point[1] + increment), \n",
    "     (point[0], point[1] + increment)])\n",
    "\n",
    "def desquarify(left_vertices, right_vertices, square_length):\n",
    "    x_num = round((right_vertices[0] - left_vertices[0])/square_length, 0)\n",
    "    y_num = round((right_vertices[1] - left_vertices[1])/square_length, 0)\n",
    "    x_lengths = np.linspace(left_vertices[0], right_vertices[0]-square_length, x_num)\n",
    "    y_lengths = np.linspace(left_vertices[1], right_vertices[1]-square_length, y_num)\n",
    "    return [p for p in product(x_lengths, y_lengths)]"
   ]
  },
  {
   "cell_type": "code",
   "execution_count": 134,
   "metadata": {},
   "outputs": [],
   "source": [
    "def haversine(p1,p2):\n",
    "    \"\"\"\n",
    "    Calculate the great circle distance between two points \n",
    "    on the earth (specified in decimal degrees).\n",
    "    Source: https://gis.stackexchange.com/a/56589/15183\n",
    "    \"\"\"\n",
    "    lon1 = p1[0]\n",
    "    lat1 = p1[1]\n",
    "    lon2 = p2[0]\n",
    "    lat2 = p2[1]\n",
    "    # convert decimal degrees to radians \n",
    "    lon1, lat1, lon2, lat2 = map(radians, [lon1, lat1, lon2, lat2])\n",
    "    # haversine formula \n",
    "    dlon = lon2 - lon1 \n",
    "    dlat = lat2 - lat1 \n",
    "    a = sin(dlat/2)**2 + cos(lat1) * cos(lat2) * sin(dlon/2)**2\n",
    "    c = 2 * asin(sqrt(a)) \n",
    "    km = 6373 * c\n",
    "    return km"
   ]
  },
  {
   "cell_type": "code",
   "execution_count": 135,
   "metadata": {},
   "outputs": [],
   "source": [
    "#just get the base distance for one point b/c this will be close to the the right scaling\n",
    "#add half a degee in lat and lon to get the second point\n",
    "def get_distance_ratio(shape):\n",
    "    p1 = list(shape.representative_point().coords)[0]\n",
    "    p2 = (p1[0]+0.5,p1[1]+0.5)\n",
    "    d_km = haversine(p1,p2)\n",
    "    #just get the base distance for one point b/c this will be close to the the right scaling for all p2s\n",
    "    base_coord_d=Point(p1).distance(Point(p2))\n",
    "    return d_km/base_coord_d\n",
    "def get_distance_to_object(shape, areas):\n",
    "    distance_ratio = get_distance_ratio(shape)\n",
    "    distance = np.min([shape.distance(i) for i in land.geometry])*distance_ratio\n",
    "    return distance"
   ]
  },
  {
   "cell_type": "code",
   "execution_count": 141,
   "metadata": {},
   "outputs": [
    {
     "name": "stderr",
     "output_type": "stream",
     "text": [
      "/home/clay/anaconda3/lib/python3.6/site-packages/ipykernel_launcher.py:10: DeprecationWarning: object of type <class 'float'> cannot be safely interpreted as an integer.\n",
      "  # Remove the CWD from sys.path while we load stuff.\n",
      "/home/clay/anaconda3/lib/python3.6/site-packages/ipykernel_launcher.py:11: DeprecationWarning: object of type <class 'float'> cannot be safely interpreted as an integer.\n",
      "  # This is added back by InteractiveShellApp.init_path()\n"
     ]
    },
    {
     "name": "stdout",
     "output_type": "stream",
     "text": [
      "before culling land there are 699833 rows\n",
      "after culling land there are 370668 rows\n",
      "before culling far away sites there are 370668 rows\n",
      "after culling far away sites there are 19160 rows\n",
      "(19160, 3)\n",
      "19160\n"
     ]
    },
    {
     "data": {
      "text/html": [
       "<div>\n",
       "<style scoped>\n",
       "    .dataframe tbody tr th:only-of-type {\n",
       "        vertical-align: middle;\n",
       "    }\n",
       "\n",
       "    .dataframe tbody tr th {\n",
       "        vertical-align: top;\n",
       "    }\n",
       "\n",
       "    .dataframe thead th {\n",
       "        text-align: right;\n",
       "    }\n",
       "</style>\n",
       "<table border=\"1\" class=\"dataframe\">\n",
       "  <thead>\n",
       "    <tr style=\"text-align: right;\">\n",
       "      <th></th>\n",
       "      <th>geometry</th>\n",
       "      <th>polygon_id</th>\n",
       "      <th>land_distance</th>\n",
       "    </tr>\n",
       "  </thead>\n",
       "  <tbody>\n",
       "    <tr>\n",
       "      <th>4576</th>\n",
       "      <td>POLYGON ((-124.4718600352303 40.41072536363637...</td>\n",
       "      <td>4576</td>\n",
       "      <td>5.436725</td>\n",
       "    </tr>\n",
       "    <tr>\n",
       "      <th>4577</th>\n",
       "      <td>POLYGON ((-124.4718600352303 40.42072077272727...</td>\n",
       "      <td>4577</td>\n",
       "      <td>5.210421</td>\n",
       "    </tr>\n",
       "    <tr>\n",
       "      <th>4578</th>\n",
       "      <td>POLYGON ((-124.4718600352303 40.43071618181818...</td>\n",
       "      <td>4578</td>\n",
       "      <td>5.159305</td>\n",
       "    </tr>\n",
       "    <tr>\n",
       "      <th>4579</th>\n",
       "      <td>POLYGON ((-124.4718600352303 40.44071159090909...</td>\n",
       "      <td>4579</td>\n",
       "      <td>5.165576</td>\n",
       "    </tr>\n",
       "    <tr>\n",
       "      <th>4580</th>\n",
       "      <td>POLYGON ((-124.4718600352303 40.450707, -124.4...</td>\n",
       "      <td>4580</td>\n",
       "      <td>5.307229</td>\n",
       "    </tr>\n",
       "  </tbody>\n",
       "</table>\n",
       "</div>"
      ],
      "text/plain": [
       "                                               geometry  polygon_id  \\\n",
       "4576  POLYGON ((-124.4718600352303 40.41072536363637...        4576   \n",
       "4577  POLYGON ((-124.4718600352303 40.42072077272727...        4577   \n",
       "4578  POLYGON ((-124.4718600352303 40.43071618181818...        4578   \n",
       "4579  POLYGON ((-124.4718600352303 40.44071159090909...        4579   \n",
       "4580  POLYGON ((-124.4718600352303 40.450707, -124.4...        4580   \n",
       "\n",
       "      land_distance  \n",
       "4576       5.436725  \n",
       "4577       5.210421  \n",
       "4578       5.159305  \n",
       "4579       5.165576  \n",
       "4580       5.307229  "
      ]
     },
     "execution_count": 141,
     "metadata": {},
     "output_type": "execute_result"
    }
   ],
   "source": [
    "#create vertices for California\n",
    "#roughly the bounds of california going out 8km past cape mendocino\n",
    "width = .01\n",
    "#(32.534343,-124.511849),(42.00,-117.123885)\n",
    "grid_bottomleft_vertices = desquarify((-124.511849,32.534343),(-117.123885,42), width)\n",
    "grid = [squarify(i, width) for i in grid_bottomleft_vertices]\n",
    "grid_df = gpd.GeoDataFrame(geometry=grid, crs = {'init' : 'epsg:4326'})\n",
    "grid_df[\"polygon_id\"] = range(len(grid))\n",
    "\n",
    "# Cull data to just areas near coast and not on land\n",
    "#import state shapefiles\n",
    "states = gpd.read_file('../data/state_shapefiles/cb_2017_us_state_20m.shp')\n",
    "land = states[states['STATEFP'] == '06']\n",
    "# change the CRS\n",
    "land = land.set_geometry('geometry').to_crs({'init':'epsg:4326'})\n",
    "\n",
    "# cull polygons on land\n",
    "print(\"before culling land there are {} rows\".format(grid_df.shape[0]))\n",
    "grid_df = gpd.sjoin(grid_df, land, op='within', how='left')\n",
    "grid_df.fillna(-99999, inplace=True)\n",
    "grid_df = grid_df[grid_df['index_right'] <0]\n",
    "print(\"after culling land there are {} rows\".format(grid_df.shape[0]))\n",
    "grid_df = grid_df.iloc[:,:2]\n",
    "\n",
    "#cull polygons far from shore\n",
    "#EEZ extends 3 nautical miles (5.556 km) from coast. \n",
    "eez = 5.556\n",
    "print(\"before culling far away sites there are {} rows\".format(grid_df.shape[0]))\n",
    "grid_df['land_distance'] = grid_df.geometry.apply(lambda x: get_distance_to_object(x,land.geometry))\n",
    "grid_df = grid_df[grid_df['land_distance'] <eez]\n",
    "print(\"after culling far away sites there are {} rows\".format(grid_df.shape[0]))\n",
    "print(grid_df.shape)\n",
    "print(len(grid_df.polygon_id.unique()))\n",
    "grid_df.head()"
   ]
  },
  {
   "cell_type": "code",
   "execution_count": 142,
   "metadata": {},
   "outputs": [
    {
     "name": "stdout",
     "output_type": "stream",
     "text": [
      "(3675541, 5)\n"
     ]
    },
    {
     "data": {
      "text/html": [
       "<div>\n",
       "<style scoped>\n",
       "    .dataframe tbody tr th:only-of-type {\n",
       "        vertical-align: middle;\n",
       "    }\n",
       "\n",
       "    .dataframe tbody tr th {\n",
       "        vertical-align: top;\n",
       "    }\n",
       "\n",
       "    .dataframe thead th {\n",
       "        text-align: right;\n",
       "    }\n",
       "</style>\n",
       "<table border=\"1\" class=\"dataframe\">\n",
       "  <thead>\n",
       "    <tr style=\"text-align: right;\">\n",
       "      <th></th>\n",
       "      <th>index_left</th>\n",
       "      <th>geometry</th>\n",
       "      <th>polygon_id</th>\n",
       "      <th>land_distance</th>\n",
       "      <th>hasKelp</th>\n",
       "    </tr>\n",
       "    <tr>\n",
       "      <th>index_right</th>\n",
       "      <th></th>\n",
       "      <th></th>\n",
       "      <th></th>\n",
       "      <th></th>\n",
       "      <th></th>\n",
       "    </tr>\n",
       "  </thead>\n",
       "  <tbody>\n",
       "    <tr>\n",
       "      <th>11203</th>\n",
       "      <td>1306311.0</td>\n",
       "      <td>POLYGON ((-124.4018793468835 40.39073454545455...</td>\n",
       "      <td>11203</td>\n",
       "      <td>0.680733</td>\n",
       "      <td>True</td>\n",
       "    </tr>\n",
       "    <tr>\n",
       "      <th>11203</th>\n",
       "      <td>1306548.0</td>\n",
       "      <td>POLYGON ((-124.4018793468835 40.39073454545455...</td>\n",
       "      <td>11203</td>\n",
       "      <td>0.680733</td>\n",
       "      <td>True</td>\n",
       "    </tr>\n",
       "    <tr>\n",
       "      <th>11203</th>\n",
       "      <td>1306309.0</td>\n",
       "      <td>POLYGON ((-124.4018793468835 40.39073454545455...</td>\n",
       "      <td>11203</td>\n",
       "      <td>0.680733</td>\n",
       "      <td>True</td>\n",
       "    </tr>\n",
       "    <tr>\n",
       "      <th>11203</th>\n",
       "      <td>1306310.0</td>\n",
       "      <td>POLYGON ((-124.4018793468835 40.39073454545455...</td>\n",
       "      <td>11203</td>\n",
       "      <td>0.680733</td>\n",
       "      <td>True</td>\n",
       "    </tr>\n",
       "    <tr>\n",
       "      <th>11203</th>\n",
       "      <td>1306549.0</td>\n",
       "      <td>POLYGON ((-124.4018793468835 40.39073454545455...</td>\n",
       "      <td>11203</td>\n",
       "      <td>0.680733</td>\n",
       "      <td>True</td>\n",
       "    </tr>\n",
       "  </tbody>\n",
       "</table>\n",
       "</div>"
      ],
      "text/plain": [
       "             index_left                                           geometry  \\\n",
       "index_right                                                                  \n",
       "11203         1306311.0  POLYGON ((-124.4018793468835 40.39073454545455...   \n",
       "11203         1306548.0  POLYGON ((-124.4018793468835 40.39073454545455...   \n",
       "11203         1306309.0  POLYGON ((-124.4018793468835 40.39073454545455...   \n",
       "11203         1306310.0  POLYGON ((-124.4018793468835 40.39073454545455...   \n",
       "11203         1306549.0  POLYGON ((-124.4018793468835 40.39073454545455...   \n",
       "\n",
       "             polygon_id  land_distance  hasKelp  \n",
       "index_right                                      \n",
       "11203             11203       0.680733     True  \n",
       "11203             11203       0.680733     True  \n",
       "11203             11203       0.680733     True  \n",
       "11203             11203       0.680733     True  \n",
       "11203             11203       0.680733     True  "
      ]
     },
     "execution_count": 142,
     "metadata": {},
     "output_type": "execute_result"
    }
   ],
   "source": [
    "grid_df = gpd.sjoin(aerial_kelp, grid_df, op='within', how='right')\n",
    "grid_df['hasKelp'] = np.isfinite(grid_df.index_left)\n",
    "print(grid_df.shape)\n",
    "grid_df.head()"
   ]
  },
  {
   "cell_type": "code",
   "execution_count": 143,
   "metadata": {},
   "outputs": [
    {
     "name": "stdout",
     "output_type": "stream",
     "text": [
      "(1829, 5)\n"
     ]
    },
    {
     "data": {
      "text/plain": [
       "(19160, 5)"
      ]
     },
     "execution_count": 143,
     "metadata": {},
     "output_type": "execute_result"
    }
   ],
   "source": [
    "grid_df = grid_df.dissolve(by=grid_df.polygon_id)\n",
    "print(grid_df[grid_df.hasKelp == True].shape)\n",
    "grid_df.shape"
   ]
  },
  {
   "cell_type": "code",
   "execution_count": 146,
   "metadata": {},
   "outputs": [
    {
     "data": {
      "text/plain": [
       "<matplotlib.axes._subplots.AxesSubplot at 0x7fe54c90f4e0>"
      ]
     },
     "execution_count": 146,
     "metadata": {},
     "output_type": "execute_result"
    },
    {
     "data": {
      "image/png": "[encoded data removed]",
      "text/plain": [
       "<matplotlib.figure.Figure at 0x7fe54cd73780>"
      ]
     },
     "metadata": {},
     "output_type": "display_data"
    },
    {
     "data": {
      "image/png": "[encoded data removed]",
      "text/plain": [
       "<matplotlib.figure.Figure at 0x7fe54cc99208>"
      ]
     },
     "metadata": {},
     "output_type": "display_data"
    }
   ],
   "source": [
    "grid_df[grid_df.hasKelp == True].plot()\n",
    "land.plot()"
   ]
  },
  {
   "cell_type": "code",
   "execution_count": 144,
   "metadata": {},
   "outputs": [],
   "source": [
    "grid_df.to_pickle('../data/pickles/aerial_kelp_hundreththkm.pkl')"
   ]
  },
  {
   "cell_type": "markdown",
   "metadata": {},
   "source": [
    "# Read PAR data"
   ]
  },
  {
   "cell_type": "code",
   "execution_count": 91,
   "metadata": {},
   "outputs": [],
   "source": [
    "par_dir = '../../data/par/par_data/'\n",
    "par_data = {}\n",
    "month_re = 'A201[7|8]([\\d]+)*'\n",
    "for f in os.listdir(par_dir):\n",
    "    par = xr.open_dataset(par_dir+f).to_dataframe() # units are E/m^2/day\n",
    "    par.reset_index(inplace=True)\n",
    "    geom = par.apply(lambda x : Point([x['lon'],x['lat']]), axis=1)\n",
    "    par = gpd.GeoDataFrame(par, crs = {'init' :'epsg:4326'}, geometry=geom)\n",
    "    par.drop(['lat','lon'], axis=1, inplace = True)\n",
    "    month = int(re.match(month_re, f).groups()[0])\n",
    "    par_data[month] = par"
   ]
  },
  {
   "cell_type": "code",
   "execution_count": 92,
   "metadata": {},
   "outputs": [
    {
     "data": {
      "text/html": [
       "<div>\n",
       "<style scoped>\n",
       "    .dataframe tbody tr th:only-of-type {\n",
       "        vertical-align: middle;\n",
       "    }\n",
       "\n",
       "    .dataframe tbody tr th {\n",
       "        vertical-align: top;\n",
       "    }\n",
       "\n",
       "    .dataframe thead th {\n",
       "        text-align: right;\n",
       "    }\n",
       "</style>\n",
       "<table border=\"1\" class=\"dataframe\">\n",
       "  <thead>\n",
       "    <tr style=\"text-align: right;\">\n",
       "      <th></th>\n",
       "      <th>par</th>\n",
       "      <th>geometry</th>\n",
       "    </tr>\n",
       "  </thead>\n",
       "  <tbody>\n",
       "    <tr>\n",
       "      <th>0</th>\n",
       "      <td>29.941998</td>\n",
       "      <td>POINT (-124.4791717529297 42.1875)</td>\n",
       "    </tr>\n",
       "    <tr>\n",
       "      <th>1</th>\n",
       "      <td>29.439999</td>\n",
       "      <td>POINT (-124.4375076293945 42.1875)</td>\n",
       "    </tr>\n",
       "    <tr>\n",
       "      <th>2</th>\n",
       "      <td>28.939999</td>\n",
       "      <td>POINT (-124.3958358764648 42.1875)</td>\n",
       "    </tr>\n",
       "    <tr>\n",
       "      <th>3</th>\n",
       "      <td>28.003998</td>\n",
       "      <td>POINT (-124.3541717529297 42.1875)</td>\n",
       "    </tr>\n",
       "    <tr>\n",
       "      <th>4</th>\n",
       "      <td>28.003998</td>\n",
       "      <td>POINT (-124.3125076293945 42.1875)</td>\n",
       "    </tr>\n",
       "  </tbody>\n",
       "</table>\n",
       "</div>"
      ],
      "text/plain": [
       "         par                            geometry\n",
       "0  29.941998  POINT (-124.4791717529297 42.1875)\n",
       "1  29.439999  POINT (-124.4375076293945 42.1875)\n",
       "2  28.939999  POINT (-124.3958358764648 42.1875)\n",
       "3  28.003998  POINT (-124.3541717529297 42.1875)\n",
       "4  28.003998  POINT (-124.3125076293945 42.1875)"
      ]
     },
     "execution_count": 92,
     "metadata": {},
     "output_type": "execute_result"
    }
   ],
   "source": [
    "par_data.keys()\n",
    "par_data[3].head()"
   ]
  },
  {
   "cell_type": "markdown",
   "metadata": {},
   "source": [
    "# Read Kd data"
   ]
  },
  {
   "cell_type": "code",
   "execution_count": 93,
   "metadata": {},
   "outputs": [],
   "source": [
    "kd_dir = '../../data/kd/kd_data/'\n",
    "kd_data = {}\n",
    "month_re = 'A201[7|8]([\\d]+)*'\n",
    "for f in os.listdir(kd_dir):\n",
    "    kd = xr.open_dataset(kd_dir+f).to_dataframe() # units are m^-1\n",
    "    kd.reset_index(inplace=True)\n",
    "    geom = kd.apply(lambda x : Point([x['lon'],x['lat']]), axis=1)\n",
    "    kd = gpd.GeoDataFrame(kd, crs = {'init' :'epsg:4326'}, geometry=geom)\n",
    "    kd.drop(['lat','lon'], axis=1, inplace = True)\n",
    "    month = int(re.match(month_re, f).groups()[0])\n",
    "    kd_data[month] = kd"
   ]
  },
  {
   "cell_type": "code",
   "execution_count": 94,
   "metadata": {},
   "outputs": [
    {
     "data": {
      "text/html": [
       "<div>\n",
       "<style scoped>\n",
       "    .dataframe tbody tr th:only-of-type {\n",
       "        vertical-align: middle;\n",
       "    }\n",
       "\n",
       "    .dataframe tbody tr th {\n",
       "        vertical-align: top;\n",
       "    }\n",
       "\n",
       "    .dataframe thead th {\n",
       "        text-align: right;\n",
       "    }\n",
       "</style>\n",
       "<table border=\"1\" class=\"dataframe\">\n",
       "  <thead>\n",
       "    <tr style=\"text-align: right;\">\n",
       "      <th></th>\n",
       "      <th>Kd_490</th>\n",
       "      <th>geometry</th>\n",
       "    </tr>\n",
       "  </thead>\n",
       "  <tbody>\n",
       "    <tr>\n",
       "      <th>0</th>\n",
       "      <td>1.1242</td>\n",
       "      <td>POINT (-124.4791717529297 42.1875)</td>\n",
       "    </tr>\n",
       "    <tr>\n",
       "      <th>1</th>\n",
       "      <td>0.9228</td>\n",
       "      <td>POINT (-124.4375076293945 42.1875)</td>\n",
       "    </tr>\n",
       "    <tr>\n",
       "      <th>2</th>\n",
       "      <td>0.1162</td>\n",
       "      <td>POINT (-124.3958358764648 42.1875)</td>\n",
       "    </tr>\n",
       "    <tr>\n",
       "      <th>3</th>\n",
       "      <td>NaN</td>\n",
       "      <td>POINT (-124.3541717529297 42.1875)</td>\n",
       "    </tr>\n",
       "    <tr>\n",
       "      <th>4</th>\n",
       "      <td>NaN</td>\n",
       "      <td>POINT (-124.3125076293945 42.1875)</td>\n",
       "    </tr>\n",
       "  </tbody>\n",
       "</table>\n",
       "</div>"
      ],
      "text/plain": [
       "   Kd_490                            geometry\n",
       "0  1.1242  POINT (-124.4791717529297 42.1875)\n",
       "1  0.9228  POINT (-124.4375076293945 42.1875)\n",
       "2  0.1162  POINT (-124.3958358764648 42.1875)\n",
       "3     NaN  POINT (-124.3541717529297 42.1875)\n",
       "4     NaN  POINT (-124.3125076293945 42.1875)"
      ]
     },
     "execution_count": 94,
     "metadata": {},
     "output_type": "execute_result"
    }
   ],
   "source": [
    "kd_data.keys()\n",
    "kd_data[7].head()"
   ]
  },
  {
   "cell_type": "code",
   "execution_count": 95,
   "metadata": {
    "scrolled": false
   },
   "outputs": [],
   "source": [
    "light_data = {}\n",
    "for i in range(1,13,1):\n",
    "    joined = gpd.sjoin(kd_data[i], par_data[i], op=\"contains\")\n",
    "    joined.drop(['index_right'], axis=1, inplace=True)\n",
    "    light_data[i] = joined "
   ]
  },
  {
   "cell_type": "code",
   "execution_count": 207,
   "metadata": {},
   "outputs": [],
   "source": [
    "#for i in range(1,13,1):\n",
    "#    print(kd_data[i].iloc[0])\n",
    "#plt.hist(kd_data[1].Kd_490)"
   ]
  },
  {
   "cell_type": "code",
   "execution_count": 212,
   "metadata": {
    "scrolled": false
   },
   "outputs": [
    {
     "name": "stdout",
     "output_type": "stream",
     "text": [
      "5\n"
     ]
    },
    {
     "name": "stderr",
     "output_type": "stream",
     "text": [
      "/home/clay/anaconda3/lib/python3.6/site-packages/ipykernel_launcher.py:18: RuntimeWarning: invalid value encountered in greater\n"
     ]
    },
    {
     "name": "stdout",
     "output_type": "stream",
     "text": [
      "[  0   1 180 181 360]\n",
      "10\n",
      "[  0   1 180 181 360]\n",
      "15\n",
      "[  0   1 180 181 360]\n",
      "20\n",
      "[  0   1 180 181 360]\n",
      "25\n",
      "[  0   1 180 181 360]\n",
      "30\n",
      "[  0   1 180 181 360]\n",
      "35\n",
      "[  0   1 180 181 360]\n",
      "40\n",
      "[ 360  724 1800 1980 2160]\n",
      "45\n",
      "[1980 2340 2520 2700 2880]\n",
      "50\n",
      "[2340 2520 2880 3060 3240]\n",
      "55\n",
      "[8280 8460 8461 8640 8641]\n",
      "60\n",
      "[9000 9180 9181 9360 9361]\n",
      "65\n",
      "[9542 9720 9721 9722 9900]\n",
      "70\n",
      "[ 9900 10080 10081 10082 10260]\n",
      "75\n",
      "[10260 10261 10440 10441 10442]\n",
      "80\n",
      "[10620 10621 10800 10801 10802]\n",
      "85\n",
      "[10800 10980 10981 11160 11161]\n",
      "90\n",
      "[11160 11340 11341 11520 11521]\n",
      "95\n",
      "[11340 11880 12060 12240 12600]\n",
      "100\n",
      "[25577 25578 25579 25580 25583]\n",
      "105\n",
      "[25762 25763 25764 25765 25766]\n",
      "110\n",
      "[26464 26465 26640 26641 26642]\n",
      "115\n",
      "[26640 26641 26642 26822 26823]\n",
      "120\n",
      "[26822 27002 27003 27004 27183]\n",
      "125\n",
      "[27002 27726 27727 27902 27903]\n",
      "130\n",
      "[27905 27906 27907 28080 28087]\n",
      "135\n",
      "[27905 27906 28265 28266 28443]\n",
      "140\n",
      "[28800 28981 28982 30960 34020]\n",
      "145\n",
      "[28800 34560 34563 34740 34741]\n",
      "150\n",
      "[28800 34740 34743 34744 34920]\n",
      "155\n",
      "[28800 34920 34921 34922 34923]\n",
      "160\n",
      "[28800 34920 35100 35101 35102]\n",
      "165\n",
      "[35100 35101 35823 35824 36000]\n",
      "170\n",
      "[36001 36002 36003 36004 36180]\n",
      "175\n",
      "[36001 36180 36181 36182 36183]\n",
      "180\n",
      "[36183 37624 37984 37985 38520]\n",
      "185\n",
      "[37624 37984 37985 38520 38701]\n",
      "190\n",
      "[37624 37984 37985 38520 38701]\n",
      "195\n",
      "[37624 38520 38701 38880 38881]\n",
      "200\n",
      "[39601 40320 40321 41041 41042]\n",
      "205\n",
      "[41041 41400 41401 41580 41581]\n",
      "210\n"
     ]
    }
   ],
   "source": [
    "def light_at_depth(par, kd, z):\n",
    "    return par*np.exp(-kd*z)\n",
    "\n",
    "light_threshold = 50\n",
    "# create an array for each lat/long point. default to 0 depth and 0 light\n",
    "z_min_light = np.array([0]*light_data[1].shape[0]) # need to make np array for future calcs\n",
    "# i represents the depth in meters\n",
    "for i in range(5,551,5):\n",
    "    print(i)\n",
    "    # create an array for all coords. We will add to this for each month to get the total light at each depth in a year\n",
    "    # then we can compare to the standing best value to get the minimum depth\n",
    "    year_light = np.array([0]*light_data[1].shape[0]) #changed for np calcs later\n",
    "    # j represents the month number\n",
    "    for j in range(1,13,1):\n",
    "        month_light = light_data[j].apply(lambda x: 30.4*light_at_depth(x.par, x.Kd_490, i), axis=1)\n",
    "        year_light += month_light\n",
    "        #print(year_light[:3])\n",
    "    gt_light_threshold = np.where(np.greater(year_light, light_threshold) == True)[0]\n",
    "    if len(gt_light_threshold) == 0:\n",
    "        break\n",
    "    #print(year_light[gt_light_threshold][:3])\n",
    "    z_min_light[gt_light_threshold] = i\n",
    "    print(gt_light_threshold[:5])\n"
   ]
  },
  {
   "cell_type": "code",
   "execution_count": 218,
   "metadata": {},
   "outputs": [],
   "source": [
    "min_light = pd.DataFrame({'geometry':geom,'z_min_light':z_min_light})"
   ]
  },
  {
   "cell_type": "code",
   "execution_count": 216,
   "metadata": {},
   "outputs": [
    {
     "data": {
      "text/plain": [
       "(array([31690.,  1154.,  1880.,  2075.,  1915.,  1368.,  1262.,   467.,\n",
       "           54.,    75.]),\n",
       " array([  0. ,  20.5,  41. ,  61.5,  82. , 102.5, 123. , 143.5, 164. ,\n",
       "        184.5, 205. ]),\n",
       " <a list of 10 Patch objects>)"
      ]
     },
     "execution_count": 216,
     "metadata": {},
     "output_type": "execute_result"
    },
    {
     "data": {
      "image/png": "[encoded data removed]",
      "text/plain": [
       "<matplotlib.figure.Figure at 0x7f12a46462b0>"
      ]
     },
     "metadata": {},
     "output_type": "display_data"
    }
   ],
   "source": [
    "plt.hist(min_light.z_min_light)"
   ]
  },
  {
   "cell_type": "code",
   "execution_count": 219,
   "metadata": {},
   "outputs": [],
   "source": [
    "min_light.head()\n",
    "min_light.to_pickle('../data/pickles/min_light.pkl')"
   ]
  },
  {
   "cell_type": "markdown",
   "metadata": {},
   "source": [
    "# Read mixed layer data"
   ]
  },
  {
   "cell_type": "code",
   "execution_count": 87,
   "metadata": {},
   "outputs": [
    {
     "data": {
      "text/plain": [
       "<matplotlib.axes._subplots.AxesSubplot at 0x7f11f71fa2b0>"
      ]
     },
     "execution_count": 87,
     "metadata": {},
     "output_type": "execute_result"
    },
    {
     "data": {
      "image/png": "[encoded data removed]",
      "text/plain": [
       "<matplotlib.figure.Figure at 0x7f11f77517f0>"
      ]
     },
     "metadata": {},
     "output_type": "display_data"
    }
   ],
   "source": [
    "mixedl = xr.open_dataset('../../data/mixed_layer/Argo_mixedlayers_all_05092018.nc').to_dataframe()\n",
    "#da - density algorithm\n",
    "#dt - density threshold algorithm\n",
    "#ta - temperature algorithm\n",
    "mixedl = mixedl[(mixedl.profilelat>32.5) & (mixedl.profilelat<42.2) \\\n",
    "                & (mixedl.profilelon>-124.5) & (mixedl.profilelon<-117)]\n",
    "geom = mixedl.apply(lambda x : Point([x['profilelon'],x['profilelat']]), axis=1)\n",
    "mixedl = gpd.GeoDataFrame(mixedl, crs = {'init' :'epsg:4326'}, geometry=geom)\n",
    "mixedl.plot()"
   ]
  },
  {
   "cell_type": "code",
   "execution_count": 88,
   "metadata": {},
   "outputs": [
    {
     "data": {
      "text/html": [
       "<div>\n",
       "<style scoped>\n",
       "    .dataframe tbody tr th:only-of-type {\n",
       "        vertical-align: middle;\n",
       "    }\n",
       "\n",
       "    .dataframe tbody tr th {\n",
       "        vertical-align: top;\n",
       "    }\n",
       "\n",
       "    .dataframe thead th {\n",
       "        text-align: right;\n",
       "    }\n",
       "</style>\n",
       "<table border=\"1\" class=\"dataframe\">\n",
       "  <thead>\n",
       "    <tr style=\"text-align: right;\">\n",
       "      <th></th>\n",
       "      <th>geometry</th>\n",
       "      <th>mean_mld</th>\n",
       "    </tr>\n",
       "    <tr>\n",
       "      <th>iNPROF</th>\n",
       "      <th></th>\n",
       "      <th></th>\n",
       "    </tr>\n",
       "  </thead>\n",
       "  <tbody>\n",
       "    <tr>\n",
       "      <th>2325</th>\n",
       "      <td>POINT (-123.031997680664 36.3499984741211)</td>\n",
       "      <td>17.643838</td>\n",
       "    </tr>\n",
       "    <tr>\n",
       "      <th>2326</th>\n",
       "      <td>POINT (-122.782997131348 36.2389984130859)</td>\n",
       "      <td>19.306555</td>\n",
       "    </tr>\n",
       "    <tr>\n",
       "      <th>2327</th>\n",
       "      <td>POINT (-122.656997680664 36.0320014953613)</td>\n",
       "      <td>17.594704</td>\n",
       "    </tr>\n",
       "    <tr>\n",
       "      <th>2328</th>\n",
       "      <td>POINT (-122.785003662109 35.9490013122559)</td>\n",
       "      <td>31.267630</td>\n",
       "    </tr>\n",
       "    <tr>\n",
       "      <th>2329</th>\n",
       "      <td>POINT (-122.830001831055 35.9910011291504)</td>\n",
       "      <td>30.126088</td>\n",
       "    </tr>\n",
       "  </tbody>\n",
       "</table>\n",
       "</div>"
      ],
      "text/plain": [
       "                                          geometry   mean_mld\n",
       "iNPROF                                                       \n",
       "2325    POINT (-123.031997680664 36.3499984741211)  17.643838\n",
       "2326    POINT (-122.782997131348 36.2389984130859)  19.306555\n",
       "2327    POINT (-122.656997680664 36.0320014953613)  17.594704\n",
       "2328    POINT (-122.785003662109 35.9490013122559)  31.267630\n",
       "2329    POINT (-122.830001831055 35.9910011291504)  30.126088"
      ]
     },
     "execution_count": 88,
     "metadata": {},
     "output_type": "execute_result"
    }
   ],
   "source": [
    "mixedl['mean_mld'] = mixedl.apply(lambda x: (x.da_mld + x.dt_mld + x.ta_mld + x.tt_mld)/4, axis=1)\n",
    "mixedl = mixedl[['geometry','mean_mld']]\n",
    "mixedl.head()"
   ]
  },
  {
   "cell_type": "code",
   "execution_count": 89,
   "metadata": {},
   "outputs": [
    {
     "data": {
      "text/html": [
       "<div>\n",
       "<style scoped>\n",
       "    .dataframe tbody tr th:only-of-type {\n",
       "        vertical-align: middle;\n",
       "    }\n",
       "\n",
       "    .dataframe tbody tr th {\n",
       "        vertical-align: top;\n",
       "    }\n",
       "\n",
       "    .dataframe thead th {\n",
       "        text-align: right;\n",
       "    }\n",
       "</style>\n",
       "<table border=\"1\" class=\"dataframe\">\n",
       "  <thead>\n",
       "    <tr style=\"text-align: right;\">\n",
       "      <th></th>\n",
       "      <th>geometry</th>\n",
       "      <th>mean_mld</th>\n",
       "    </tr>\n",
       "    <tr>\n",
       "      <th>iNPROF</th>\n",
       "      <th></th>\n",
       "      <th></th>\n",
       "    </tr>\n",
       "  </thead>\n",
       "  <tbody>\n",
       "    <tr>\n",
       "      <th>2325</th>\n",
       "      <td>POINT (-123.031997680664 36.3499984741211)</td>\n",
       "      <td>17.643838</td>\n",
       "    </tr>\n",
       "    <tr>\n",
       "      <th>2326</th>\n",
       "      <td>POINT (-122.782997131348 36.2389984130859)</td>\n",
       "      <td>19.306555</td>\n",
       "    </tr>\n",
       "    <tr>\n",
       "      <th>2327</th>\n",
       "      <td>POINT (-122.656997680664 36.0320014953613)</td>\n",
       "      <td>17.594704</td>\n",
       "    </tr>\n",
       "    <tr>\n",
       "      <th>2328</th>\n",
       "      <td>POINT (-122.785003662109 35.9490013122559)</td>\n",
       "      <td>31.267630</td>\n",
       "    </tr>\n",
       "    <tr>\n",
       "      <th>2329</th>\n",
       "      <td>POINT (-122.830001831055 35.9910011291504)</td>\n",
       "      <td>30.126088</td>\n",
       "    </tr>\n",
       "  </tbody>\n",
       "</table>\n",
       "</div>"
      ],
      "text/plain": [
       "                                          geometry   mean_mld\n",
       "iNPROF                                                       \n",
       "2325    POINT (-123.031997680664 36.3499984741211)  17.643838\n",
       "2326    POINT (-122.782997131348 36.2389984130859)  19.306555\n",
       "2327    POINT (-122.656997680664 36.0320014953613)  17.594704\n",
       "2328    POINT (-122.785003662109 35.9490013122559)  31.267630\n",
       "2329    POINT (-122.830001831055 35.9910011291504)  30.126088"
      ]
     },
     "execution_count": 89,
     "metadata": {},
     "output_type": "execute_result"
    }
   ],
   "source": [
    "mixedl.head()"
   ]
  },
  {
   "cell_type": "code",
   "execution_count": 102,
   "metadata": {},
   "outputs": [],
   "source": [
    "mixedl.to_pickle('../data/pickles/mixedl.pkl')"
   ]
  },
  {
   "cell_type": "markdown",
   "metadata": {},
   "source": [
    "# Read shoretype data"
   ]
  },
  {
   "cell_type": "code",
   "execution_count": 13,
   "metadata": {
    "scrolled": false
   },
   "outputs": [
    {
     "name": "stdout",
     "output_type": "stream",
     "text": [
      "(13224, 23)\n"
     ]
    },
    {
     "data": {
      "text/html": [
       "<div>\n",
       "<style scoped>\n",
       "    .dataframe tbody tr th:only-of-type {\n",
       "        vertical-align: middle;\n",
       "    }\n",
       "\n",
       "    .dataframe tbody tr th {\n",
       "        vertical-align: top;\n",
       "    }\n",
       "\n",
       "    .dataframe thead th {\n",
       "        text-align: right;\n",
       "    }\n",
       "</style>\n",
       "<table border=\"1\" class=\"dataframe\">\n",
       "  <thead>\n",
       "    <tr style=\"text-align: right;\">\n",
       "      <th></th>\n",
       "      <th>s1name</th>\n",
       "      <th>mapclass</th>\n",
       "      <th>geometry</th>\n",
       "    </tr>\n",
       "  </thead>\n",
       "  <tbody>\n",
       "    <tr>\n",
       "      <th>0</th>\n",
       "      <td>salt and brackish water marshes</td>\n",
       "      <td>Coastal Marsh</td>\n",
       "      <td>LINESTRING (-122.2670655780284 38.140429319407...</td>\n",
       "    </tr>\n",
       "    <tr>\n",
       "      <th>1</th>\n",
       "      <td>salt and brackish water marshes</td>\n",
       "      <td>Coastal Marsh</td>\n",
       "      <td>LINESTRING (-122.2654327824122 38.138064280339...</td>\n",
       "    </tr>\n",
       "    <tr>\n",
       "      <th>2</th>\n",
       "      <td>salt and brackish water marshes</td>\n",
       "      <td>Coastal Marsh</td>\n",
       "      <td>LINESTRING (-122.2650283879836 38.137904045875...</td>\n",
       "    </tr>\n",
       "    <tr>\n",
       "      <th>3</th>\n",
       "      <td>salt and brackish water marshes</td>\n",
       "      <td>Coastal Marsh</td>\n",
       "      <td>LINESTRING (-122.0594334809901 38.137692783103...</td>\n",
       "    </tr>\n",
       "    <tr>\n",
       "      <th>4</th>\n",
       "      <td>salt and brackish water marshes</td>\n",
       "      <td>Coastal Marsh</td>\n",
       "      <td>LINESTRING (-122.2645324469021 38.136904617132...</td>\n",
       "    </tr>\n",
       "  </tbody>\n",
       "</table>\n",
       "</div>"
      ],
      "text/plain": [
       "                            s1name       mapclass  \\\n",
       "0  salt and brackish water marshes  Coastal Marsh   \n",
       "1  salt and brackish water marshes  Coastal Marsh   \n",
       "2  salt and brackish water marshes  Coastal Marsh   \n",
       "3  salt and brackish water marshes  Coastal Marsh   \n",
       "4  salt and brackish water marshes  Coastal Marsh   \n",
       "\n",
       "                                            geometry  \n",
       "0  LINESTRING (-122.2670655780284 38.140429319407...  \n",
       "1  LINESTRING (-122.2654327824122 38.138064280339...  \n",
       "2  LINESTRING (-122.2650283879836 38.137904045875...  \n",
       "3  LINESTRING (-122.0594334809901 38.137692783103...  \n",
       "4  LINESTRING (-122.2645324469021 38.136904617132...  "
      ]
     },
     "execution_count": 13,
     "metadata": {},
     "output_type": "execute_result"
    }
   ],
   "source": [
    "shoretypes = gpd.read_file('../../data/substrate/shoretypes/HAB_CA_ShoreTypes.shp')\n",
    "#some geometry elements were null\n",
    "shoretypes = shoretypes[shoretypes.geometry.notnull()]\n",
    "print(shoretypes.shape)\n",
    "shoretypes = shoretypes.set_geometry('geometry').to_crs({'init':'epsg:4326'})\n",
    "shoretypes = shoretypes[['s1name','mapclass','geometry']]\n",
    "#shoretypes.to_pickle('../data/pickles/shoretypes.pkl')\n",
    "shoretypes.head()"
   ]
  },
  {
   "cell_type": "markdown",
   "metadata": {},
   "source": [
    "# Read substrate type"
   ]
  },
  {
   "cell_type": "code",
   "execution_count": 106,
   "metadata": {},
   "outputs": [],
   "source": [
    "#print(fiona.listlayers('../../data/substrate/substrate/UpdatedCCSR_2015/Hab_ccsr_cscmp_2015.gdb'))\n",
    "#substrate = gpd.read_file('../../data/substrate/substrate/UpdatedCCSR_2015/Hab_ccsr_cscmp_2015.gdb',\\\n",
    "#                          layer=0)\n",
    "#substrate.head()"
   ]
  },
  {
   "cell_type": "code",
   "execution_count": 29,
   "metadata": {
    "scrolled": false
   },
   "outputs": [
    {
     "name": "stdout",
     "output_type": "stream",
     "text": [
      "HAB_NCCSR_Predicted_Substrate.shp\n",
      "HAB_NCSR_PredictedSubstrateWDepth.shp\n",
      "HAB_SCSR_PredictedSubstrateWDepth.shp\n",
      "(187707, 1)\n"
     ]
    },
    {
     "data": {
      "text/html": [
       "<div>\n",
       "<style scoped>\n",
       "    .dataframe tbody tr th:only-of-type {\n",
       "        vertical-align: middle;\n",
       "    }\n",
       "\n",
       "    .dataframe tbody tr th {\n",
       "        vertical-align: top;\n",
       "    }\n",
       "\n",
       "    .dataframe thead th {\n",
       "        text-align: right;\n",
       "    }\n",
       "</style>\n",
       "<table border=\"1\" class=\"dataframe\">\n",
       "  <thead>\n",
       "    <tr style=\"text-align: right;\">\n",
       "      <th></th>\n",
       "      <th>geometry</th>\n",
       "    </tr>\n",
       "  </thead>\n",
       "  <tbody>\n",
       "    <tr>\n",
       "      <th>0</th>\n",
       "      <td>POLYGON ((-122.4091699822742 37.1833089494073,...</td>\n",
       "    </tr>\n",
       "    <tr>\n",
       "      <th>1</th>\n",
       "      <td>POLYGON ((-122.4091699822742 37.1833089494073,...</td>\n",
       "    </tr>\n",
       "    <tr>\n",
       "      <th>2</th>\n",
       "      <td>POLYGON ((-122.4085165235676 37.18532580263099...</td>\n",
       "    </tr>\n",
       "    <tr>\n",
       "      <th>3</th>\n",
       "      <td>POLYGON ((-122.4016285748552 37.18251819230586...</td>\n",
       "    </tr>\n",
       "    <tr>\n",
       "      <th>4</th>\n",
       "      <td>POLYGON ((-122.4089328426767 37.18939703182896...</td>\n",
       "    </tr>\n",
       "  </tbody>\n",
       "</table>\n",
       "</div>"
      ],
      "text/plain": [
       "                                            geometry\n",
       "0  POLYGON ((-122.4091699822742 37.1833089494073,...\n",
       "1  POLYGON ((-122.4091699822742 37.1833089494073,...\n",
       "2  POLYGON ((-122.4085165235676 37.18532580263099...\n",
       "3  POLYGON ((-122.4016285748552 37.18251819230586...\n",
       "4  POLYGON ((-122.4089328426767 37.18939703182896..."
      ]
     },
     "execution_count": 29,
     "metadata": {},
     "output_type": "execute_result"
    }
   ],
   "source": [
    "substrate_points = []\n",
    "for f in os.listdir('../../data/substrate/substrate'):\n",
    "    fname, ext = os.path.splitext(f)\n",
    "    if ext == \".shp\":\n",
    "        print(fname+ext)\n",
    "        substrate_file = gpd.read_file('../../data/substrate/substrate/'+fname+ext)\n",
    "        substrate_file = substrate_file.set_geometry('geometry').to_crs({'init':'epsg:4326'})\n",
    "        for i in range(substrate_file.shape[0]):\n",
    "            #print(\"i\",i)\n",
    "            if type(substrate_file.iloc[i].geometry) == MultiPolygon:\n",
    "                polygons = list(substrate_file.iloc[i].geometry)\n",
    "                substrate_points.extend(polygons)\n",
    "            elif type(substrate_file.iloc[i].geometry) == Polygon:\n",
    "                polygons = substrate_file.iloc[i].geometry\n",
    "                substrate_points.append(polygons)\n",
    "substrate_points = pd.Series(substrate_points)\n",
    "substrate = pd.DataFrame({'geometry':substrate_points})\n",
    "substrate = gpd.GeoDataFrame(substrate, crs = {'init' :'epsg:4326'}, geometry=substrate_points)\n",
    "print(substrate.shape)\n",
    "substrate.head()"
   ]
  },
  {
   "cell_type": "code",
   "execution_count": 107,
   "metadata": {
    "scrolled": false
   },
   "outputs": [
    {
     "name": "stdout",
     "output_type": "stream",
     "text": [
      "HAB_NCCSR_Predicted_Substrate.shp\n",
      "HAB_NCSR_PredictedSubstrateWDepth.shp\n",
      "HAB_SCSR_PredictedSubstrateWDepth.shp\n"
     ]
    },
    {
     "data": {
      "image/png": "[encoded data removed]",
      "text/plain": [
       "<matplotlib.figure.Figure at 0x7fa264853fd0>"
      ]
     },
     "metadata": {},
     "output_type": "display_data"
    },
    {
     "data": {
      "image/png": "[encoded data removed]",
      "text/plain": [
       "<matplotlib.figure.Figure at 0x7fa26716f1d0>"
      ]
     },
     "metadata": {},
     "output_type": "display_data"
    },
    {
     "data": {
      "image/png": "[encoded data removed]",
      "text/plain": [
       "<matplotlib.figure.Figure at 0x7fa28af7a908>"
      ]
     },
     "metadata": {},
     "output_type": "display_data"
    }
   ],
   "source": [
    "for f in os.listdir('../../data/substrate/substrate'):\n",
    "    fname, ext = os.path.splitext(f)\n",
    "    if ext == \".shp\":\n",
    "        print(fname+ext)\n",
    "        substrate_file = gpd.read_file('../../data/substrate/substrate/'+fname+ext)\n",
    "        substrate_file = substrate_file.set_geometry('geometry').to_crs({'init':'epsg:4326'})\n",
    "        #print(substrate_file.head())\n",
    "        substrate_file.plot()"
   ]
  },
  {
   "cell_type": "markdown",
   "metadata": {},
   "source": [
    "# Read Oil platform locations"
   ]
  },
  {
   "cell_type": "code",
   "execution_count": 6,
   "metadata": {},
   "outputs": [
    {
     "name": "stdout",
     "output_type": "stream",
     "text": [
      "   OBJECTID      NAME                                      geometry\n",
      "0         1   HERMOSA  POINT (-120.6473931527499 34.45506677409544)\n",
      "1         2   HARVEST   POINT (-120.6818245804602 34.4691266270206)\n",
      "2         3     IRENE  POINT (-120.7304374501512 34.61040385174302)\n",
      "3         4   HIDALGO  POINT (-120.7032955697988 34.49499618279855)\n",
      "4         5  HERITAGE  POINT (-120.2801627404592 34.35038079300468)\n"
     ]
    }
   ],
   "source": [
    "oilplats = gpd.read_file('../../data/human_factors/oilplatforms/OilPlatforms.shp')\n",
    "oilplats = oilplats.set_geometry('geometry').to_crs({'init':'epsg:4326'})\n",
    "#print(oilplats.head())\n",
    "oilplats = oilplats[['NAME','geometry']]\n",
    "oilplats.head()\n",
    "oilplats.to_pickle('../data/pickles/oilplats.pkl')"
   ]
  },
  {
   "cell_type": "markdown",
   "metadata": {},
   "source": [
    "# Read halibut trawl sites"
   ]
  },
  {
   "cell_type": "code",
   "execution_count": 128,
   "metadata": {},
   "outputs": [
    {
     "data": {
      "image/png": "[encoded data removed]",
      "text/plain": [
       "<matplotlib.figure.Figure at 0x7fa29c676ef0>"
      ]
     },
     "metadata": {},
     "output_type": "display_data"
    }
   ],
   "source": [
    "halibuttrawl = gpd.read_file('../../data/human_factors/halibuttrawl/MAN_SCSR_HalibutTrawlGrounds.shp')\n",
    "halibuttrawl = halibuttrawl.set_geometry('geometry').to_crs({'init':'epsg:4326'})\n",
    "halibuttrawl = halibuttrawl[['Status','geometry']]\n",
    "halibuttrawl.plot()\n",
    "halibuttrawl.to_pickle('../data/pickles/halibuttrawl.pkl')"
   ]
  },
  {
   "cell_type": "markdown",
   "metadata": {},
   "source": [
    "# Read in port locations"
   ]
  },
  {
   "cell_type": "code",
   "execution_count": 129,
   "metadata": {},
   "outputs": [
    {
     "name": "stdout",
     "output_type": "stream",
     "text": [
      "(97, 18)\n"
     ]
    },
    {
     "data": {
      "text/html": [
       "<div>\n",
       "<style scoped>\n",
       "    .dataframe tbody tr th:only-of-type {\n",
       "        vertical-align: middle;\n",
       "    }\n",
       "\n",
       "    .dataframe tbody tr th {\n",
       "        vertical-align: top;\n",
       "    }\n",
       "\n",
       "    .dataframe thead th {\n",
       "        text-align: right;\n",
       "    }\n",
       "</style>\n",
       "<table border=\"1\" class=\"dataframe\">\n",
       "  <thead>\n",
       "    <tr style=\"text-align: right;\">\n",
       "      <th></th>\n",
       "      <th>AREA_</th>\n",
       "      <th>PERIMETER</th>\n",
       "      <th>CALGNIS_</th>\n",
       "      <th>CALGNIS_ID</th>\n",
       "      <th>ID</th>\n",
       "      <th>FEAT_NAME</th>\n",
       "      <th>PORTCODE</th>\n",
       "      <th>BIOGEOGRP</th>\n",
       "      <th>COMMERCIAL</th>\n",
       "      <th>P_COUNTY</th>\n",
       "      <th>GNIS_ID</th>\n",
       "      <th>FEAT_TYPE</th>\n",
       "      <th>ELEVAT_FT</th>\n",
       "      <th>VARIANT</th>\n",
       "      <th>PORT_CAT1</th>\n",
       "      <th>PORT_CAT2</th>\n",
       "      <th>SOURCETHM</th>\n",
       "      <th>geometry</th>\n",
       "    </tr>\n",
       "  </thead>\n",
       "  <tbody>\n",
       "    <tr>\n",
       "      <th>0</th>\n",
       "      <td>0.0</td>\n",
       "      <td>0.0</td>\n",
       "      <td>0.0</td>\n",
       "      <td>0.0</td>\n",
       "      <td>0.0</td>\n",
       "      <td>Princeton/Half Moon Bay</td>\n",
       "      <td>452</td>\n",
       "      <td>3</td>\n",
       "      <td>1</td>\n",
       "      <td>San Mateo</td>\n",
       "      <td>None</td>\n",
       "      <td>None</td>\n",
       "      <td>0</td>\n",
       "      <td>None</td>\n",
       "      <td>9</td>\n",
       "      <td>0</td>\n",
       "      <td>marine-inland-po</td>\n",
       "      <td>POINT (-122.4818381624374 37.50369895811731)</td>\n",
       "    </tr>\n",
       "    <tr>\n",
       "      <th>1</th>\n",
       "      <td>0.0</td>\n",
       "      <td>0.0</td>\n",
       "      <td>0.0</td>\n",
       "      <td>0.0</td>\n",
       "      <td>1.0</td>\n",
       "      <td>San Francisco</td>\n",
       "      <td>440</td>\n",
       "      <td>3</td>\n",
       "      <td>0</td>\n",
       "      <td>San Francisco</td>\n",
       "      <td>None</td>\n",
       "      <td>None</td>\n",
       "      <td>0</td>\n",
       "      <td>None</td>\n",
       "      <td>10</td>\n",
       "      <td>0</td>\n",
       "      <td>marine-inland-po</td>\n",
       "      <td>POINT (-122.4154958398751 37.80864004947038)</td>\n",
       "    </tr>\n",
       "    <tr>\n",
       "      <th>2</th>\n",
       "      <td>0.0</td>\n",
       "      <td>0.0</td>\n",
       "      <td>0.0</td>\n",
       "      <td>0.0</td>\n",
       "      <td>2.0</td>\n",
       "      <td>San Rafael</td>\n",
       "      <td>468</td>\n",
       "      <td>3</td>\n",
       "      <td>0</td>\n",
       "      <td>Marin</td>\n",
       "      <td>None</td>\n",
       "      <td>None</td>\n",
       "      <td>0</td>\n",
       "      <td>None</td>\n",
       "      <td>10</td>\n",
       "      <td>0</td>\n",
       "      <td>marine-inland-po</td>\n",
       "      <td>POINT (-122.4845924051878 37.97278085949092)</td>\n",
       "    </tr>\n",
       "    <tr>\n",
       "      <th>3</th>\n",
       "      <td>0.0</td>\n",
       "      <td>0.0</td>\n",
       "      <td>0.0</td>\n",
       "      <td>0.0</td>\n",
       "      <td>3.0</td>\n",
       "      <td>Marina del Rey</td>\n",
       "      <td>776</td>\n",
       "      <td>0</td>\n",
       "      <td>1</td>\n",
       "      <td>Los Angeles</td>\n",
       "      <td>None</td>\n",
       "      <td>None</td>\n",
       "      <td>0</td>\n",
       "      <td>None</td>\n",
       "      <td>5</td>\n",
       "      <td>0</td>\n",
       "      <td>marine-inland-po</td>\n",
       "      <td>POINT (-118.4488149023916 33.96830655874205)</td>\n",
       "    </tr>\n",
       "    <tr>\n",
       "      <th>4</th>\n",
       "      <td>0.0</td>\n",
       "      <td>0.0</td>\n",
       "      <td>2053.0</td>\n",
       "      <td>2053.0</td>\n",
       "      <td>1657928.0</td>\n",
       "      <td>Anchor Bay</td>\n",
       "      <td>427</td>\n",
       "      <td>0</td>\n",
       "      <td>1</td>\n",
       "      <td>Mendocino</td>\n",
       "      <td>06000601</td>\n",
       "      <td>ppl</td>\n",
       "      <td>120</td>\n",
       "      <td>Anchor Bay Settlement (US-M111/Point Arena/1947)</td>\n",
       "      <td>0</td>\n",
       "      <td>0</td>\n",
       "      <td>marine-inland-po</td>\n",
       "      <td>POINT (-123.5777892473698 38.80268831610905)</td>\n",
       "    </tr>\n",
       "  </tbody>\n",
       "</table>\n",
       "</div>"
      ],
      "text/plain": [
       "   AREA_  PERIMETER  CALGNIS_  CALGNIS_ID         ID                FEAT_NAME  \\\n",
       "0    0.0        0.0       0.0         0.0        0.0  Princeton/Half Moon Bay   \n",
       "1    0.0        0.0       0.0         0.0        1.0            San Francisco   \n",
       "2    0.0        0.0       0.0         0.0        2.0               San Rafael   \n",
       "3    0.0        0.0       0.0         0.0        3.0           Marina del Rey   \n",
       "4    0.0        0.0    2053.0      2053.0  1657928.0               Anchor Bay   \n",
       "\n",
       "   PORTCODE  BIOGEOGRP  COMMERCIAL       P_COUNTY   GNIS_ID FEAT_TYPE  \\\n",
       "0       452          3           1      San Mateo      None      None   \n",
       "1       440          3           0  San Francisco      None      None   \n",
       "2       468          3           0          Marin      None      None   \n",
       "3       776          0           1    Los Angeles      None      None   \n",
       "4       427          0           1      Mendocino  06000601       ppl   \n",
       "\n",
       "   ELEVAT_FT                                           VARIANT  PORT_CAT1  \\\n",
       "0          0                                              None          9   \n",
       "1          0                                              None         10   \n",
       "2          0                                              None         10   \n",
       "3          0                                              None          5   \n",
       "4        120  Anchor Bay Settlement (US-M111/Point Arena/1947)          0   \n",
       "\n",
       "   PORT_CAT2         SOURCETHM                                      geometry  \n",
       "0          0  marine-inland-po  POINT (-122.4818381624374 37.50369895811731)  \n",
       "1          0  marine-inland-po  POINT (-122.4154958398751 37.80864004947038)  \n",
       "2          0  marine-inland-po  POINT (-122.4845924051878 37.97278085949092)  \n",
       "3          0  marine-inland-po  POINT (-118.4488149023916 33.96830655874205)  \n",
       "4          0  marine-inland-po  POINT (-123.5777892473698 38.80268831610905)  "
      ]
     },
     "execution_count": 129,
     "metadata": {},
     "output_type": "execute_result"
    },
    {
     "data": {
      "image/png": "[encoded data removed]",
      "text/plain": [
       "<matplotlib.figure.Figure at 0x7fa29c2fe908>"
      ]
     },
     "metadata": {},
     "output_type": "display_data"
    }
   ],
   "source": [
    "#outstanding questions on this\n",
    "ports = gpd.read_file('../../data/human_factors/ports/CUL_CA_Ports.shp')\n",
    "ports = ports.set_geometry('geometry').to_crs({'init':'epsg:4326'})\n",
    "ports.plot()\n",
    "print(ports.shape)\n",
    "ports.head()\n",
    "#ports.to_pickle('../data/pickles/ports.pkl')"
   ]
  },
  {
   "cell_type": "code",
   "execution_count": 131,
   "metadata": {},
   "outputs": [
    {
     "name": "stdout",
     "output_type": "stream",
     "text": [
      "(111, 8)\n",
      "[ 1.  2. 10.  4.  3. 11.  8.  9.  5.  6.  7.]\n"
     ]
    },
    {
     "data": {
      "text/html": [
       "<div>\n",
       "<style scoped>\n",
       "    .dataframe tbody tr th:only-of-type {\n",
       "        vertical-align: middle;\n",
       "    }\n",
       "\n",
       "    .dataframe tbody tr th {\n",
       "        vertical-align: top;\n",
       "    }\n",
       "\n",
       "    .dataframe thead th {\n",
       "        text-align: right;\n",
       "    }\n",
       "</style>\n",
       "<table border=\"1\" class=\"dataframe\">\n",
       "  <thead>\n",
       "    <tr style=\"text-align: right;\">\n",
       "      <th></th>\n",
       "      <th>Major_Port</th>\n",
       "      <th>Port_Code</th>\n",
       "      <th>Port_Name</th>\n",
       "      <th>Coastal_In</th>\n",
       "      <th>County_Cod</th>\n",
       "      <th>Lat_DD</th>\n",
       "      <th>Long_DD</th>\n",
       "      <th>geometry</th>\n",
       "    </tr>\n",
       "  </thead>\n",
       "  <tbody>\n",
       "    <tr>\n",
       "      <th>0</th>\n",
       "      <td>1.0</td>\n",
       "      <td>201.0</td>\n",
       "      <td>CRESCENT CITY</td>\n",
       "      <td>Y</td>\n",
       "      <td>8.0</td>\n",
       "      <td>41.755948</td>\n",
       "      <td>-124.201747</td>\n",
       "      <td>POINT (-349881.1890999991 423123.8949999996)</td>\n",
       "    </tr>\n",
       "    <tr>\n",
       "      <th>1</th>\n",
       "      <td>1.0</td>\n",
       "      <td>204.0</td>\n",
       "      <td>ORICK</td>\n",
       "      <td>N</td>\n",
       "      <td>12.0</td>\n",
       "      <td>41.286790</td>\n",
       "      <td>-124.059794</td>\n",
       "      <td>POINT (-340295.8079000004 370614.5822000001)</td>\n",
       "    </tr>\n",
       "    <tr>\n",
       "      <th>2</th>\n",
       "      <td>1.0</td>\n",
       "      <td>210.0</td>\n",
       "      <td>KLAMATH</td>\n",
       "      <td>N</td>\n",
       "      <td>8.0</td>\n",
       "      <td>41.526509</td>\n",
       "      <td>-124.038407</td>\n",
       "      <td>POINT (-337371.7542000003 397108.8209000006)</td>\n",
       "    </tr>\n",
       "    <tr>\n",
       "      <th>3</th>\n",
       "      <td>2.0</td>\n",
       "      <td>211.0</td>\n",
       "      <td>ALBION</td>\n",
       "      <td>Y</td>\n",
       "      <td>23.0</td>\n",
       "      <td>39.223512</td>\n",
       "      <td>-123.768625</td>\n",
       "      <td>POINT (-325009.2906999998 140640.9363000002)</td>\n",
       "    </tr>\n",
       "    <tr>\n",
       "      <th>4</th>\n",
       "      <td>1.0</td>\n",
       "      <td>212.0</td>\n",
       "      <td>ARCATA</td>\n",
       "      <td>N</td>\n",
       "      <td>12.0</td>\n",
       "      <td>40.866517</td>\n",
       "      <td>-124.082840</td>\n",
       "      <td>POINT (-344234.3618000001 324097.7916000001)</td>\n",
       "    </tr>\n",
       "  </tbody>\n",
       "</table>\n",
       "</div>"
      ],
      "text/plain": [
       "   Major_Port  Port_Code      Port_Name Coastal_In  County_Cod     Lat_DD  \\\n",
       "0         1.0      201.0  CRESCENT CITY          Y         8.0  41.755948   \n",
       "1         1.0      204.0          ORICK          N        12.0  41.286790   \n",
       "2         1.0      210.0        KLAMATH          N         8.0  41.526509   \n",
       "3         2.0      211.0         ALBION          Y        23.0  39.223512   \n",
       "4         1.0      212.0         ARCATA          N        12.0  40.866517   \n",
       "\n",
       "      Long_DD                                      geometry  \n",
       "0 -124.201747  POINT (-349881.1890999991 423123.8949999996)  \n",
       "1 -124.059794  POINT (-340295.8079000004 370614.5822000001)  \n",
       "2 -124.038407  POINT (-337371.7542000003 397108.8209000006)  \n",
       "3 -123.768625  POINT (-325009.2906999998 140640.9363000002)  \n",
       "4 -124.082840  POINT (-344234.3618000001 324097.7916000001)  "
      ]
     },
     "execution_count": 131,
     "metadata": {},
     "output_type": "execute_result"
    },
    {
     "data": {
      "image/png": "[encoded data removed]",
      "text/plain": [
       "<matplotlib.figure.Figure at 0x7fa267c45400>"
      ]
     },
     "metadata": {},
     "output_type": "display_data"
    }
   ],
   "source": [
    "#outstanding questions on this\n",
    "ports = gpd.read_file('../../data/human_factors/ports_cfis/CUL_CA_Ports_CFIS.shp')\n",
    "ports = ports.set_geometry('geometry').to_crs({'init':'epsg:4326'})\n",
    "ports.plot()\n",
    "print(ports.shape)\n",
    "print(ports.Major_Port.unique())\n",
    "ports.head()\n",
    "#ports.to_pickle('../data/pickles/ports.pkl')"
   ]
  },
  {
   "cell_type": "markdown",
   "metadata": {},
   "source": [
    "# Read marinas"
   ]
  },
  {
   "cell_type": "code",
   "execution_count": 4,
   "metadata": {},
   "outputs": [
    {
     "name": "stdout",
     "output_type": "stream",
     "text": [
      "(321, 6)\n"
     ]
    },
    {
     "data": {
      "image/png": "[encoded data removed]",
      "text/plain": [
       "<matplotlib.figure.Figure at 0x7f4cd46a0cc0>"
      ]
     },
     "metadata": {},
     "output_type": "display_data"
    }
   ],
   "source": [
    "marinas = gpd.read_file('../../data/human_factors/marinas/CUL_CA_Marinas_DBW.shp')\n",
    "marinas = marinas.set_geometry('geometry').to_crs({'init':'epsg:4326'})\n",
    "print(marinas.shape)\n",
    "#print(marinas.head())\n",
    "marinas.plot()\n",
    "marinas = marinas[['Name','geometry']]\n",
    "marinas.head()\n",
    "marinas.to_pickle('../data/pickles/marinas.pkl')"
   ]
  },
  {
   "cell_type": "markdown",
   "metadata": {},
   "source": [
    "# Read boat launch sites"
   ]
  },
  {
   "cell_type": "code",
   "execution_count": 139,
   "metadata": {},
   "outputs": [
    {
     "name": "stdout",
     "output_type": "stream",
     "text": [
      "(124, 5)\n"
     ]
    },
    {
     "data": {
      "image/png": "[encoded data removed]",
      "text/plain": [
       "<matplotlib.figure.Figure at 0x7fa29ee6f908>"
      ]
     },
     "metadata": {},
     "output_type": "display_data"
    }
   ],
   "source": [
    "boatlaunches = gpd.read_file('../../data/human_factors/boatlaunchsites/CUL_CA_BoatLaunchSites_DBW.shp')\n",
    "boatlaunches = boatlaunches.set_geometry('geometry').to_crs({'init':'epsg:4326'})\n",
    "print(boatlaunches.shape)\n",
    "boatlaunches.plot()\n",
    "boatlaunches = boatlaunches[['Type','geometry']]\n",
    "boatlaunches.head()\n",
    "boatlaunches.to_pickle('../data/pickles/boatlaunches.pkl')"
   ]
  },
  {
   "cell_type": "markdown",
   "metadata": {},
   "source": [
    "# Read fishing piers"
   ]
  },
  {
   "cell_type": "code",
   "execution_count": 8,
   "metadata": {},
   "outputs": [
    {
     "name": "stdout",
     "output_type": "stream",
     "text": [
      "(200, 5)\n"
     ]
    },
    {
     "data": {
      "image/png": "[encoded data removed]",
      "text/plain": [
       "<matplotlib.figure.Figure at 0x7f4cd45566d8>"
      ]
     },
     "metadata": {},
     "output_type": "display_data"
    }
   ],
   "source": [
    "piers = gpd.read_file('../../data/human_factors/piers/FishingPiers.shp')\n",
    "piers = piers.set_geometry('geometry').to_crs({'init':'epsg:4326'})\n",
    "print(piers.shape)\n",
    "#print(piers.head())\n",
    "piers.plot()\n",
    "piers = piers[['PNT_NAME','geometry']]\n",
    "piers.head()\n",
    "piers.to_pickle('../data/pickles/piers.pkl')"
   ]
  },
  {
   "cell_type": "code",
   "execution_count": null,
   "metadata": {},
   "outputs": [],
   "source": []
  }
 ],
 "metadata": {
  "kernelspec": {
   "display_name": "Python 3",
   "language": "python",
   "name": "python3"
  },
  "language_info": {
   "codemirror_mode": {
    "name": "ipython",
    "version": 3
   },
   "file_extension": ".py",
   "mimetype": "text/x-python",
   "name": "python",
   "nbconvert_exporter": "python",
   "pygments_lexer": "ipython3",
   "version": "3.6.4"
  }
 },
 "nbformat": 4,
 "nbformat_minor": 2
}
