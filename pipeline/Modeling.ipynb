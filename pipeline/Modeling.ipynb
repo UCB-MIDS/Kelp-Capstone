{
 "cells": [
  {
   "cell_type": "markdown",
   "metadata": {},
   "source": [
    "# Modeling kelp site viability"
   ]
  },
  {
   "cell_type": "code",
   "execution_count": 82,
   "metadata": {},
   "outputs": [],
   "source": [
    "import pandas as pd\n",
    "import os, os.path\n",
    "import urllib\n",
    "from sklearn.model_selection import train_test_split, GridSearchCV\n",
    "from sklearn.preprocessing import StandardScaler\n",
    "from sklearn.linear_model import LogisticRegression, LogisticRegressionCV\n",
    "from sklearn import metrics\n",
    "from sklearn.metrics import confusion_matrix\n",
    "from sklearn import tree\n",
    "import numpy as np\n",
    "\n",
    "%matplotlib inline"
   ]
  },
  {
   "cell_type": "code",
   "execution_count": 4,
   "metadata": {},
   "outputs": [],
   "source": [
    "dir_name = \"../data\"\n",
    "pickles = '../data/pickles/'\n",
    "gcs_bucket = \"https://storage.googleapis.com/w210data/\"\n",
    "\n",
    "\n",
    "#if not os.path.isdir(dir_name):\n",
    "#    os.mkdir(dir_name)\n",
    "    \n",
    "#def download_file(file_name):\n",
    "#    full_path = os.path.join(dir_name, file_name)\n",
    "#    if not os.path.exists(full_path):\n",
    "#        urllib.request.urlretrieve (gcs_bucket+file_name, full_path)\n",
    "\n",
    "#download_file(pickles+'grid_df_tenth.pkl')"
   ]
  },
  {
   "cell_type": "markdown",
   "metadata": {},
   "source": [
    "# Read data"
   ]
  },
  {
   "cell_type": "code",
   "execution_count": 5,
   "metadata": {},
   "outputs": [
    {
     "name": "stdout",
     "output_type": "stream",
     "text": [
      "(19160, 13)\n"
     ]
    },
    {
     "data": {
      "text/html": [
       "<div>\n",
       "<style scoped>\n",
       "    .dataframe tbody tr th:only-of-type {\n",
       "        vertical-align: middle;\n",
       "    }\n",
       "\n",
       "    .dataframe tbody tr th {\n",
       "        vertical-align: top;\n",
       "    }\n",
       "\n",
       "    .dataframe thead th {\n",
       "        text-align: right;\n",
       "    }\n",
       "</style>\n",
       "<table border=\"1\" class=\"dataframe\">\n",
       "  <thead>\n",
       "    <tr style=\"text-align: right;\">\n",
       "      <th></th>\n",
       "      <th>biomass</th>\n",
       "      <th>depth</th>\n",
       "      <th>mean_sst</th>\n",
       "      <th>max_sst</th>\n",
       "      <th>min_sst</th>\n",
       "      <th>ndvi</th>\n",
       "      <th>z_min_light</th>\n",
       "      <th>z_mixedl</th>\n",
       "      <th>floor_temp</th>\n",
       "      <th>viable</th>\n",
       "      <th>shoretype</th>\n",
       "      <th>shoretype2</th>\n",
       "      <th>aerial_kelp</th>\n",
       "    </tr>\n",
       "  </thead>\n",
       "  <tbody>\n",
       "    <tr>\n",
       "      <th>0</th>\n",
       "      <td>0.0</td>\n",
       "      <td>-38.4</td>\n",
       "      <td>11.929242</td>\n",
       "      <td>14.013989</td>\n",
       "      <td>9.125995</td>\n",
       "      <td>0.008434</td>\n",
       "      <td>34.0</td>\n",
       "      <td>17.955626</td>\n",
       "      <td>8.156</td>\n",
       "      <td>False</td>\n",
       "      <td>Rocky Shores</td>\n",
       "      <td>exposed rocky cliffs</td>\n",
       "      <td>False</td>\n",
       "    </tr>\n",
       "    <tr>\n",
       "      <th>1</th>\n",
       "      <td>0.0</td>\n",
       "      <td>-34.8</td>\n",
       "      <td>11.929242</td>\n",
       "      <td>14.013989</td>\n",
       "      <td>9.125995</td>\n",
       "      <td>0.008434</td>\n",
       "      <td>31.0</td>\n",
       "      <td>17.955626</td>\n",
       "      <td>8.156</td>\n",
       "      <td>False</td>\n",
       "      <td>Rocky Shores</td>\n",
       "      <td>exposed rocky cliffs</td>\n",
       "      <td>False</td>\n",
       "    </tr>\n",
       "    <tr>\n",
       "      <th>2</th>\n",
       "      <td>0.0</td>\n",
       "      <td>-31.0</td>\n",
       "      <td>11.929242</td>\n",
       "      <td>14.013989</td>\n",
       "      <td>9.125995</td>\n",
       "      <td>0.008434</td>\n",
       "      <td>31.0</td>\n",
       "      <td>17.955626</td>\n",
       "      <td>8.156</td>\n",
       "      <td>True</td>\n",
       "      <td>Rocky Shores</td>\n",
       "      <td>exposed rocky cliffs</td>\n",
       "      <td>False</td>\n",
       "    </tr>\n",
       "    <tr>\n",
       "      <th>3</th>\n",
       "      <td>0.0</td>\n",
       "      <td>-31.0</td>\n",
       "      <td>11.929242</td>\n",
       "      <td>14.013989</td>\n",
       "      <td>9.125995</td>\n",
       "      <td>0.008434</td>\n",
       "      <td>28.0</td>\n",
       "      <td>17.955626</td>\n",
       "      <td>8.156</td>\n",
       "      <td>False</td>\n",
       "      <td>Rocky Shores</td>\n",
       "      <td>exposed rocky cliffs</td>\n",
       "      <td>False</td>\n",
       "    </tr>\n",
       "    <tr>\n",
       "      <th>4</th>\n",
       "      <td>0.0</td>\n",
       "      <td>-30.4</td>\n",
       "      <td>11.929242</td>\n",
       "      <td>14.013989</td>\n",
       "      <td>9.125995</td>\n",
       "      <td>0.008434</td>\n",
       "      <td>28.0</td>\n",
       "      <td>17.955626</td>\n",
       "      <td>8.156</td>\n",
       "      <td>False</td>\n",
       "      <td>Rocky Shores</td>\n",
       "      <td>exposed rocky cliffs</td>\n",
       "      <td>False</td>\n",
       "    </tr>\n",
       "  </tbody>\n",
       "</table>\n",
       "</div>"
      ],
      "text/plain": [
       "   biomass  depth   mean_sst    max_sst   min_sst      ndvi  z_min_light  \\\n",
       "0      0.0  -38.4  11.929242  14.013989  9.125995  0.008434         34.0   \n",
       "1      0.0  -34.8  11.929242  14.013989  9.125995  0.008434         31.0   \n",
       "2      0.0  -31.0  11.929242  14.013989  9.125995  0.008434         31.0   \n",
       "3      0.0  -31.0  11.929242  14.013989  9.125995  0.008434         28.0   \n",
       "4      0.0  -30.4  11.929242  14.013989  9.125995  0.008434         28.0   \n",
       "\n",
       "    z_mixedl  floor_temp  viable     shoretype            shoretype2  \\\n",
       "0  17.955626       8.156   False  Rocky Shores  exposed rocky cliffs   \n",
       "1  17.955626       8.156   False  Rocky Shores  exposed rocky cliffs   \n",
       "2  17.955626       8.156    True  Rocky Shores  exposed rocky cliffs   \n",
       "3  17.955626       8.156   False  Rocky Shores  exposed rocky cliffs   \n",
       "4  17.955626       8.156   False  Rocky Shores  exposed rocky cliffs   \n",
       "\n",
       "   aerial_kelp  \n",
       "0        False  \n",
       "1        False  \n",
       "2        False  \n",
       "3        False  \n",
       "4        False  "
      ]
     },
     "execution_count": 5,
     "metadata": {},
     "output_type": "execute_result"
    }
   ],
   "source": [
    "grid_df = pd.read_pickle(pickles+'grid_df_hundredth.pkl')\n",
    "#keep polygon_id as identifier\n",
    "polygon_id = grid_df.polygon_id\n",
    "#extract only features relevant to predicting kelp viability\n",
    "grid_df = grid_df[['biomass','depth','mean_sst','max_sst','min_sst','ndvi',\\\n",
    "                   'z_min_light','z_mixedl','floor_temp','viable','shoretype','shoretype2','aerial_kelp']]\n",
    "#clean up categorical variables\n",
    "grid_df.shoretype = grid_df.shoretype.apply(lambda x: x[0][1])\n",
    "grid_df.shoretype2 = grid_df.shoretype2.apply(lambda x: x[0][1])\n",
    "grid_df.aerial_kelp = grid_df.aerial_kelp.apply(lambda x: x[0][1])\n",
    "print(grid_df.shape)\n",
    "grid_df.head()"
   ]
  },
  {
   "cell_type": "markdown",
   "metadata": {},
   "source": [
    "# Create dummy variables for categorical variables"
   ]
  },
  {
   "cell_type": "code",
   "execution_count": 6,
   "metadata": {
    "scrolled": false
   },
   "outputs": [
    {
     "name": "stdout",
     "output_type": "stream",
     "text": [
      "(19160, 36)\n"
     ]
    },
    {
     "data": {
      "text/html": [
       "<div>\n",
       "<style scoped>\n",
       "    .dataframe tbody tr th:only-of-type {\n",
       "        vertical-align: middle;\n",
       "    }\n",
       "\n",
       "    .dataframe tbody tr th {\n",
       "        vertical-align: top;\n",
       "    }\n",
       "\n",
       "    .dataframe thead th {\n",
       "        text-align: right;\n",
       "    }\n",
       "</style>\n",
       "<table border=\"1\" class=\"dataframe\">\n",
       "  <thead>\n",
       "    <tr style=\"text-align: right;\">\n",
       "      <th></th>\n",
       "      <th>biomass</th>\n",
       "      <th>depth</th>\n",
       "      <th>mean_sst</th>\n",
       "      <th>max_sst</th>\n",
       "      <th>min_sst</th>\n",
       "      <th>ndvi</th>\n",
       "      <th>z_min_light</th>\n",
       "      <th>z_mixedl</th>\n",
       "      <th>floor_temp</th>\n",
       "      <th>viable</th>\n",
       "      <th>...</th>\n",
       "      <th>riprap</th>\n",
       "      <th>salt and brackish water marshes</th>\n",
       "      <th>salt marshes</th>\n",
       "      <th>scarps and steep slopes in sand</th>\n",
       "      <th>sheltered man-made structures</th>\n",
       "      <th>sheltered riprap</th>\n",
       "      <th>sheltered rocky shores</th>\n",
       "      <th>sheltered tidal flats</th>\n",
       "      <th>vegetated low riverine banks</th>\n",
       "      <th>wave cut rocky platforms</th>\n",
       "    </tr>\n",
       "  </thead>\n",
       "  <tbody>\n",
       "    <tr>\n",
       "      <th>0</th>\n",
       "      <td>0.0</td>\n",
       "      <td>-38.4</td>\n",
       "      <td>11.929242</td>\n",
       "      <td>14.013989</td>\n",
       "      <td>9.125995</td>\n",
       "      <td>0.008434</td>\n",
       "      <td>34.0</td>\n",
       "      <td>17.955626</td>\n",
       "      <td>8.156</td>\n",
       "      <td>False</td>\n",
       "      <td>...</td>\n",
       "      <td>0</td>\n",
       "      <td>0</td>\n",
       "      <td>0</td>\n",
       "      <td>0</td>\n",
       "      <td>0</td>\n",
       "      <td>0</td>\n",
       "      <td>0</td>\n",
       "      <td>0</td>\n",
       "      <td>0</td>\n",
       "      <td>0</td>\n",
       "    </tr>\n",
       "    <tr>\n",
       "      <th>1</th>\n",
       "      <td>0.0</td>\n",
       "      <td>-34.8</td>\n",
       "      <td>11.929242</td>\n",
       "      <td>14.013989</td>\n",
       "      <td>9.125995</td>\n",
       "      <td>0.008434</td>\n",
       "      <td>31.0</td>\n",
       "      <td>17.955626</td>\n",
       "      <td>8.156</td>\n",
       "      <td>False</td>\n",
       "      <td>...</td>\n",
       "      <td>0</td>\n",
       "      <td>0</td>\n",
       "      <td>0</td>\n",
       "      <td>0</td>\n",
       "      <td>0</td>\n",
       "      <td>0</td>\n",
       "      <td>0</td>\n",
       "      <td>0</td>\n",
       "      <td>0</td>\n",
       "      <td>0</td>\n",
       "    </tr>\n",
       "    <tr>\n",
       "      <th>2</th>\n",
       "      <td>0.0</td>\n",
       "      <td>-31.0</td>\n",
       "      <td>11.929242</td>\n",
       "      <td>14.013989</td>\n",
       "      <td>9.125995</td>\n",
       "      <td>0.008434</td>\n",
       "      <td>31.0</td>\n",
       "      <td>17.955626</td>\n",
       "      <td>8.156</td>\n",
       "      <td>True</td>\n",
       "      <td>...</td>\n",
       "      <td>0</td>\n",
       "      <td>0</td>\n",
       "      <td>0</td>\n",
       "      <td>0</td>\n",
       "      <td>0</td>\n",
       "      <td>0</td>\n",
       "      <td>0</td>\n",
       "      <td>0</td>\n",
       "      <td>0</td>\n",
       "      <td>0</td>\n",
       "    </tr>\n",
       "    <tr>\n",
       "      <th>3</th>\n",
       "      <td>0.0</td>\n",
       "      <td>-31.0</td>\n",
       "      <td>11.929242</td>\n",
       "      <td>14.013989</td>\n",
       "      <td>9.125995</td>\n",
       "      <td>0.008434</td>\n",
       "      <td>28.0</td>\n",
       "      <td>17.955626</td>\n",
       "      <td>8.156</td>\n",
       "      <td>False</td>\n",
       "      <td>...</td>\n",
       "      <td>0</td>\n",
       "      <td>0</td>\n",
       "      <td>0</td>\n",
       "      <td>0</td>\n",
       "      <td>0</td>\n",
       "      <td>0</td>\n",
       "      <td>0</td>\n",
       "      <td>0</td>\n",
       "      <td>0</td>\n",
       "      <td>0</td>\n",
       "    </tr>\n",
       "    <tr>\n",
       "      <th>4</th>\n",
       "      <td>0.0</td>\n",
       "      <td>-30.4</td>\n",
       "      <td>11.929242</td>\n",
       "      <td>14.013989</td>\n",
       "      <td>9.125995</td>\n",
       "      <td>0.008434</td>\n",
       "      <td>28.0</td>\n",
       "      <td>17.955626</td>\n",
       "      <td>8.156</td>\n",
       "      <td>False</td>\n",
       "      <td>...</td>\n",
       "      <td>0</td>\n",
       "      <td>0</td>\n",
       "      <td>0</td>\n",
       "      <td>0</td>\n",
       "      <td>0</td>\n",
       "      <td>0</td>\n",
       "      <td>0</td>\n",
       "      <td>0</td>\n",
       "      <td>0</td>\n",
       "      <td>0</td>\n",
       "    </tr>\n",
       "  </tbody>\n",
       "</table>\n",
       "<p>5 rows × 36 columns</p>\n",
       "</div>"
      ],
      "text/plain": [
       "   biomass  depth   mean_sst    max_sst   min_sst      ndvi  z_min_light  \\\n",
       "0      0.0  -38.4  11.929242  14.013989  9.125995  0.008434         34.0   \n",
       "1      0.0  -34.8  11.929242  14.013989  9.125995  0.008434         31.0   \n",
       "2      0.0  -31.0  11.929242  14.013989  9.125995  0.008434         31.0   \n",
       "3      0.0  -31.0  11.929242  14.013989  9.125995  0.008434         28.0   \n",
       "4      0.0  -30.4  11.929242  14.013989  9.125995  0.008434         28.0   \n",
       "\n",
       "    z_mixedl  floor_temp  viable            ...             riprap  \\\n",
       "0  17.955626       8.156   False            ...                  0   \n",
       "1  17.955626       8.156   False            ...                  0   \n",
       "2  17.955626       8.156    True            ...                  0   \n",
       "3  17.955626       8.156   False            ...                  0   \n",
       "4  17.955626       8.156   False            ...                  0   \n",
       "\n",
       "   salt and brackish water marshes  salt marshes  \\\n",
       "0                                0             0   \n",
       "1                                0             0   \n",
       "2                                0             0   \n",
       "3                                0             0   \n",
       "4                                0             0   \n",
       "\n",
       "   scarps and steep slopes in sand  sheltered man-made structures  \\\n",
       "0                                0                              0   \n",
       "1                                0                              0   \n",
       "2                                0                              0   \n",
       "3                                0                              0   \n",
       "4                                0                              0   \n",
       "\n",
       "   sheltered riprap  sheltered rocky shores  sheltered tidal flats  \\\n",
       "0                 0                       0                      0   \n",
       "1                 0                       0                      0   \n",
       "2                 0                       0                      0   \n",
       "3                 0                       0                      0   \n",
       "4                 0                       0                      0   \n",
       "\n",
       "   vegetated low riverine banks  wave cut rocky platforms  \n",
       "0                             0                         0  \n",
       "1                             0                         0  \n",
       "2                             0                         0  \n",
       "3                             0                         0  \n",
       "4                             0                         0  \n",
       "\n",
       "[5 rows x 36 columns]"
      ]
     },
     "execution_count": 6,
     "metadata": {},
     "output_type": "execute_result"
    }
   ],
   "source": [
    "#create dummy variables for the categorical variables\n",
    "shoretype = pd.get_dummies(grid_df['shoretype'])\n",
    "shoretype2 = pd.get_dummies(grid_df['shoretype2'])\n",
    "\n",
    "#drop categorical columns; will add dummy columns subsequently\n",
    "grid_df.drop(['shoretype','shoretype2'], axis=1, inplace=True)\n",
    "\n",
    "#add dummy variables for shoretype and shoretype2\n",
    "grid_df = grid_df.join(shoretype).join(shoretype2)\n",
    "print(grid_df.shape)\n",
    "grid_df.head()"
   ]
  },
  {
   "cell_type": "markdown",
   "metadata": {},
   "source": [
    "# split data into train/dev/test sets"
   ]
  },
  {
   "cell_type": "code",
   "execution_count": 7,
   "metadata": {},
   "outputs": [
    {
     "name": "stdout",
     "output_type": "stream",
     "text": [
      "(13412, 35)\n",
      "(3851, 35)\n",
      "(1897, 35)\n"
     ]
    }
   ],
   "source": [
    "#separate features from output classes\n",
    "target = 'aerial_kelp'\n",
    "predictors = [c for c in grid_df.columns if not c == target]\n",
    "\n",
    "discrete = ['shoretype', 'shoretype2']\n",
    "continuous = [i for i in grid_df.columns if not i in discrete and i != target]\n",
    "\n",
    "y = grid_df[target]\n",
    "x = grid_df[predictors]\n",
    "\n",
    "#create train/dev/test sets\n",
    "x_train, x_dev, y_train, y_dev = train_test_split(x,y, test_size=0.3, shuffle=True)\n",
    "x_dev, x_test, y_dev, y_test = train_test_split(x_dev,y_dev, test_size=0.33)\n",
    "print(x_train.shape)\n",
    "print(x_dev.shape)\n",
    "print(x_test.shape)"
   ]
  },
  {
   "cell_type": "markdown",
   "metadata": {},
   "source": [
    "# Scale numeric variables"
   ]
  },
  {
   "cell_type": "code",
   "execution_count": 8,
   "metadata": {},
   "outputs": [
    {
     "data": {
      "text/plain": [
       "0.09103787652848196"
      ]
     },
     "execution_count": 8,
     "metadata": {},
     "output_type": "execute_result"
    }
   ],
   "source": [
    "sum(y_train)/len(y_train)"
   ]
  },
  {
   "cell_type": "code",
   "execution_count": 9,
   "metadata": {},
   "outputs": [
    {
     "name": "stderr",
     "output_type": "stream",
     "text": [
      "/home/clay/anaconda3/lib/python3.6/site-packages/ipykernel_launcher.py:3: SettingWithCopyWarning: \n",
      "A value is trying to be set on a copy of a slice from a DataFrame.\n",
      "Try using .loc[row_indexer,col_indexer] = value instead\n",
      "\n",
      "See the caveats in the documentation: http://pandas.pydata.org/pandas-docs/stable/indexing.html#indexing-view-versus-copy\n",
      "  This is separate from the ipykernel package so we can avoid doing imports until\n",
      "/home/clay/anaconda3/lib/python3.6/site-packages/pandas/core/indexing.py:537: SettingWithCopyWarning: \n",
      "A value is trying to be set on a copy of a slice from a DataFrame.\n",
      "Try using .loc[row_indexer,col_indexer] = value instead\n",
      "\n",
      "See the caveats in the documentation: http://pandas.pydata.org/pandas-docs/stable/indexing.html#indexing-view-versus-copy\n",
      "  self.obj[item] = s\n"
     ]
    }
   ],
   "source": [
    "ss = StandardScaler()\n",
    "ss.fit(x_train[continuous])\n",
    "x_train[continuous] = ss.transform(x_train[continuous])\n",
    "x_dev[continuous] = ss.transform(x_dev[continuous])"
   ]
  },
  {
   "cell_type": "code",
   "execution_count": 10,
   "metadata": {},
   "outputs": [
    {
     "data": {
      "text/html": [
       "<div>\n",
       "<style scoped>\n",
       "    .dataframe tbody tr th:only-of-type {\n",
       "        vertical-align: middle;\n",
       "    }\n",
       "\n",
       "    .dataframe tbody tr th {\n",
       "        vertical-align: top;\n",
       "    }\n",
       "\n",
       "    .dataframe thead th {\n",
       "        text-align: right;\n",
       "    }\n",
       "</style>\n",
       "<table border=\"1\" class=\"dataframe\">\n",
       "  <thead>\n",
       "    <tr style=\"text-align: right;\">\n",
       "      <th></th>\n",
       "      <th>biomass</th>\n",
       "      <th>depth</th>\n",
       "      <th>mean_sst</th>\n",
       "      <th>max_sst</th>\n",
       "      <th>min_sst</th>\n",
       "      <th>ndvi</th>\n",
       "      <th>z_min_light</th>\n",
       "      <th>z_mixedl</th>\n",
       "      <th>floor_temp</th>\n",
       "      <th>viable</th>\n",
       "      <th>...</th>\n",
       "      <th>riprap</th>\n",
       "      <th>salt and brackish water marshes</th>\n",
       "      <th>salt marshes</th>\n",
       "      <th>scarps and steep slopes in sand</th>\n",
       "      <th>sheltered man-made structures</th>\n",
       "      <th>sheltered riprap</th>\n",
       "      <th>sheltered rocky shores</th>\n",
       "      <th>sheltered tidal flats</th>\n",
       "      <th>vegetated low riverine banks</th>\n",
       "      <th>wave cut rocky platforms</th>\n",
       "    </tr>\n",
       "  </thead>\n",
       "  <tbody>\n",
       "    <tr>\n",
       "      <th>7767</th>\n",
       "      <td>-0.059979</td>\n",
       "      <td>0.296761</td>\n",
       "      <td>-0.034193</td>\n",
       "      <td>-0.171032</td>\n",
       "      <td>-0.120723</td>\n",
       "      <td>-0.555341</td>\n",
       "      <td>-0.241690</td>\n",
       "      <td>1.627017</td>\n",
       "      <td>0.587250</td>\n",
       "      <td>-0.273433</td>\n",
       "      <td>...</td>\n",
       "      <td>-0.310593</td>\n",
       "      <td>-0.483703</td>\n",
       "      <td>-0.025913</td>\n",
       "      <td>-0.051879</td>\n",
       "      <td>-0.036659</td>\n",
       "      <td>-0.03456</td>\n",
       "      <td>-0.012212</td>\n",
       "      <td>-0.008635</td>\n",
       "      <td>-0.008635</td>\n",
       "      <td>-0.283383</td>\n",
       "    </tr>\n",
       "    <tr>\n",
       "      <th>11549</th>\n",
       "      <td>-0.059979</td>\n",
       "      <td>0.505809</td>\n",
       "      <td>-1.160038</td>\n",
       "      <td>-1.086785</td>\n",
       "      <td>-1.076197</td>\n",
       "      <td>-0.128612</td>\n",
       "      <td>-0.966755</td>\n",
       "      <td>0.790990</td>\n",
       "      <td>-2.204622</td>\n",
       "      <td>-0.273433</td>\n",
       "      <td>...</td>\n",
       "      <td>-0.310593</td>\n",
       "      <td>2.067386</td>\n",
       "      <td>-0.025913</td>\n",
       "      <td>-0.051879</td>\n",
       "      <td>-0.036659</td>\n",
       "      <td>-0.03456</td>\n",
       "      <td>-0.012212</td>\n",
       "      <td>-0.008635</td>\n",
       "      <td>-0.008635</td>\n",
       "      <td>-0.283383</td>\n",
       "    </tr>\n",
       "    <tr>\n",
       "      <th>7653</th>\n",
       "      <td>-0.059979</td>\n",
       "      <td>0.251316</td>\n",
       "      <td>-0.016551</td>\n",
       "      <td>-0.144908</td>\n",
       "      <td>-0.083115</td>\n",
       "      <td>-0.555341</td>\n",
       "      <td>0.056866</td>\n",
       "      <td>1.627017</td>\n",
       "      <td>0.587250</td>\n",
       "      <td>-0.273433</td>\n",
       "      <td>...</td>\n",
       "      <td>3.219643</td>\n",
       "      <td>-0.483703</td>\n",
       "      <td>-0.025913</td>\n",
       "      <td>-0.051879</td>\n",
       "      <td>-0.036659</td>\n",
       "      <td>-0.03456</td>\n",
       "      <td>-0.012212</td>\n",
       "      <td>-0.008635</td>\n",
       "      <td>-0.008635</td>\n",
       "      <td>-0.283383</td>\n",
       "    </tr>\n",
       "    <tr>\n",
       "      <th>16237</th>\n",
       "      <td>-0.059979</td>\n",
       "      <td>0.289187</td>\n",
       "      <td>1.500632</td>\n",
       "      <td>1.352801</td>\n",
       "      <td>1.652007</td>\n",
       "      <td>-0.532466</td>\n",
       "      <td>0.696628</td>\n",
       "      <td>0.473502</td>\n",
       "      <td>1.481566</td>\n",
       "      <td>3.657203</td>\n",
       "      <td>...</td>\n",
       "      <td>-0.310593</td>\n",
       "      <td>-0.483703</td>\n",
       "      <td>-0.025913</td>\n",
       "      <td>-0.051879</td>\n",
       "      <td>-0.036659</td>\n",
       "      <td>-0.03456</td>\n",
       "      <td>-0.012212</td>\n",
       "      <td>-0.008635</td>\n",
       "      <td>-0.008635</td>\n",
       "      <td>-0.283383</td>\n",
       "    </tr>\n",
       "    <tr>\n",
       "      <th>17489</th>\n",
       "      <td>-0.059979</td>\n",
       "      <td>0.496720</td>\n",
       "      <td>0.551945</td>\n",
       "      <td>0.569840</td>\n",
       "      <td>0.499326</td>\n",
       "      <td>-0.893005</td>\n",
       "      <td>-0.966755</td>\n",
       "      <td>-0.840599</td>\n",
       "      <td>0.448212</td>\n",
       "      <td>-0.273433</td>\n",
       "      <td>...</td>\n",
       "      <td>-0.310593</td>\n",
       "      <td>-0.483703</td>\n",
       "      <td>-0.025913</td>\n",
       "      <td>-0.051879</td>\n",
       "      <td>-0.036659</td>\n",
       "      <td>-0.03456</td>\n",
       "      <td>-0.012212</td>\n",
       "      <td>-0.008635</td>\n",
       "      <td>-0.008635</td>\n",
       "      <td>-0.283383</td>\n",
       "    </tr>\n",
       "  </tbody>\n",
       "</table>\n",
       "<p>5 rows × 35 columns</p>\n",
       "</div>"
      ],
      "text/plain": [
       "        biomass     depth  mean_sst   max_sst   min_sst      ndvi  \\\n",
       "7767  -0.059979  0.296761 -0.034193 -0.171032 -0.120723 -0.555341   \n",
       "11549 -0.059979  0.505809 -1.160038 -1.086785 -1.076197 -0.128612   \n",
       "7653  -0.059979  0.251316 -0.016551 -0.144908 -0.083115 -0.555341   \n",
       "16237 -0.059979  0.289187  1.500632  1.352801  1.652007 -0.532466   \n",
       "17489 -0.059979  0.496720  0.551945  0.569840  0.499326 -0.893005   \n",
       "\n",
       "       z_min_light  z_mixedl  floor_temp    viable            ...             \\\n",
       "7767     -0.241690  1.627017    0.587250 -0.273433            ...              \n",
       "11549    -0.966755  0.790990   -2.204622 -0.273433            ...              \n",
       "7653      0.056866  1.627017    0.587250 -0.273433            ...              \n",
       "16237     0.696628  0.473502    1.481566  3.657203            ...              \n",
       "17489    -0.966755 -0.840599    0.448212 -0.273433            ...              \n",
       "\n",
       "         riprap  salt and brackish water marshes  salt marshes  \\\n",
       "7767  -0.310593                        -0.483703     -0.025913   \n",
       "11549 -0.310593                         2.067386     -0.025913   \n",
       "7653   3.219643                        -0.483703     -0.025913   \n",
       "16237 -0.310593                        -0.483703     -0.025913   \n",
       "17489 -0.310593                        -0.483703     -0.025913   \n",
       "\n",
       "       scarps and steep slopes in sand  sheltered man-made structures  \\\n",
       "7767                         -0.051879                      -0.036659   \n",
       "11549                        -0.051879                      -0.036659   \n",
       "7653                         -0.051879                      -0.036659   \n",
       "16237                        -0.051879                      -0.036659   \n",
       "17489                        -0.051879                      -0.036659   \n",
       "\n",
       "       sheltered riprap  sheltered rocky shores  sheltered tidal flats  \\\n",
       "7767           -0.03456               -0.012212              -0.008635   \n",
       "11549          -0.03456               -0.012212              -0.008635   \n",
       "7653           -0.03456               -0.012212              -0.008635   \n",
       "16237          -0.03456               -0.012212              -0.008635   \n",
       "17489          -0.03456               -0.012212              -0.008635   \n",
       "\n",
       "       vegetated low riverine banks  wave cut rocky platforms  \n",
       "7767                      -0.008635                 -0.283383  \n",
       "11549                     -0.008635                 -0.283383  \n",
       "7653                      -0.008635                 -0.283383  \n",
       "16237                     -0.008635                 -0.283383  \n",
       "17489                     -0.008635                 -0.283383  \n",
       "\n",
       "[5 rows x 35 columns]"
      ]
     },
     "execution_count": 10,
     "metadata": {},
     "output_type": "execute_result"
    }
   ],
   "source": [
    "x_train.head()"
   ]
  },
  {
   "cell_type": "markdown",
   "metadata": {},
   "source": [
    "# Logistic Regression model"
   ]
  },
  {
   "cell_type": "code",
   "execution_count": 80,
   "metadata": {},
   "outputs": [
    {
     "data": {
      "text/plain": [
       "LogisticRegressionCV(Cs=[0.01, 0.1, 0.5, 1, 2, 5, 10, 20],\n",
       "           class_weight='balanced', cv=5, dual=False, fit_intercept=True,\n",
       "           intercept_scaling=1.0, max_iter=100, multi_class='ovr',\n",
       "           n_jobs=1, penalty='l2', random_state=None, refit=True,\n",
       "           scoring=None, solver='lbfgs', tol=0.0001, verbose=0)"
      ]
     },
     "execution_count": 80,
     "metadata": {},
     "output_type": "execute_result"
    }
   ],
   "source": [
    "lr = LogisticRegressionCV(Cs=[0.01,0.1,0.5,1,2,5,10,20],class_weight='balanced', cv=5)\n",
    "lr.fit(x_train, y_train)"
   ]
  },
  {
   "cell_type": "code",
   "execution_count": 81,
   "metadata": {},
   "outputs": [
    {
     "name": "stdout",
     "output_type": "stream",
     "text": [
      "0.688911970916645\n"
     ]
    }
   ],
   "source": [
    "print(lr.score(x_dev,y_dev))\n",
    "#print(metrics.accuracy_score(x_dev, y_dev))"
   ]
  },
  {
   "cell_type": "code",
   "execution_count": 46,
   "metadata": {},
   "outputs": [
    {
     "name": "stdout",
     "output_type": "stream",
     "text": [
      "          Predicted=0  Predicted=1\n",
      "Actual=0         2366         1130\n",
      "Actual=1           65          290\n",
      "accuracy is 0.6896909893534147\n",
      "f1 score is 0.3267605633802817\n",
      "precisions is 0.20422535211267606\n",
      "recall score is 0.8169014084507042\n"
     ]
    }
   ],
   "source": [
    "y_pred = lr.predict(x_dev)\n",
    "#confusion_matrix(y_dev,y_pred)\n",
    "cfnmatrix = pd.DataFrame(\n",
    "            confusion_matrix(y_dev, y_pred), \n",
    "            columns=['Predicted=0', 'Predicted=1'], \n",
    "            index=['Actual=0', 'Actual=1']\n",
    ")\n",
    "print(cfnmatrix)\n",
    "\n",
    "print(\"accuracy is {}\".format(metrics.accuracy_score(y_dev, y_pred)))\n",
    "print(\"f1 score is {}\".format(metrics.f1_score(y_dev, y_pred)))\n",
    "print(\"precisions is {}\".format(metrics.precision_score(y_dev, y_pred)))\n",
    "print(\"recall score is {}\".format(metrics.recall_score(y_dev,y_pred)))"
   ]
  },
  {
   "cell_type": "code",
   "execution_count": 47,
   "metadata": {},
   "outputs": [
    {
     "data": {
      "text/plain": [
       "0.6896909893534147"
      ]
     },
     "execution_count": 47,
     "metadata": {},
     "output_type": "execute_result"
    }
   ],
   "source": [
    "#accuracy\n",
    "(2366+290)/(2366+290+1130+65)\n",
    "#recall\n",
    "(290)/(290+65)\n",
    "#precision\n",
    "(290)/(290+1130)\n",
    "#some other thing\n",
    "(2366)/(2366+1130)"
   ]
  },
  {
   "cell_type": "code",
   "execution_count": 75,
   "metadata": {
    "scrolled": false
   },
   "outputs": [
    {
     "data": {
      "text/plain": [
       "GridSearchCV(cv=5, error_score='raise',\n",
       "       estimator=LogisticRegression(C=1.0, class_weight=None, dual=False, fit_intercept=True,\n",
       "          intercept_scaling=1, max_iter=100, multi_class='ovr', n_jobs=1,\n",
       "          penalty='l1', random_state=None, solver='liblinear', tol=0.0001,\n",
       "          verbose=0, warm_start=False),\n",
       "       fit_params=None, iid=True, n_jobs=1,\n",
       "       param_grid={'C': [0.01, 0.1, 0.5, 1, 5]}, pre_dispatch='2*n_jobs',\n",
       "       refit=True, return_train_score='warn', scoring=None, verbose=0)"
      ]
     },
     "execution_count": 75,
     "metadata": {},
     "output_type": "execute_result"
    }
   ],
   "source": [
    "# try gridsearchcv\n",
    "#parameters = {'Cs':[0.01,0.1,0.5,1,5], 'cv':[1,3,5.8,10]}\n",
    "parameters = {'C':[0.01,0.1,0.5,1,5]}\n",
    "lr = LogisticRegression(penalty='l1')\n",
    "gs = GridSearchCV(lr,parameters,cv=5)\n",
    "gs.fit(x_train,y_train)"
   ]
  },
  {
   "cell_type": "code",
   "execution_count": 74,
   "metadata": {},
   "outputs": [
    {
     "name": "stdout",
     "output_type": "stream",
     "text": [
      "0.6893080823143454\n"
     ]
    },
    {
     "data": {
      "text/plain": [
       "array([0.65195347, 0.68543096, 0.68930808, 0.68856248, 0.68856248])"
      ]
     },
     "execution_count": 74,
     "metadata": {},
     "output_type": "execute_result"
    }
   ],
   "source": [
    "print(gs.best_score_)\n",
    "gs.cv_results_['mean_test_score']"
   ]
  },
  {
   "cell_type": "markdown",
   "metadata": {},
   "source": [
    "# try a decision tree"
   ]
  },
  {
   "cell_type": "code",
   "execution_count": null,
   "metadata": {},
   "outputs": [],
   "source": []
  }
 ],
 "metadata": {
  "kernelspec": {
   "display_name": "Python 3",
   "language": "python",
   "name": "python3"
  },
  "language_info": {
   "codemirror_mode": {
    "name": "ipython",
    "version": 3
   },
   "file_extension": ".py",
   "mimetype": "text/x-python",
   "name": "python",
   "nbconvert_exporter": "python",
   "pygments_lexer": "ipython3",
   "version": "3.6.4"
  }
 },
 "nbformat": 4,
 "nbformat_minor": 2
}
