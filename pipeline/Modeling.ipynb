{
 "cells": [
  {
   "cell_type": "markdown",
   "metadata": {},
   "source": [
    "# Modeling kelp site viability"
   ]
  },
  {
   "cell_type": "code",
   "execution_count": 1,
   "metadata": {},
   "outputs": [],
   "source": [
    "import pandas as pd\n",
    "import os, os.path\n",
    "import urllib\n",
    "from sklearn.model_selection import train_test_split, GridSearchCV\n",
    "from sklearn.preprocessing import StandardScaler\n",
    "from sklearn.linear_model import LogisticRegression, LogisticRegressionCV\n",
    "from sklearn import metrics\n",
    "from sklearn.metrics import confusion_matrix\n",
    "from sklearn import tree\n",
    "from sklearn.ensemble import RandomForestClassifier\n",
    "import numpy as np\n",
    "\n",
    "%matplotlib inline"
   ]
  },
  {
   "cell_type": "code",
   "execution_count": 2,
   "metadata": {},
   "outputs": [],
   "source": [
    "dir_name = \"../data\"\n",
    "pickles = '../data/pickles/'\n",
    "gcs_bucket = \"https://storage.googleapis.com/w210data/\"\n",
    "\n",
    "\n",
    "#if not os.path.isdir(dir_name):\n",
    "#    os.mkdir(dir_name)\n",
    "    \n",
    "#def download_file(file_name):\n",
    "#    full_path = os.path.join(dir_name, file_name)\n",
    "#    if not os.path.exists(full_path):\n",
    "#        urllib.request.urlretrieve (gcs_bucket+file_name, full_path)\n",
    "\n",
    "#download_file(pickles+'grid_df_tenth.pkl')"
   ]
  },
  {
   "cell_type": "markdown",
   "metadata": {},
   "source": [
    "# Read data"
   ]
  },
  {
   "cell_type": "code",
   "execution_count": 3,
   "metadata": {},
   "outputs": [
    {
     "name": "stdout",
     "output_type": "stream",
     "text": [
      "(19160, 13)\n"
     ]
    },
    {
     "data": {
      "text/html": [
       "<div>\n",
       "<style scoped>\n",
       "    .dataframe tbody tr th:only-of-type {\n",
       "        vertical-align: middle;\n",
       "    }\n",
       "\n",
       "    .dataframe tbody tr th {\n",
       "        vertical-align: top;\n",
       "    }\n",
       "\n",
       "    .dataframe thead th {\n",
       "        text-align: right;\n",
       "    }\n",
       "</style>\n",
       "<table border=\"1\" class=\"dataframe\">\n",
       "  <thead>\n",
       "    <tr style=\"text-align: right;\">\n",
       "      <th></th>\n",
       "      <th>biomass</th>\n",
       "      <th>depth</th>\n",
       "      <th>mean_sst</th>\n",
       "      <th>max_sst</th>\n",
       "      <th>min_sst</th>\n",
       "      <th>ndvi</th>\n",
       "      <th>z_min_light</th>\n",
       "      <th>z_mixedl</th>\n",
       "      <th>floor_temp</th>\n",
       "      <th>viable</th>\n",
       "      <th>shoretype</th>\n",
       "      <th>shoretype2</th>\n",
       "      <th>aerial_kelp</th>\n",
       "    </tr>\n",
       "  </thead>\n",
       "  <tbody>\n",
       "    <tr>\n",
       "      <th>0</th>\n",
       "      <td>0.0</td>\n",
       "      <td>-38.4</td>\n",
       "      <td>11.929242</td>\n",
       "      <td>14.013989</td>\n",
       "      <td>9.125995</td>\n",
       "      <td>-0.003885</td>\n",
       "      <td>34.0</td>\n",
       "      <td>17.955626</td>\n",
       "      <td>8.156</td>\n",
       "      <td>False</td>\n",
       "      <td>Rocky Shores</td>\n",
       "      <td>exposed rocky cliffs</td>\n",
       "      <td>False</td>\n",
       "    </tr>\n",
       "    <tr>\n",
       "      <th>1</th>\n",
       "      <td>0.0</td>\n",
       "      <td>-34.8</td>\n",
       "      <td>11.929242</td>\n",
       "      <td>14.013989</td>\n",
       "      <td>9.125995</td>\n",
       "      <td>-0.003885</td>\n",
       "      <td>31.0</td>\n",
       "      <td>17.955626</td>\n",
       "      <td>8.156</td>\n",
       "      <td>False</td>\n",
       "      <td>Rocky Shores</td>\n",
       "      <td>exposed rocky cliffs</td>\n",
       "      <td>False</td>\n",
       "    </tr>\n",
       "    <tr>\n",
       "      <th>2</th>\n",
       "      <td>0.0</td>\n",
       "      <td>-31.0</td>\n",
       "      <td>11.929242</td>\n",
       "      <td>14.013989</td>\n",
       "      <td>9.125995</td>\n",
       "      <td>-0.003885</td>\n",
       "      <td>31.0</td>\n",
       "      <td>17.955626</td>\n",
       "      <td>8.156</td>\n",
       "      <td>True</td>\n",
       "      <td>Rocky Shores</td>\n",
       "      <td>exposed rocky cliffs</td>\n",
       "      <td>False</td>\n",
       "    </tr>\n",
       "    <tr>\n",
       "      <th>3</th>\n",
       "      <td>0.0</td>\n",
       "      <td>-31.0</td>\n",
       "      <td>11.929242</td>\n",
       "      <td>14.013989</td>\n",
       "      <td>9.125995</td>\n",
       "      <td>-0.003885</td>\n",
       "      <td>28.0</td>\n",
       "      <td>17.955626</td>\n",
       "      <td>8.156</td>\n",
       "      <td>False</td>\n",
       "      <td>Rocky Shores</td>\n",
       "      <td>exposed rocky cliffs</td>\n",
       "      <td>False</td>\n",
       "    </tr>\n",
       "    <tr>\n",
       "      <th>4</th>\n",
       "      <td>0.0</td>\n",
       "      <td>-30.4</td>\n",
       "      <td>11.929242</td>\n",
       "      <td>14.013989</td>\n",
       "      <td>9.125995</td>\n",
       "      <td>-0.003885</td>\n",
       "      <td>28.0</td>\n",
       "      <td>17.955626</td>\n",
       "      <td>8.156</td>\n",
       "      <td>False</td>\n",
       "      <td>Rocky Shores</td>\n",
       "      <td>exposed rocky cliffs</td>\n",
       "      <td>False</td>\n",
       "    </tr>\n",
       "  </tbody>\n",
       "</table>\n",
       "</div>"
      ],
      "text/plain": [
       "   biomass  depth   mean_sst    max_sst   min_sst      ndvi  z_min_light  \\\n",
       "0      0.0  -38.4  11.929242  14.013989  9.125995 -0.003885         34.0   \n",
       "1      0.0  -34.8  11.929242  14.013989  9.125995 -0.003885         31.0   \n",
       "2      0.0  -31.0  11.929242  14.013989  9.125995 -0.003885         31.0   \n",
       "3      0.0  -31.0  11.929242  14.013989  9.125995 -0.003885         28.0   \n",
       "4      0.0  -30.4  11.929242  14.013989  9.125995 -0.003885         28.0   \n",
       "\n",
       "    z_mixedl  floor_temp  viable     shoretype            shoretype2  \\\n",
       "0  17.955626       8.156   False  Rocky Shores  exposed rocky cliffs   \n",
       "1  17.955626       8.156   False  Rocky Shores  exposed rocky cliffs   \n",
       "2  17.955626       8.156    True  Rocky Shores  exposed rocky cliffs   \n",
       "3  17.955626       8.156   False  Rocky Shores  exposed rocky cliffs   \n",
       "4  17.955626       8.156   False  Rocky Shores  exposed rocky cliffs   \n",
       "\n",
       "   aerial_kelp  \n",
       "0        False  \n",
       "1        False  \n",
       "2        False  \n",
       "3        False  \n",
       "4        False  "
      ]
     },
     "execution_count": 3,
     "metadata": {},
     "output_type": "execute_result"
    }
   ],
   "source": [
    "grid_df = pd.read_pickle(pickles+'grid_df_hundredth.pkl')\n",
    "#keep polygon_id as identifier\n",
    "polygon_id = grid_df.polygon_id\n",
    "#extract only features relevant to predicting kelp viability\n",
    "grid_df = grid_df[['biomass','depth','mean_sst','max_sst','min_sst','ndvi',\\\n",
    "                   'z_min_light','z_mixedl','floor_temp','viable','shoretype','shoretype2','aerial_kelp']]\n",
    "#clean up categorical variables\n",
    "grid_df.shoretype = grid_df.shoretype.apply(lambda x: x[0][1])\n",
    "grid_df.shoretype2 = grid_df.shoretype2.apply(lambda x: x[0][1])\n",
    "grid_df.aerial_kelp = grid_df.aerial_kelp.apply(lambda x: x[0][1])\n",
    "print(grid_df.shape)\n",
    "grid_df.head()"
   ]
  },
  {
   "cell_type": "markdown",
   "metadata": {},
   "source": [
    "# Create dummy variables for categorical variables"
   ]
  },
  {
   "cell_type": "code",
   "execution_count": 4,
   "metadata": {
    "scrolled": false
   },
   "outputs": [
    {
     "name": "stdout",
     "output_type": "stream",
     "text": [
      "(19160, 36)\n"
     ]
    },
    {
     "data": {
      "text/html": [
       "<div>\n",
       "<style scoped>\n",
       "    .dataframe tbody tr th:only-of-type {\n",
       "        vertical-align: middle;\n",
       "    }\n",
       "\n",
       "    .dataframe tbody tr th {\n",
       "        vertical-align: top;\n",
       "    }\n",
       "\n",
       "    .dataframe thead th {\n",
       "        text-align: right;\n",
       "    }\n",
       "</style>\n",
       "<table border=\"1\" class=\"dataframe\">\n",
       "  <thead>\n",
       "    <tr style=\"text-align: right;\">\n",
       "      <th></th>\n",
       "      <th>biomass</th>\n",
       "      <th>depth</th>\n",
       "      <th>mean_sst</th>\n",
       "      <th>max_sst</th>\n",
       "      <th>min_sst</th>\n",
       "      <th>ndvi</th>\n",
       "      <th>z_min_light</th>\n",
       "      <th>z_mixedl</th>\n",
       "      <th>floor_temp</th>\n",
       "      <th>viable</th>\n",
       "      <th>...</th>\n",
       "      <th>riprap</th>\n",
       "      <th>salt and brackish water marshes</th>\n",
       "      <th>salt marshes</th>\n",
       "      <th>scarps and steep slopes in sand</th>\n",
       "      <th>sheltered man-made structures</th>\n",
       "      <th>sheltered riprap</th>\n",
       "      <th>sheltered rocky shores</th>\n",
       "      <th>sheltered tidal flats</th>\n",
       "      <th>vegetated low riverine banks</th>\n",
       "      <th>wave cut rocky platforms</th>\n",
       "    </tr>\n",
       "  </thead>\n",
       "  <tbody>\n",
       "    <tr>\n",
       "      <th>0</th>\n",
       "      <td>0.0</td>\n",
       "      <td>-38.4</td>\n",
       "      <td>11.929242</td>\n",
       "      <td>14.013989</td>\n",
       "      <td>9.125995</td>\n",
       "      <td>-0.003885</td>\n",
       "      <td>34.0</td>\n",
       "      <td>17.955626</td>\n",
       "      <td>8.156</td>\n",
       "      <td>False</td>\n",
       "      <td>...</td>\n",
       "      <td>0</td>\n",
       "      <td>0</td>\n",
       "      <td>0</td>\n",
       "      <td>0</td>\n",
       "      <td>0</td>\n",
       "      <td>0</td>\n",
       "      <td>0</td>\n",
       "      <td>0</td>\n",
       "      <td>0</td>\n",
       "      <td>0</td>\n",
       "    </tr>\n",
       "    <tr>\n",
       "      <th>1</th>\n",
       "      <td>0.0</td>\n",
       "      <td>-34.8</td>\n",
       "      <td>11.929242</td>\n",
       "      <td>14.013989</td>\n",
       "      <td>9.125995</td>\n",
       "      <td>-0.003885</td>\n",
       "      <td>31.0</td>\n",
       "      <td>17.955626</td>\n",
       "      <td>8.156</td>\n",
       "      <td>False</td>\n",
       "      <td>...</td>\n",
       "      <td>0</td>\n",
       "      <td>0</td>\n",
       "      <td>0</td>\n",
       "      <td>0</td>\n",
       "      <td>0</td>\n",
       "      <td>0</td>\n",
       "      <td>0</td>\n",
       "      <td>0</td>\n",
       "      <td>0</td>\n",
       "      <td>0</td>\n",
       "    </tr>\n",
       "    <tr>\n",
       "      <th>2</th>\n",
       "      <td>0.0</td>\n",
       "      <td>-31.0</td>\n",
       "      <td>11.929242</td>\n",
       "      <td>14.013989</td>\n",
       "      <td>9.125995</td>\n",
       "      <td>-0.003885</td>\n",
       "      <td>31.0</td>\n",
       "      <td>17.955626</td>\n",
       "      <td>8.156</td>\n",
       "      <td>True</td>\n",
       "      <td>...</td>\n",
       "      <td>0</td>\n",
       "      <td>0</td>\n",
       "      <td>0</td>\n",
       "      <td>0</td>\n",
       "      <td>0</td>\n",
       "      <td>0</td>\n",
       "      <td>0</td>\n",
       "      <td>0</td>\n",
       "      <td>0</td>\n",
       "      <td>0</td>\n",
       "    </tr>\n",
       "    <tr>\n",
       "      <th>3</th>\n",
       "      <td>0.0</td>\n",
       "      <td>-31.0</td>\n",
       "      <td>11.929242</td>\n",
       "      <td>14.013989</td>\n",
       "      <td>9.125995</td>\n",
       "      <td>-0.003885</td>\n",
       "      <td>28.0</td>\n",
       "      <td>17.955626</td>\n",
       "      <td>8.156</td>\n",
       "      <td>False</td>\n",
       "      <td>...</td>\n",
       "      <td>0</td>\n",
       "      <td>0</td>\n",
       "      <td>0</td>\n",
       "      <td>0</td>\n",
       "      <td>0</td>\n",
       "      <td>0</td>\n",
       "      <td>0</td>\n",
       "      <td>0</td>\n",
       "      <td>0</td>\n",
       "      <td>0</td>\n",
       "    </tr>\n",
       "    <tr>\n",
       "      <th>4</th>\n",
       "      <td>0.0</td>\n",
       "      <td>-30.4</td>\n",
       "      <td>11.929242</td>\n",
       "      <td>14.013989</td>\n",
       "      <td>9.125995</td>\n",
       "      <td>-0.003885</td>\n",
       "      <td>28.0</td>\n",
       "      <td>17.955626</td>\n",
       "      <td>8.156</td>\n",
       "      <td>False</td>\n",
       "      <td>...</td>\n",
       "      <td>0</td>\n",
       "      <td>0</td>\n",
       "      <td>0</td>\n",
       "      <td>0</td>\n",
       "      <td>0</td>\n",
       "      <td>0</td>\n",
       "      <td>0</td>\n",
       "      <td>0</td>\n",
       "      <td>0</td>\n",
       "      <td>0</td>\n",
       "    </tr>\n",
       "  </tbody>\n",
       "</table>\n",
       "<p>5 rows × 36 columns</p>\n",
       "</div>"
      ],
      "text/plain": [
       "   biomass  depth   mean_sst    max_sst   min_sst      ndvi  z_min_light  \\\n",
       "0      0.0  -38.4  11.929242  14.013989  9.125995 -0.003885         34.0   \n",
       "1      0.0  -34.8  11.929242  14.013989  9.125995 -0.003885         31.0   \n",
       "2      0.0  -31.0  11.929242  14.013989  9.125995 -0.003885         31.0   \n",
       "3      0.0  -31.0  11.929242  14.013989  9.125995 -0.003885         28.0   \n",
       "4      0.0  -30.4  11.929242  14.013989  9.125995 -0.003885         28.0   \n",
       "\n",
       "    z_mixedl  floor_temp  viable            ...             riprap  \\\n",
       "0  17.955626       8.156   False            ...                  0   \n",
       "1  17.955626       8.156   False            ...                  0   \n",
       "2  17.955626       8.156    True            ...                  0   \n",
       "3  17.955626       8.156   False            ...                  0   \n",
       "4  17.955626       8.156   False            ...                  0   \n",
       "\n",
       "   salt and brackish water marshes  salt marshes  \\\n",
       "0                                0             0   \n",
       "1                                0             0   \n",
       "2                                0             0   \n",
       "3                                0             0   \n",
       "4                                0             0   \n",
       "\n",
       "   scarps and steep slopes in sand  sheltered man-made structures  \\\n",
       "0                                0                              0   \n",
       "1                                0                              0   \n",
       "2                                0                              0   \n",
       "3                                0                              0   \n",
       "4                                0                              0   \n",
       "\n",
       "   sheltered riprap  sheltered rocky shores  sheltered tidal flats  \\\n",
       "0                 0                       0                      0   \n",
       "1                 0                       0                      0   \n",
       "2                 0                       0                      0   \n",
       "3                 0                       0                      0   \n",
       "4                 0                       0                      0   \n",
       "\n",
       "   vegetated low riverine banks  wave cut rocky platforms  \n",
       "0                             0                         0  \n",
       "1                             0                         0  \n",
       "2                             0                         0  \n",
       "3                             0                         0  \n",
       "4                             0                         0  \n",
       "\n",
       "[5 rows x 36 columns]"
      ]
     },
     "execution_count": 4,
     "metadata": {},
     "output_type": "execute_result"
    }
   ],
   "source": [
    "#create dummy variables for the categorical variables\n",
    "shoretype = pd.get_dummies(grid_df['shoretype'])\n",
    "shoretype2 = pd.get_dummies(grid_df['shoretype2'])\n",
    "\n",
    "#drop categorical columns; will add dummy columns subsequently\n",
    "grid_df.drop(['shoretype','shoretype2'], axis=1, inplace=True)\n",
    "\n",
    "#add dummy variables for shoretype and shoretype2\n",
    "grid_df = grid_df.join(shoretype).join(shoretype2)\n",
    "print(grid_df.shape)\n",
    "grid_df.head()"
   ]
  },
  {
   "cell_type": "markdown",
   "metadata": {},
   "source": [
    "# split data into train/dev/test sets"
   ]
  },
  {
   "cell_type": "code",
   "execution_count": 5,
   "metadata": {},
   "outputs": [
    {
     "name": "stdout",
     "output_type": "stream",
     "text": [
      "(13412, 35)\n",
      "(3851, 35)\n",
      "(1897, 35)\n"
     ]
    }
   ],
   "source": [
    "#separate features from output classes\n",
    "target = 'aerial_kelp'\n",
    "predictors = [c for c in grid_df.columns if not c == target]\n",
    "\n",
    "discrete = ['shoretype', 'shoretype2']\n",
    "continuous = [i for i in grid_df.columns if not i in discrete and i != target]\n",
    "\n",
    "y = grid_df[target]\n",
    "x = grid_df[predictors]\n",
    "\n",
    "#create train/dev/test sets\n",
    "x_train, x_dev, y_train, y_dev = train_test_split(x,y, test_size=0.3, shuffle=True)\n",
    "x_dev, x_test, y_dev, y_test = train_test_split(x_dev,y_dev, test_size=0.33)\n",
    "print(x_train.shape)\n",
    "print(x_dev.shape)\n",
    "print(x_test.shape)"
   ]
  },
  {
   "cell_type": "markdown",
   "metadata": {},
   "source": [
    "# Scale numeric variables"
   ]
  },
  {
   "cell_type": "code",
   "execution_count": 6,
   "metadata": {},
   "outputs": [
    {
     "data": {
      "text/plain": [
       "0.09081419624217119"
      ]
     },
     "execution_count": 6,
     "metadata": {},
     "output_type": "execute_result"
    }
   ],
   "source": [
    "sum(y_train)/len(y_train)"
   ]
  },
  {
   "cell_type": "code",
   "execution_count": 7,
   "metadata": {},
   "outputs": [
    {
     "name": "stderr",
     "output_type": "stream",
     "text": [
      "/home/clay/anaconda3/lib/python3.6/site-packages/ipykernel_launcher.py:3: SettingWithCopyWarning: \n",
      "A value is trying to be set on a copy of a slice from a DataFrame.\n",
      "Try using .loc[row_indexer,col_indexer] = value instead\n",
      "\n",
      "See the caveats in the documentation: http://pandas.pydata.org/pandas-docs/stable/indexing.html#indexing-view-versus-copy\n",
      "  This is separate from the ipykernel package so we can avoid doing imports until\n",
      "/home/clay/anaconda3/lib/python3.6/site-packages/pandas/core/indexing.py:537: SettingWithCopyWarning: \n",
      "A value is trying to be set on a copy of a slice from a DataFrame.\n",
      "Try using .loc[row_indexer,col_indexer] = value instead\n",
      "\n",
      "See the caveats in the documentation: http://pandas.pydata.org/pandas-docs/stable/indexing.html#indexing-view-versus-copy\n",
      "  self.obj[item] = s\n"
     ]
    }
   ],
   "source": [
    "ss = StandardScaler()\n",
    "ss.fit(x_train[continuous])\n",
    "x_train[continuous] = ss.transform(x_train[continuous])\n",
    "x_dev[continuous] = ss.transform(x_dev[continuous])"
   ]
  },
  {
   "cell_type": "code",
   "execution_count": 8,
   "metadata": {},
   "outputs": [
    {
     "data": {
      "text/html": [
       "<div>\n",
       "<style scoped>\n",
       "    .dataframe tbody tr th:only-of-type {\n",
       "        vertical-align: middle;\n",
       "    }\n",
       "\n",
       "    .dataframe tbody tr th {\n",
       "        vertical-align: top;\n",
       "    }\n",
       "\n",
       "    .dataframe thead th {\n",
       "        text-align: right;\n",
       "    }\n",
       "</style>\n",
       "<table border=\"1\" class=\"dataframe\">\n",
       "  <thead>\n",
       "    <tr style=\"text-align: right;\">\n",
       "      <th></th>\n",
       "      <th>biomass</th>\n",
       "      <th>depth</th>\n",
       "      <th>mean_sst</th>\n",
       "      <th>max_sst</th>\n",
       "      <th>min_sst</th>\n",
       "      <th>ndvi</th>\n",
       "      <th>z_min_light</th>\n",
       "      <th>z_mixedl</th>\n",
       "      <th>floor_temp</th>\n",
       "      <th>viable</th>\n",
       "      <th>...</th>\n",
       "      <th>riprap</th>\n",
       "      <th>salt and brackish water marshes</th>\n",
       "      <th>salt marshes</th>\n",
       "      <th>scarps and steep slopes in sand</th>\n",
       "      <th>sheltered man-made structures</th>\n",
       "      <th>sheltered riprap</th>\n",
       "      <th>sheltered rocky shores</th>\n",
       "      <th>sheltered tidal flats</th>\n",
       "      <th>vegetated low riverine banks</th>\n",
       "      <th>wave cut rocky platforms</th>\n",
       "    </tr>\n",
       "  </thead>\n",
       "  <tbody>\n",
       "    <tr>\n",
       "      <th>6624</th>\n",
       "      <td>-0.063564</td>\n",
       "      <td>-1.353369</td>\n",
       "      <td>-0.169381</td>\n",
       "      <td>-0.314347</td>\n",
       "      <td>-0.057676</td>\n",
       "      <td>-0.732910</td>\n",
       "      <td>0.901598</td>\n",
       "      <td>0.945690</td>\n",
       "      <td>0.336457</td>\n",
       "      <td>-0.271063</td>\n",
       "      <td>...</td>\n",
       "      <td>-0.31304</td>\n",
       "      <td>-0.484641</td>\n",
       "      <td>-0.02443</td>\n",
       "      <td>-0.052596</td>\n",
       "      <td>-0.040534</td>\n",
       "      <td>-0.031148</td>\n",
       "      <td>-0.008635</td>\n",
       "      <td>-0.008635</td>\n",
       "      <td>0.0</td>\n",
       "      <td>-0.286290</td>\n",
       "    </tr>\n",
       "    <tr>\n",
       "      <th>15935</th>\n",
       "      <td>-0.063564</td>\n",
       "      <td>-0.449906</td>\n",
       "      <td>1.630215</td>\n",
       "      <td>1.733939</td>\n",
       "      <td>1.854256</td>\n",
       "      <td>-0.286502</td>\n",
       "      <td>3.735721</td>\n",
       "      <td>1.061559</td>\n",
       "      <td>0.619335</td>\n",
       "      <td>-0.271063</td>\n",
       "      <td>...</td>\n",
       "      <td>-0.31304</td>\n",
       "      <td>-0.484641</td>\n",
       "      <td>-0.02443</td>\n",
       "      <td>-0.052596</td>\n",
       "      <td>-0.040534</td>\n",
       "      <td>-0.031148</td>\n",
       "      <td>-0.008635</td>\n",
       "      <td>-0.008635</td>\n",
       "      <td>0.0</td>\n",
       "      <td>3.492963</td>\n",
       "    </tr>\n",
       "    <tr>\n",
       "      <th>8666</th>\n",
       "      <td>-0.063564</td>\n",
       "      <td>0.188184</td>\n",
       "      <td>0.247348</td>\n",
       "      <td>0.177244</td>\n",
       "      <td>0.066274</td>\n",
       "      <td>-0.459951</td>\n",
       "      <td>-0.029010</td>\n",
       "      <td>1.006945</td>\n",
       "      <td>0.744181</td>\n",
       "      <td>-0.271063</td>\n",
       "      <td>...</td>\n",
       "      <td>-0.31304</td>\n",
       "      <td>-0.484641</td>\n",
       "      <td>-0.02443</td>\n",
       "      <td>-0.052596</td>\n",
       "      <td>-0.040534</td>\n",
       "      <td>-0.031148</td>\n",
       "      <td>-0.008635</td>\n",
       "      <td>-0.008635</td>\n",
       "      <td>0.0</td>\n",
       "      <td>-0.286290</td>\n",
       "    </tr>\n",
       "    <tr>\n",
       "      <th>7400</th>\n",
       "      <td>-0.063564</td>\n",
       "      <td>0.136004</td>\n",
       "      <td>0.029663</td>\n",
       "      <td>0.068483</td>\n",
       "      <td>0.109947</td>\n",
       "      <td>-0.720481</td>\n",
       "      <td>-0.029010</td>\n",
       "      <td>1.763063</td>\n",
       "      <td>0.494974</td>\n",
       "      <td>-0.271063</td>\n",
       "      <td>...</td>\n",
       "      <td>-0.31304</td>\n",
       "      <td>-0.484641</td>\n",
       "      <td>-0.02443</td>\n",
       "      <td>-0.052596</td>\n",
       "      <td>-0.040534</td>\n",
       "      <td>-0.031148</td>\n",
       "      <td>-0.008635</td>\n",
       "      <td>-0.008635</td>\n",
       "      <td>0.0</td>\n",
       "      <td>-0.286290</td>\n",
       "    </tr>\n",
       "    <tr>\n",
       "      <th>14821</th>\n",
       "      <td>-0.063564</td>\n",
       "      <td>0.490830</td>\n",
       "      <td>-0.177685</td>\n",
       "      <td>-0.171513</td>\n",
       "      <td>-0.100342</td>\n",
       "      <td>2.354121</td>\n",
       "      <td>-0.959617</td>\n",
       "      <td>-1.121143</td>\n",
       "      <td>0.235167</td>\n",
       "      <td>-0.271063</td>\n",
       "      <td>...</td>\n",
       "      <td>-0.31304</td>\n",
       "      <td>2.063382</td>\n",
       "      <td>-0.02443</td>\n",
       "      <td>-0.052596</td>\n",
       "      <td>-0.040534</td>\n",
       "      <td>-0.031148</td>\n",
       "      <td>-0.008635</td>\n",
       "      <td>-0.008635</td>\n",
       "      <td>0.0</td>\n",
       "      <td>-0.286290</td>\n",
       "    </tr>\n",
       "  </tbody>\n",
       "</table>\n",
       "<p>5 rows × 35 columns</p>\n",
       "</div>"
      ],
      "text/plain": [
       "        biomass     depth  mean_sst   max_sst   min_sst      ndvi  \\\n",
       "6624  -0.063564 -1.353369 -0.169381 -0.314347 -0.057676 -0.732910   \n",
       "15935 -0.063564 -0.449906  1.630215  1.733939  1.854256 -0.286502   \n",
       "8666  -0.063564  0.188184  0.247348  0.177244  0.066274 -0.459951   \n",
       "7400  -0.063564  0.136004  0.029663  0.068483  0.109947 -0.720481   \n",
       "14821 -0.063564  0.490830 -0.177685 -0.171513 -0.100342  2.354121   \n",
       "\n",
       "       z_min_light  z_mixedl  floor_temp    viable            ...             \\\n",
       "6624      0.901598  0.945690    0.336457 -0.271063            ...              \n",
       "15935     3.735721  1.061559    0.619335 -0.271063            ...              \n",
       "8666     -0.029010  1.006945    0.744181 -0.271063            ...              \n",
       "7400     -0.029010  1.763063    0.494974 -0.271063            ...              \n",
       "14821    -0.959617 -1.121143    0.235167 -0.271063            ...              \n",
       "\n",
       "        riprap  salt and brackish water marshes  salt marshes  \\\n",
       "6624  -0.31304                        -0.484641      -0.02443   \n",
       "15935 -0.31304                        -0.484641      -0.02443   \n",
       "8666  -0.31304                        -0.484641      -0.02443   \n",
       "7400  -0.31304                        -0.484641      -0.02443   \n",
       "14821 -0.31304                         2.063382      -0.02443   \n",
       "\n",
       "       scarps and steep slopes in sand  sheltered man-made structures  \\\n",
       "6624                         -0.052596                      -0.040534   \n",
       "15935                        -0.052596                      -0.040534   \n",
       "8666                         -0.052596                      -0.040534   \n",
       "7400                         -0.052596                      -0.040534   \n",
       "14821                        -0.052596                      -0.040534   \n",
       "\n",
       "       sheltered riprap  sheltered rocky shores  sheltered tidal flats  \\\n",
       "6624          -0.031148               -0.008635              -0.008635   \n",
       "15935         -0.031148               -0.008635              -0.008635   \n",
       "8666          -0.031148               -0.008635              -0.008635   \n",
       "7400          -0.031148               -0.008635              -0.008635   \n",
       "14821         -0.031148               -0.008635              -0.008635   \n",
       "\n",
       "       vegetated low riverine banks  wave cut rocky platforms  \n",
       "6624                            0.0                 -0.286290  \n",
       "15935                           0.0                  3.492963  \n",
       "8666                            0.0                 -0.286290  \n",
       "7400                            0.0                 -0.286290  \n",
       "14821                           0.0                 -0.286290  \n",
       "\n",
       "[5 rows x 35 columns]"
      ]
     },
     "execution_count": 8,
     "metadata": {},
     "output_type": "execute_result"
    }
   ],
   "source": [
    "x_train.head()"
   ]
  },
  {
   "cell_type": "markdown",
   "metadata": {},
   "source": [
    "# Logistic Regression model"
   ]
  },
  {
   "cell_type": "code",
   "execution_count": 9,
   "metadata": {},
   "outputs": [
    {
     "data": {
      "text/plain": [
       "LogisticRegressionCV(Cs=[0.01, 0.1, 0.5, 1, 2, 5, 10, 20],\n",
       "           class_weight='balanced', cv=5, dual=False, fit_intercept=True,\n",
       "           intercept_scaling=1.0, max_iter=100, multi_class='ovr',\n",
       "           n_jobs=1, penalty='l2', random_state=None, refit=True,\n",
       "           scoring=None, solver='lbfgs', tol=0.0001, verbose=0)"
      ]
     },
     "execution_count": 9,
     "metadata": {},
     "output_type": "execute_result"
    }
   ],
   "source": [
    "lr = LogisticRegressionCV(Cs=[0.01,0.1,0.5,1,2,5,10,20],class_weight='balanced', cv=5)\n",
    "lr.fit(x_train, y_train)"
   ]
  },
  {
   "cell_type": "code",
   "execution_count": 10,
   "metadata": {},
   "outputs": [
    {
     "name": "stdout",
     "output_type": "stream",
     "text": [
      "0.7021552843417295\n"
     ]
    }
   ],
   "source": [
    "print(lr.score(x_dev,y_dev))\n",
    "#print(metrics.accuracy_score(x_dev, y_dev))"
   ]
  },
  {
   "cell_type": "code",
   "execution_count": 11,
   "metadata": {},
   "outputs": [
    {
     "name": "stdout",
     "output_type": "stream",
     "text": [
      "          Predicted=0  Predicted=1\n",
      "Actual=0         2434         1065\n",
      "Actual=1           82          270\n",
      "accuracy is 0.7021552843417295\n",
      "f1 score is 0.32009484291641965\n",
      "precisions is 0.20224719101123595\n",
      "recall score is 0.7670454545454546\n"
     ]
    }
   ],
   "source": [
    "y_pred = lr.predict(x_dev)\n",
    "#confusion_matrix(y_dev,y_pred)\n",
    "cfnmatrix = pd.DataFrame(\n",
    "            confusion_matrix(y_dev, y_pred), \n",
    "            columns=['Predicted=0', 'Predicted=1'], \n",
    "            index=['Actual=0', 'Actual=1']\n",
    ")\n",
    "print(cfnmatrix)\n",
    "\n",
    "print(\"accuracy is {}\".format(metrics.accuracy_score(y_dev, y_pred)))\n",
    "print(\"f1 score is {}\".format(metrics.f1_score(y_dev, y_pred)))\n",
    "print(\"precisions is {}\".format(metrics.precision_score(y_dev, y_pred)))\n",
    "print(\"recall score is {}\".format(metrics.recall_score(y_dev,y_pred)))"
   ]
  },
  {
   "cell_type": "code",
   "execution_count": 47,
   "metadata": {},
   "outputs": [
    {
     "data": {
      "text/plain": [
       "0.6896909893534147"
      ]
     },
     "execution_count": 47,
     "metadata": {},
     "output_type": "execute_result"
    }
   ],
   "source": [
    "#accuracy\n",
    "(2366+290)/(2366+290+1130+65)\n",
    "#recall\n",
    "(290)/(290+65)\n",
    "#precision\n",
    "(290)/(290+1130)\n",
    "#some other thing\n",
    "(2366)/(2366+1130)"
   ]
  },
  {
   "cell_type": "code",
   "execution_count": 12,
   "metadata": {
    "scrolled": false
   },
   "outputs": [
    {
     "data": {
      "text/plain": [
       "GridSearchCV(cv=5, error_score='raise',\n",
       "       estimator=LogisticRegression(C=1.0, class_weight=None, dual=False, fit_intercept=True,\n",
       "          intercept_scaling=1, max_iter=100, multi_class='ovr', n_jobs=1,\n",
       "          penalty='l1', random_state=None, solver='liblinear', tol=0.0001,\n",
       "          verbose=0, warm_start=False),\n",
       "       fit_params=None, iid=True, n_jobs=1,\n",
       "       param_grid={'C': [0.01, 0.1, 0.5, 1, 5]}, pre_dispatch='2*n_jobs',\n",
       "       refit=True, return_train_score='warn', scoring=None, verbose=0)"
      ]
     },
     "execution_count": 12,
     "metadata": {},
     "output_type": "execute_result"
    }
   ],
   "source": [
    "# try gridsearchcv\n",
    "#parameters = {'Cs':[0.01,0.1,0.5,1,5], 'cv':[1,3,5.8,10]}\n",
    "parameters = {'C':[0.01,0.1,0.5,1,5]}\n",
    "lr = LogisticRegression(penalty='l1')\n",
    "gs = GridSearchCV(lr,parameters,cv=5)\n",
    "gs.fit(x_train,y_train)"
   ]
  },
  {
   "cell_type": "code",
   "execution_count": 13,
   "metadata": {},
   "outputs": [
    {
     "name": "stdout",
     "output_type": "stream",
     "text": [
      "0.9129883686251118\n"
     ]
    },
    {
     "data": {
      "text/plain": [
       "array([0.91052789, 0.91164629, 0.91298837, 0.91291381, 0.91298837])"
      ]
     },
     "execution_count": 13,
     "metadata": {},
     "output_type": "execute_result"
    }
   ],
   "source": [
    "print(gs.best_score_)\n",
    "gs.cv_results_['mean_test_score']"
   ]
  },
  {
   "cell_type": "code",
   "execution_count": null,
   "metadata": {},
   "outputs": [],
   "source": [
    "y_pred = lr.predict(x_dev)\n",
    "#confusion_matrix(y_dev,y_pred)\n",
    "cfnmatrix = pd.DataFrame(\n",
    "            confusion_matrix(y_dev, y_pred), \n",
    "            columns=['Predicted=0', 'Predicted=1'], \n",
    "            index=['Actual=0', 'Actual=1']\n",
    ")\n",
    "print(cfnmatrix)\n",
    "\n",
    "print(\"accuracy is {}\".format(metrics.accuracy_score(y_dev, y_pred)))\n",
    "print(\"f1 score is {}\".format(metrics.f1_score(y_dev, y_pred)))\n",
    "print(\"precisions is {}\".format(metrics.precision_score(y_dev, y_pred)))\n",
    "print(\"recall score is {}\".format(metrics.recall_score(y_dev,y_pred)))"
   ]
  },
  {
   "cell_type": "markdown",
   "metadata": {},
   "source": [
    "# try a decision tree"
   ]
  },
  {
   "cell_type": "code",
   "execution_count": 14,
   "metadata": {},
   "outputs": [
    {
     "data": {
      "text/plain": [
       "DecisionTreeClassifier(class_weight=None, criterion='gini', max_depth=None,\n",
       "            max_features=None, max_leaf_nodes=None,\n",
       "            min_impurity_decrease=0.0, min_impurity_split=None,\n",
       "            min_samples_leaf=1, min_samples_split=2,\n",
       "            min_weight_fraction_leaf=0.0, presort=False, random_state=None,\n",
       "            splitter='best')"
      ]
     },
     "execution_count": 14,
     "metadata": {},
     "output_type": "execute_result"
    }
   ],
   "source": [
    "dt = tree.DecisionTreeClassifier(max_depth=None, class_weight=None)\n",
    "dt.fit(x_train, y_train)"
   ]
  },
  {
   "cell_type": "code",
   "execution_count": 15,
   "metadata": {},
   "outputs": [
    {
     "name": "stdout",
     "output_type": "stream",
     "text": [
      "35\n",
      "1\n",
      "[2.81247546e-01 1.15844650e-01 1.12098248e-01 9.23263338e-02\n",
      " 9.06472515e-02 5.78371902e-02 5.65035449e-02 4.66854734e-02\n",
      " 3.70937366e-02 2.00111277e-02 1.52422203e-02 9.67057054e-03\n",
      " 9.08662113e-03 9.08192572e-03 9.07849926e-03 7.64163042e-03\n",
      " 6.88048331e-03 6.19865322e-03 4.71932932e-03 4.00376657e-03\n",
      " 3.41797860e-03 2.27199333e-03 1.32456646e-03 8.21075505e-04\n",
      " 2.65583817e-04 0.00000000e+00 0.00000000e+00 0.00000000e+00\n",
      " 0.00000000e+00 0.00000000e+00 0.00000000e+00 0.00000000e+00\n",
      " 0.00000000e+00 0.00000000e+00 0.00000000e+00]\n",
      "Index(['depth', 'biomass', 'z_min_light', 'ndvi', 'floor_temp'], dtype='object')\n",
      "          Predicted=0  Predicted=1\n",
      "Actual=0         3339          160\n",
      "Actual=1          173          179\n",
      "accuracy is 0.9135289535185666\n",
      "f1 score is 0.5180897250361794\n",
      "precisions is 0.528023598820059\n",
      "recall score is 0.5085227272727273\n"
     ]
    }
   ],
   "source": [
    "#benchmark score = 0.7878787878\n",
    "y_pred = dt.predict(x_dev)\n",
    "print(dt.max_features_)\n",
    "print(dt.n_outputs_)\n",
    "feats = np.argsort(-dt.feature_importances_)\n",
    "print(dt.feature_importances_[feats])\n",
    "print(x_train.columns[feats][:5])\n",
    "cfnmatrix = pd.DataFrame(\n",
    "            confusion_matrix(y_dev, y_pred), \n",
    "            columns=['Predicted=0', 'Predicted=1'], \n",
    "            index=['Actual=0', 'Actual=1']\n",
    ")\n",
    "print(cfnmatrix)\n",
    "print(\"accuracy is {}\".format(metrics.accuracy_score(y_dev, y_pred)))\n",
    "print(\"f1 score is {}\".format(metrics.f1_score(y_dev, y_pred)))\n",
    "print(\"precisions is {}\".format(metrics.precision_score(y_dev, y_pred)))\n",
    "print(\"recall score is {}\".format(metrics.recall_score(y_dev,y_pred)))"
   ]
  },
  {
   "cell_type": "markdown",
   "metadata": {},
   "source": [
    "# try random forest"
   ]
  },
  {
   "cell_type": "code",
   "execution_count": 22,
   "metadata": {},
   "outputs": [
    {
     "data": {
      "text/plain": [
       "RandomForestClassifier(bootstrap=True, class_weight=None, criterion='gini',\n",
       "            max_depth=None, max_features='auto', max_leaf_nodes=None,\n",
       "            min_impurity_decrease=0.0, min_impurity_split=None,\n",
       "            min_samples_leaf=1, min_samples_split=2,\n",
       "            min_weight_fraction_leaf=0.0, n_estimators=1000, n_jobs=1,\n",
       "            oob_score=False, random_state=None, verbose=0,\n",
       "            warm_start=False)"
      ]
     },
     "execution_count": 22,
     "metadata": {},
     "output_type": "execute_result"
    }
   ],
   "source": [
    "dt = RandomForestClassifier(max_depth=None, class_weight=None, n_estimators=1000)\n",
    "dt.fit(x_train, y_train)"
   ]
  },
  {
   "cell_type": "code",
   "execution_count": 23,
   "metadata": {},
   "outputs": [
    {
     "name": "stdout",
     "output_type": "stream",
     "text": [
      "1\n",
      "[2.30986935e-01 1.34628668e-01 9.09981122e-02 8.98658050e-02\n",
      " 7.33504540e-02 7.05494736e-02 6.94471177e-02 6.77814582e-02\n",
      " 6.70967295e-02 1.16707338e-02 9.83267941e-03 9.32261703e-03\n",
      " 9.25511270e-03 9.14065180e-03 8.41725591e-03 7.81418696e-03\n",
      " 6.83757854e-03 5.74916765e-03 5.06352534e-03 4.85597748e-03\n",
      " 4.03312211e-03 3.80254041e-03 3.25229600e-03 3.02199959e-03\n",
      " 1.15492319e-03 7.72644978e-04 3.93136790e-04 2.88269941e-04\n",
      " 2.39037475e-04 2.27532370e-04 1.16004492e-04 2.68575337e-05\n",
      " 4.17676039e-06 3.21843110e-06 0.00000000e+00]\n",
      "Index(['depth', 'z_min_light', 'ndvi', 'floor_temp', 'biomass'], dtype='object')\n",
      "          Predicted=0  Predicted=1\n",
      "Actual=0         3402           97\n",
      "Actual=1          187          165\n",
      "accuracy is 0.9262529213191378\n",
      "f1 score is 0.5374592833876222\n",
      "precisions is 0.6297709923664122\n",
      "recall score is 0.46875\n"
     ]
    }
   ],
   "source": [
    "y_pred = dt.predict(x_dev)\n",
    "print(dt.n_outputs_)\n",
    "feats = np.argsort(-dt.feature_importances_)\n",
    "print(dt.feature_importances_[feats])\n",
    "print(x_train.columns[feats][:5])\n",
    "cfnmatrix = pd.DataFrame(\n",
    "            confusion_matrix(y_dev, y_pred), \n",
    "            columns=['Predicted=0', 'Predicted=1'], \n",
    "            index=['Actual=0', 'Actual=1']\n",
    ")\n",
    "print(cfnmatrix)\n",
    "print(\"accuracy is {}\".format(metrics.accuracy_score(y_dev, y_pred)))\n",
    "print(\"f1 score is {}\".format(metrics.f1_score(y_dev, y_pred)))\n",
    "print(\"precisions is {}\".format(metrics.precision_score(y_dev, y_pred)))\n",
    "print(\"recall score is {}\".format(metrics.recall_score(y_dev,y_pred)))"
   ]
  },
  {
   "cell_type": "code",
   "execution_count": null,
   "metadata": {},
   "outputs": [],
   "source": []
  }
 ],
 "metadata": {
  "kernelspec": {
   "display_name": "Python 3",
   "language": "python",
   "name": "python3"
  },
  "language_info": {
   "codemirror_mode": {
    "name": "ipython",
    "version": 3
   },
   "file_extension": ".py",
   "mimetype": "text/x-python",
   "name": "python",
   "nbconvert_exporter": "python",
   "pygments_lexer": "ipython3",
   "version": "3.6.4"
  }
 },
 "nbformat": 4,
 "nbformat_minor": 2
}
