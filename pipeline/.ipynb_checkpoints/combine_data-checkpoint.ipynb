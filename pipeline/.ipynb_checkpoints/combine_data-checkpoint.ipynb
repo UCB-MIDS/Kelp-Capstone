{
 "cells": [
  {
   "cell_type": "markdown",
   "metadata": {},
   "source": [
    "# Combine data"
   ]
  },
  {
   "cell_type": "code",
   "execution_count": 1,
   "metadata": {},
   "outputs": [],
   "source": [
    "import pandas as pd\n",
    "import pickle\n",
    "import os\n",
    "import urllib\n",
    "import requests\n",
    "import numpy as np\n",
    "from itertools import product\n",
    "from shapely.geometry import LinearRing, Polygon, Point, LineString, box\n",
    "import geopandas as gpd\n",
    "import matplotlib.pyplot as plt\n",
    "import math\n",
    "from math import radians, sin, cos, asin, sqrt, atan2\n",
    "from time import time\n",
    "from scipy.interpolate import RegularGridInterpolator\n",
    "\n",
    "%matplotlib inline\n",
    "\n",
    "pickles = '../data/pickles/'"
   ]
  },
  {
   "cell_type": "markdown",
   "metadata": {},
   "source": [
    "# Read Pickle Files"
   ]
  },
  {
   "cell_type": "code",
   "execution_count": 7,
   "metadata": {
    "scrolled": true
   },
   "outputs": [],
   "source": [
    "#os.listdir(pickles)"
   ]
  },
  {
   "cell_type": "code",
   "execution_count": 2,
   "metadata": {},
   "outputs": [],
   "source": [
    "#Vincenzo + Clay's, written by Rob way of reading in data from GCP\n",
    "dir_name = \"pickles/\"\n",
    "\n",
    "pickles = \"https://storage.googleapis.com/w210data/data/pickles/\"\n",
    "state_shapefiles = \"https://storage.googleapis.com/w210data/data/state_shapefiles/cb_2017_us_state_20m/\"\n",
    "occupation = \"https://storage.googleapis.com/w210data/data/occupation/\"\n",
    "\n",
    "if not os.path.isdir(dir_name):\n",
    "    os.mkdir(dir_name)\n",
    "    \n",
    "def download_file(file_name, gcs_bucket):\n",
    "    full_path = os.path.join(dir_name, file_name)\n",
    "    if not os.path.exists(full_path):\n",
    "        urllib.request.urlretrieve (gcs_bucket+file_name, full_path)\n",
    "\n",
    "def load_file(file_name, gcs_bucket):\n",
    "    download_file(file_name, gcs_bucket)\n",
    "    full_path = os.path.join(dir_name, file_name)\n",
    "    return pd.read_pickle(full_path)\n",
    "\n",
    "file1 = \"bathymetry.pkl\"\n",
    "file2 = \"ca_counties.pkl\"\n",
    "file3 = \"crit_species.pkl\"\n",
    "file4 = \"kelp_biomass.pkl\"\n",
    "file5 = \"mpa.pkl\"\n",
    "file6 = \"nes_occupation.pkl\"\n",
    "file7 = \"qcew_occupation.pkl\"\n",
    "file8 = \"sst_ca.pkl\"\n",
    "\n",
    "bathymetry = load_file(file1, pickles)\n",
    "counties = load_file(file2, pickles)\n",
    "crit_species = load_file(file3, pickles)\n",
    "kelp_biomass = load_file(file4, pickles)\n",
    "protected_areas = load_file(file5, pickles)\n",
    "occupation_nes = load_file(file6, pickles)\n",
    "occupation_qcew = load_file(file7, pickles)\n",
    "sst = load_file(file8, pickles)"
   ]
  },
  {
   "cell_type": "code",
   "execution_count": 3,
   "metadata": {},
   "outputs": [],
   "source": [
    "#we will need to convert some geometries from lat, lon to lon,lat\n",
    "def flip_coords(geom):\n",
    "    if type(geom) == Polygon:\n",
    "        coords = geom.exterior.coords.xy \n",
    "        geomtype = 'Polygon'\n",
    "    elif type(geom) == LineString:\n",
    "        coords = geom.coords.xy\n",
    "        geomtype = 'LineString'\n",
    "    elif type(geom) == Point:\n",
    "        coords = geom.coords.xy\n",
    "        geomtype = 'Point'\n",
    "    else:\n",
    "        print(\"not a known geom type\")\n",
    "        return \n",
    "    flipped_coords = list(zip(coords[1],coords[0]))\n",
    "    if geomtype == 'Polygon':\n",
    "        return Polygon(flipped_coords) \n",
    "    elif geomtype == 'LineString':\n",
    "        return LineString(flipped_coords)\n",
    "    elif geomtype == 'Point':\n",
    "        return Point(flipped_coords)"
   ]
  },
  {
   "cell_type": "markdown",
   "metadata": {},
   "source": [
    "The way unemployment is counted right now is pulling total population per county and then each individual subsegment of population - men/female by age groups who are unemployed. I don't see a generic total unemployed count per se, but this is a decent proxy and at least a good pipeline to be able to pull anything else"
   ]
  },
  {
   "cell_type": "code",
   "execution_count": 4,
   "metadata": {
    "scrolled": false
   },
   "outputs": [
    {
     "data": {
      "text/html": [
       "<div>\n",
       "<style scoped>\n",
       "    .dataframe tbody tr th:only-of-type {\n",
       "        vertical-align: middle;\n",
       "    }\n",
       "\n",
       "    .dataframe tbody tr th {\n",
       "        vertical-align: top;\n",
       "    }\n",
       "\n",
       "    .dataframe thead th {\n",
       "        text-align: right;\n",
       "    }\n",
       "</style>\n",
       "<table border=\"1\" class=\"dataframe\">\n",
       "  <thead>\n",
       "    <tr style=\"text-align: right;\">\n",
       "      <th></th>\n",
       "      <th>County</th>\n",
       "      <th>County_Code</th>\n",
       "      <th>Total_Population</th>\n",
       "      <th>Unemployment</th>\n",
       "      <th>Unemployment_Rate</th>\n",
       "    </tr>\n",
       "  </thead>\n",
       "  <tbody>\n",
       "    <tr>\n",
       "      <th>1</th>\n",
       "      <td>Alameda County, California</td>\n",
       "      <td>001</td>\n",
       "      <td>1279499</td>\n",
       "      <td>191570</td>\n",
       "      <td>0.149723</td>\n",
       "    </tr>\n",
       "    <tr>\n",
       "      <th>2</th>\n",
       "      <td>Alpine County, California</td>\n",
       "      <td>003</td>\n",
       "      <td>932</td>\n",
       "      <td>181</td>\n",
       "      <td>0.194206</td>\n",
       "    </tr>\n",
       "    <tr>\n",
       "      <th>3</th>\n",
       "      <td>Amador County, California</td>\n",
       "      <td>005</td>\n",
       "      <td>31994</td>\n",
       "      <td>7996</td>\n",
       "      <td>0.249922</td>\n",
       "    </tr>\n",
       "    <tr>\n",
       "      <th>4</th>\n",
       "      <td>Butte County, California</td>\n",
       "      <td>007</td>\n",
       "      <td>182772</td>\n",
       "      <td>34921</td>\n",
       "      <td>0.191063</td>\n",
       "    </tr>\n",
       "    <tr>\n",
       "      <th>5</th>\n",
       "      <td>Calaveras County, California</td>\n",
       "      <td>009</td>\n",
       "      <td>37756</td>\n",
       "      <td>7618</td>\n",
       "      <td>0.201769</td>\n",
       "    </tr>\n",
       "  </tbody>\n",
       "</table>\n",
       "</div>"
      ],
      "text/plain": [
       "                         County County_Code  Total_Population  Unemployment  \\\n",
       "1    Alameda County, California         001           1279499        191570   \n",
       "2     Alpine County, California         003               932           181   \n",
       "3     Amador County, California         005             31994          7996   \n",
       "4      Butte County, California         007            182772         34921   \n",
       "5  Calaveras County, California         009             37756          7618   \n",
       "\n",
       "   Unemployment_Rate  \n",
       "1           0.149723  \n",
       "2           0.194206  \n",
       "3           0.249922  \n",
       "4           0.191063  \n",
       "5           0.201769  "
      ]
     },
     "execution_count": 4,
     "metadata": {},
     "output_type": "execute_result"
    }
   ],
   "source": [
    "#Codes:https://api.census.gov/data/2016/acs/acs5/groups/B23001.html\n",
    "def pull_census(state, url_yes_no):\n",
    "    url = (\"https://api.census.gov/data/2015/acs5?get=NAME,B23001_001E,\"+#B23001_009E,\"+ #Men\n",
    "           \"B23001_023E,B23001_030E,B23001_037E,B23001_044E,B23001_051E,\"+\n",
    "           \"B23001_058E,\"+#B23001_016E,B23001_065E,B23001_072E,B23001_077E,B23001_082E,\n",
    "           \"B23001_102E,B23001_077E,B23001_109E,\"+           #Women 16-19 B23001_095E\n",
    "           \"B23001_116E,B23001_123E,B23001_130E,B23001_137E,B23001_144E\"+           #B23001_151E,B23001_158E,B23001_163E,B23001_168E,B23001_173E,\n",
    "           \"&for=county:*&in=state:\" + state + \"&key=14ba39dd26088efd8d54c4f01d90023f2d4bfc6d\")\n",
    "    if url_yes_no:\n",
    "        print(url)        \n",
    "    html = requests.get(url).json()\n",
    "    return html\n",
    "\n",
    "newstate = pull_census(\"06\", False)\n",
    "ur = pd.DataFrame(newstate, columns = newstate[0])[1:]\n",
    "unemployment = pd.DataFrame({\"County\" : ur[\"NAME\"], \"County_Code\" : ur[\"county\"], \"Total_Population\" : ur[\"B23001_001E\"], \"Unemployment\" : ur.iloc[:, 2:17].apply(pd.to_numeric).sum(axis = 1)})\n",
    "unemployment[[\"Unemployment\", \"Total_Population\"]] = unemployment[[\"Unemployment\", \"Total_Population\"]].apply(pd.to_numeric)\n",
    "unemployment[\"Unemployment_Rate\"] = unemployment[[\"Unemployment\"]].div(unemployment[\"Total_Population\"], axis = 0)\n",
    "unemployment.head()"
   ]
  },
  {
   "cell_type": "code",
   "execution_count": 5,
   "metadata": {
    "scrolled": true
   },
   "outputs": [
    {
     "name": "stdout",
     "output_type": "stream",
     "text": [
      "(5371, 4)\n"
     ]
    },
    {
     "data": {
      "text/html": [
       "<div>\n",
       "<style scoped>\n",
       "    .dataframe tbody tr th:only-of-type {\n",
       "        vertical-align: middle;\n",
       "    }\n",
       "\n",
       "    .dataframe tbody tr th {\n",
       "        vertical-align: top;\n",
       "    }\n",
       "\n",
       "    .dataframe thead th {\n",
       "        text-align: right;\n",
       "    }\n",
       "</style>\n",
       "<table border=\"1\" class=\"dataframe\">\n",
       "  <thead>\n",
       "    <tr style=\"text-align: right;\">\n",
       "      <th></th>\n",
       "      <th>x</th>\n",
       "      <th>y</th>\n",
       "      <th>z</th>\n",
       "      <th>geometry</th>\n",
       "    </tr>\n",
       "  </thead>\n",
       "  <tbody>\n",
       "    <tr>\n",
       "      <th>1614</th>\n",
       "      <td>-124.45</td>\n",
       "      <td>40.400000</td>\n",
       "      <td>-50.0</td>\n",
       "      <td>POINT (-124.45 40.40000000000003)</td>\n",
       "    </tr>\n",
       "    <tr>\n",
       "      <th>1615</th>\n",
       "      <td>-124.45</td>\n",
       "      <td>40.416667</td>\n",
       "      <td>-38.0</td>\n",
       "      <td>POINT (-124.45 40.41666666666669)</td>\n",
       "    </tr>\n",
       "    <tr>\n",
       "      <th>1616</th>\n",
       "      <td>-124.45</td>\n",
       "      <td>40.433333</td>\n",
       "      <td>-32.0</td>\n",
       "      <td>POINT (-124.45 40.43333333333336)</td>\n",
       "    </tr>\n",
       "    <tr>\n",
       "      <th>1617</th>\n",
       "      <td>-124.45</td>\n",
       "      <td>40.450000</td>\n",
       "      <td>-29.0</td>\n",
       "      <td>POINT (-124.45 40.45000000000002)</td>\n",
       "    </tr>\n",
       "    <tr>\n",
       "      <th>1618</th>\n",
       "      <td>-124.45</td>\n",
       "      <td>40.466667</td>\n",
       "      <td>-31.0</td>\n",
       "      <td>POINT (-124.45 40.46666666666669)</td>\n",
       "    </tr>\n",
       "  </tbody>\n",
       "</table>\n",
       "</div>"
      ],
      "text/plain": [
       "           x          y     z                           geometry\n",
       "1614 -124.45  40.400000 -50.0  POINT (-124.45 40.40000000000003)\n",
       "1615 -124.45  40.416667 -38.0  POINT (-124.45 40.41666666666669)\n",
       "1616 -124.45  40.433333 -32.0  POINT (-124.45 40.43333333333336)\n",
       "1617 -124.45  40.450000 -29.0  POINT (-124.45 40.45000000000002)\n",
       "1618 -124.45  40.466667 -31.0  POINT (-124.45 40.46666666666669)"
      ]
     },
     "execution_count": 5,
     "metadata": {},
     "output_type": "execute_result"
    }
   ],
   "source": [
    "#Pickle files come from data/read_data.ipynb and\n",
    "#bathymetry is not a gpd df\n",
    "#bathymetry = pd.read_pickle(pickles+'bathymetry.pkl')\n",
    "print(bathymetry.shape)\n",
    "bathymetry.head()"
   ]
  },
  {
   "cell_type": "code",
   "execution_count": 6,
   "metadata": {},
   "outputs": [
    {
     "data": {
      "text/html": [
       "<div>\n",
       "<style scoped>\n",
       "    .dataframe tbody tr th:only-of-type {\n",
       "        vertical-align: middle;\n",
       "    }\n",
       "\n",
       "    .dataframe tbody tr th {\n",
       "        vertical-align: top;\n",
       "    }\n",
       "\n",
       "    .dataframe thead th {\n",
       "        text-align: right;\n",
       "    }\n",
       "</style>\n",
       "<table border=\"1\" class=\"dataframe\">\n",
       "  <thead>\n",
       "    <tr style=\"text-align: right;\">\n",
       "      <th></th>\n",
       "      <th>STATEFP</th>\n",
       "      <th>COUNTYFP</th>\n",
       "      <th>COUNTYNS</th>\n",
       "      <th>AFFGEOID</th>\n",
       "      <th>GEOID</th>\n",
       "      <th>NAME</th>\n",
       "      <th>LSAD</th>\n",
       "      <th>ALAND</th>\n",
       "      <th>AWATER</th>\n",
       "      <th>geometry</th>\n",
       "    </tr>\n",
       "  </thead>\n",
       "  <tbody>\n",
       "    <tr>\n",
       "      <th>0</th>\n",
       "      <td>6</td>\n",
       "      <td>75</td>\n",
       "      <td>00277302</td>\n",
       "      <td>0500000US06075</td>\n",
       "      <td>06075</td>\n",
       "      <td>San Francisco</td>\n",
       "      <td>06</td>\n",
       "      <td>121485107</td>\n",
       "      <td>479107241</td>\n",
       "      <td>POLYGON ((-122.511983 37.77113, -122.465396 37...</td>\n",
       "    </tr>\n",
       "    <tr>\n",
       "      <th>705</th>\n",
       "      <td>6</td>\n",
       "      <td>87</td>\n",
       "      <td>00277308</td>\n",
       "      <td>0500000US06087</td>\n",
       "      <td>06087</td>\n",
       "      <td>Santa Cruz</td>\n",
       "      <td>06</td>\n",
       "      <td>1152967426</td>\n",
       "      <td>419570389</td>\n",
       "      <td>POLYGON ((-122.317682 37.186945, -122.152774 3...</td>\n",
       "    </tr>\n",
       "    <tr>\n",
       "      <th>713</th>\n",
       "      <td>6</td>\n",
       "      <td>31</td>\n",
       "      <td>00277280</td>\n",
       "      <td>0500000US06031</td>\n",
       "      <td>06031</td>\n",
       "      <td>Kings</td>\n",
       "      <td>06</td>\n",
       "      <td>3598593366</td>\n",
       "      <td>5453080</td>\n",
       "      <td>POLYGON ((-120.315068 35.907186, -119.959058 3...</td>\n",
       "    </tr>\n",
       "    <tr>\n",
       "      <th>899</th>\n",
       "      <td>6</td>\n",
       "      <td>85</td>\n",
       "      <td>00277307</td>\n",
       "      <td>0500000US06085</td>\n",
       "      <td>06085</td>\n",
       "      <td>Santa Clara</td>\n",
       "      <td>06</td>\n",
       "      <td>3344209919</td>\n",
       "      <td>33276429</td>\n",
       "      <td>POLYGON ((-122.190402 37.431472, -122.144933 3...</td>\n",
       "    </tr>\n",
       "    <tr>\n",
       "      <th>915</th>\n",
       "      <td>6</td>\n",
       "      <td>21</td>\n",
       "      <td>00277275</td>\n",
       "      <td>0500000US06021</td>\n",
       "      <td>06021</td>\n",
       "      <td>Glenn</td>\n",
       "      <td>06</td>\n",
       "      <td>3403149421</td>\n",
       "      <td>33704225</td>\n",
       "      <td>POLYGON ((-122.911794 39.799485, -122.046471 3...</td>\n",
       "    </tr>\n",
       "  </tbody>\n",
       "</table>\n",
       "</div>"
      ],
      "text/plain": [
       "     STATEFP  COUNTYFP  COUNTYNS        AFFGEOID  GEOID           NAME LSAD  \\\n",
       "0          6        75  00277302  0500000US06075  06075  San Francisco   06   \n",
       "705        6        87  00277308  0500000US06087  06087     Santa Cruz   06   \n",
       "713        6        31  00277280  0500000US06031  06031          Kings   06   \n",
       "899        6        85  00277307  0500000US06085  06085    Santa Clara   06   \n",
       "915        6        21  00277275  0500000US06021  06021          Glenn   06   \n",
       "\n",
       "          ALAND     AWATER                                           geometry  \n",
       "0     121485107  479107241  POLYGON ((-122.511983 37.77113, -122.465396 37...  \n",
       "705  1152967426  419570389  POLYGON ((-122.317682 37.186945, -122.152774 3...  \n",
       "713  3598593366    5453080  POLYGON ((-120.315068 35.907186, -119.959058 3...  \n",
       "899  3344209919   33276429  POLYGON ((-122.190402 37.431472, -122.144933 3...  \n",
       "915  3403149421   33704225  POLYGON ((-122.911794 39.799485, -122.046471 3...  "
      ]
     },
     "execution_count": 6,
     "metadata": {},
     "output_type": "execute_result"
    }
   ],
   "source": [
    "#in lon, lat format\n",
    "#counties = pd.read_pickle(pickles+'ca_counties.pkl')\n",
    "counties.head()"
   ]
  },
  {
   "cell_type": "code",
   "execution_count": 7,
   "metadata": {
    "scrolled": true
   },
   "outputs": [
    {
     "data": {
      "text/html": [
       "<div>\n",
       "<style scoped>\n",
       "    .dataframe tbody tr th:only-of-type {\n",
       "        vertical-align: middle;\n",
       "    }\n",
       "\n",
       "    .dataframe tbody tr th {\n",
       "        vertical-align: top;\n",
       "    }\n",
       "\n",
       "    .dataframe thead th {\n",
       "        text-align: right;\n",
       "    }\n",
       "</style>\n",
       "<table border=\"1\" class=\"dataframe\">\n",
       "  <thead>\n",
       "    <tr style=\"text-align: right;\">\n",
       "      <th></th>\n",
       "      <th>species</th>\n",
       "      <th>geometry</th>\n",
       "    </tr>\n",
       "  </thead>\n",
       "  <tbody>\n",
       "    <tr>\n",
       "      <th>0</th>\n",
       "      <td>black abalone</td>\n",
       "      <td>POLYGON ((-123.5053264870277 38.7405412355896,...</td>\n",
       "    </tr>\n",
       "    <tr>\n",
       "      <th>1</th>\n",
       "      <td>black abalone</td>\n",
       "      <td>POLYGON ((-123.0726524775298 38.31072869617242...</td>\n",
       "    </tr>\n",
       "    <tr>\n",
       "      <th>2</th>\n",
       "      <td>black abalone</td>\n",
       "      <td>POLYGON ((-122.5006060204515 37.50355915762907...</td>\n",
       "    </tr>\n",
       "    <tr>\n",
       "      <th>3</th>\n",
       "      <td>black abalone</td>\n",
       "      <td>POLYGON ((-122.5097393606829 37.50326748590578...</td>\n",
       "    </tr>\n",
       "    <tr>\n",
       "      <th>4</th>\n",
       "      <td>black abalone</td>\n",
       "      <td>POLYGON ((-122.4114904047584 37.26741997175435...</td>\n",
       "    </tr>\n",
       "  </tbody>\n",
       "</table>\n",
       "</div>"
      ],
      "text/plain": [
       "         species                                           geometry\n",
       "0  black abalone  POLYGON ((-123.5053264870277 38.7405412355896,...\n",
       "1  black abalone  POLYGON ((-123.0726524775298 38.31072869617242...\n",
       "2  black abalone  POLYGON ((-122.5006060204515 37.50355915762907...\n",
       "3  black abalone  POLYGON ((-122.5097393606829 37.50326748590578...\n",
       "4  black abalone  POLYGON ((-122.4114904047584 37.26741997175435..."
      ]
     },
     "execution_count": 7,
     "metadata": {},
     "output_type": "execute_result"
    }
   ],
   "source": [
    "#in lon lat format except for leatherbacks which is all messed up\n",
    "#crit_species = pd.read_pickle(pickles+'crit_species.pkl')\n",
    "crit_species.head()"
   ]
  },
  {
   "cell_type": "code",
   "execution_count": 8,
   "metadata": {
    "scrolled": false
   },
   "outputs": [],
   "source": [
    "#in lat lon format\n",
    "#protected_areas = pd.read_pickle(pickles+'mpa.pkl')\n",
    "protected_areas.Geometry = protected_areas.Geometry.apply(flip_coords)\n",
    "protected_areas = gpd.GeoDataFrame(protected_areas, crs = {'init' :'epsg:4326'}, geometry='Geometry')"
   ]
  },
  {
   "cell_type": "code",
   "execution_count": 9,
   "metadata": {},
   "outputs": [
    {
     "data": {
      "text/html": [
       "<div>\n",
       "<style scoped>\n",
       "    .dataframe tbody tr th:only-of-type {\n",
       "        vertical-align: middle;\n",
       "    }\n",
       "\n",
       "    .dataframe tbody tr th {\n",
       "        vertical-align: top;\n",
       "    }\n",
       "\n",
       "    .dataframe thead th {\n",
       "        text-align: right;\n",
       "    }\n",
       "</style>\n",
       "<table border=\"1\" class=\"dataframe\">\n",
       "  <thead>\n",
       "    <tr style=\"text-align: right;\">\n",
       "      <th></th>\n",
       "      <th>estab</th>\n",
       "      <th>estab_f</th>\n",
       "      <th>naics</th>\n",
       "      <th>year</th>\n",
       "      <th>State</th>\n",
       "      <th>fips_state</th>\n",
       "      <th>fips_county</th>\n",
       "      <th>name</th>\n",
       "      <th>STATE</th>\n",
       "      <th>COUNTY</th>\n",
       "      <th>STNAME</th>\n",
       "      <th>CTYNAME</th>\n",
       "      <th>population</th>\n",
       "      <th>pct</th>\n",
       "    </tr>\n",
       "  </thead>\n",
       "  <tbody>\n",
       "    <tr>\n",
       "      <th>0</th>\n",
       "      <td>42</td>\n",
       "      <td>NaN</td>\n",
       "      <td>11411</td>\n",
       "      <td>2010</td>\n",
       "      <td>CA</td>\n",
       "      <td>6</td>\n",
       "      <td>1</td>\n",
       "      <td>Alameda County</td>\n",
       "      <td>6</td>\n",
       "      <td>1</td>\n",
       "      <td>California</td>\n",
       "      <td>Alameda County</td>\n",
       "      <td>1513402</td>\n",
       "      <td>0.000028</td>\n",
       "    </tr>\n",
       "    <tr>\n",
       "      <th>1</th>\n",
       "      <td>71</td>\n",
       "      <td>NaN</td>\n",
       "      <td>11411</td>\n",
       "      <td>2011</td>\n",
       "      <td>CA</td>\n",
       "      <td>6</td>\n",
       "      <td>1</td>\n",
       "      <td>Alameda County</td>\n",
       "      <td>6</td>\n",
       "      <td>1</td>\n",
       "      <td>California</td>\n",
       "      <td>Alameda County</td>\n",
       "      <td>1532215</td>\n",
       "      <td>0.000046</td>\n",
       "    </tr>\n",
       "    <tr>\n",
       "      <th>2</th>\n",
       "      <td>63</td>\n",
       "      <td>NaN</td>\n",
       "      <td>11411</td>\n",
       "      <td>2012</td>\n",
       "      <td>CA</td>\n",
       "      <td>6</td>\n",
       "      <td>1</td>\n",
       "      <td>Alameda County</td>\n",
       "      <td>6</td>\n",
       "      <td>1</td>\n",
       "      <td>California</td>\n",
       "      <td>Alameda County</td>\n",
       "      <td>1556648</td>\n",
       "      <td>0.000040</td>\n",
       "    </tr>\n",
       "    <tr>\n",
       "      <th>3</th>\n",
       "      <td>65</td>\n",
       "      <td>NaN</td>\n",
       "      <td>11411</td>\n",
       "      <td>2013</td>\n",
       "      <td>CA</td>\n",
       "      <td>6</td>\n",
       "      <td>1</td>\n",
       "      <td>Alameda County</td>\n",
       "      <td>6</td>\n",
       "      <td>1</td>\n",
       "      <td>California</td>\n",
       "      <td>Alameda County</td>\n",
       "      <td>1582936</td>\n",
       "      <td>0.000041</td>\n",
       "    </tr>\n",
       "    <tr>\n",
       "      <th>4</th>\n",
       "      <td>64</td>\n",
       "      <td>NaN</td>\n",
       "      <td>11411</td>\n",
       "      <td>2014</td>\n",
       "      <td>CA</td>\n",
       "      <td>6</td>\n",
       "      <td>1</td>\n",
       "      <td>Alameda County</td>\n",
       "      <td>6</td>\n",
       "      <td>1</td>\n",
       "      <td>California</td>\n",
       "      <td>Alameda County</td>\n",
       "      <td>1611572</td>\n",
       "      <td>0.000040</td>\n",
       "    </tr>\n",
       "  </tbody>\n",
       "</table>\n",
       "</div>"
      ],
      "text/plain": [
       "   estab estab_f  naics  year State  fips_state  fips_county            name  \\\n",
       "0     42     NaN  11411  2010    CA           6            1  Alameda County   \n",
       "1     71     NaN  11411  2011    CA           6            1  Alameda County   \n",
       "2     63     NaN  11411  2012    CA           6            1  Alameda County   \n",
       "3     65     NaN  11411  2013    CA           6            1  Alameda County   \n",
       "4     64     NaN  11411  2014    CA           6            1  Alameda County   \n",
       "\n",
       "   STATE  COUNTY      STNAME         CTYNAME  population       pct  \n",
       "0      6       1  California  Alameda County     1513402  0.000028  \n",
       "1      6       1  California  Alameda County     1532215  0.000046  \n",
       "2      6       1  California  Alameda County     1556648  0.000040  \n",
       "3      6       1  California  Alameda County     1582936  0.000041  \n",
       "4      6       1  California  Alameda County     1611572  0.000040  "
      ]
     },
     "execution_count": 9,
     "metadata": {},
     "output_type": "execute_result"
    }
   ],
   "source": [
    "#does not have geom. just county names (and fips state and county codes)\n",
    "#occupation_nes = pd.read_pickle(pickles+'nes_occupation.pkl')\n",
    "occupation_nes.head()"
   ]
  },
  {
   "cell_type": "code",
   "execution_count": 10,
   "metadata": {
    "scrolled": true
   },
   "outputs": [
    {
     "data": {
      "text/html": [
       "<div>\n",
       "<style scoped>\n",
       "    .dataframe tbody tr th:only-of-type {\n",
       "        vertical-align: middle;\n",
       "    }\n",
       "\n",
       "    .dataframe tbody tr th {\n",
       "        vertical-align: top;\n",
       "    }\n",
       "\n",
       "    .dataframe thead th {\n",
       "        text-align: right;\n",
       "    }\n",
       "</style>\n",
       "<table border=\"1\" class=\"dataframe\">\n",
       "  <thead>\n",
       "    <tr style=\"text-align: right;\">\n",
       "      <th></th>\n",
       "      <th>area_fips</th>\n",
       "      <th>industry_code</th>\n",
       "      <th>agglvl_code</th>\n",
       "      <th>size_code</th>\n",
       "      <th>year</th>\n",
       "      <th>disclosure_code</th>\n",
       "      <th>annual_avg_estabs</th>\n",
       "      <th>annual_avg_emplvl</th>\n",
       "      <th>fips_county</th>\n",
       "      <th>fips_state</th>\n",
       "      <th>State</th>\n",
       "      <th>name</th>\n",
       "      <th>fips_class_code</th>\n",
       "      <th>STATE</th>\n",
       "      <th>COUNTY</th>\n",
       "      <th>STNAME</th>\n",
       "      <th>CTYNAME</th>\n",
       "      <th>population</th>\n",
       "      <th>estab_pct</th>\n",
       "      <th>emp_pct</th>\n",
       "    </tr>\n",
       "  </thead>\n",
       "  <tbody>\n",
       "    <tr>\n",
       "      <th>0</th>\n",
       "      <td>06007</td>\n",
       "      <td>11251</td>\n",
       "      <td>77</td>\n",
       "      <td>0</td>\n",
       "      <td>2013</td>\n",
       "      <td>N</td>\n",
       "      <td>1</td>\n",
       "      <td>0</td>\n",
       "      <td>7</td>\n",
       "      <td>6</td>\n",
       "      <td>CA</td>\n",
       "      <td>Butte County</td>\n",
       "      <td>H1</td>\n",
       "      <td>6</td>\n",
       "      <td>7</td>\n",
       "      <td>California</td>\n",
       "      <td>Butte County</td>\n",
       "      <td>221768</td>\n",
       "      <td>0.000005</td>\n",
       "      <td>0.000000</td>\n",
       "    </tr>\n",
       "    <tr>\n",
       "      <th>1</th>\n",
       "      <td>06015</td>\n",
       "      <td>11251</td>\n",
       "      <td>77</td>\n",
       "      <td>0</td>\n",
       "      <td>2013</td>\n",
       "      <td>N</td>\n",
       "      <td>1</td>\n",
       "      <td>0</td>\n",
       "      <td>15</td>\n",
       "      <td>6</td>\n",
       "      <td>CA</td>\n",
       "      <td>Del Norte County</td>\n",
       "      <td>H1</td>\n",
       "      <td>6</td>\n",
       "      <td>15</td>\n",
       "      <td>California</td>\n",
       "      <td>Del Norte County</td>\n",
       "      <td>27830</td>\n",
       "      <td>0.000036</td>\n",
       "      <td>0.000000</td>\n",
       "    </tr>\n",
       "    <tr>\n",
       "      <th>2</th>\n",
       "      <td>06015</td>\n",
       "      <td>11411</td>\n",
       "      <td>77</td>\n",
       "      <td>0</td>\n",
       "      <td>2013</td>\n",
       "      <td>NaN</td>\n",
       "      <td>39</td>\n",
       "      <td>81</td>\n",
       "      <td>15</td>\n",
       "      <td>6</td>\n",
       "      <td>CA</td>\n",
       "      <td>Del Norte County</td>\n",
       "      <td>H1</td>\n",
       "      <td>6</td>\n",
       "      <td>15</td>\n",
       "      <td>California</td>\n",
       "      <td>Del Norte County</td>\n",
       "      <td>27830</td>\n",
       "      <td>0.001401</td>\n",
       "      <td>0.002911</td>\n",
       "    </tr>\n",
       "    <tr>\n",
       "      <th>3</th>\n",
       "      <td>06019</td>\n",
       "      <td>11251</td>\n",
       "      <td>77</td>\n",
       "      <td>0</td>\n",
       "      <td>2013</td>\n",
       "      <td>N</td>\n",
       "      <td>4</td>\n",
       "      <td>0</td>\n",
       "      <td>19</td>\n",
       "      <td>6</td>\n",
       "      <td>CA</td>\n",
       "      <td>Fresno County</td>\n",
       "      <td>H1</td>\n",
       "      <td>6</td>\n",
       "      <td>19</td>\n",
       "      <td>California</td>\n",
       "      <td>Fresno County</td>\n",
       "      <td>953787</td>\n",
       "      <td>0.000004</td>\n",
       "      <td>0.000000</td>\n",
       "    </tr>\n",
       "    <tr>\n",
       "      <th>4</th>\n",
       "      <td>06023</td>\n",
       "      <td>11251</td>\n",
       "      <td>77</td>\n",
       "      <td>0</td>\n",
       "      <td>2013</td>\n",
       "      <td>NaN</td>\n",
       "      <td>6</td>\n",
       "      <td>19</td>\n",
       "      <td>23</td>\n",
       "      <td>6</td>\n",
       "      <td>CA</td>\n",
       "      <td>Humboldt County</td>\n",
       "      <td>H1</td>\n",
       "      <td>6</td>\n",
       "      <td>23</td>\n",
       "      <td>California</td>\n",
       "      <td>Humboldt County</td>\n",
       "      <td>134444</td>\n",
       "      <td>0.000045</td>\n",
       "      <td>0.000141</td>\n",
       "    </tr>\n",
       "  </tbody>\n",
       "</table>\n",
       "</div>"
      ],
      "text/plain": [
       "  area_fips  industry_code  agglvl_code  size_code  year disclosure_code  \\\n",
       "0     06007          11251           77          0  2013               N   \n",
       "1     06015          11251           77          0  2013               N   \n",
       "2     06015          11411           77          0  2013             NaN   \n",
       "3     06019          11251           77          0  2013               N   \n",
       "4     06023          11251           77          0  2013             NaN   \n",
       "\n",
       "   annual_avg_estabs  annual_avg_emplvl  fips_county  fips_state State  \\\n",
       "0                  1                  0            7           6    CA   \n",
       "1                  1                  0           15           6    CA   \n",
       "2                 39                 81           15           6    CA   \n",
       "3                  4                  0           19           6    CA   \n",
       "4                  6                 19           23           6    CA   \n",
       "\n",
       "               name fips_class_code  STATE  COUNTY      STNAME  \\\n",
       "0      Butte County              H1      6       7  California   \n",
       "1  Del Norte County              H1      6      15  California   \n",
       "2  Del Norte County              H1      6      15  California   \n",
       "3     Fresno County              H1      6      19  California   \n",
       "4   Humboldt County              H1      6      23  California   \n",
       "\n",
       "            CTYNAME  population  estab_pct   emp_pct  \n",
       "0      Butte County      221768   0.000005  0.000000  \n",
       "1  Del Norte County       27830   0.000036  0.000000  \n",
       "2  Del Norte County       27830   0.001401  0.002911  \n",
       "3     Fresno County      953787   0.000004  0.000000  \n",
       "4   Humboldt County      134444   0.000045  0.000141  "
      ]
     },
     "execution_count": 10,
     "metadata": {},
     "output_type": "execute_result"
    }
   ],
   "source": [
    "#does not have geom. just county names (and fips state and county codes)\n",
    "#occupation_qcew = pd.read_pickle(pickles+'qcew_occupation.pkl')\n",
    "occupation_qcew.head()"
   ]
  },
  {
   "cell_type": "code",
   "execution_count": 11,
   "metadata": {},
   "outputs": [
    {
     "data": {
      "text/html": [
       "<div>\n",
       "<style scoped>\n",
       "    .dataframe tbody tr th:only-of-type {\n",
       "        vertical-align: middle;\n",
       "    }\n",
       "\n",
       "    .dataframe tbody tr th {\n",
       "        vertical-align: top;\n",
       "    }\n",
       "\n",
       "    .dataframe thead th {\n",
       "        text-align: right;\n",
       "    }\n",
       "</style>\n",
       "<table border=\"1\" class=\"dataframe\">\n",
       "  <thead>\n",
       "    <tr style=\"text-align: right;\">\n",
       "      <th></th>\n",
       "      <th>lat</th>\n",
       "      <th>lon</th>\n",
       "      <th>biomass</th>\n",
       "      <th>geometry</th>\n",
       "    </tr>\n",
       "  </thead>\n",
       "  <tbody>\n",
       "    <tr>\n",
       "      <th>0</th>\n",
       "      <td>32.519277</td>\n",
       "      <td>-117.142836</td>\n",
       "      <td>265.0</td>\n",
       "      <td>POINT (-117.1428356 32.51927713)</td>\n",
       "    </tr>\n",
       "    <tr>\n",
       "      <th>1</th>\n",
       "      <td>32.519547</td>\n",
       "      <td>-117.143155</td>\n",
       "      <td>635.0</td>\n",
       "      <td>POINT (-117.1431554 32.5195474)</td>\n",
       "    </tr>\n",
       "    <tr>\n",
       "      <th>2</th>\n",
       "      <td>32.519548</td>\n",
       "      <td>-117.142836</td>\n",
       "      <td>275.0</td>\n",
       "      <td>POINT (-117.142836 32.51954776)</td>\n",
       "    </tr>\n",
       "    <tr>\n",
       "      <th>3</th>\n",
       "      <td>32.519548</td>\n",
       "      <td>-117.142197</td>\n",
       "      <td>272.0</td>\n",
       "      <td>POINT (-117.1421972 32.51954849)</td>\n",
       "    </tr>\n",
       "    <tr>\n",
       "      <th>4</th>\n",
       "      <td>32.519818</td>\n",
       "      <td>-117.143156</td>\n",
       "      <td>565.0</td>\n",
       "      <td>POINT (-117.1431559 32.51981803)</td>\n",
       "    </tr>\n",
       "  </tbody>\n",
       "</table>\n",
       "</div>"
      ],
      "text/plain": [
       "         lat         lon  biomass                          geometry\n",
       "0  32.519277 -117.142836    265.0  POINT (-117.1428356 32.51927713)\n",
       "1  32.519547 -117.143155    635.0   POINT (-117.1431554 32.5195474)\n",
       "2  32.519548 -117.142836    275.0   POINT (-117.142836 32.51954776)\n",
       "3  32.519548 -117.142197    272.0  POINT (-117.1421972 32.51954849)\n",
       "4  32.519818 -117.143156    565.0  POINT (-117.1431559 32.51981803)"
      ]
     },
     "execution_count": 11,
     "metadata": {},
     "output_type": "execute_result"
    }
   ],
   "source": [
    "#in lat lon format\n",
    "#kelp_biomass =pd.read_pickle(pickles+'kelp_biomass.pkl')\n",
    "kelp_biomass.geometry = kelp_biomass.geometry.apply(flip_coords)\n",
    "kelp_biomass.head()\n",
    "#kelp_biomass.geometry.apply(type).unique() all points"
   ]
  },
  {
   "cell_type": "code",
   "execution_count": 12,
   "metadata": {},
   "outputs": [
    {
     "data": {
      "text/html": [
       "<div>\n",
       "<style scoped>\n",
       "    .dataframe tbody tr th:only-of-type {\n",
       "        vertical-align: middle;\n",
       "    }\n",
       "\n",
       "    .dataframe tbody tr th {\n",
       "        vertical-align: top;\n",
       "    }\n",
       "\n",
       "    .dataframe thead th {\n",
       "        text-align: right;\n",
       "    }\n",
       "</style>\n",
       "<table border=\"1\" class=\"dataframe\">\n",
       "  <thead>\n",
       "    <tr style=\"text-align: right;\">\n",
       "      <th></th>\n",
       "      <th>mean_temp</th>\n",
       "      <th>max_temp</th>\n",
       "      <th>min_temp</th>\n",
       "      <th>geometry</th>\n",
       "    </tr>\n",
       "  </thead>\n",
       "  <tbody>\n",
       "    <tr>\n",
       "      <th>0</th>\n",
       "      <td>16.686864</td>\n",
       "      <td>19.299982</td>\n",
       "      <td>14.749994</td>\n",
       "      <td>POINT (-124 32.5)</td>\n",
       "    </tr>\n",
       "    <tr>\n",
       "      <th>1</th>\n",
       "      <td>16.615615</td>\n",
       "      <td>19.239984</td>\n",
       "      <td>14.249994</td>\n",
       "      <td>POINT (-123.75 32.5)</td>\n",
       "    </tr>\n",
       "    <tr>\n",
       "      <th>2</th>\n",
       "      <td>16.574993</td>\n",
       "      <td>19.200006</td>\n",
       "      <td>13.829980</td>\n",
       "      <td>POINT (-123.5 32.5)</td>\n",
       "    </tr>\n",
       "    <tr>\n",
       "      <th>3</th>\n",
       "      <td>16.543119</td>\n",
       "      <td>19.159998</td>\n",
       "      <td>13.589990</td>\n",
       "      <td>POINT (-123.25 32.5)</td>\n",
       "    </tr>\n",
       "    <tr>\n",
       "      <th>4</th>\n",
       "      <td>16.536871</td>\n",
       "      <td>19.129999</td>\n",
       "      <td>13.359979</td>\n",
       "      <td>POINT (-123 32.5)</td>\n",
       "    </tr>\n",
       "  </tbody>\n",
       "</table>\n",
       "</div>"
      ],
      "text/plain": [
       "   mean_temp   max_temp   min_temp              geometry\n",
       "0  16.686864  19.299982  14.749994     POINT (-124 32.5)\n",
       "1  16.615615  19.239984  14.249994  POINT (-123.75 32.5)\n",
       "2  16.574993  19.200006  13.829980   POINT (-123.5 32.5)\n",
       "3  16.543119  19.159998  13.589990  POINT (-123.25 32.5)\n",
       "4  16.536871  19.129999  13.359979     POINT (-123 32.5)"
      ]
     },
     "execution_count": 12,
     "metadata": {},
     "output_type": "execute_result"
    }
   ],
   "source": [
    "#will be converted to lon lat format\n",
    "#sst = pd.read_pickle(pickles+'sst_ca.pkl')\n",
    "sst.geometry = sst.geometry.apply(flip_coords)\n",
    "sst.head()"
   ]
  },
  {
   "cell_type": "markdown",
   "metadata": {},
   "source": [
    "# Create grid of California"
   ]
  },
  {
   "cell_type": "code",
   "execution_count": 13,
   "metadata": {},
   "outputs": [],
   "source": [
    "def squarify(point, increment):\n",
    "    return Polygon([(point[0], point[1]),\n",
    "     (point[0] + increment, point[1]), \n",
    "     (point[0] + increment, point[1] + increment), \n",
    "     (point[0], point[1] + increment)])\n",
    "\n",
    "def desquarify(left_vertices, right_vertices, square_length):\n",
    "    x_num = round((right_vertices[0] - left_vertices[0])/square_length, 0)\n",
    "    y_num = round((right_vertices[1] - left_vertices[1])/square_length, 0)\n",
    "    x_lengths = np.linspace(left_vertices[0], right_vertices[0]-square_length, x_num)\n",
    "    y_lengths = np.linspace(left_vertices[1], right_vertices[1]-square_length, y_num)\n",
    "    return [p for p in product(x_lengths, y_lengths)]"
   ]
  },
  {
   "cell_type": "code",
   "execution_count": 14,
   "metadata": {},
   "outputs": [],
   "source": [
    "def haversine(p1,p2):\n",
    "    \"\"\"\n",
    "    Calculate the great circle distance between two points \n",
    "    on the earth (specified in decimal degrees).\n",
    "    Source: https://gis.stackexchange.com/a/56589/15183\n",
    "    \"\"\"\n",
    "    lon1 = p1[0]\n",
    "    lat1 = p1[1]\n",
    "    lon2 = p2[0]\n",
    "    lat2 = p2[1]\n",
    "    # convert decimal degrees to radians \n",
    "    lon1, lat1, lon2, lat2 = map(radians, [lon1, lat1, lon2, lat2])\n",
    "    # haversine formula \n",
    "    dlon = lon2 - lon1 \n",
    "    dlat = lat2 - lat1 \n",
    "    a = sin(dlat/2)**2 + cos(lat1) * cos(lat2) * sin(dlon/2)**2\n",
    "    c = 2 * asin(sqrt(a)) \n",
    "    km = 6373 * c\n",
    "    return km"
   ]
  },
  {
   "cell_type": "code",
   "execution_count": 15,
   "metadata": {},
   "outputs": [],
   "source": [
    "#just get the base distance for one point b/c this will be close to the the right scaling\n",
    "#add half a degee in lat and lon to get the second point\n",
    "def get_distance_ratio(shape):\n",
    "    p1 = list(shape.representative_point().coords)[0]\n",
    "    p2 = (p1[0]+0.5,p1[1]+0.5)\n",
    "    d_km = haversine(p1,p2)\n",
    "    #just get the base distance for one point b/c this will be close to the the right scaling for all p2s\n",
    "    base_coord_d=Point(p1).distance(Point(p2))\n",
    "    return d_km/base_coord_d"
   ]
  },
  {
   "cell_type": "code",
   "execution_count": 16,
   "metadata": {},
   "outputs": [],
   "source": [
    "def get_distance_to_object(shape, areas):\n",
    "    distance_ratio = get_distance_ratio(shape)\n",
    "    distance = np.min([shape.distance(i) for i in land.geometry])*distance_ratio\n",
    "    return distance"
   ]
  },
  {
   "cell_type": "code",
   "execution_count": 20,
   "metadata": {},
   "outputs": [
    {
     "name": "stderr",
     "output_type": "stream",
     "text": [
      "/Library/Frameworks/Python.framework/Versions/3.6/lib/python3.6/site-packages/ipykernel_launcher.py:10: DeprecationWarning: object of type <class 'float'> cannot be safely interpreted as an integer.\n",
      "  # Remove the CWD from sys.path while we load stuff.\n",
      "/Library/Frameworks/Python.framework/Versions/3.6/lib/python3.6/site-packages/ipykernel_launcher.py:11: DeprecationWarning: object of type <class 'float'> cannot be safely interpreted as an integer.\n",
      "  # This is added back by InteractiveShellApp.init_path()\n"
     ]
    },
    {
     "name": "stdout",
     "output_type": "stream",
     "text": [
      "before culling land there are 7030 rows\n",
      "after culling land there are 3880 rows\n",
      "before culling far away sites there are 3880 rows\n",
      "after culling far away sites there are 491 rows\n",
      "(491, 3)\n",
      "491\n"
     ]
    },
    {
     "data": {
      "text/html": [
       "<div>\n",
       "<style scoped>\n",
       "    .dataframe tbody tr th:only-of-type {\n",
       "        vertical-align: middle;\n",
       "    }\n",
       "\n",
       "    .dataframe tbody tr th {\n",
       "        vertical-align: top;\n",
       "    }\n",
       "\n",
       "    .dataframe thead th {\n",
       "        text-align: right;\n",
       "    }\n",
       "</style>\n",
       "<table border=\"1\" class=\"dataframe\">\n",
       "  <thead>\n",
       "    <tr style=\"text-align: right;\">\n",
       "      <th></th>\n",
       "      <th>geometry</th>\n",
       "      <th>polygon_id</th>\n",
       "      <th>land_distance</th>\n",
       "    </tr>\n",
       "  </thead>\n",
       "  <tbody>\n",
       "    <tr>\n",
       "      <th>77</th>\n",
       "      <td>POLYGON ((-124.511849 40.2062109680851, -124.4...</td>\n",
       "      <td>77</td>\n",
       "      <td>4.785556</td>\n",
       "    </tr>\n",
       "    <tr>\n",
       "      <th>78</th>\n",
       "      <td>POLYGON ((-124.511849 40.30584561702128, -124....</td>\n",
       "      <td>78</td>\n",
       "      <td>2.007310</td>\n",
       "    </tr>\n",
       "    <tr>\n",
       "      <th>79</th>\n",
       "      <td>POLYGON ((-124.511849 40.40548026595744, -124....</td>\n",
       "      <td>79</td>\n",
       "      <td>0.222856</td>\n",
       "    </tr>\n",
       "    <tr>\n",
       "      <th>80</th>\n",
       "      <td>POLYGON ((-124.511849 40.50511491489362, -124....</td>\n",
       "      <td>80</td>\n",
       "      <td>2.325414</td>\n",
       "    </tr>\n",
       "    <tr>\n",
       "      <th>171</th>\n",
       "      <td>POLYGON ((-124.4120138767123 40.10657631914894...</td>\n",
       "      <td>171</td>\n",
       "      <td>1.252525</td>\n",
       "    </tr>\n",
       "  </tbody>\n",
       "</table>\n",
       "</div>"
      ],
      "text/plain": [
       "                                              geometry  polygon_id  \\\n",
       "77   POLYGON ((-124.511849 40.2062109680851, -124.4...          77   \n",
       "78   POLYGON ((-124.511849 40.30584561702128, -124....          78   \n",
       "79   POLYGON ((-124.511849 40.40548026595744, -124....          79   \n",
       "80   POLYGON ((-124.511849 40.50511491489362, -124....          80   \n",
       "171  POLYGON ((-124.4120138767123 40.10657631914894...         171   \n",
       "\n",
       "     land_distance  \n",
       "77        4.785556  \n",
       "78        2.007310  \n",
       "79        0.222856  \n",
       "80        2.325414  \n",
       "171       1.252525  "
      ]
     },
     "execution_count": 20,
     "metadata": {},
     "output_type": "execute_result"
    }
   ],
   "source": [
    "#create vertices for California\n",
    "#roughly the bounds of california going out 8km past cape mendocino\n",
    "width = .1\n",
    "#(32.534343,-124.511849),(42.00,-117.123885)\n",
    "grid_bottomleft_vertices = desquarify((-124.511849,32.534343),(-117.123885,42), width)\n",
    "grid = [squarify(i, width) for i in grid_bottomleft_vertices]\n",
    "grid_df = gpd.GeoDataFrame(geometry=grid, crs = {'init' : 'epsg:4326'})\n",
    "grid_df[\"polygon_id\"] = range(len(grid))\n",
    "\n",
    "# Cull data to just areas near coast and not on land\n",
    "#import state shapefiles\n",
    "#states = gpd.read_file('../data/state_shapefiles/cb_2017_us_state_20m.shp')\n",
    "states = gpd.read_file('/Users/robertdeng/Google Drive/Data Science/W210/Kelp-Capstone/pipeline/pickles/cb_2017_us_state_20m/cb_2017_us_state_20m.shp')\n",
    "land = states[states['STATEFP'] == '06']\n",
    "# change the CRS\n",
    "land = land.set_geometry('geometry').to_crs({'init':'epsg:4326'})\n",
    "\n",
    "# cull polygons on land\n",
    "print(\"before culling land there are {} rows\".format(grid_df.shape[0]))\n",
    "grid_df = gpd.sjoin(grid_df, land, op='within', how='left')\n",
    "grid_df.fillna(-99999, inplace=True)\n",
    "grid_df = grid_df[grid_df['index_right'] <0]\n",
    "print(\"after culling land there are {} rows\".format(grid_df.shape[0]))\n",
    "grid_df = grid_df.iloc[:,:2]\n",
    "\n",
    "#cull polygons far from shore\n",
    "#EEZ extends 3 nautical miles (5.556 km) from coast. \n",
    "eez = 5.556\n",
    "print(\"before culling far away sites there are {} rows\".format(grid_df.shape[0]))\n",
    "grid_df['land_distance'] = grid_df.geometry.apply(lambda x: get_distance_to_object(x,land.geometry))\n",
    "grid_df = grid_df[grid_df['land_distance'] <eez]\n",
    "print(\"after culling far away sites there are {} rows\".format(grid_df.shape[0]))\n",
    "print(grid_df.shape)\n",
    "print(len(grid_df.polygon_id.unique()))\n",
    "grid_df.head()"
   ]
  },
  {
   "cell_type": "markdown",
   "metadata": {},
   "source": [
    "# Combine Data"
   ]
  },
  {
   "cell_type": "code",
   "execution_count": 21,
   "metadata": {},
   "outputs": [],
   "source": [
    "def get_closest_areas(shape,areas, area_names,max_distance, min_returned=3):\n",
    "    distance_ratio = get_distance_ratio(shape)\n",
    "    distances = [shape.distance(i)*distance_ratio for i in areas]\n",
    "    sorted_distances = np.sort(distances)\n",
    "    areas_within_max = sorted_distances < max_distance\n",
    "    num_close_areas = sum(areas_within_max)\n",
    "    if num_close_areas < min_returned:\n",
    "        lowest_distances = sorted_distances[:min_returned]\n",
    "        area_idx = np.argsort(distances)[:min_returned]\n",
    "    else:\n",
    "        lowest_distances = sorted_distances[:num_close_areas]\n",
    "        area_idx = np.argsort(distances)[:num_close_areas]\n",
    "    \n",
    "    names = area_names.iloc[area_idx]\n",
    "    return list(zip(area_idx, names, lowest_distances))"
   ]
  },
  {
   "cell_type": "code",
   "execution_count": 22,
   "metadata": {},
   "outputs": [
    {
     "name": "stdout",
     "output_type": "stream",
     "text": [
      "93.80994612038263\n",
      "111.22983322959878\n",
      "82.65940525349976\n",
      "111.22983322959878\n",
      "1.3991064751674347\n"
     ]
    }
   ],
   "source": [
    "#distance in km does seem to vary for the same difference in latitude/long depending on your latitude.\n",
    "print(haversine((-122,32.5),(-121,32.5)))\n",
    "print(haversine((-122,32.5),(-122,33.5)))\n",
    "print(haversine((-122,42),(-121,42)))\n",
    "print(haversine((-122,42),(-122,41)))\n",
    "print(haversine((-122,41),(-122.0166667,41)))"
   ]
  },
  {
   "cell_type": "code",
   "execution_count": 23,
   "metadata": {
    "scrolled": false
   },
   "outputs": [
    {
     "data": {
      "text/html": [
       "<div>\n",
       "<style scoped>\n",
       "    .dataframe tbody tr th:only-of-type {\n",
       "        vertical-align: middle;\n",
       "    }\n",
       "\n",
       "    .dataframe tbody tr th {\n",
       "        vertical-align: top;\n",
       "    }\n",
       "\n",
       "    .dataframe thead th {\n",
       "        text-align: right;\n",
       "    }\n",
       "</style>\n",
       "<table border=\"1\" class=\"dataframe\">\n",
       "  <thead>\n",
       "    <tr style=\"text-align: right;\">\n",
       "      <th></th>\n",
       "      <th>geometry</th>\n",
       "      <th>polygon_id</th>\n",
       "      <th>land_distance</th>\n",
       "      <th>pretected_areas</th>\n",
       "      <th>county</th>\n",
       "    </tr>\n",
       "  </thead>\n",
       "  <tbody>\n",
       "    <tr>\n",
       "      <th>77</th>\n",
       "      <td>POLYGON ((-124.511849 40.2062109680851, -124.4...</td>\n",
       "      <td>77</td>\n",
       "      <td>4.785556</td>\n",
       "      <td>[(13, Sea Lion Gulch State Marine Reserve, 0.0...</td>\n",
       "      <td>[(21, Humboldt, 4.785556275622082)]</td>\n",
       "    </tr>\n",
       "    <tr>\n",
       "      <th>78</th>\n",
       "      <td>POLYGON ((-124.511849 40.30584561702128, -124....</td>\n",
       "      <td>78</td>\n",
       "      <td>2.007310</td>\n",
       "      <td>[(12, Mattole Canyon State Marine Reserve, 0.0...</td>\n",
       "      <td>[(21, Humboldt, 2.00731033547805)]</td>\n",
       "    </tr>\n",
       "    <tr>\n",
       "      <th>79</th>\n",
       "      <td>POLYGON ((-124.511849 40.40548026595744, -124....</td>\n",
       "      <td>79</td>\n",
       "      <td>0.222856</td>\n",
       "      <td>[(9, Sugarloaf Island Special Closure, 0.0), (...</td>\n",
       "      <td>[(21, Humboldt, 0.22285562284475044)]</td>\n",
       "    </tr>\n",
       "    <tr>\n",
       "      <th>80</th>\n",
       "      <td>POLYGON ((-124.511849 40.50511491489362, -124....</td>\n",
       "      <td>80</td>\n",
       "      <td>2.325414</td>\n",
       "      <td>[(9, Sugarloaf Island Special Closure, 6.54469...</td>\n",
       "      <td>[(21, Humboldt, 2.32541354349618)]</td>\n",
       "    </tr>\n",
       "    <tr>\n",
       "      <th>171</th>\n",
       "      <td>POLYGON ((-124.4120138767123 40.10657631914894...</td>\n",
       "      <td>171</td>\n",
       "      <td>1.252525</td>\n",
       "      <td>[(14, Big Flat State Marine Conservation Area,...</td>\n",
       "      <td>[(21, Humboldt, 1.2525254119315425)]</td>\n",
       "    </tr>\n",
       "  </tbody>\n",
       "</table>\n",
       "</div>"
      ],
      "text/plain": [
       "                                              geometry  polygon_id  \\\n",
       "77   POLYGON ((-124.511849 40.2062109680851, -124.4...          77   \n",
       "78   POLYGON ((-124.511849 40.30584561702128, -124....          78   \n",
       "79   POLYGON ((-124.511849 40.40548026595744, -124....          79   \n",
       "80   POLYGON ((-124.511849 40.50511491489362, -124....          80   \n",
       "171  POLYGON ((-124.4120138767123 40.10657631914894...         171   \n",
       "\n",
       "     land_distance                                    pretected_areas  \\\n",
       "77        4.785556  [(13, Sea Lion Gulch State Marine Reserve, 0.0...   \n",
       "78        2.007310  [(12, Mattole Canyon State Marine Reserve, 0.0...   \n",
       "79        0.222856  [(9, Sugarloaf Island Special Closure, 0.0), (...   \n",
       "80        2.325414  [(9, Sugarloaf Island Special Closure, 6.54469...   \n",
       "171       1.252525  [(14, Big Flat State Marine Conservation Area,...   \n",
       "\n",
       "                                    county  \n",
       "77     [(21, Humboldt, 4.785556275622082)]  \n",
       "78      [(21, Humboldt, 2.00731033547805)]  \n",
       "79   [(21, Humboldt, 0.22285562284475044)]  \n",
       "80      [(21, Humboldt, 2.32541354349618)]  \n",
       "171   [(21, Humboldt, 1.2525254119315425)]  "
      ]
     },
     "execution_count": 23,
     "metadata": {},
     "output_type": "execute_result"
    }
   ],
   "source": [
    "grid_df['pretected_areas'] = grid_df.geometry.apply(lambda x: get_closest_areas(x,protected_areas.Geometry,\\\n",
    "                                                                                protected_areas.Name,\\\n",
    "                                                                                10))\n",
    "grid_df['county'] = grid_df.geometry.apply(lambda x: get_closest_areas(x,counties.geometry,\\\n",
    "                                                                                counties.NAME,\\\n",
    "                                                                                10,1))\n",
    "grid_df.head()"
   ]
  },
  {
   "cell_type": "code",
   "execution_count": null,
   "metadata": {},
   "outputs": [],
   "source": [
    "grid_df['critical_species'] = grid_df.geometry.apply(lambda x: get_closest_areas(x,crit_species.geometry,\\\n",
    "                                                                                crit_species.species,\\\n",
    "                                                                                10))\n",
    "grid_df.head()"
   ]
  },
  {
   "cell_type": "code",
   "execution_count": null,
   "metadata": {},
   "outputs": [],
   "source": [
    "grid_df.iloc[0].pretected_areas[0][2]"
   ]
  },
  {
   "cell_type": "markdown",
   "metadata": {},
   "source": [
    "## merge occupation data"
   ]
  },
  {
   "cell_type": "code",
   "execution_count": null,
   "metadata": {
    "scrolled": false
   },
   "outputs": [],
   "source": [
    "#get mean levels for establishments and employment and aggregate by year\n",
    "occupation_avg_qcew = occupation_qcew.groupby(['fips_county','fips_state','industry_code']).mean().reset_index()\n",
    "occupation_avg_qcew.drop(occupation_avg_qcew.columns[7:10], axis=1, inplace=True)\n",
    "occupation_avg_qcew.drop(['agglvl_code','size_code'], axis = 1, inplace=True)\n",
    "occupation_avg_qcew = occupation_avg_qcew.rename(columns={'estab_pct':'qcew_estab_pct','emp_pct':'qcew_emp_pct',\\\n",
    "                                                         'industry_code':'naics'})\n",
    "occupation_avg_qcew.head()"
   ]
  },
  {
   "cell_type": "code",
   "execution_count": null,
   "metadata": {},
   "outputs": [],
   "source": [
    "occupation_avg_nes = occupation_nes.groupby(['fips_county','fips_state','naics']).mean().reset_index()\n",
    "occupation_avg_nes.drop(['STATE','COUNTY','population'], axis=1, inplace=True)\n",
    "occupation_avg_nes = occupation_avg_nes.rename(columns={'pct':'nes_estab_pct'})\n",
    "occupation_avg_nes.naics = occupation_avg_nes.naics.astype(int)\n",
    "occupation_avg_nes.head()"
   ]
  },
  {
   "cell_type": "code",
   "execution_count": null,
   "metadata": {
    "scrolled": true
   },
   "outputs": [],
   "source": [
    "#combine new and qcew data\n",
    "all_occupation = occupation_avg_nes.merge(occupation_avg_qcew, on=['fips_county','fips_state','naics'], how='outer')\n",
    "all_occupation[all_occupation['fips_county'] == 75].head()"
   ]
  },
  {
   "cell_type": "code",
   "execution_count": null,
   "metadata": {},
   "outputs": [],
   "source": [
    "occupation_avg_nes.merge(all_occupation)"
   ]
  },
  {
   "cell_type": "markdown",
   "metadata": {},
   "source": [
    "## merge kelp data"
   ]
  },
  {
   "cell_type": "code",
   "execution_count": null,
   "metadata": {
    "scrolled": true
   },
   "outputs": [],
   "source": [
    "grid_df"
   ]
  },
  {
   "cell_type": "code",
   "execution_count": null,
   "metadata": {
    "scrolled": true
   },
   "outputs": [],
   "source": [
    "kelp_biomass.head()"
   ]
  },
  {
   "cell_type": "code",
   "execution_count": null,
   "metadata": {
    "scrolled": true
   },
   "outputs": [],
   "source": [
    "#grid_df.geometry.apply(lambda x: join_kelp_mass(x, kelp_biomass.geometry))\n",
    "#print(grid_df.head())\n",
    "#print(kelp_biomass.head())\n",
    "gridded_kelp_biomass = gpd.sjoin(grid_df, kelp_biomass, op='intersects', how=\"left\")\n",
    "#print(gridded_kelp_biomass.shape)\n",
    "gridded_kelp_biomass.drop([\"index_right\",\"lat\",\"lon\",\"land_distance\"], axis=1, inplace=True)\n",
    "gridded_kelp_biomass.head()"
   ]
  },
  {
   "cell_type": "code",
   "execution_count": null,
   "metadata": {
    "scrolled": false
   },
   "outputs": [],
   "source": [
    "gridded_kelp_biomass = gridded_kelp_biomass.groupby(['polygon_id']).sum().reset_index()\n",
    "#columns are polygon_id and biomass\n",
    "gridded_kelp_biomass[gridded_kelp_biomass.biomass > 0].head()"
   ]
  },
  {
   "cell_type": "code",
   "execution_count": null,
   "metadata": {},
   "outputs": [],
   "source": [
    "grid_df = grid_df.merge(gridded_kelp_biomass, on='polygon_id', how=\"left\")\n",
    "grid_df[grid_df['biomass'] >1].head()"
   ]
  },
  {
   "cell_type": "code",
   "execution_count": null,
   "metadata": {},
   "outputs": [],
   "source": [
    "g1 = pd.Series([Point((0.25,0.25)),Point(1.5,0.25),Point((1.25,.25)),Point((2.25,0.25)),Point((3.25,0.25)),Point(4.25,0.25)])"
   ]
  },
  {
   "cell_type": "code",
   "execution_count": null,
   "metadata": {},
   "outputs": [],
   "source": [
    "a = gpd.GeoDataFrame(geometry=g1)"
   ]
  },
  {
   "cell_type": "code",
   "execution_count": null,
   "metadata": {},
   "outputs": [],
   "source": [
    "a.plot()"
   ]
  },
  {
   "cell_type": "code",
   "execution_count": null,
   "metadata": {},
   "outputs": [],
   "source": [
    "g2 = pd.Series([box(0,0,1,1),box(1,0,2,1),box(2,0,3,1),box(3,0,4,1)])\n",
    "b = gpd.GeoDataFrame(geometry=g2)\n",
    "b.plot()"
   ]
  },
  {
   "cell_type": "code",
   "execution_count": null,
   "metadata": {},
   "outputs": [],
   "source": [
    "gpd.sjoin(a,b, op=\"within\", how='inner')"
   ]
  },
  {
   "cell_type": "code",
   "execution_count": null,
   "metadata": {},
   "outputs": [],
   "source": [
    "a = box(0,0,1,1)\n",
    "b = Point(0,0)\n",
    "c = Point(.5,.5)\n",
    "d = Point(.5,0)\n",
    "a.contains(d)"
   ]
  },
  {
   "cell_type": "markdown",
   "metadata": {},
   "source": [
    "## merge bathymetry data"
   ]
  },
  {
   "cell_type": "code",
   "execution_count": null,
   "metadata": {},
   "outputs": [],
   "source": [
    "bathymetry.head()\n",
    "bathymetry.shape"
   ]
  },
  {
   "cell_type": "code",
   "execution_count": null,
   "metadata": {},
   "outputs": [],
   "source": [
    "grid_df.iloc[0].geometry"
   ]
  },
  {
   "cell_type": "code",
   "execution_count": null,
   "metadata": {},
   "outputs": [],
   "source": [
    "bathymetry.plot(column='z')"
   ]
  },
  {
   "cell_type": "code",
   "execution_count": null,
   "metadata": {},
   "outputs": [],
   "source": [
    "def get_value_at_point(shape, pnts, vals, n_closest=5):\n",
    "    distances = [shape.distance(i) for i in pnts]\n",
    "    closest_points = np.argsort(distances)[:n_closest]\n",
    "    return np.mean(vals.iloc[closest_points])"
   ]
  },
  {
   "cell_type": "code",
   "execution_count": null,
   "metadata": {},
   "outputs": [],
   "source": [
    "#get_value_at_point(grid_df.geometry, ocean_bathymetry.geometry, ocean_bathymetry.z)\n",
    "grid_df['depth'] = grid_df.geometry.apply(lambda x: get_value_at_point(x, bathymetry.geometry, bathymetry.z))\n",
    "grid_df.head()"
   ]
  },
  {
   "cell_type": "markdown",
   "metadata": {},
   "source": [
    "# merge sst data"
   ]
  },
  {
   "cell_type": "code",
   "execution_count": null,
   "metadata": {},
   "outputs": [],
   "source": [
    "sst.head()"
   ]
  },
  {
   "cell_type": "code",
   "execution_count": null,
   "metadata": {
    "scrolled": false
   },
   "outputs": [],
   "source": [
    "grid_df['mean_sst'] = grid_df.geometry.apply(lambda x: get_value_at_point(x, sst.geometry, sst.mean_temp))\n",
    "grid_df['max_sst'] = grid_df.geometry.apply(lambda x: get_value_at_point(x, sst.geometry, sst.max_temp))\n",
    "grid_df['min_sst'] = grid_df.geometry.apply(lambda x: get_value_at_point(x, sst.geometry, sst.min_temp))\n",
    "#a = get_value_at_point(grid_df.iloc[1].geometry, sst.geometry,sst.mean_temp)\n",
    "#print(a)\n",
    "#print(sst.iloc[898])\n",
    "grid_df.head()"
   ]
  },
  {
   "cell_type": "code",
   "execution_count": null,
   "metadata": {},
   "outputs": [],
   "source": [
    "pickle.dump(grid_df, open( \"grid_df.pkl\", \"wb\"))"
   ]
  }
 ],
 "metadata": {
  "kernelspec": {
   "display_name": "Python 3",
   "language": "python",
   "name": "python3"
  },
  "language_info": {
   "codemirror_mode": {
    "name": "ipython",
    "version": 3
   },
   "file_extension": ".py",
   "mimetype": "text/x-python",
   "name": "python",
   "nbconvert_exporter": "python",
   "pygments_lexer": "ipython3",
   "version": "3.6.4"
  }
 },
 "nbformat": 4,
 "nbformat_minor": 2
}
